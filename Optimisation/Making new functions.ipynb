{
 "cells": [
  {
   "cell_type": "markdown",
   "metadata": {},
   "source": [
    "### Getting data for functions"
   ]
  },
  {
   "cell_type": "code",
   "execution_count": 13,
   "metadata": {
    "collapsed": true
   },
   "outputs": [],
   "source": [
    "from collections import defaultdict\n",
    "import time\n",
    "\n",
    "\n",
    "dropbox_path = \"/Users/s1743989/VirusEvolution Dropbox/Verity Hill/Agent_based_model/Looping models/\"\n",
    "results = \"Results/no_caps/2/log_files/\"\n",
    "\n",
    "\n",
    "\n",
    "\n",
    "transm_dict = defaultdict(list)\n",
    "nodes = []\n",
    "times = []\n",
    "child_dict = defaultdict(list)\n",
    "\n",
    "\n",
    "with open(dropbox_path + results + \"information_file_for_38.csv\") as f:\n",
    "    next(f)\n",
    "    for l in f:\n",
    "        toks = l.strip(\"\\n\").split(\",\")\n",
    "        \n",
    "        focal = toks[0]\n",
    "    \n",
    "        transm_dict[focal] = [toks[1], int(toks[4]), int(toks[5])]\n",
    "        \n",
    "        child_dict[toks[1]].append(focal)\n",
    "        \n",
    "        nodes.append(toks[0])\n",
    "        \n",
    "        times.append(int(toks[5]))\n",
    "        \n",
    "        nodes.append(focal)\n",
    "            \n",
    "        if focal not in child_dict.keys():\n",
    "               child_dict[focal] = []\n",
    "        \n",
    "        \n",
    "epidemic_len = max(times)\n",
    "\n",
    "\n",
    "\n"
   ]
  },
  {
   "cell_type": "code",
   "execution_count": 28,
   "metadata": {},
   "outputs": [],
   "source": [
    "not_enough_cases = False\n",
    "week_bins = []\n",
    "weeks_cases = defaultdict(list)\n",
    "those_sampled = set()\n",
    "\n",
    "\n",
    "weeks = epidemic_len/7\n",
    "\n",
    "count = 0\n",
    "for i in range(round(weeks)):\n",
    "    tup = (count, count + 6)\n",
    "\n",
    "    week_bins.append(tup)\n",
    "\n",
    "    count += 7\n",
    "\n",
    "for i in week_bins:\n",
    "    weeks_cases[i] = []\n"
   ]
  },
  {
   "cell_type": "code",
   "execution_count": 29,
   "metadata": {},
   "outputs": [
    {
     "name": "stdout",
     "output_type": "stream",
     "text": [
      "41.714285714285715\n"
     ]
    }
   ],
   "source": [
    "print(weeks)"
   ]
  },
  {
   "cell_type": "code",
   "execution_count": 36,
   "metadata": {},
   "outputs": [
    {
     "name": "stdout",
     "output_type": "stream",
     "text": [
      "defaultdict(<class 'list'>, {0: [], 1: [], 2: [], 3: [], 4: [], 5: [], 6: [], 7: [], 8: [], 9: [], 10: [], 11: [], 12: [], 13: [], 14: [], 15: [], 16: [], 17: [], 18: [], 19: [], 20: [], 21: [], 22: [], 23: [], 24: [], 25: [], 26: [], 27: [], 28: [], 29: [], 30: [], 31: [], 32: [], 33: [], 34: [], 35: [], 36: [], 37: [], 38: [], 39: [], 40: [], 41: []})\n"
     ]
    }
   ],
   "source": [
    "not_enough_cases = False\n",
    "week_bins = []\n",
    "weeks_cases = defaultdict(list)\n",
    "those_sampled = set()\n",
    "\n",
    "\n",
    "weeks = round(epidemic_len/7)\n",
    "\n",
    "for i in range(weeks):\n",
    "    weeks_cases[i] = []\n",
    "print(weeks_cases)"
   ]
  },
  {
   "cell_type": "code",
   "execution_count": 41,
   "metadata": {},
   "outputs": [
    {
     "name": "stdout",
     "output_type": "stream",
     "text": [
      "0.0004329681396484375\n"
     ]
    }
   ],
   "source": [
    "start = time.time()\n",
    "\n",
    "for key,value in transm_dict.items():\n",
    "    date_sampled = value[2]\n",
    "    \n",
    "    \n",
    "    \n",
    "    week_number = int(date_sampled/7)\n",
    "    \n",
    "    weeks_cases[week_number].append(key)\n",
    "    \n",
    "    \n",
    "#     for tup in week_bins:\n",
    "#         if date_sampled < tup[1] and date_sampled >= tup[0]:\n",
    "#             weeks_cases[tup].append(key)\n",
    "\n",
    "end = time.time()\n",
    "\n",
    "print(end-start)\n",
    "\n"
   ]
  },
  {
   "cell_type": "code",
   "execution_count": 43,
   "metadata": {
    "collapsed": true
   },
   "outputs": [],
   "source": []
  },
  {
   "cell_type": "code",
   "execution_count": null,
   "metadata": {
    "collapsed": true
   },
   "outputs": [],
   "source": []
  }
 ],
 "metadata": {
  "kernelspec": {
   "display_name": "Python 3",
   "language": "python",
   "name": "python3"
  },
  "language_info": {
   "codemirror_mode": {
    "name": "ipython",
    "version": 3
   },
   "file_extension": ".py",
   "mimetype": "text/x-python",
   "name": "python",
   "nbconvert_exporter": "python",
   "pygments_lexer": "ipython3",
   "version": "3.6.8"
  }
 },
 "nbformat": 4,
 "nbformat_minor": 2
}
