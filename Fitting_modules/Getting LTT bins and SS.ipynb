{
 "cells": [
  {
   "cell_type": "code",
   "execution_count": 1,
   "metadata": {
    "collapsed": true
   },
   "outputs": [],
   "source": [
    "import json\n",
    "from collections import defaultdict\n",
    "from collections import OrderedDict"
   ]
  },
  {
   "cell_type": "code",
   "execution_count": 2,
   "metadata": {
    "collapsed": true
   },
   "outputs": [],
   "source": [
    "with open(\"../Observed_data/LTT_observed.txt\") as json_file:\n",
    "    LTT = json.load(json_file)"
   ]
  },
  {
   "cell_type": "code",
   "execution_count": 3,
   "metadata": {},
   "outputs": [
    {
     "name": "stdout",
     "output_type": "stream",
     "text": [
      "370\n"
     ]
    }
   ],
   "source": [
    "print(len(LTT))"
   ]
  },
  {
   "cell_type": "code",
   "execution_count": 13,
   "metadata": {
    "collapsed": true
   },
   "outputs": [],
   "source": [
    "#So this function forces simulated LTT into the same bins as the observed\n",
    "\n",
    "def bin_sim(sim_ltt, obs_bins):\n",
    "    \n",
    "    intervals = []\n",
    "    lineages = []\n",
    "    bin_dict = defaultdict(list)\n",
    "    sim_bins = {}\n",
    "\n",
    "\n",
    "\n",
    "    for key, value in sim_ltt.items():\n",
    "        start_interval = key[0]\n",
    "        end_interval = key[1]\n",
    "        lineage_number = value\n",
    "        \n",
    "\n",
    "        intervals.append((start_interval, end_interval))\n",
    "        lineages.append(lineage_number)    \n",
    "\n",
    "        \n",
    "    \n",
    "\n",
    "    for position, interval in enumerate(intervals):\n",
    "\n",
    "        for bin_position,binn in enumerate(obs_bins):\n",
    "\n",
    "            if interval[0] == 0 and binn[0] == 0.0:\n",
    "                bin_dict[bin_position].append(position)\n",
    "\n",
    "            if (interval[0] > binn[0] and interval[0] <= binn[1]) or (interval[1] > binn[0] and interval[1] <= binn[1]) or (interval[0] < binn[0] and interval[1] > binn[1]):\n",
    "\n",
    "                bin_dict[bin_position].append(position)\n",
    "\n",
    "        \n",
    "\n",
    "    for binn_pos, interval_pos_list in bin_dict.items():\n",
    "\n",
    "        if len(interval_pos_list) == 1:\n",
    "\n",
    "            sim_bins[obs_bins[binn_pos]] = lineages[interval_pos_list[0]]\n",
    "\n",
    "\n",
    "        if len(interval_pos_list) == 2:\n",
    "\n",
    "            lineage_num_a = lineages[interval_pos_list[0]]\n",
    "            lineage_num_b  = lineages[interval_pos_list[1]]\n",
    "\n",
    "            interval_a = intervals[interval_pos_list[0]][1]\n",
    "\n",
    "            bin_a = obs_bins[binn_pos][0]\n",
    "            bin_b = obs_bins[binn_pos][1]\n",
    "\n",
    "\n",
    "            weight_a = (interval_a - bin_a)\n",
    "            weight_b = 1 - weight_a\n",
    "\n",
    "            lineage_num = ((lineage_num_a*weight_a) + (lineage_num_b*weight_b))\n",
    "\n",
    "            sim_bins[obs_bins[binn_pos]] = lineage_num\n",
    "\n",
    "\n",
    "        elif len(interval_pos_list) > 2:\n",
    "\n",
    "            last_position = len(interval_pos_list) - 1\n",
    "\n",
    "            lineage_num_a = lineages[interval_pos_list[0]]\n",
    "            lineage_num_b = lineages[interval_pos_list[last_position]]\n",
    "\n",
    "            other_lins = [lineages[interval_pos_list[i]] for i in range(1, len(interval_pos_list)-1)]\n",
    "\n",
    "            interval_a = intervals[interval_pos_list[0]][1]\n",
    "            interval_b = intervals[interval_pos_list[last_position]][0]        \n",
    "\n",
    "            bin_a = obs_bins[binn_pos][0]\n",
    "            bin_b = obs_bins[binn_pos][1]\n",
    "\n",
    "            weight_a = (interval_a - bin_a)\n",
    "            weight_b = (bin_b - interval_b)\n",
    "\n",
    "            other_weights = (1 - weight_a - weight_b)/(len(interval_pos_list)-2)\n",
    "\n",
    "            final_other_lins = 0\n",
    "\n",
    "            for i in other_lins:\n",
    "                final_other_lins += (other_weights*i)\n",
    "\n",
    "            lins = ((lineage_num_a*weight_a) + (lineage_num_b*weight_b) + final_other_lins)\n",
    "\n",
    "            sim_bins[obs_bins[binn_pos]] = lins\n",
    "            \n",
    "            \n",
    "            \n",
    "    return sim_bins"
   ]
  },
  {
   "cell_type": "code",
   "execution_count": 5,
   "metadata": {
    "collapsed": true
   },
   "outputs": [],
   "source": [
    "new_LTT = {}\n",
    "\n",
    "for key, value in LTT.items():\n",
    "    a = float(key.split(\",\")[0].strip(\"(\"))\n",
    "    b = float(key.split(\",\")[1].strip(\")\").strip(\" \"))\n",
    "    \n",
    "    new_LTT[a,b] = value"
   ]
  },
  {
   "cell_type": "code",
   "execution_count": 6,
   "metadata": {
    "collapsed": true
   },
   "outputs": [],
   "source": [
    "coal_points = set()\n",
    "for key in new_LTT.keys():\n",
    "    for i in key:\n",
    "        coal_points.add(i)"
   ]
  },
  {
   "cell_type": "code",
   "execution_count": 7,
   "metadata": {},
   "outputs": [
    {
     "data": {
      "text/plain": [
       "371"
      ]
     },
     "execution_count": 7,
     "metadata": {},
     "output_type": "execute_result"
    }
   ],
   "source": [
    "len(coal_points)"
   ]
  },
  {
   "cell_type": "code",
   "execution_count": 8,
   "metadata": {},
   "outputs": [
    {
     "name": "stdout",
     "output_type": "stream",
     "text": [
      "0.4272233755511325\n"
     ]
    }
   ],
   "source": [
    "biggest = max(coal_points)\n",
    "print(biggest)"
   ]
  },
  {
   "cell_type": "code",
   "execution_count": 9,
   "metadata": {},
   "outputs": [
    {
     "name": "stdout",
     "output_type": "stream",
     "text": [
      "0.021361168777556623\n"
     ]
    }
   ],
   "source": [
    "interval_size = biggest/20\n",
    "print(interval_size)"
   ]
  },
  {
   "cell_type": "code",
   "execution_count": 10,
   "metadata": {},
   "outputs": [
    {
     "name": "stdout",
     "output_type": "stream",
     "text": [
      "(0, 0.021361168777556623)\n",
      "(0.021361168777556623, 0.042722337555113246)\n",
      "(0.042722337555113246, 0.06408350633266988)\n",
      "(0.06408350633266988, 0.08544467511022649)\n",
      "(0.08544467511022649, 0.10680584388778311)\n",
      "(0.10680584388778311, 0.12816701266533972)\n",
      "(0.12816701266533972, 0.14952818144289634)\n",
      "(0.14952818144289634, 0.17088935022045296)\n",
      "(0.17088935022045296, 0.19225051899800957)\n",
      "(0.19225051899800957, 0.2136116877755662)\n",
      "(0.2136116877755662, 0.2349728565531228)\n",
      "(0.2349728565531228, 0.25633402533067945)\n",
      "(0.25633402533067945, 0.27769519410823607)\n",
      "(0.27769519410823607, 0.2990563628857927)\n",
      "(0.2990563628857927, 0.3204175316633493)\n",
      "(0.3204175316633493, 0.3417787004409059)\n",
      "(0.3417787004409059, 0.36313986921846253)\n",
      "(0.36313986921846253, 0.38450103799601915)\n",
      "(0.38450103799601915, 0.40586220677357576)\n",
      "(0.40586220677357576, 0.4272233755511324)\n"
     ]
    }
   ],
   "source": [
    "count = 0\n",
    "intervals = []\n",
    "for i in range(20):\n",
    "    \n",
    "    new_tup = (count, count+interval_size)\n",
    "    print(new_tup)\n",
    "    count += interval_size\n",
    "    \n",
    "    intervals.append(new_tup)"
   ]
  },
  {
   "cell_type": "code",
   "execution_count": 11,
   "metadata": {},
   "outputs": [
    {
     "name": "stdout",
     "output_type": "stream",
     "text": [
      "20\n"
     ]
    }
   ],
   "source": [
    "print(len(intervals))"
   ]
  },
  {
   "cell_type": "code",
   "execution_count": 14,
   "metadata": {
    "collapsed": true
   },
   "outputs": [],
   "source": [
    "binned_obs_LTT = bin_sim(new_LTT, intervals)"
   ]
  },
  {
   "cell_type": "code",
   "execution_count": 15,
   "metadata": {},
   "outputs": [
    {
     "data": {
      "text/plain": [
       "{(0, 0.021361168777556623): 59.64044861194819,\n",
       " (0.021361168777556623, 0.042722337555113246): 124.75396017627713,\n",
       " (0.042722337555113246, 0.06408350633266988): 133.9364509309589,\n",
       " (0.06408350633266988, 0.08544467511022649): 148.97678349186248,\n",
       " (0.08544467511022649, 0.10680584388778311): 148.33907671517255,\n",
       " (0.10680584388778311, 0.12816701266533972): 91.59093272776481,\n",
       " (0.12816701266533972, 0.14952818144289634): 70.07876927609597,\n",
       " (0.14952818144289634, 0.17088935022045296): 58.46111323028046,\n",
       " (0.17088935022045296, 0.19225051899800957): 50.24916890609602,\n",
       " (0.19225051899800957, 0.2136116877755662): 55.63545914760437,\n",
       " (0.2136116877755662, 0.2349728565531228): 72.6885652880981,\n",
       " (0.2349728565531228, 0.25633402533067945): 67.61114496403488,\n",
       " (0.25633402533067945, 0.27769519410823607): 41.31670189441371,\n",
       " (0.27769519410823607, 0.2990563628857927): 48.50878216596301,\n",
       " (0.2990563628857927, 0.3204175316633493): 40.355851127800555,\n",
       " (0.3204175316633493, 0.3417787004409059): 27.025321871739628,\n",
       " (0.3417787004409059, 0.36313986921846253): 19.004614160153153,\n",
       " (0.36313986921846253, 0.38450103799601915): 11.476947041818141,\n",
       " (0.38450103799601915, 0.40586220677357576): 2.0021308852811104,\n",
       " (0.40586220677357576, 0.4272233755511324): 2}"
      ]
     },
     "execution_count": 15,
     "metadata": {},
     "output_type": "execute_result"
    }
   ],
   "source": [
    "binned_obs_LTT"
   ]
  },
  {
   "cell_type": "code",
   "execution_count": 16,
   "metadata": {
    "collapsed": true
   },
   "outputs": [],
   "source": [
    "LTT_list = []\n",
    "\n",
    "for i in binned_obs_LTT.values():\n",
    "    LTT_list.append(i)"
   ]
  },
  {
   "cell_type": "code",
   "execution_count": 17,
   "metadata": {},
   "outputs": [
    {
     "name": "stdout",
     "output_type": "stream",
     "text": [
      "[59.64044861194819, 124.75396017627713, 133.9364509309589, 148.97678349186248, 148.33907671517255, 91.59093272776481, 70.07876927609597, 58.46111323028046, 50.24916890609602, 55.63545914760437, 72.6885652880981, 67.61114496403488, 41.31670189441371, 48.50878216596301, 40.355851127800555, 27.025321871739628, 19.004614160153153, 11.476947041818141, 2.0021308852811104, 2]\n"
     ]
    }
   ],
   "source": [
    "print(LTT_list)"
   ]
  },
  {
   "cell_type": "code",
   "execution_count": 18,
   "metadata": {},
   "outputs": [
    {
     "name": "stdout",
     "output_type": "stream",
     "text": [
      "[(0, 0.021361168777556623), (0.021361168777556623, 0.042722337555113246), (0.042722337555113246, 0.06408350633266988), (0.06408350633266988, 0.08544467511022649), (0.08544467511022649, 0.10680584388778311), (0.10680584388778311, 0.12816701266533972), (0.12816701266533972, 0.14952818144289634), (0.14952818144289634, 0.17088935022045296), (0.17088935022045296, 0.19225051899800957), (0.19225051899800957, 0.2136116877755662), (0.2136116877755662, 0.2349728565531228), (0.2349728565531228, 0.25633402533067945), (0.25633402533067945, 0.27769519410823607), (0.27769519410823607, 0.2990563628857927), (0.2990563628857927, 0.3204175316633493), (0.3204175316633493, 0.3417787004409059), (0.3417787004409059, 0.36313986921846253), (0.36313986921846253, 0.38450103799601915), (0.38450103799601915, 0.40586220677357576), (0.40586220677357576, 0.4272233755511324)]\n"
     ]
    }
   ],
   "source": [
    "print(intervals)"
   ]
  },
  {
   "cell_type": "markdown",
   "metadata": {},
   "source": [
    "## Getting the SS's"
   ]
  },
  {
   "cell_type": "code",
   "execution_count": 19,
   "metadata": {
    "collapsed": true
   },
   "outputs": [],
   "source": [
    "ltt_dict = OrderedDict(binned_obs_LTT)\n",
    "\n",
    "max_L = max(ltt_dict.values())"
   ]
  },
  {
   "cell_type": "code",
   "execution_count": 20,
   "metadata": {},
   "outputs": [
    {
     "name": "stdout",
     "output_type": "stream",
     "text": [
      "(0, 0.021361168777556623) 59.64044861194819\n",
      "(0.021361168777556623, 0.042722337555113246) 124.75396017627713\n",
      "(0.042722337555113246, 0.06408350633266988) 133.9364509309589\n",
      "(0.06408350633266988, 0.08544467511022649) 148.97678349186248\n",
      "(0.08544467511022649, 0.10680584388778311) 148.33907671517255\n",
      "(0.10680584388778311, 0.12816701266533972) 91.59093272776481\n",
      "(0.12816701266533972, 0.14952818144289634) 70.07876927609597\n",
      "(0.14952818144289634, 0.17088935022045296) 58.46111323028046\n",
      "(0.17088935022045296, 0.19225051899800957) 50.24916890609602\n",
      "(0.19225051899800957, 0.2136116877755662) 55.63545914760437\n",
      "(0.2136116877755662, 0.2349728565531228) 72.6885652880981\n",
      "(0.2349728565531228, 0.25633402533067945) 67.61114496403488\n",
      "(0.25633402533067945, 0.27769519410823607) 41.31670189441371\n",
      "(0.27769519410823607, 0.2990563628857927) 48.50878216596301\n",
      "(0.2990563628857927, 0.3204175316633493) 40.355851127800555\n",
      "(0.3204175316633493, 0.3417787004409059) 27.025321871739628\n",
      "(0.3417787004409059, 0.36313986921846253) 19.004614160153153\n",
      "(0.36313986921846253, 0.38450103799601915) 11.476947041818141\n",
      "(0.38450103799601915, 0.40586220677357576) 2.0021308852811104\n",
      "(0.40586220677357576, 0.4272233755511324) 2\n"
     ]
    }
   ],
   "source": [
    "for k,v in ltt_dict.items():\n",
    "    print(k,v)"
   ]
  },
  {
   "cell_type": "code",
   "execution_count": 21,
   "metadata": {},
   "outputs": [
    {
     "data": {
      "text/plain": [
       "148.97678349186248"
      ]
     },
     "execution_count": 21,
     "metadata": {},
     "output_type": "execute_result"
    }
   ],
   "source": [
    "max_L"
   ]
  },
  {
   "cell_type": "code",
   "execution_count": 22,
   "metadata": {
    "collapsed": true
   },
   "outputs": [],
   "source": [
    "t_max_L = max(ltt_dict, key = lambda k:ltt_dict[k])[0]"
   ]
  },
  {
   "cell_type": "code",
   "execution_count": 23,
   "metadata": {},
   "outputs": [
    {
     "data": {
      "text/plain": [
       "0.06408350633266988"
      ]
     },
     "execution_count": 23,
     "metadata": {},
     "output_type": "execute_result"
    }
   ],
   "source": [
    "t_max_L"
   ]
  },
  {
   "cell_type": "code",
   "execution_count": 24,
   "metadata": {
    "collapsed": true
   },
   "outputs": [],
   "source": [
    "y1 = max_L\n",
    "y0 = next(iter(ltt_dict.values()))\n",
    "\n",
    "x1 = t_max_L\n",
    "x0 = 0.0"
   ]
  },
  {
   "cell_type": "code",
   "execution_count": 25,
   "metadata": {
    "collapsed": true
   },
   "outputs": [],
   "source": [
    "slope_2 = abs((y1-y0)/(x1-x0)) #because we're going backwards and they're going forwards"
   ]
  },
  {
   "cell_type": "code",
   "execution_count": 26,
   "metadata": {},
   "outputs": [
    {
     "data": {
      "text/plain": [
       "1394.061280232578"
      ]
     },
     "execution_count": 26,
     "metadata": {},
     "output_type": "execute_result"
    }
   ],
   "source": [
    "slope_2"
   ]
  },
  {
   "cell_type": "code",
   "execution_count": 27,
   "metadata": {},
   "outputs": [
    {
     "name": "stdout",
     "output_type": "stream",
     "text": [
      "2 0.4272233755511324\n"
     ]
    }
   ],
   "source": [
    "y2 = next(reversed(ltt_dict.values()))\n",
    "\n",
    "x2 = next(reversed(ltt_dict.keys()))[1]\n",
    "\n",
    "\n",
    "print(y2, x2)"
   ]
  },
  {
   "cell_type": "code",
   "execution_count": 28,
   "metadata": {
    "collapsed": true
   },
   "outputs": [],
   "source": [
    "slope_1 = abs((y2-y1)/(x2-x1))"
   ]
  },
  {
   "cell_type": "code",
   "execution_count": 29,
   "metadata": {},
   "outputs": [
    {
     "data": {
      "text/plain": [
       "404.73876858572703"
      ]
     },
     "execution_count": 29,
     "metadata": {},
     "output_type": "execute_result"
    }
   ],
   "source": [
    "slope_1"
   ]
  },
  {
   "cell_type": "code",
   "execution_count": 30,
   "metadata": {
    "collapsed": true
   },
   "outputs": [],
   "source": [
    "slope_ratio = slope_1/slope_2"
   ]
  },
  {
   "cell_type": "code",
   "execution_count": 31,
   "metadata": {},
   "outputs": [
    {
     "data": {
      "text/plain": [
       "0.29033068655217403"
      ]
     },
     "execution_count": 31,
     "metadata": {},
     "output_type": "execute_result"
    }
   ],
   "source": [
    "slope_ratio"
   ]
  },
  {
   "cell_type": "code",
   "execution_count": null,
   "metadata": {
    "collapsed": true
   },
   "outputs": [],
   "source": [
    "from "
   ]
  }
 ],
 "metadata": {
  "kernelspec": {
   "display_name": "Python 3",
   "language": "python",
   "name": "python3"
  },
  "language_info": {
   "codemirror_mode": {
    "name": "ipython",
    "version": 3
   },
   "file_extension": ".py",
   "mimetype": "text/x-python",
   "name": "python",
   "nbconvert_exporter": "python",
   "pygments_lexer": "ipython3",
   "version": "3.6.8"
  }
 },
 "nbformat": 4,
 "nbformat_minor": 2
}
