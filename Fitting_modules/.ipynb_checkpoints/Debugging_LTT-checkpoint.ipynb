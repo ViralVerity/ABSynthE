{
 "cells": [
  {
   "cell_type": "code",
   "execution_count": 24,
   "metadata": {},
   "outputs": [],
   "source": [
    "import numpy as np\n",
    "import statistics\n",
    "from collections import Counter\n",
    "from collections import defaultdict\n",
    "from collections import OrderedDict\n",
    "import random\n",
    "\n",
    "from Bio import Phylo\n",
    "from io import StringIO\n",
    "\n",
    "from multiprocessing.pool import ThreadPool\n",
    "\n",
    "from scipy import special"
   ]
  },
  {
   "cell_type": "code",
   "execution_count": 2,
   "metadata": {
    "scrolled": true
   },
   "outputs": [
    {
     "name": "stdout",
     "output_type": "stream",
     "text": [
      "{(0.0, 0.04173367601086538): 0}\n",
      "{(0.0, 0.04173367601086538): 0, (0.04173367601086538, 0.0652725643707141): 0}\n",
      "{(0.0, 0.04173367601086538): 0, (0.04173367601086538, 0.0652725643707141): 0, (0.0652725643707141, 0.09362990199723153): 0}\n",
      "{(0.0, 0.04173367601086538): 0, (0.04173367601086538, 0.0652725643707141): 0, (0.0652725643707141, 0.09362990199723153): 0, (0.09362990199723153, 0.09383223452214652): 0}\n",
      "{(0.0, 0.04173367601086538): 0, (0.04173367601086538, 0.0652725643707141): 0, (0.0652725643707141, 0.09362990199723153): 0, (0.09362990199723153, 0.09383223452214652): 0, (0.09383223452214652, 0.09418478469118251): 0}\n",
      "{(0.0, 0.04173367601086538): 0, (0.04173367601086538, 0.0652725643707141): 0, (0.0652725643707141, 0.09362990199723153): 0, (0.09362990199723153, 0.09383223452214652): 0, (0.09383223452214652, 0.09418478469118251): 0, (0.09418478469118251, 0.09536463326829751): 0}\n",
      "{(0.0, 0.04173367601086538): 0, (0.04173367601086538, 0.0652725643707141): 0, (0.0652725643707141, 0.09362990199723153): 0, (0.09362990199723153, 0.09383223452214652): 0, (0.09383223452214652, 0.09418478469118251): 0, (0.09418478469118251, 0.09536463326829751): 0, (0.09536463326829751, 0.09564056562270992): 0}\n",
      "0.0 0.04173367601086538 0.0 0.04173367601086538\n",
      "0.04173367601086538 0.0652725643707141 0.02109975209027533 0.09418478469118251\n",
      "0.0652725643707141 0.09362990199723153 0.02109975209027533 0.09418478469118251\n",
      "0.09362990199723153 0.09383223452214652 0.02109975209027533 0.09418478469118251\n",
      "0.09383223452214652 0.09418478469118251 0.02109975209027533 0.09418478469118251\n",
      "0.04173367601086538 0.0652725643707141 0.0239360952039311 0.09564056562270992\n",
      "0.0652725643707141 0.09362990199723153 0.0239360952039311 0.09564056562270992\n",
      "0.09362990199723153 0.09383223452214652 0.0239360952039311 0.09564056562270992\n",
      "0.09383223452214652 0.09418478469118251 0.0239360952039311 0.09564056562270992\n",
      "0.09418478469118251 0.09536463326829751 0.0239360952039311 0.09564056562270992\n",
      "0.09536463326829751 0.09564056562270992 0.0239360952039311 0.09564056562270992\n",
      "0.04173367601086538 0.0652725643707141 0.028374107130377454 0.09564056562270992\n",
      "0.0652725643707141 0.09362990199723153 0.028374107130377454 0.09564056562270992\n",
      "0.09362990199723153 0.09383223452214652 0.028374107130377454 0.09564056562270992\n",
      "0.09383223452214652 0.09418478469118251 0.028374107130377454 0.09564056562270992\n",
      "0.09418478469118251 0.09536463326829751 0.028374107130377454 0.09564056562270992\n",
      "0.09536463326829751 0.09564056562270992 0.028374107130377454 0.09564056562270992\n",
      "0.04173367601086538 0.0652725643707141 0.03708928381191101 0.09564056562270992\n",
      "0.0652725643707141 0.09362990199723153 0.03708928381191101 0.09564056562270992\n",
      "0.09362990199723153 0.09383223452214652 0.03708928381191101 0.09564056562270992\n",
      "0.09383223452214652 0.09418478469118251 0.03708928381191101 0.09564056562270992\n",
      "0.09418478469118251 0.09536463326829751 0.03708928381191101 0.09564056562270992\n",
      "0.09536463326829751 0.09564056562270992 0.03708928381191101 0.09564056562270992\n",
      "0.04173367601086538 0.0652725643707141 0.04042440012222845 0.09362990199723153\n",
      "0.0652725643707141 0.09362990199723153 0.04042440012222845 0.09362990199723153\n",
      "0.04173367601086538 0.0652725643707141 0.04173367601086538 0.09418478469118251\n",
      "0.0652725643707141 0.09362990199723153 0.04173367601086538 0.09418478469118251\n",
      "0.09362990199723153 0.09383223452214652 0.04173367601086538 0.09418478469118251\n",
      "0.09383223452214652 0.09418478469118251 0.04173367601086538 0.09418478469118251\n",
      "0.0652725643707141 0.09362990199723153 0.045681363210128154 0.09362990199723153\n",
      "0.0652725643707141 0.09362990199723153 0.050693818716554 0.09564056562270992\n",
      "0.09362990199723153 0.09383223452214652 0.050693818716554 0.09564056562270992\n",
      "0.09383223452214652 0.09418478469118251 0.050693818716554 0.09564056562270992\n",
      "0.09418478469118251 0.09536463326829751 0.050693818716554 0.09564056562270992\n",
      "0.09536463326829751 0.09564056562270992 0.050693818716554 0.09564056562270992\n",
      "0.0652725643707141 0.09362990199723153 0.05582862030762086 0.09418478469118251\n",
      "0.09362990199723153 0.09383223452214652 0.05582862030762086 0.09418478469118251\n",
      "0.09383223452214652 0.09418478469118251 0.05582862030762086 0.09418478469118251\n",
      "0.0652725643707141 0.09362990199723153 0.06349291569586167 0.09362990199723153\n",
      "0.0652725643707141 0.09362990199723153 0.06417745407402886 0.09564056562270992\n",
      "0.09362990199723153 0.09383223452214652 0.06417745407402886 0.09564056562270992\n",
      "0.09383223452214652 0.09418478469118251 0.06417745407402886 0.09564056562270992\n",
      "0.09418478469118251 0.09536463326829751 0.06417745407402886 0.09564056562270992\n",
      "0.09536463326829751 0.09564056562270992 0.06417745407402886 0.09564056562270992\n",
      "0.0652725643707141 0.09362990199723153 0.0652725643707141 0.09564056562270992\n",
      "0.09362990199723153 0.09383223452214652 0.0652725643707141 0.09564056562270992\n",
      "0.09383223452214652 0.09418478469118251 0.0652725643707141 0.09564056562270992\n",
      "0.09418478469118251 0.09536463326829751 0.0652725643707141 0.09564056562270992\n",
      "0.09536463326829751 0.09564056562270992 0.0652725643707141 0.09564056562270992\n",
      "0.09362990199723153 0.09383223452214652 0.06777909739488469 0.09383223452214652\n",
      "0.09362990199723153 0.09383223452214652 0.06958527816348736 0.09536463326829751\n",
      "0.09383223452214652 0.09418478469118251 0.06958527816348736 0.09536463326829751\n",
      "0.09418478469118251 0.09536463326829751 0.06958527816348736 0.09536463326829751\n",
      "0.09362990199723153 0.09383223452214652 0.07760680299884576 0.09536463326829751\n",
      "0.09383223452214652 0.09418478469118251 0.07760680299884576 0.09536463326829751\n",
      "0.09418478469118251 0.09536463326829751 0.07760680299884576 0.09536463326829751\n",
      "0.09362990199723153 0.09383223452214652 0.07853231893605059 0.09564056562270992\n",
      "0.09383223452214652 0.09418478469118251 0.07853231893605059 0.09564056562270992\n",
      "0.09418478469118251 0.09536463326829751 0.07853231893605059 0.09564056562270992\n",
      "0.09536463326829751 0.09564056562270992 0.07853231893605059 0.09564056562270992\n",
      "0.09362990199723153 0.09383223452214652 0.0814644258504525 0.09564056562270992\n",
      "0.09383223452214652 0.09418478469118251 0.0814644258504525 0.09564056562270992\n",
      "0.09418478469118251 0.09536463326829751 0.0814644258504525 0.09564056562270992\n",
      "0.09536463326829751 0.09564056562270992 0.0814644258504525 0.09564056562270992\n",
      "0.09362990199723153 0.09383223452214652 0.08988518121350299 0.09536463326829751\n",
      "0.09383223452214652 0.09418478469118251 0.08988518121350299 0.09536463326829751\n",
      "0.09418478469118251 0.09536463326829751 0.08988518121350299 0.09536463326829751\n",
      "0.09362990199723153 0.09383223452214652 0.09109250849474926 0.09383223452214652\n",
      "0.09362990199723153 0.09383223452214652 0.09362990199723153 0.09564056562270992\n",
      "0.09383223452214652 0.09418478469118251 0.09362990199723153 0.09564056562270992\n",
      "0.09418478469118251 0.09536463326829751 0.09362990199723153 0.09564056562270992\n",
      "0.09536463326829751 0.09564056562270992 0.09362990199723153 0.09564056562270992\n",
      "0.09383223452214652 0.09418478469118251 0.09383223452214652 0.09564056562270992\n",
      "0.09418478469118251 0.09536463326829751 0.09383223452214652 0.09564056562270992\n",
      "0.09536463326829751 0.09564056562270992 0.09383223452214652 0.09564056562270992\n",
      "0.09418478469118251 0.09536463326829751 0.09418478469118251 0.09564056562270992\n",
      "0.09536463326829751 0.09564056562270992 0.09418478469118251 0.09564056562270992\n",
      "0.09536463326829751 0.09564056562270992 0.09536463326829751 0.09564056562270992\n",
      "{1: 1, 2: 6, 3: 12, 4: 17, 5: 16, 6: 14, 7: 13}\n",
      "{(0.0, 0.04173367601086538): 0, (0.04173367601086538, 0.0652725643707141): 0, (0.0652725643707141, 0.09362990199723153): 0, (0.09362990199723153, 0.09383223452214652): 0, (0.09383223452214652, 0.09418478469118251): 0, (0.09418478469118251, 0.09536463326829751): 0, (0.09536463326829751, 0.09564056562270992): 0}\n"
     ]
    }
   ],
   "source": [
    "import sys\n",
    "import Tree_simulator_fitting as cts\n",
    " \n",
    "\n",
    "from collections import defaultdict\n",
    "\n",
    "import branch_length_parameters as BL\n",
    "import topology_set as Top\n",
    "\n",
    "##(trans_dict, nodes, sampling_proportion, epidemic_len)\n",
    "\n",
    "\n",
    "dropbox_path = \"/Users/s1743989/VirusEvolution Dropbox/Verity Hill/Agent_based_model/Looping models/\"\n",
    "results = \"Results/no_caps/2/log_files/\"\n",
    "\n",
    "\n",
    "\n",
    "\n",
    "transm_dict = defaultdict(list)\n",
    "nodes = []\n",
    "times = []\n",
    "child_dict = defaultdict(list)\n",
    "those_sampled = []\n",
    "\n",
    "\n",
    "with open(dropbox_path + results + \"information_file_for_2.csv\") as f:\n",
    "    next(f)\n",
    "    for l in f:\n",
    "        toks = l.strip(\"\\n\").split(\",\")\n",
    "        \n",
    "        focal = toks[0]\n",
    "    \n",
    "        transm_dict[focal] = [toks[1], int(toks[4]), int(toks[5])]\n",
    "        \n",
    "        child_dict[toks[1]].append(focal)\n",
    "        \n",
    "        nodes.append(toks[0])\n",
    "        \n",
    "        times.append(int(toks[5]))\n",
    "        \n",
    "        nodes.append(focal)\n",
    "            \n",
    "        if focal not in child_dict.keys():\n",
    "               child_dict[focal] = []\n",
    "                \n",
    "        those_sampled.append(focal)\n",
    "        \n",
    "        \n",
    "epidemic_len = max(times)\n",
    "\n",
    "\n",
    "#newick_tree, Ne_dict, big_tree, R0, those_sampled, coal_intervals, lineages_through_time = cts.simulate_tree(transm_dict, child_dict, nodes, 1, epidemic_len)\n",
    "\n",
    "tree, LTT = cts.simulate_tree(transm_dict, child_dict, nodes, 1, epidemic_len, True)"
   ]
  },
  {
   "cell_type": "code",
   "execution_count": 26,
   "metadata": {},
   "outputs": [
    {
     "name": "stdout",
     "output_type": "stream",
     "text": [
      "(((((1443483:0.030136986301369864,1846509:0.052608869286260566):0.0,1533550:0.048721074492823715):0.0023224665057897686,1611998:0.06766544716810563):0.0,((1533551:0.0027397260273972603,1875160:0.06941746366544188):0.0026785201526714456,1550345:0.05885859126743395):0.0):0.0,(((((1834753:0.01606946046244037,1596615:0.02447939316064254):0.0024793468374665357,(1533549:0.03287671232876713,1531537:0.04852485619096593):0.0010919226919313496):0.0,1533548:0.014718703765267982):0.0,(((((1550342:0.07615302961105197,1602065:0.05809501366256954):0.0,1533552:0.03835616438356164):0.00015258521836313379,1443488:0.044931934756591255):0.0,1550344:0.018157535629074864):0.0,1443487:0.03197863613455769):0.0):0.0,((1443489:0.02759672040669428,1550348:0.014087852439609357):0.0,1550341:0.015975055546774947):0.0):0.0):0.0)\n"
     ]
    }
   ],
   "source": [
    "phylo_tree = tree.to_newick(tree.root,those_sampled)\n",
    "\n",
    "print(phylo_tree)"
   ]
  },
  {
   "cell_type": "code",
   "execution_count": null,
   "metadata": {
    "collapsed": true
   },
   "outputs": [],
   "source": [
    "def calculate_ne(self, those_sampled):\n",
    "    \"\"\"Get effective population sizes in each coalescent interval\"\"\"\n",
    "\n",
    "    lineages_through_time = {}\n",
    "\n",
    "    waiting_times = {}\n",
    "\n",
    "    result = self.get_active_population()\n",
    "\n",
    "    active_population = result[0]\n",
    "\n",
    "    #print(active_population)\n",
    "\n",
    "    coalescent_intervals = result[1]\n",
    "    sorted_dict = result[2]\n",
    "\n",
    "    Ne_dict = {}\n",
    "\n",
    "    for key, value in coalescent_intervals.items():\n",
    "        waiting_times[key] = value[1] - value[0]\n",
    "\n",
    "    for key, value in waiting_times.items():\n",
    "\n",
    "        tau = value \n",
    "\n",
    "        if tau == 0:\n",
    "            print(\"tau is zero here\")\n",
    "            print(key, value)\n",
    "\n",
    "        #lineages = len(active_population[key])\n",
    "\n",
    "        #lineages_through_time[coalescent_intervals[key]] = lineages\n",
    "\n",
    "\n",
    "\n",
    "    #print(lineages_through_time)\n",
    "\n",
    "    return active_population"
   ]
  },
  {
   "cell_type": "code",
   "execution_count": 31,
   "metadata": {},
   "outputs": [],
   "source": [
    "def get_active_population(self):\n",
    "        \"\"\"Get active population at each coalescent interval\"\"\"\n",
    "    \n",
    "        coalescent_times = set()\n",
    "\n",
    "        coalescent_intervals = defaultdict(tuple)\n",
    "        coal_tups = []\n",
    "\n",
    "        #active_population = defaultdict(list)\n",
    "        #active_population2 = defaultdict(list)\n",
    "        \n",
    "        active_population = {}\n",
    "        active_population2 = {}\n",
    "\n",
    "        sorted_dict = OrderedDict(sorted(self.heights.items(), key=lambda x:x[1]))\n",
    "        \n",
    "        for nde, height in sorted_dict.items():\n",
    "\n",
    "            if nde.type == \"Coal\":\n",
    "                \n",
    "                coalescent_times.add(height)\n",
    "\n",
    "        coalescent_times = sorted(coalescent_times)\n",
    "        coalescent_points = list(coalescent_times)\n",
    "\n",
    "        current_time = 0\n",
    "\n",
    "        count = 0\n",
    "\n",
    "        non_parent_set = set() \n",
    "\n",
    "        for time in coalescent_times:\n",
    "\n",
    "            count += 1\n",
    "\n",
    "            coalescent_intervals[count] = (float(current_time),float(time))\n",
    "            \n",
    "            tup = (float(current_time),float(time))\n",
    "            coal_tups.append(tup)\n",
    "            \n",
    "            active_population[count] = 0\n",
    "            active_population2[tup] = 0\n",
    "\n",
    "            #print(active_population2)\n",
    "            \n",
    "            current_time = time\n",
    "\n",
    "        #print(coalescent_intervals)\n",
    "            \n",
    "        parent_index = 0\n",
    "        \n",
    "\n",
    "        for nde, height in sorted_dict.items():\n",
    "            index = parent_index - 1 #the minus one so it can be in the same interval as its parent\n",
    "            count = 0\n",
    "            if not nde.node_parent:\n",
    "                #active_population[len(coal_tups)].append(nde)\n",
    "                active_population[len(coal_tups)] += 1\n",
    "                non_parent_set.add(nde)\n",
    "\n",
    "            #for time1, time2 in coal_tups[parent_index:]:            \n",
    "            for time1, time2 in coal_tups:\n",
    "                #index += 1\n",
    "                \n",
    "               \n",
    "                count += 1\n",
    "                if height <= time1 and self.heights[nde.node_parent] >= time2:\n",
    "\n",
    "                    #print(time1, time2, height, self.heights[nde.node_parent])\n",
    "                    \n",
    "                    #parent_index = index\n",
    "                    \n",
    "                    #active_population[index + 1].append(nde)\n",
    "                    #active_population[count].append(nde)\n",
    "                    #active_population2[time1,time2].append(nde)\n",
    "                    \n",
    "                    active_population[count] += 1\n",
    "                    #active_population2[time1, time2] += 1\n",
    "\n",
    "                    if self.heights[nde.node_parent] == time2:\n",
    "                        \n",
    "                        break \n",
    "        \n",
    "        if len(non_parent_set) > 1:\n",
    "            print(\"NODES WITHOUT PARENTS\" + str(len(non_parent_set)))\n",
    "\n",
    "#         print(active_population)\n",
    "#         print(active_population2)\n",
    "        \n",
    "        return active_population, coalescent_intervals, sorted_dict, active_population2\n",
    "    \n",
    "    \n"
   ]
  },
  {
   "cell_type": "code",
   "execution_count": 32,
   "metadata": {
    "scrolled": true
   },
   "outputs": [
    {
     "data": {
      "text/plain": [
       "({1: 1, 2: 20, 3: 19, 4: 17, 5: 16, 6: 15},\n",
       " defaultdict(tuple,\n",
       "             {1: (0.0, 0.07362709467674367),\n",
       "              2: (0.07362709467674367, 0.07382626799194858),\n",
       "              3: (0.07382626799194858, 0.07398314832362535),\n",
       "              4: (0.07398314832362535, 0.07521369213748376),\n",
       "              5: (0.07521369213748376, 0.07615302961105198),\n",
       "              6: (0.07615302961105198, 0.07630561482941511)}),\n",
       " OrderedDict([(<node_class_fitting.node at 0x10ff33160>, 0.0),\n",
       "              (<node_class_fitting.node at 0x10ff32860>, 0.004209631011301784),\n",
       "              (<node_class_fitting.node at 0x10ff336d8>, 0.008640167661309484),\n",
       "              (<node_class_fitting.node at 0x10ff32278>, 0.017447023561981162),\n",
       "              (<node_class_fitting.node at 0x10ff33240>, 0.018058015948482435),\n",
       "              (<node_class_fitting.node at 0x10ff32d30>, 0.02137427903736478),\n",
       "              (<node_class_fitting.node at 0x10ff32e10>, 0.025262073830801632),\n",
       "              (<node_class_fitting.node at 0x10ff32ac8>, 0.026688835946517837),\n",
       "              (<node_class_fitting.node at 0x10ff335c0>, 0.03137368007282386),\n",
       "              (<node_class_fitting.node at 0x10ff330f0>, 0.03779686522749034),\n",
       "              (<node_class_fitting.node at 0x10ff32a58>, 0.04233697980871664),\n",
       "              (<node_class_fitting.node at 0x10ff32cc0>, 0.04384616202225548),\n",
       "              (<node_class_fitting.node at 0x10ff32710>, 0.044326978694857425),\n",
       "              (<node_class_fitting.node at 0x10ff32588>, 0.04870889442272083),\n",
       "              (<node_class_fitting.node at 0x10ff33908>, 0.04934687483130604),\n",
       "              (<node_class_fitting.node at 0x10ff33828>, 0.05775680752950821),\n",
       "              (<node_class_fitting.node at 0x10ff32128>, 0.05814807920034025),\n",
       "              (<node_class_fitting.node at 0x10ff32438>, 0.06033055928264017),\n",
       "              (<node_class_fitting.node at 0x10ff334e0>, 0.06158691106414713),\n",
       "              (<node_class_fitting.node at 0x10ff32358>, 0.06221776238980575),\n",
       "              (<node_class_fitting.node at 0x10ff327f0>, 0.0708873686493464),\n",
       "              (<node_class_fitting.node at 0x10ff329b0>, 0.07362709467674367),\n",
       "              (<node_class_fitting.node at 0x10ff33a90>, 0.07382626799194858),\n",
       "              (<node_class_fitting.node at 0x10ff33048>, 0.07398314832362535),\n",
       "              (<node_class_fitting.node at 0x10ff32f98>, 0.07398314832362535),\n",
       "              (<node_class_fitting.node at 0x10ff32c18>, 0.07521369213748376),\n",
       "              (<node_class_fitting.node at 0x106568278>, 0.07615302961105198),\n",
       "              (<node_class_fitting.node at 0x10ff33438>, 0.07615302961105198),\n",
       "              (<node_class_fitting.node at 0x10ff29080>, 0.07630561482941511),\n",
       "              (<node_class_fitting.node at 0x10ff290f0>, 0.07630561482941511),\n",
       "              (<node_class_fitting.node at 0x10ff29160>, 0.07630561482941511),\n",
       "              (<node_class_fitting.node at 0x10ff29208>, 0.07630561482941511),\n",
       "              (<node_class_fitting.node at 0x10ff29278>, 0.07630561482941511),\n",
       "              (<node_class_fitting.node at 0x10ff292e8>, 0.07630561482941511),\n",
       "              (<node_class_fitting.node at 0x10ff29358>, 0.07630561482941511),\n",
       "              (<node_class_fitting.node at 0x10ff293c8>, 0.07630561482941511),\n",
       "              (<node_class_fitting.node at 0x10ff29438>, 0.07630561482941511),\n",
       "              (<node_class_fitting.node at 0x10ff33e48>, 0.07630561482941511),\n",
       "              (<node_class_fitting.node at 0x10ff33ef0>, 0.07630561482941511),\n",
       "              (<node_class_fitting.node at 0x10ff33f60>, 0.07630561482941511),\n",
       "              (<node_class_fitting.node at 0x10ff33fd0>,\n",
       "               0.07630561482941511)]),\n",
       " {(0.0, 0.07362709467674367): 0,\n",
       "  (0.07362709467674367, 0.07382626799194858): 0,\n",
       "  (0.07382626799194858, 0.07398314832362535): 0,\n",
       "  (0.07398314832362535, 0.07521369213748376): 0,\n",
       "  (0.07521369213748376, 0.07615302961105198): 0,\n",
       "  (0.07615302961105198, 0.07630561482941511): 0})"
      ]
     },
     "execution_count": 32,
     "metadata": {},
     "output_type": "execute_result"
    }
   ],
   "source": [
    "get_active_population(tree)"
   ]
  },
  {
   "cell_type": "code",
   "execution_count": 29,
   "metadata": {},
   "outputs": [
    {
     "name": "stdout",
     "output_type": "stream",
     "text": [
      "<node_class_fitting.node object at 0x10ff33048> Coal 0.07398314832362535\n",
      "<node_class_fitting.node object at 0x10ff29080> Coal 0.07630561482941511\n",
      "<node_class_fitting.node object at 0x10ff290f0> Coal 0.07630561482941511\n",
      "<node_class_fitting.node object at 0x10ff29160> Coal 0.07630561482941511\n",
      "<node_class_fitting.node object at 0x10ff29208> Coal 0.07630561482941511\n",
      "<node_class_fitting.node object at 0x10ff29278> Coal 0.07630561482941511\n",
      "<node_class_fitting.node object at 0x106568278> Coal 0.07615302961105198\n",
      "<node_class_fitting.node object at 0x10ff292e8> Coal 0.07630561482941511\n",
      "<node_class_fitting.node object at 0x10ff29358> Coal 0.07630561482941511\n",
      "<node_class_fitting.node object at 0x10ff293c8> Coal 0.07630561482941511\n",
      "<node_class_fitting.node object at 0x10ff29438> Coal 0.07630561482941511\n",
      "<node_class_fitting.node object at 0x10ff33438> Coal 0.07615302961105198\n",
      "<node_class_fitting.node object at 0x10ff329b0> Coal 0.07362709467674367\n",
      "<node_class_fitting.node object at 0x10ff33a90> Coal 0.07382626799194858\n",
      "<node_class_fitting.node object at 0x10ff32c18> Coal 0.07521369213748376\n",
      "<node_class_fitting.node object at 0x10ff33e48> Coal 0.07630561482941511\n",
      "<node_class_fitting.node object at 0x10ff33ef0> Coal 0.07630561482941511\n",
      "<node_class_fitting.node object at 0x10ff33f60> Coal 0.07630561482941511\n",
      "<node_class_fitting.node object at 0x10ff32f98> Coal 0.07398314832362535\n",
      "<node_class_fitting.node object at 0x10ff33fd0> Coal 0.07630561482941511\n",
      "<node_class_fitting.node object at 0x10ff32128> Ind 0.05814807920034025\n",
      "<node_class_fitting.node object at 0x10ff32278> Ind 0.017447023561981162\n",
      "<node_class_fitting.node object at 0x10ff32358> Ind 0.06221776238980575\n",
      "<node_class_fitting.node object at 0x10ff32438> Ind 0.06033055928264017\n",
      "<node_class_fitting.node object at 0x10ff32588> Ind 0.04870889442272083\n",
      "<node_class_fitting.node object at 0x10ff32710> Ind 0.044326978694857425\n",
      "<node_class_fitting.node object at 0x10ff327f0> Ind 0.0708873686493464\n",
      "<node_class_fitting.node object at 0x10ff32860> Ind 0.004209631011301784\n",
      "<node_class_fitting.node object at 0x10ff32a58> Ind 0.04233697980871664\n",
      "<node_class_fitting.node object at 0x10ff32ac8> Ind 0.026688835946517837\n",
      "<node_class_fitting.node object at 0x10ff32cc0> Ind 0.04384616202225548\n",
      "<node_class_fitting.node object at 0x10ff32d30> Ind 0.02137427903736478\n",
      "<node_class_fitting.node object at 0x10ff32e10> Ind 0.025262073830801632\n",
      "<node_class_fitting.node object at 0x10ff330f0> Ind 0.03779686522749034\n",
      "<node_class_fitting.node object at 0x10ff33160> Ind 0.0\n",
      "<node_class_fitting.node object at 0x10ff33240> Ind 0.018058015948482435\n",
      "<node_class_fitting.node object at 0x10ff334e0> Ind 0.06158691106414713\n",
      "<node_class_fitting.node object at 0x10ff335c0> Ind 0.03137368007282386\n",
      "<node_class_fitting.node object at 0x10ff336d8> Ind 0.008640167661309484\n",
      "<node_class_fitting.node object at 0x10ff33828> Ind 0.05775680752950821\n",
      "<node_class_fitting.node object at 0x10ff33908> Ind 0.04934687483130604\n"
     ]
    }
   ],
   "source": [
    "for i,v in tree.heights.items():\n",
    "    print(i, i.type, v)\n",
    "    "
   ]
  },
  {
   "cell_type": "markdown",
   "metadata": {},
   "source": [
    "## Going through each step"
   ]
  },
  {
   "cell_type": "code",
   "execution_count": 34,
   "metadata": {},
   "outputs": [
    {
     "name": "stdout",
     "output_type": "stream",
     "text": [
      "{0.07362709467674367, 0.07382626799194858, 0.07521369213748376, 0.07615302961105198, 0.07398314832362535, 0.07630561482941511}\n"
     ]
    }
   ],
   "source": [
    "coalescent_times = set()\n",
    "\n",
    "sorted_dict = OrderedDict(sorted(tree.heights.items(), key=lambda x:x[1]))\n",
    "\n",
    "for nde, height in sorted_dict.items():\n",
    "\n",
    "    if nde.type == \"Coal\":\n",
    "\n",
    "        coalescent_times.add(height)\n",
    "        \n",
    "print(coalescent_times)\n",
    "\n",
    "#That's alright"
   ]
  },
  {
   "cell_type": "code",
   "execution_count": 91,
   "metadata": {},
   "outputs": [],
   "source": [
    "coalescent_times = sorted(coalescent_times)\n",
    "coalescent_points = list(coalescent_times)\n",
    "\n",
    "coalescent_intervals = defaultdict(tuple)\n",
    "\n",
    "coal_tups = []\n",
    "\n",
    "current_time = 0\n",
    "\n",
    "count = 0\n",
    "\n",
    "non_parent_set = set() \n",
    "\n",
    "active_population = {}\n",
    "active_population2 = defaultdict(list)\n",
    "\n",
    "\n",
    "\n",
    "for time in coalescent_times:\n",
    "\n",
    "    count += 1\n",
    "\n",
    "    coalescent_intervals[count] = (float(current_time),float(time))\n",
    "\n",
    "    tup = (float(current_time),float(time))\n",
    "    coal_tups.append(tup)\n",
    "\n",
    "    #active_population[count] = 0\n",
    "    active_population[tup] = 0\n",
    "\n",
    "    #print(active_population2)\n",
    "\n",
    "    current_time = time\n",
    "\n"
   ]
  },
  {
   "cell_type": "code",
   "execution_count": 39,
   "metadata": {},
   "outputs": [
    {
     "name": "stdout",
     "output_type": "stream",
     "text": [
      "defaultdict(<class 'tuple'>, {1: (0.0, 0.07362709467674367), 2: (0.07362709467674367, 0.07382626799194858), 3: (0.07382626799194858, 0.07398314832362535), 4: (0.07398314832362535, 0.07521369213748376), 5: (0.07521369213748376, 0.07615302961105198), 6: (0.07615302961105198, 0.07630561482941511)})\n"
     ]
    }
   ],
   "source": [
    "print(coalescent_intervals)"
   ]
  },
  {
   "cell_type": "code",
   "execution_count": 40,
   "metadata": {},
   "outputs": [
    {
     "name": "stdout",
     "output_type": "stream",
     "text": [
      "[(0.0, 0.07362709467674367), (0.07362709467674367, 0.07382626799194858), (0.07382626799194858, 0.07398314832362535), (0.07398314832362535, 0.07521369213748376), (0.07521369213748376, 0.07615302961105198), (0.07615302961105198, 0.07630561482941511)]\n"
     ]
    }
   ],
   "source": [
    "print(coal_tups)"
   ]
  },
  {
   "cell_type": "code",
   "execution_count": 45,
   "metadata": {},
   "outputs": [
    {
     "data": {
      "text/plain": [
       "defaultdict(list,\n",
       "            {(0.0, 0.07362709467674367): [],\n",
       "             (0.07362709467674367, 0.07382626799194858): [],\n",
       "             (0.07382626799194858, 0.07398314832362535): [],\n",
       "             (0.07398314832362535, 0.07521369213748376): [],\n",
       "             (0.07521369213748376, 0.07615302961105198): [],\n",
       "             (0.07615302961105198, 0.07630561482941511): []})"
      ]
     },
     "execution_count": 45,
     "metadata": {},
     "output_type": "execute_result"
    }
   ],
   "source": [
    "active_population2"
   ]
  },
  {
   "cell_type": "code",
   "execution_count": 87,
   "metadata": {},
   "outputs": [
    {
     "data": {
      "text/plain": [
       "[(0.0, 0.07362709467674367),\n",
       " (0.07362709467674367, 0.07382626799194858),\n",
       " (0.07382626799194858, 0.07398314832362535),\n",
       " (0.07398314832362535, 0.07521369213748376),\n",
       " (0.07521369213748376, 0.07615302961105198),\n",
       " (0.07615302961105198, 0.07630561482941511)]"
      ]
     },
     "execution_count": 87,
     "metadata": {},
     "output_type": "execute_result"
    }
   ],
   "source": [
    "coal_tups"
   ]
  },
  {
   "cell_type": "code",
   "execution_count": 94,
   "metadata": {
    "scrolled": true
   },
   "outputs": [
    {
     "ename": "ValueError",
     "evalue": "not enough values to unpack (expected 3, got 2)",
     "output_type": "error",
     "traceback": [
      "\u001b[0;31m---------------------------------------------------------------------------\u001b[0m",
      "\u001b[0;31mValueError\u001b[0m                                Traceback (most recent call last)",
      "\u001b[0;32m<ipython-input-94-25d4079ed6cf>\u001b[0m in \u001b[0;36m<module>\u001b[0;34m()\u001b[0m\n\u001b[1;32m     15\u001b[0m         \u001b[0mparent_height\u001b[0m \u001b[0;34m=\u001b[0m \u001b[0mtree\u001b[0m\u001b[0;34m.\u001b[0m\u001b[0mheights\u001b[0m\u001b[0;34m[\u001b[0m\u001b[0mnde\u001b[0m\u001b[0;34m.\u001b[0m\u001b[0mnode_parent\u001b[0m\u001b[0;34m]\u001b[0m\u001b[0;34m\u001b[0m\u001b[0;34m\u001b[0m\u001b[0m\n\u001b[1;32m     16\u001b[0m \u001b[0;34m\u001b[0m\u001b[0m\n\u001b[0;32m---> 17\u001b[0;31m         \u001b[0;32mfor\u001b[0m \u001b[0mcount\u001b[0m\u001b[0;34m,\u001b[0m \u001b[0mtime1\u001b[0m\u001b[0;34m,\u001b[0m \u001b[0mtime2\u001b[0m \u001b[0;32min\u001b[0m \u001b[0menumerate\u001b[0m\u001b[0;34m(\u001b[0m\u001b[0mcoal_tups\u001b[0m\u001b[0;34m[\u001b[0m\u001b[0mindex\u001b[0m\u001b[0;34m:\u001b[0m\u001b[0;34m]\u001b[0m\u001b[0;34m)\u001b[0m\u001b[0;34m:\u001b[0m\u001b[0;34m\u001b[0m\u001b[0;34m\u001b[0m\u001b[0m\n\u001b[0m\u001b[1;32m     18\u001b[0m \u001b[0;34m\u001b[0m\u001b[0m\n\u001b[1;32m     19\u001b[0m             \u001b[0;31m#index += 1\u001b[0m\u001b[0;34m\u001b[0m\u001b[0;34m\u001b[0m\u001b[0;34m\u001b[0m\u001b[0m\n",
      "\u001b[0;31mValueError\u001b[0m: not enough values to unpack (expected 3, got 2)"
     ]
    }
   ],
   "source": [
    "previous_index = 0\n",
    "\n",
    "for nde, height in sorted_dict.items():\n",
    "    \n",
    "    first_hit = 0\n",
    "    \n",
    "    index = previous_index - 1\n",
    "    \n",
    "    if not nde.node_parent:\n",
    "        non_parent_set.add(nde)\n",
    "        pass\n",
    "\n",
    "    else:\n",
    "        \n",
    "        parent_height = tree.heights[nde.node_parent]\n",
    "        \n",
    "        for time1, time2 in coal_tups[index:]:\n",
    "            \n",
    "            index += 1\n",
    "            #print(time1, time2)\n",
    "\n",
    "            \n",
    "            if ((height <= time1 or (height <= time2 and height >=time1)) and parent_height >= time2) and height != parent_height:\n",
    "\n",
    "                first_hit += 1\n",
    "                \n",
    "                #print(time1, time2, height, tree.heights[nde.node_parent])\n",
    "               \n",
    "                active_population[time1, time2] += 1\n",
    "                \n",
    "                if first_hit == 1:\n",
    "                    previous_index = index\n",
    "\n",
    "                #active_population[time1, time2].append(nde)\n",
    "\n",
    "                #active_population[index + 1].append(nde)\n",
    "                #active_population[count].append(nde)\n",
    "                #active_population2[time1,time2].append(nde)\n",
    "\n",
    "                #active_population[count] += 1\n",
    "                \n",
    "\n",
    "                if parent_height == time2:\n",
    "\n",
    "                    break "
   ]
  },
  {
   "cell_type": "code",
   "execution_count": 85,
   "metadata": {},
   "outputs": [
    {
     "name": "stdout",
     "output_type": "stream",
     "text": [
      "{(0.0, 0.07362709467674367): 22, (0.07362709467674367, 0.07382626799194858): 21, (0.07382626799194858, 0.07398314832362535): 20, (0.07398314832362535, 0.07521369213748376): 18, (0.07521369213748376, 0.07615302961105198): 17, (0.07615302961105198, 0.07630561482941511): 14}\n"
     ]
    }
   ],
   "source": [
    "print(active_population)"
   ]
  },
  {
   "cell_type": "code",
   "execution_count": 93,
   "metadata": {},
   "outputs": [
    {
     "name": "stdout",
     "output_type": "stream",
     "text": [
      "{(0.0, 0.07362709467674367): 1, (0.07362709467674367, 0.07382626799194858): 1, (0.07382626799194858, 0.07398314832362535): 1, (0.07398314832362535, 0.07521369213748376): 1, (0.07521369213748376, 0.07615302961105198): 2, (0.07615302961105198, 0.07630561482941511): 14}\n"
     ]
    }
   ],
   "source": [
    "print(active_population)"
   ]
  },
  {
   "cell_type": "code",
   "execution_count": 86,
   "metadata": {
    "scrolled": true
   },
   "outputs": [
    {
     "name": "stdout",
     "output_type": "stream",
     "text": [
      "OrderedDict([(<node_class_fitting.node object at 0x10ff33160>, 0.0), (<node_class_fitting.node object at 0x10ff32860>, 0.004209631011301784), (<node_class_fitting.node object at 0x10ff336d8>, 0.008640167661309484), (<node_class_fitting.node object at 0x10ff32278>, 0.017447023561981162), (<node_class_fitting.node object at 0x10ff33240>, 0.018058015948482435), (<node_class_fitting.node object at 0x10ff32d30>, 0.02137427903736478), (<node_class_fitting.node object at 0x10ff32e10>, 0.025262073830801632), (<node_class_fitting.node object at 0x10ff32ac8>, 0.026688835946517837), (<node_class_fitting.node object at 0x10ff335c0>, 0.03137368007282386), (<node_class_fitting.node object at 0x10ff330f0>, 0.03779686522749034), (<node_class_fitting.node object at 0x10ff32a58>, 0.04233697980871664), (<node_class_fitting.node object at 0x10ff32cc0>, 0.04384616202225548), (<node_class_fitting.node object at 0x10ff32710>, 0.044326978694857425), (<node_class_fitting.node object at 0x10ff32588>, 0.04870889442272083), (<node_class_fitting.node object at 0x10ff33908>, 0.04934687483130604), (<node_class_fitting.node object at 0x10ff33828>, 0.05775680752950821), (<node_class_fitting.node object at 0x10ff32128>, 0.05814807920034025), (<node_class_fitting.node object at 0x10ff32438>, 0.06033055928264017), (<node_class_fitting.node object at 0x10ff334e0>, 0.06158691106414713), (<node_class_fitting.node object at 0x10ff32358>, 0.06221776238980575), (<node_class_fitting.node object at 0x10ff327f0>, 0.0708873686493464), (<node_class_fitting.node object at 0x10ff329b0>, 0.07362709467674367), (<node_class_fitting.node object at 0x10ff33a90>, 0.07382626799194858), (<node_class_fitting.node object at 0x10ff33048>, 0.07398314832362535), (<node_class_fitting.node object at 0x10ff32f98>, 0.07398314832362535), (<node_class_fitting.node object at 0x10ff32c18>, 0.07521369213748376), (<node_class_fitting.node object at 0x106568278>, 0.07615302961105198), (<node_class_fitting.node object at 0x10ff33438>, 0.07615302961105198), (<node_class_fitting.node object at 0x10ff29080>, 0.07630561482941511), (<node_class_fitting.node object at 0x10ff290f0>, 0.07630561482941511), (<node_class_fitting.node object at 0x10ff29160>, 0.07630561482941511), (<node_class_fitting.node object at 0x10ff29208>, 0.07630561482941511), (<node_class_fitting.node object at 0x10ff29278>, 0.07630561482941511), (<node_class_fitting.node object at 0x10ff292e8>, 0.07630561482941511), (<node_class_fitting.node object at 0x10ff29358>, 0.07630561482941511), (<node_class_fitting.node object at 0x10ff293c8>, 0.07630561482941511), (<node_class_fitting.node object at 0x10ff29438>, 0.07630561482941511), (<node_class_fitting.node object at 0x10ff33e48>, 0.07630561482941511), (<node_class_fitting.node object at 0x10ff33ef0>, 0.07630561482941511), (<node_class_fitting.node object at 0x10ff33f60>, 0.07630561482941511), (<node_class_fitting.node object at 0x10ff33fd0>, 0.07630561482941511)])\n"
     ]
    }
   ],
   "source": [
    "print(sorted_dict)"
   ]
  },
  {
   "cell_type": "code",
   "execution_count": 77,
   "metadata": {},
   "outputs": [
    {
     "name": "stdout",
     "output_type": "stream",
     "text": [
      "(0.0, 0.07362709467674367) [<node_class_fitting.node object at 0x10ff33160>, <node_class_fitting.node object at 0x10ff32860>, <node_class_fitting.node object at 0x10ff336d8>, <node_class_fitting.node object at 0x10ff32278>, <node_class_fitting.node object at 0x10ff33240>, <node_class_fitting.node object at 0x10ff32d30>, <node_class_fitting.node object at 0x10ff32e10>, <node_class_fitting.node object at 0x10ff32ac8>, <node_class_fitting.node object at 0x10ff335c0>, <node_class_fitting.node object at 0x10ff330f0>, <node_class_fitting.node object at 0x10ff32a58>, <node_class_fitting.node object at 0x10ff32cc0>, <node_class_fitting.node object at 0x10ff32710>, <node_class_fitting.node object at 0x10ff32588>, <node_class_fitting.node object at 0x10ff33908>, <node_class_fitting.node object at 0x10ff33828>, <node_class_fitting.node object at 0x10ff32128>, <node_class_fitting.node object at 0x10ff32438>, <node_class_fitting.node object at 0x10ff334e0>, <node_class_fitting.node object at 0x10ff32358>, <node_class_fitting.node object at 0x10ff327f0>, <node_class_fitting.node object at 0x10ff329b0>]\n",
      "(0.07362709467674367, 0.07382626799194858) [<node_class_fitting.node object at 0x10ff33160>, <node_class_fitting.node object at 0x10ff336d8>, <node_class_fitting.node object at 0x10ff32278>, <node_class_fitting.node object at 0x10ff33240>, <node_class_fitting.node object at 0x10ff32d30>, <node_class_fitting.node object at 0x10ff32e10>, <node_class_fitting.node object at 0x10ff32ac8>, <node_class_fitting.node object at 0x10ff335c0>, <node_class_fitting.node object at 0x10ff330f0>, <node_class_fitting.node object at 0x10ff32a58>, <node_class_fitting.node object at 0x10ff32cc0>, <node_class_fitting.node object at 0x10ff32710>, <node_class_fitting.node object at 0x10ff32588>, <node_class_fitting.node object at 0x10ff33908>, <node_class_fitting.node object at 0x10ff33828>, <node_class_fitting.node object at 0x10ff32128>, <node_class_fitting.node object at 0x10ff32438>, <node_class_fitting.node object at 0x10ff334e0>, <node_class_fitting.node object at 0x10ff32358>, <node_class_fitting.node object at 0x10ff329b0>, <node_class_fitting.node object at 0x10ff33a90>]\n",
      "(0.07382626799194858, 0.07398314832362535) [<node_class_fitting.node object at 0x10ff33160>, <node_class_fitting.node object at 0x10ff336d8>, <node_class_fitting.node object at 0x10ff32278>, <node_class_fitting.node object at 0x10ff33240>, <node_class_fitting.node object at 0x10ff32d30>, <node_class_fitting.node object at 0x10ff32e10>, <node_class_fitting.node object at 0x10ff32ac8>, <node_class_fitting.node object at 0x10ff335c0>, <node_class_fitting.node object at 0x10ff330f0>, <node_class_fitting.node object at 0x10ff32a58>, <node_class_fitting.node object at 0x10ff32cc0>, <node_class_fitting.node object at 0x10ff32710>, <node_class_fitting.node object at 0x10ff32588>, <node_class_fitting.node object at 0x10ff32128>, <node_class_fitting.node object at 0x10ff32438>, <node_class_fitting.node object at 0x10ff334e0>, <node_class_fitting.node object at 0x10ff32358>, <node_class_fitting.node object at 0x10ff329b0>, <node_class_fitting.node object at 0x10ff33a90>, <node_class_fitting.node object at 0x10ff33048>]\n",
      "(0.07398314832362535, 0.07521369213748376) [<node_class_fitting.node object at 0x10ff33160>, <node_class_fitting.node object at 0x10ff336d8>, <node_class_fitting.node object at 0x10ff32278>, <node_class_fitting.node object at 0x10ff33240>, <node_class_fitting.node object at 0x10ff32ac8>, <node_class_fitting.node object at 0x10ff335c0>, <node_class_fitting.node object at 0x10ff330f0>, <node_class_fitting.node object at 0x10ff32a58>, <node_class_fitting.node object at 0x10ff32710>, <node_class_fitting.node object at 0x10ff32588>, <node_class_fitting.node object at 0x10ff32128>, <node_class_fitting.node object at 0x10ff32438>, <node_class_fitting.node object at 0x10ff334e0>, <node_class_fitting.node object at 0x10ff32358>, <node_class_fitting.node object at 0x10ff329b0>, <node_class_fitting.node object at 0x10ff33a90>, <node_class_fitting.node object at 0x10ff33048>, <node_class_fitting.node object at 0x10ff32c18>]\n",
      "(0.07521369213748376, 0.07615302961105198) [<node_class_fitting.node object at 0x10ff33160>, <node_class_fitting.node object at 0x10ff336d8>, <node_class_fitting.node object at 0x10ff32278>, <node_class_fitting.node object at 0x10ff33240>, <node_class_fitting.node object at 0x10ff335c0>, <node_class_fitting.node object at 0x10ff330f0>, <node_class_fitting.node object at 0x10ff32710>, <node_class_fitting.node object at 0x10ff32588>, <node_class_fitting.node object at 0x10ff32128>, <node_class_fitting.node object at 0x10ff32438>, <node_class_fitting.node object at 0x10ff334e0>, <node_class_fitting.node object at 0x10ff32358>, <node_class_fitting.node object at 0x10ff329b0>, <node_class_fitting.node object at 0x10ff33a90>, <node_class_fitting.node object at 0x10ff33048>, <node_class_fitting.node object at 0x10ff32c18>, <node_class_fitting.node object at 0x10ff33438>]\n",
      "(0.07615302961105198, 0.07630561482941511) [<node_class_fitting.node object at 0x10ff336d8>, <node_class_fitting.node object at 0x10ff32278>, <node_class_fitting.node object at 0x10ff335c0>, <node_class_fitting.node object at 0x10ff32710>, <node_class_fitting.node object at 0x10ff32588>, <node_class_fitting.node object at 0x10ff32128>, <node_class_fitting.node object at 0x10ff32438>, <node_class_fitting.node object at 0x10ff334e0>, <node_class_fitting.node object at 0x10ff32358>, <node_class_fitting.node object at 0x10ff329b0>, <node_class_fitting.node object at 0x10ff33a90>, <node_class_fitting.node object at 0x10ff33048>, <node_class_fitting.node object at 0x10ff32c18>, <node_class_fitting.node object at 0x10ff33438>]\n",
      "{(0.0, 0.07362709467674367): 22, (0.07362709467674367, 0.07382626799194858): 21, (0.07382626799194858, 0.07398314832362535): 20, (0.07398314832362535, 0.07521369213748376): 18, (0.07521369213748376, 0.07615302961105198): 17, (0.07615302961105198, 0.07630561482941511): 14}\n"
     ]
    }
   ],
   "source": [
    "final = {}\n",
    "\n",
    "for k,v in active_population2.items():\n",
    "    final[k] = len(v)\n",
    "    print(k,v)\n",
    "    \n",
    "print(final)"
   ]
  },
  {
   "cell_type": "code",
   "execution_count": 78,
   "metadata": {},
   "outputs": [
    {
     "name": "stdout",
     "output_type": "stream",
     "text": [
      "<node_class_fitting.node object at 0x10ff336d8> Ind 0.008640167661309484 <node_class_fitting.node object at 0x10ff33e48> 0.07630561482941511\n",
      "<node_class_fitting.node object at 0x10ff32278> Ind 0.017447023561981162 <node_class_fitting.node object at 0x10ff29080> 0.07630561482941511\n",
      "<node_class_fitting.node object at 0x10ff335c0> Ind 0.03137368007282386 <node_class_fitting.node object at 0x10ff33f60> 0.07630561482941511\n",
      "<node_class_fitting.node object at 0x10ff32710> Ind 0.044326978694857425 <node_class_fitting.node object at 0x10ff292e8> 0.07630561482941511\n",
      "<node_class_fitting.node object at 0x10ff32588> Ind 0.04870889442272083 <node_class_fitting.node object at 0x10ff33ef0> 0.07630561482941511\n",
      "<node_class_fitting.node object at 0x10ff32128> Ind 0.05814807920034025 <node_class_fitting.node object at 0x10ff29278> 0.07630561482941511\n",
      "<node_class_fitting.node object at 0x10ff32438> Ind 0.06033055928264017 <node_class_fitting.node object at 0x10ff33fd0> 0.07630561482941511\n",
      "<node_class_fitting.node object at 0x10ff334e0> Ind 0.06158691106414713 <node_class_fitting.node object at 0x10ff29208> 0.07630561482941511\n",
      "<node_class_fitting.node object at 0x10ff32358> Ind 0.06221776238980575 <node_class_fitting.node object at 0x10ff33ef0> 0.07630561482941511\n",
      "<node_class_fitting.node object at 0x10ff329b0> Coal 0.07362709467674367 <node_class_fitting.node object at 0x10ff29080> 0.07630561482941511\n",
      "<node_class_fitting.node object at 0x10ff33a90> Coal 0.07382626799194858 <node_class_fitting.node object at 0x10ff290f0> 0.07630561482941511\n",
      "<node_class_fitting.node object at 0x10ff33048> Coal 0.07398314832362535 <node_class_fitting.node object at 0x10ff33e48> 0.07630561482941511\n",
      "<node_class_fitting.node object at 0x10ff32c18> Coal 0.07521369213748376 <node_class_fitting.node object at 0x10ff290f0> 0.07630561482941511\n",
      "<node_class_fitting.node object at 0x10ff33438> Coal 0.07615302961105198 <node_class_fitting.node object at 0x10ff33f60> 0.07630561482941511\n"
     ]
    }
   ],
   "source": [
    "for item in active_population2[(0.07615302961105198, 0.07630561482941511)]:\n",
    "    print(item, item.type, tree.heights[item], item.node_parent, tree.heights[item.node_parent])"
   ]
  },
  {
   "cell_type": "code",
   "execution_count": 72,
   "metadata": {},
   "outputs": [
    {
     "data": {
      "text/plain": [
       "0.07630561482941511"
      ]
     },
     "execution_count": 72,
     "metadata": {},
     "output_type": "execute_result"
    }
   ],
   "source": [
    "tree.heights[tree.root]"
   ]
  },
  {
   "cell_type": "code",
   "execution_count": null,
   "metadata": {
    "collapsed": true
   },
   "outputs": [],
   "source": []
  }
 ],
 "metadata": {
  "kernelspec": {
   "display_name": "Python 3",
   "language": "python",
   "name": "python3"
  },
  "language_info": {
   "codemirror_mode": {
    "name": "ipython",
    "version": 3
   },
   "file_extension": ".py",
   "mimetype": "text/x-python",
   "name": "python",
   "nbconvert_exporter": "python",
   "pygments_lexer": "ipython3",
   "version": "3.6.8"
  }
 },
 "nbformat": 4,
 "nbformat_minor": 2
}
