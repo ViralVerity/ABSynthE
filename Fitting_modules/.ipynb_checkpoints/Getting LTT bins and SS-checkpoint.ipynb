{
 "cells": [
  {
   "cell_type": "code",
   "execution_count": 63,
   "metadata": {
    "collapsed": true
   },
   "outputs": [],
   "source": [
    "import json\n",
    "from collections import defaultdict\n",
    "from collections import OrderedDict"
   ]
  },
  {
   "cell_type": "code",
   "execution_count": 2,
   "metadata": {
    "collapsed": true
   },
   "outputs": [],
   "source": [
    "with open(\"../Observed_data/LTT_observed.txt\") as json_file:\n",
    "    LTT = json.load(json_file)"
   ]
  },
  {
   "cell_type": "code",
   "execution_count": 4,
   "metadata": {},
   "outputs": [
    {
     "name": "stdout",
     "output_type": "stream",
     "text": [
      "364\n"
     ]
    }
   ],
   "source": [
    "print(len(LTT))"
   ]
  },
  {
   "cell_type": "code",
   "execution_count": 42,
   "metadata": {
    "collapsed": true
   },
   "outputs": [],
   "source": [
    "#So this function forces simulated LTT into the same bins as the observed\n",
    "\n",
    "def bin_sim(sim_ltt, obs_bins):\n",
    "    \n",
    "    intervals = []\n",
    "    lineages = []\n",
    "    bin_dict = defaultdict(list)\n",
    "    sim_bins = {}\n",
    "\n",
    "\n",
    "\n",
    "    for key, value in sim_ltt.items():\n",
    "        start_interval = key[0]\n",
    "        end_interval = key[1]\n",
    "        lineage_number = value\n",
    "        \n",
    "\n",
    "        intervals.append((start_interval, end_interval))\n",
    "        lineages.append(lineage_number)    \n",
    "\n",
    "        \n",
    "    \n",
    "\n",
    "    for position, interval in enumerate(intervals):\n",
    "\n",
    "        for bin_position,binn in enumerate(obs_bins):\n",
    "\n",
    "            if interval[0] == 0 and binn[0] == 0.0:\n",
    "                bin_dict[bin_position].append(position)\n",
    "\n",
    "            if (interval[0] > binn[0] and interval[0] <= binn[1]) or (interval[1] > binn[0] and interval[1] <= binn[1]) or (interval[0] < binn[0] and interval[1] > binn[1]):\n",
    "\n",
    "                bin_dict[bin_position].append(position)\n",
    "\n",
    "        \n",
    "\n",
    "    for binn_pos, interval_pos_list in bin_dict.items():\n",
    "\n",
    "        if len(interval_pos_list) == 1:\n",
    "\n",
    "            sim_bins[obs_bins[binn_pos]] = lineages[interval_pos_list[0]]\n",
    "\n",
    "\n",
    "        if len(interval_pos_list) == 2:\n",
    "\n",
    "            lineage_num_a = lineages[interval_pos_list[0]]\n",
    "            lineage_num_b  = lineages[interval_pos_list[1]]\n",
    "\n",
    "            interval_a = intervals[interval_pos_list[0]][1]\n",
    "\n",
    "            bin_a = obs_bins[binn_pos][0]\n",
    "            bin_b = obs_bins[binn_pos][1]\n",
    "\n",
    "\n",
    "            weight_a = (interval_a - bin_a)\n",
    "            weight_b = 1 - weight_a\n",
    "\n",
    "            lineage_num = ((lineage_num_a*weight_a) + (lineage_num_b*weight_b))\n",
    "\n",
    "            sim_bins[bins[binn_pos]] = lineage_num\n",
    "\n",
    "\n",
    "        elif len(interval_pos_list) > 2:\n",
    "\n",
    "            last_position = len(interval_pos_list) - 1\n",
    "\n",
    "            lineage_num_a = lineages[interval_pos_list[0]]\n",
    "            lineage_num_b = lineages[interval_pos_list[last_position]]\n",
    "\n",
    "            other_lins = [lineages[interval_pos_list[i]] for i in range(1, len(interval_pos_list)-1)]\n",
    "\n",
    "            interval_a = intervals[interval_pos_list[0]][1]\n",
    "            interval_b = intervals[interval_pos_list[last_position]][0]        \n",
    "\n",
    "            bin_a = obs_bins[binn_pos][0]\n",
    "            bin_b = obs_bins[binn_pos][1]\n",
    "\n",
    "            weight_a = (interval_a - bin_a)\n",
    "            weight_b = (bin_b - interval_b)\n",
    "\n",
    "            other_weights = (1 - weight_a - weight_b)/(len(interval_pos_list)-2)\n",
    "\n",
    "            final_other_lins = 0\n",
    "\n",
    "            for i in other_lins:\n",
    "                final_other_lins += (other_weights*i)\n",
    "\n",
    "            lins = ((lineage_num_a*weight_a) + (lineage_num_b*weight_b) + final_other_lins)\n",
    "\n",
    "            sim_bins[obs_bins[binn_pos]] = lins\n",
    "            \n",
    "            \n",
    "            \n",
    "    return sim_bins"
   ]
  },
  {
   "cell_type": "code",
   "execution_count": 19,
   "metadata": {},
   "outputs": [],
   "source": [
    "new_LTT = {}\n",
    "\n",
    "for key, value in LTT.items():\n",
    "    a = float(key.split(\",\")[0].strip(\"(\"))\n",
    "    b = float(key.split(\",\")[1].strip(\")\").strip(\" \"))\n",
    "    \n",
    "    new_LTT[a,b] = value"
   ]
  },
  {
   "cell_type": "code",
   "execution_count": 23,
   "metadata": {},
   "outputs": [],
   "source": [
    "coal_points = set()\n",
    "for key in new_LTT.keys():\n",
    "    for i in key:\n",
    "        coal_points.add(i)"
   ]
  },
  {
   "cell_type": "code",
   "execution_count": 25,
   "metadata": {},
   "outputs": [
    {
     "data": {
      "text/plain": [
       "365"
      ]
     },
     "execution_count": 25,
     "metadata": {},
     "output_type": "execute_result"
    }
   ],
   "source": [
    "len(coal_points)"
   ]
  },
  {
   "cell_type": "code",
   "execution_count": 34,
   "metadata": {},
   "outputs": [
    {
     "name": "stdout",
     "output_type": "stream",
     "text": [
      "0.4187139080715566\n"
     ]
    }
   ],
   "source": [
    "biggest = max(coal_points)\n",
    "print(biggest)"
   ]
  },
  {
   "cell_type": "code",
   "execution_count": 28,
   "metadata": {},
   "outputs": [
    {
     "name": "stdout",
     "output_type": "stream",
     "text": [
      "0.02093569540357783\n"
     ]
    }
   ],
   "source": [
    "interval_size = biggest/20\n",
    "print(interval_size)"
   ]
  },
  {
   "cell_type": "code",
   "execution_count": 32,
   "metadata": {},
   "outputs": [
    {
     "name": "stdout",
     "output_type": "stream",
     "text": [
      "(0, 0.02093569540357783)\n",
      "(0.02093569540357783, 0.04187139080715566)\n",
      "(0.04187139080715566, 0.0628070862107335)\n",
      "(0.0628070862107335, 0.08374278161431133)\n",
      "(0.08374278161431133, 0.10467847701788915)\n",
      "(0.10467847701788915, 0.125614172421467)\n",
      "(0.125614172421467, 0.14654986782504484)\n",
      "(0.14654986782504484, 0.16748556322862268)\n",
      "(0.16748556322862268, 0.18842125863220052)\n",
      "(0.18842125863220052, 0.20935695403577836)\n",
      "(0.20935695403577836, 0.2302926494393562)\n",
      "(0.2302926494393562, 0.25122834484293405)\n",
      "(0.25122834484293405, 0.27216404024651186)\n",
      "(0.27216404024651186, 0.2930997356500897)\n",
      "(0.2930997356500897, 0.3140354310536675)\n",
      "(0.3140354310536675, 0.3349711264572453)\n",
      "(0.3349711264572453, 0.3559068218608231)\n",
      "(0.3559068218608231, 0.37684251726440093)\n",
      "(0.37684251726440093, 0.39777821266797875)\n",
      "(0.39777821266797875, 0.41871390807155656)\n"
     ]
    }
   ],
   "source": [
    "count = 0\n",
    "intervals = []\n",
    "for i in range(20):\n",
    "    \n",
    "    new_tup = (count, count+interval_size)\n",
    "    print(new_tup)\n",
    "    count += interval_size\n",
    "    \n",
    "    intervals.append(new_tup)"
   ]
  },
  {
   "cell_type": "code",
   "execution_count": 33,
   "metadata": {},
   "outputs": [
    {
     "name": "stdout",
     "output_type": "stream",
     "text": [
      "20\n"
     ]
    }
   ],
   "source": [
    "print(len(intervals))"
   ]
  },
  {
   "cell_type": "code",
   "execution_count": 45,
   "metadata": {},
   "outputs": [],
   "source": [
    "binned_obs_LTT = bin_sim(new_LTT, intervals)"
   ]
  },
  {
   "cell_type": "code",
   "execution_count": 46,
   "metadata": {},
   "outputs": [
    {
     "data": {
      "text/plain": [
       "{(0, 0.02093569540357783): 53.14274216100124,\n",
       " (0.02093569540357783, 0.04187139080715566): 110.8591972315072,\n",
       " (0.04187139080715566, 0.0628070862107335): 134.32012378033238,\n",
       " (0.0628070862107335, 0.08374278161431133): 136.88603187626754,\n",
       " (0.08374278161431133, 0.10467847701788915): 141.79283007931681,\n",
       " (0.10467847701788915, 0.125614172421467): 99.92958023626413,\n",
       " (0.125614172421467, 0.14654986782504484): 75.66925004968692,\n",
       " (0.14654986782504484, 0.16748556322862268): 62.702353762861016,\n",
       " (0.16748556322862268, 0.18842125863220052): 51.64930119445268,\n",
       " (0.18842125863220052, 0.20935695403577836): 52.110751732458105,\n",
       " (0.20935695403577836, 0.2302926494393562): 72.74663279140115,\n",
       " (0.2302926494393562, 0.25122834484293405): 79.16184842239603,\n",
       " (0.25122834484293405, 0.27216404024651186): 51.048797530829425,\n",
       " (0.27216404024651186, 0.2930997356500897): 49.81492749361463,\n",
       " (0.2930997356500897, 0.3140354310536675): 44.18875202397806,\n",
       " (0.3140354310536675, 0.3349711264572453): 19.49287400488278,\n",
       " (0.3349711264572453, 0.3559068218608231): 12.4945282724165,\n",
       " (0.3559068218608231, 0.37684251726440093): 7.666291528846369,\n",
       " (0.37684251726440093, 0.39777821266797875): 2,\n",
       " (0.39777821266797875, 0.41871390807155656): 2}"
      ]
     },
     "execution_count": 46,
     "metadata": {},
     "output_type": "execute_result"
    }
   ],
   "source": [
    "binned_obs_LTT"
   ]
  },
  {
   "cell_type": "code",
   "execution_count": 50,
   "metadata": {
    "collapsed": true
   },
   "outputs": [],
   "source": [
    "LTT_list = []\n",
    "\n",
    "for i in binned_obs_LTT.values():\n",
    "    LTT_list.append(i)"
   ]
  },
  {
   "cell_type": "code",
   "execution_count": 52,
   "metadata": {},
   "outputs": [
    {
     "name": "stdout",
     "output_type": "stream",
     "text": [
      "[53.14274216100124, 110.8591972315072, 134.32012378033238, 136.88603187626754, 141.79283007931681, 99.92958023626413, 75.66925004968692, 62.702353762861016, 51.64930119445268, 52.110751732458105, 72.74663279140115, 79.16184842239603, 51.048797530829425, 49.81492749361463, 44.18875202397806, 19.49287400488278, 12.4945282724165, 7.666291528846369, 2, 2]\n"
     ]
    }
   ],
   "source": [
    "print(LTT_list)"
   ]
  },
  {
   "cell_type": "code",
   "execution_count": 53,
   "metadata": {},
   "outputs": [
    {
     "name": "stdout",
     "output_type": "stream",
     "text": [
      "[(0, 0.02093569540357783), (0.02093569540357783, 0.04187139080715566), (0.04187139080715566, 0.0628070862107335), (0.0628070862107335, 0.08374278161431133), (0.08374278161431133, 0.10467847701788915), (0.10467847701788915, 0.125614172421467), (0.125614172421467, 0.14654986782504484), (0.14654986782504484, 0.16748556322862268), (0.16748556322862268, 0.18842125863220052), (0.18842125863220052, 0.20935695403577836), (0.20935695403577836, 0.2302926494393562), (0.2302926494393562, 0.25122834484293405), (0.25122834484293405, 0.27216404024651186), (0.27216404024651186, 0.2930997356500897), (0.2930997356500897, 0.3140354310536675), (0.3140354310536675, 0.3349711264572453), (0.3349711264572453, 0.3559068218608231), (0.3559068218608231, 0.37684251726440093), (0.37684251726440093, 0.39777821266797875), (0.39777821266797875, 0.41871390807155656)]\n"
     ]
    }
   ],
   "source": [
    "print(intervals)"
   ]
  },
  {
   "cell_type": "markdown",
   "metadata": {},
   "source": [
    "## Getting the SS's"
   ]
  },
  {
   "cell_type": "code",
   "execution_count": 64,
   "metadata": {},
   "outputs": [],
   "source": [
    "ltt_dict = OrderedDict(binned_obs_LTT)\n",
    "\n",
    "max_L = max(ltt_dict.values())"
   ]
  },
  {
   "cell_type": "code",
   "execution_count": 66,
   "metadata": {},
   "outputs": [
    {
     "name": "stdout",
     "output_type": "stream",
     "text": [
      "(0, 0.02093569540357783) 53.14274216100124\n",
      "(0.02093569540357783, 0.04187139080715566) 110.8591972315072\n",
      "(0.04187139080715566, 0.0628070862107335) 134.32012378033238\n",
      "(0.0628070862107335, 0.08374278161431133) 136.88603187626754\n",
      "(0.08374278161431133, 0.10467847701788915) 141.79283007931681\n",
      "(0.10467847701788915, 0.125614172421467) 99.92958023626413\n",
      "(0.125614172421467, 0.14654986782504484) 75.66925004968692\n",
      "(0.14654986782504484, 0.16748556322862268) 62.702353762861016\n",
      "(0.16748556322862268, 0.18842125863220052) 51.64930119445268\n",
      "(0.18842125863220052, 0.20935695403577836) 52.110751732458105\n",
      "(0.20935695403577836, 0.2302926494393562) 72.74663279140115\n",
      "(0.2302926494393562, 0.25122834484293405) 79.16184842239603\n",
      "(0.25122834484293405, 0.27216404024651186) 51.048797530829425\n",
      "(0.27216404024651186, 0.2930997356500897) 49.81492749361463\n",
      "(0.2930997356500897, 0.3140354310536675) 44.18875202397806\n",
      "(0.3140354310536675, 0.3349711264572453) 19.49287400488278\n",
      "(0.3349711264572453, 0.3559068218608231) 12.4945282724165\n",
      "(0.3559068218608231, 0.37684251726440093) 7.666291528846369\n",
      "(0.37684251726440093, 0.39777821266797875) 2\n",
      "(0.39777821266797875, 0.41871390807155656) 2\n"
     ]
    }
   ],
   "source": [
    "for k,v in ltt_dict.items():\n",
    "    print(k,v)"
   ]
  },
  {
   "cell_type": "code",
   "execution_count": 57,
   "metadata": {},
   "outputs": [
    {
     "data": {
      "text/plain": [
       "141.79283007931681"
      ]
     },
     "execution_count": 57,
     "metadata": {},
     "output_type": "execute_result"
    }
   ],
   "source": [
    "max_L"
   ]
  },
  {
   "cell_type": "code",
   "execution_count": 60,
   "metadata": {
    "collapsed": true
   },
   "outputs": [],
   "source": [
    "t_max_L = max(ltt_dict, key = lambda k:ltt_dict[k])[0]"
   ]
  },
  {
   "cell_type": "code",
   "execution_count": 61,
   "metadata": {},
   "outputs": [
    {
     "data": {
      "text/plain": [
       "0.08374278161431133"
      ]
     },
     "execution_count": 61,
     "metadata": {},
     "output_type": "execute_result"
    }
   ],
   "source": [
    "t_max_L"
   ]
  },
  {
   "cell_type": "code",
   "execution_count": 69,
   "metadata": {},
   "outputs": [],
   "source": [
    "y1 = max_L\n",
    "y0 = next(iter(ltt_dict.values()))\n",
    "\n",
    "x1 = t_max_L\n",
    "x0 = 0.0"
   ]
  },
  {
   "cell_type": "code",
   "execution_count": 70,
   "metadata": {},
   "outputs": [
    {
     "data": {
      "text/plain": [
       "53.14274216100124"
      ]
     },
     "execution_count": 70,
     "metadata": {},
     "output_type": "execute_result"
    }
   ],
   "source": [
    "y0"
   ]
  },
  {
   "cell_type": "code",
   "execution_count": null,
   "metadata": {
    "collapsed": true
   },
   "outputs": [],
   "source": []
  }
 ],
 "metadata": {
  "kernelspec": {
   "display_name": "Python 3",
   "language": "python",
   "name": "python3"
  },
  "language_info": {
   "codemirror_mode": {
    "name": "ipython",
    "version": 3
   },
   "file_extension": ".py",
   "mimetype": "text/x-python",
   "name": "python",
   "nbconvert_exporter": "python",
   "pygments_lexer": "ipython3",
   "version": "3.6.8"
  }
 },
 "nbformat": 4,
 "nbformat_minor": 2
}
