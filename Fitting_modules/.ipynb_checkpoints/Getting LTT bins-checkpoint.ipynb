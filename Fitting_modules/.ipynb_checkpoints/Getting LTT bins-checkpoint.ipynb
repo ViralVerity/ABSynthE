{
 "cells": [
  {
   "cell_type": "code",
   "execution_count": 1,
   "metadata": {
    "collapsed": true
   },
   "outputs": [],
   "source": [
    "import json"
   ]
  },
  {
   "cell_type": "code",
   "execution_count": 2,
   "metadata": {
    "collapsed": true
   },
   "outputs": [],
   "source": [
    "with open(\"../Observed_data/LTT_observed.txt\") as json_file:\n",
    "    LTT = json.load(json_file)"
   ]
  },
  {
   "cell_type": "code",
   "execution_count": 4,
   "metadata": {},
   "outputs": [
    {
     "name": "stdout",
     "output_type": "stream",
     "text": [
      "364\n"
     ]
    }
   ],
   "source": [
    "print(len(LTT))"
   ]
  },
  {
   "cell_type": "code",
   "execution_count": 5,
   "metadata": {
    "collapsed": true
   },
   "outputs": [],
   "source": [
    "#Input the ltt_dic\n",
    "\n",
    "def bin_LTT(sim_ltt, obs_bins):\n",
    "    \n",
    "    intervals = []\n",
    "    lineages = []\n",
    "    bin_dict = defaultdict(list)\n",
    "    sim_bins = {}\n",
    "\n",
    "\n",
    "\n",
    "    for key, value in ltt_dict.items():\n",
    "        start_interval = key[0]\n",
    "        end_interval = key[1]\n",
    "        lineage_number = value\n",
    "        \n",
    "\n",
    "        intervals.append((start_interval, end_interval))\n",
    "        lineages.append(lineage_number)    \n",
    "\n",
    "        \n",
    "    \n",
    "\n",
    "    for position, interval in enumerate(intervals):\n",
    "\n",
    "        for bin_position,binn in enumerate(bins):\n",
    "\n",
    "            if interval[0] == 0 and binn[0] == 0.0:\n",
    "                bin_dict[bin_position].append(position)\n",
    "\n",
    "            if (interval[0] > binn[0] and interval[0] <= binn[1]) or (interval[1] > binn[0] and interval[1] <= binn[1]) or (interval[0] < binn[0] and interval[1] > binn[1]):\n",
    "\n",
    "                bin_dict[bin_position].append(position)\n",
    "\n",
    "        \n",
    "\n",
    "    for binn_pos, interval_pos_list in bin_dict.items():\n",
    "\n",
    "        if len(interval_pos_list) == 1:\n",
    "\n",
    "            skyline_bins[bins[binn_pos]] = sizes[interval_pos_list[0]]\n",
    "\n",
    "\n",
    "        if len(interval_pos_list) == 2:\n",
    "\n",
    "            Ne_a = sizes[interval_pos_list[0]]\n",
    "            Ne_b  = sizes[interval_pos_list[1]]\n",
    "\n",
    "            interval_a = intervals[interval_pos_list[0]][1]\n",
    "\n",
    "            bin_a = bins[binn_pos][0]\n",
    "            bin_b = bins[binn_pos][1]\n",
    "\n",
    "\n",
    "            weight_a = (interval_a - bin_a)/7\n",
    "            weight_b = 1 - weight_a\n",
    "\n",
    "            Ne = ((Ne_a*weight_a) + (Ne_b*weight_b))\n",
    "\n",
    "            skyline_bins[bins[binn_pos]] = Ne\n",
    "\n",
    "\n",
    "        elif len(interval_pos_list) > 2:\n",
    "\n",
    "            last_position = len(interval_pos_list) - 1\n",
    "\n",
    "            Ne_a = sizes[interval_pos_list[0]]\n",
    "            Ne_b = sizes[interval_pos_list[last_position]]\n",
    "\n",
    "            other_Nes = [sizes[interval_pos_list[i]] for i in range(1, len(interval_pos_list)-1)]\n",
    "\n",
    "            interval_a = intervals[interval_pos_list[0]][1]\n",
    "            interval_b = intervals[interval_pos_list[last_position]][0]        \n",
    "\n",
    "            bin_a = bins[binn_pos][0]\n",
    "            bin_b = bins[binn_pos][1]\n",
    "\n",
    "            weight_a = (interval_a - bin_a)/7\n",
    "            weight_b = (bin_b - interval_b)/7\n",
    "\n",
    "            other_weights = (1 - weight_a - weight_b)/(len(interval_pos_list)-2)\n",
    "\n",
    "            final_other_Nes = 0\n",
    "\n",
    "            for i in other_Nes:\n",
    "                final_other_Nes += (other_weights*i)\n",
    "\n",
    "            Ne = ((Ne_a*weight_a) + (Ne_b*weight_b) + final_other_Nes)\n",
    "\n",
    "            skyline_bins[bins[binn_pos]] = Ne \n",
    "            \n",
    "            \n",
    "            \n",
    "    return skyline_bins"
   ]
  },
  {
   "cell_type": "code",
   "execution_count": null,
   "metadata": {
    "collapsed": true
   },
   "outputs": [],
   "source": []
  }
 ],
 "metadata": {
  "kernelspec": {
   "display_name": "Python 3",
   "language": "python",
   "name": "python3"
  },
  "language_info": {
   "codemirror_mode": {
    "name": "ipython",
    "version": 3
   },
   "file_extension": ".py",
   "mimetype": "text/x-python",
   "name": "python",
   "nbconvert_exporter": "python",
   "pygments_lexer": "ipython3",
   "version": "3.6.8"
  }
 },
 "nbformat": 4,
 "nbformat_minor": 2
}
