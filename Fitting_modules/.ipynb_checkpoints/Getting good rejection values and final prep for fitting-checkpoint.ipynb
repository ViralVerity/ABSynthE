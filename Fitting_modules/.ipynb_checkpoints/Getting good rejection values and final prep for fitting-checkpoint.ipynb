{
 "cells": [
  {
   "cell_type": "markdown",
   "metadata": {},
   "source": [
    "### Check:\n",
    "\n",
    " - Vectors are in the same order \n",
    " - LTT goes backwards in the simulated dataset as well as the observed - DONE"
   ]
  },
  {
   "cell_type": "code",
   "execution_count": 1,
   "metadata": {},
   "outputs": [],
   "source": [
    "import branch_length_parameters as bl\n",
    "import topology_set as top\n",
    "import LTT_metrics as LTT\n",
    "\n",
    "import Tree_simulator_fitting as cts\n",
    "\n",
    "import vector_comparisons as vc\n",
    "\n",
    "from collections import defaultdict"
   ]
  },
  {
   "cell_type": "markdown",
   "metadata": {},
   "source": [
    "## Pulling out current observed tree stats"
   ]
  },
  {
   "cell_type": "code",
   "execution_count": 2,
   "metadata": {},
   "outputs": [],
   "source": [
    "obs_vectors = vc.get_observed_SS()"
   ]
  },
  {
   "cell_type": "code",
   "execution_count": 3,
   "metadata": {
    "scrolled": true
   },
   "outputs": [
    {
     "data": {
      "text/plain": [
       "(array([1.78074731e-01, 3.35927356e-02, 1.04735106e-02, 7.03866783e-03,\n",
       "        2.75558296e-04, 1.30491824e-02, 9.77430086e-03, 3.26163803e-04,\n",
       "        7.88364768e-03, 5.15741324e-03, 1.93891252e-04, 2.56938282e-01,\n",
       "        2.24404281e-01, 2.52817634e-01]),\n",
       " array([8.93605671e-01, 1.06160859e-01, 1.24278504e-05, 1.45892157e-04,\n",
       "        6.48409586e-05, 1.77646462e-07, 4.45336254e-08, 1.00863713e-05]),\n",
       " array([8.76238765e-02, 5.17506220e-05, 2.57896659e-01, 6.54184094e-01,\n",
       "        2.43620554e-04]),\n",
       " array([0.0421876 , 0.08800606, 0.10663062, 0.10866758, 0.11256286,\n",
       "        0.07932954, 0.06007037, 0.04977654, 0.04100203, 0.04136835,\n",
       "        0.05775024, 0.06284298, 0.04052531, 0.0395458 , 0.03507944,\n",
       "        0.0154745 , 0.00991884, 0.00608592, 0.00158771, 0.00158771]),\n",
       " [(0, 0.02093569540357783),\n",
       "  (0.02093569540357783, 0.04187139080715566),\n",
       "  (0.04187139080715566, 0.0628070862107335),\n",
       "  (0.0628070862107335, 0.08374278161431133),\n",
       "  (0.08374278161431133, 0.10467847701788915),\n",
       "  (0.10467847701788915, 0.125614172421467),\n",
       "  (0.125614172421467, 0.14654986782504484),\n",
       "  (0.14654986782504484, 0.16748556322862268),\n",
       "  (0.16748556322862268, 0.18842125863220052),\n",
       "  (0.18842125863220052, 0.20935695403577836),\n",
       "  (0.20935695403577836, 0.2302926494393562),\n",
       "  (0.2302926494393562, 0.25122834484293405),\n",
       "  (0.25122834484293405, 0.27216404024651186),\n",
       "  (0.27216404024651186, 0.2930997356500897),\n",
       "  (0.2930997356500897, 0.3140354310536675),\n",
       "  (0.3140354310536675, 0.3349711264572453),\n",
       "  (0.3349711264572453, 0.3559068218608231),\n",
       "  (0.3559068218608231, 0.37684251726440093),\n",
       "  (0.37684251726440093, 0.39777821266797875),\n",
       "  (0.39777821266797875, 0.41871390807155656)],\n",
       " 371)"
      ]
     },
     "execution_count": 3,
     "metadata": {},
     "output_type": "execute_result"
    }
   ],
   "source": [
    "obs_vectors"
   ]
  },
  {
   "cell_type": "markdown",
   "metadata": {},
   "source": [
    "## A sim tree that looks ok"
   ]
  },
  {
   "cell_type": "code",
   "execution_count": 4,
   "metadata": {},
   "outputs": [],
   "source": [
    "\n",
    "dropbox_path = \"/Users/s1743989/VirusEvolution Dropbox/Verity Hill/Agent_based_model/Looping models/\"\n",
    "results = \"Results/Fitting/3/log_files/\"\n",
    "\n",
    "\n",
    "transm_dict = defaultdict(list)\n",
    "nodes = []\n",
    "times = []\n",
    "child_dict = defaultdict(list)\n",
    "those_sampled = []\n",
    "\n",
    "\n",
    "with open(dropbox_path + results + \"information_file_for_255.csv\") as f:\n",
    "    next(f)\n",
    "    for l in f:\n",
    "        toks = l.strip(\"\\n\").split(\",\")\n",
    "        \n",
    "        focal = toks[0]\n",
    "    \n",
    "        transm_dict[focal] = [toks[1], int(toks[5]), int(toks[6])]\n",
    "        \n",
    "        child_dict[toks[1]].append(focal)\n",
    "        \n",
    "        nodes.append(toks[0])\n",
    "        \n",
    "        times.append(int(toks[6]))\n",
    "        \n",
    "        nodes.append(focal)\n",
    "            \n",
    "        if focal not in child_dict.keys():\n",
    "               child_dict[focal] = []\n",
    "                \n",
    "        those_sampled.append(focal)\n",
    "        \n",
    "        \n",
    "epidemic_len = max(times)\n",
    "\n",
    "\n",
    "#newick_tree, Ne_dict, big_tree, R0, those_sampled, coal_intervals, lineages_through_time = cts.simulate_tree(transm_dict, child_dict, nodes, 1, epidemic_len)\n",
    "\n",
    "tree = cts.simulate_tree(transm_dict, child_dict, nodes, 1, epidemic_len, True)\n",
    "\n"
   ]
  },
  {
   "cell_type": "code",
   "execution_count": 5,
   "metadata": {},
   "outputs": [
    {
     "name": "stdout",
     "output_type": "stream",
     "text": [
      "[3.45785860e-01 4.99133662e-04 2.33805105e-02 1.69599050e-02\n",
      " 7.59778784e-04 9.71791584e-03 0.00000000e+00 2.77525876e-04\n",
      " 3.70315852e-02 3.34998784e-02 8.20282858e-04 2.32070037e-01\n",
      " 0.00000000e+00 2.99197587e-01]\n"
     ]
    },
    {
     "data": {
      "text/plain": [
       "0.2904723789105092"
      ]
     },
     "execution_count": 5,
     "metadata": {},
     "output_type": "execute_result"
    }
   ],
   "source": [
    "vc.compare_BL(obs_vectors, tree)"
   ]
  },
  {
   "cell_type": "code",
   "execution_count": 6,
   "metadata": {},
   "outputs": [
    {
     "data": {
      "text/plain": [
       "array([1.78074731e-01, 3.35927356e-02, 1.04735106e-02, 7.03866783e-03,\n",
       "       2.75558296e-04, 1.30491824e-02, 9.77430086e-03, 3.26163803e-04,\n",
       "       7.88364768e-03, 5.15741324e-03, 1.93891252e-04, 2.56938282e-01,\n",
       "       2.24404281e-01, 2.52817634e-01])"
      ]
     },
     "execution_count": 6,
     "metadata": {},
     "output_type": "execute_result"
    }
   ],
   "source": [
    "obs_vectors[0]"
   ]
  },
  {
   "cell_type": "code",
   "execution_count": 7,
   "metadata": {},
   "outputs": [
    {
     "name": "stdout",
     "output_type": "stream",
     "text": [
      "1.0\n"
     ]
    }
   ],
   "source": [
    "count = 0\n",
    "for i in obs_vectors[0]:\n",
    "    count += i\n",
    "    \n",
    "print(count)"
   ]
  },
  {
   "cell_type": "code",
   "execution_count": 8,
   "metadata": {},
   "outputs": [
    {
     "data": {
      "text/plain": [
       "0.0893294721211428"
      ]
     },
     "execution_count": 8,
     "metadata": {},
     "output_type": "execute_result"
    }
   ],
   "source": [
    "vc.compare_topology(obs_vectors, tree)"
   ]
  },
  {
   "cell_type": "code",
   "execution_count": 5,
   "metadata": {},
   "outputs": [
    {
     "name": "stdout",
     "output_type": "stream",
     "text": [
      "[264, 264, 264, 264, 300.65397172297264, 351.68603282999436, 370.64131833705585, 344.1750029427487, 302.01871298863443, 255.73627408108317, 193.44346690153927, 162.8612023066535, 128.8328118227272, 122.66492176886851, 111.75032626876742, 102.5590760345956, 65.72227906669421, 33.13157470671602, 25.505320886840398, 16.129038759896254]\n"
     ]
    },
    {
     "data": {
      "text/plain": [
       "0.10522768617380684"
      ]
     },
     "execution_count": 5,
     "metadata": {},
     "output_type": "execute_result"
    }
   ],
   "source": [
    "vc.compare_LTT_points(obs_vectors, tree)"
   ]
  },
  {
   "cell_type": "code",
   "execution_count": 5,
   "metadata": {},
   "outputs": [
    {
     "data": {
      "text/plain": [
       "0.4107998392023051"
      ]
     },
     "execution_count": 5,
     "metadata": {},
     "output_type": "execute_result"
    }
   ],
   "source": [
    "vc.compare_LTT_stats(obs_vectors, tree)"
   ]
  }
 ],
 "metadata": {
  "kernelspec": {
   "display_name": "Python 3",
   "language": "python",
   "name": "python3"
  },
  "language_info": {
   "codemirror_mode": {
    "name": "ipython",
    "version": 3
   },
   "file_extension": ".py",
   "mimetype": "text/x-python",
   "name": "python",
   "nbconvert_exporter": "python",
   "pygments_lexer": "ipython3",
   "version": "3.6.8"
  }
 },
 "nbformat": 4,
 "nbformat_minor": 2
}
