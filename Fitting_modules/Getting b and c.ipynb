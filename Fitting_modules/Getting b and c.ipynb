{
 "cells": [
  {
   "cell_type": "markdown",
   "metadata": {},
   "source": [
    "## In the phylogeography, we have:\n",
    "\n",
    "## - 93 between district jumps in 2305 cases so 0.04 per case\n",
    "## - 30 within district jumps in 2305 cases so 0.01 per case"
   ]
  },
  {
   "cell_type": "code",
   "execution_count": 1,
   "metadata": {
    "collapsed": true
   },
   "outputs": [],
   "source": [
    "import os\n",
    "import numpy as np"
   ]
  },
  {
   "cell_type": "code",
   "execution_count": 3,
   "metadata": {
    "collapsed": true
   },
   "outputs": [],
   "source": [
    "dropbox_path = \"/Users/s1743989/VirusEvolution Dropbox/Verity Hill/Agent_based_model/Looping models/Results/\"\n",
    "\n",
    "# results = \"Playing_with_parameters/Option_C/\"\n",
    "results = \"Fitting/\"\n",
    "\n",
    "district_list = [\"bo\", 'bombali', 'bonthe', 'kailahun', 'kambia', 'kenema', 'koinadugu', 'kono', 'moyamba', 'portloko', 'pujehun', 'tonkolili', 'westernarearural', 'westernareaurban']\n",
    "ch_list = ['badjia', 'bagbo', 'bagbwe', 'baoma', 'bumpengawo', 'gbo', 'jaiama-bongor', 'nongobabullom', 'sittia', 'sogbini', 'yawbeko', 'biriwa', 'gbanti-kamaranka', 'gbendembungowahun', 'libeisaygahun', 'magbaimbandorhahun', 'makarigbanti', 'makenicity', 'pakimasabong', 'safrokolimba', 'sandaloko', 'sandatendaren', 'sellalimba', 'tambakka', 'benducha', 'bum', 'dema', 'imperi', 'jong', 'kongbora', 'kori', 'kowa', 'kpangakemo', 'kwamebaikrim', 'lowerbanta', 'ribbi', 'timdale', 'upperbanta', 'dea', 'jawie', 'kissikama', 'kissiteng', 'kissitongi', 'kpejebongre', 'kpejewest', 'luawa', 'malema', 'mandu', 'njaluahun', 'penguia', 'upperbambara', 'yawei', 'bramaia', 'gbinle-dixing', 'magbema', 'mambolo', 'masungbala', 'samu', 'sulima', 'tonkolimba', 'warawarabafodia', 'warawarayagala', 'dama', 'dodo', 'gaura', 'goramamende', 'kandulekpeama', 'kenemacity', 'koya_k', 'langrama', 'malegohun', 'niawa', 'nomo', 'nongowa', 'simbaru', 'smallbo', 'tunkia', 'wandor', 'dembeliasinkunia', 'diang', 'follosabadembelia', 'kasunko', 'malalmara', 'mongo', 'neya', 'nieni', 'sambaya', 'tane', 'yoni', 'fiama', 'gbane', 'gbanekandor', 'gbense', 'goramakono', 'kamara', 'koidu/new', 'lei', 'mafindor', 'nimikoro', 'nimiyama', 'sandor', 'soa', 'tankoro', 'toli', 'bagruwa', 'bumpeh', 'dasse', 'fakunya', 'kagboro', 'kaiyamba', 'kamajei', 'pangakrim', 'pejeh', 'sorogbema', 'sowa', 'bkm', 'buyaromende', 'dibia', 'kaffubullom', 'koya_pl', 'lokomasama', 'maforki', 'marampa', 'masimera', 'sandamagbolontor', 'tms', 'barri', 'gallinasperi', 'kpaka', 'kpanga-kabonde', 'makpele', 'malen', 'manosakrim', 'bocity', 'gbonkolenken', 'kafesimira', 'kakua', 'kalansogoia', 'kholifamabang', 'kolifarowalla', 'komboya', 'kunikebarina', 'kunikesanda', 'lugbu', 'niawalenga', 'selenga', 'tikonko', 'valunia', 'wunde', 'westernarearural', 'westernareaurban']"
   ]
  },
  {
   "cell_type": "code",
   "execution_count": 7,
   "metadata": {
    "collapsed": true
   },
   "outputs": [],
   "source": [
    "def jump_count(directory, district):\n",
    "    jump_lst = []\n",
    "    for file in os.listdir(directory):\n",
    "        total_jumps = 0\n",
    "        if file != \"DS.store\":\n",
    "            \n",
    "            with open(directory + file) as f:\n",
    "                number_prep = file.split(\"_\")[2]\n",
    "                number = number_prep.split(\".\")[0]\n",
    "                if district:\n",
    "                    next(f)\n",
    "                for l in f:\n",
    "                    toks = l.strip(\"\\n\").split(\",\")\n",
    "                    jumps = toks[2:]\n",
    "                    #print(jumps)\n",
    "                    total_jumps += len(jumps)\n",
    "                    \n",
    "        #print(total_jumps)\n",
    "                    \n",
    "                    \n",
    "        with open(directory + \"../epidemic_size.csv\") as f:\n",
    "            next(f)\n",
    "            for l in f:\n",
    "                toks2 = l.strip(\"\\n\").split(\",\")\n",
    "                if toks2[0] == number:\n",
    "                    cases = int(toks2[1])\n",
    "                    \n",
    "        \n",
    "        if cases > 1000:\n",
    "            jumps_per_case = total_jumps/cases\n",
    "\n",
    "            try:\n",
    "\n",
    "                jump_lst.append(jumps_per_case)\n",
    "            except:\n",
    "                pass\n",
    "    \n",
    "        \n",
    "        \n",
    "    return jump_lst\n",
    "            \n",
    "            \n",
    "            "
   ]
  },
  {
   "cell_type": "code",
   "execution_count": 6,
   "metadata": {},
   "outputs": [
    {
     "name": "stdout",
     "output_type": "stream",
     "text": [
      "41167\n"
     ]
    }
   ],
   "source": [
    "parameter_sets = []\n",
    "\n",
    "with open(\"prelim_fit/epidemic_sizes.csv\") as f:\n",
    "    next(f)\n",
    "    for l in f:\n",
    "        toks = l.strip(\"\\n\").split(\",\")\n",
    "        \n",
    "        a = toks[0]\n",
    "        b = toks[1]\n",
    "        c = toks[2]\n",
    "        \n",
    "        parameter_sets.append((a,b,c))\n",
    "        \n",
    "print(len(parameter_sets))"
   ]
  },
  {
   "cell_type": "code",
   "execution_count": null,
   "metadata": {
    "collapsed": true
   },
   "outputs": [],
   "source": []
  },
  {
   "cell_type": "markdown",
   "metadata": {},
   "source": [
    "## a=1 b = 0.07, c = 0.07"
   ]
  },
  {
   "cell_type": "code",
   "execution_count": 52,
   "metadata": {},
   "outputs": [
    {
     "name": "stdout",
     "output_type": "stream",
     "text": [
      "0.0378371268088\n",
      "0.0792238731938\n"
     ]
    }
   ],
   "source": [
    "district = jump_count(dropbox_path + results + \"3/dist_mvmt/\", True)\n",
    "chiefdom = jump_count(dropbox_path + results + \"3/ch_mvmt/\", False)\n",
    "\n",
    "dist_av = np.mean(district)\n",
    "chiefdom_av = np.mean(chiefdom)\n",
    "\n",
    "print(dist_av)\n",
    "print(chiefdom_av)"
   ]
  },
  {
   "cell_type": "markdown",
   "metadata": {},
   "source": [
    "## a = 1 b=0.05 c=0.06"
   ]
  },
  {
   "cell_type": "code",
   "execution_count": 53,
   "metadata": {},
   "outputs": [
    {
     "name": "stdout",
     "output_type": "stream",
     "text": [
      "0.0359760727143\n",
      "0.0607600896519\n"
     ]
    }
   ],
   "source": [
    "district = jump_count(dropbox_path + results + \"4/dist_mvmt/\", True)\n",
    "chiefdom = jump_count(dropbox_path + results + \"4/ch_mvmt/\", False)\n",
    "\n",
    "dist_av = np.mean(district)\n",
    "chiefdom_av = np.mean(chiefdom)\n",
    "\n",
    "print(dist_av)\n",
    "print(chiefdom_av)"
   ]
  },
  {
   "cell_type": "code",
   "execution_count": null,
   "metadata": {
    "collapsed": true
   },
   "outputs": [],
   "source": []
  }
 ],
 "metadata": {
  "kernelspec": {
   "display_name": "Python 3",
   "language": "python",
   "name": "python3"
  },
  "language_info": {
   "codemirror_mode": {
    "name": "ipython",
    "version": 3
   },
   "file_extension": ".py",
   "mimetype": "text/x-python",
   "name": "python",
   "nbconvert_exporter": "python",
   "pygments_lexer": "ipython3",
   "version": "3.6.8"
  }
 },
 "nbformat": 4,
 "nbformat_minor": 2
}
