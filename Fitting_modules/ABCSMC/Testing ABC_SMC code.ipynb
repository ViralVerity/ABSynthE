{
 "cells": [
  {
   "cell_type": "code",
   "execution_count": 1,
   "metadata": {},
   "outputs": [
    {
     "name": "stdout",
     "output_type": "stream",
     "text": [
      "Defining contact structures\n"
     ]
    }
   ],
   "source": [
    "from collections import defaultdict\n",
    "import random\n",
    "from multiprocessing.pool import ThreadPool\n",
    "import time\n",
    "import os\n",
    "\n",
    "\n",
    "import Tree_simulator_fitting as cts\n",
    "from Simulate_epidemic_fitting import *\n",
    "from vector_comparisons import *\n",
    "from movement_fitting import *\n",
    "\n",
    "\n",
    "import tempfile\n",
    "import pyabc"
   ]
  },
  {
   "cell_type": "code",
   "execution_count": 18,
   "metadata": {
    "collapsed": true
   },
   "outputs": [],
   "source": [
    "import numpy as np\n",
    "\n",
    "def normalise(vector):\n",
    "    norm=np.linalg.norm(vector, ord=1)\n",
    "    return vector/norm\n",
    "\n",
    "import branch_length_parameters as bl\n",
    "\n"
   ]
  },
  {
   "cell_type": "code",
   "execution_count": 8,
   "metadata": {},
   "outputs": [
    {
     "name": "stdout",
     "output_type": "stream",
     "text": [
      "[5, 5, 5.0, 5, 3.006633214874995, 0, 0, 0, 0, 0, 0, 0, 0, 0, 0, 0, 0, 0, 0, 0]\n"
     ]
    }
   ],
   "source": [
    "a = 0.05\n",
    "b = 0.05\n",
    "c = 0.01\n",
    "\n",
    "output = simulate_epidemic(a, b, c)\n",
    "LTT = output[0]"
   ]
  },
  {
   "cell_type": "code",
   "execution_count": 9,
   "metadata": {},
   "outputs": [
    {
     "name": "stdout",
     "output_type": "stream",
     "text": [
      "20\n"
     ]
    }
   ],
   "source": [
    "print(len(LTT))"
   ]
  },
  {
   "cell_type": "code",
   "execution_count": 14,
   "metadata": {},
   "outputs": [
    {
     "data": {
      "text/plain": [
       "20"
      ]
     },
     "execution_count": 14,
     "metadata": {},
     "output_type": "execute_result"
    }
   ],
   "source": [
    "obs_LTT = get_observed_SS()[3]\n",
    "len(obs_LTT)"
   ]
  },
  {
   "cell_type": "code",
   "execution_count": 15,
   "metadata": {
    "collapsed": true
   },
   "outputs": [],
   "source": [
    "import sys\n",
    "import Tree_simulator_fitting as cts\n",
    " \n",
    "\n",
    "from collections import defaultdict\n",
    "\n",
    "import branch_length_parameters as BL\n",
    "import topology_set as Top\n",
    "\n",
    "##(trans_dict, nodes, sampling_proportion, epidemic_len)\n",
    "\n",
    "\n",
    "dropbox_path = \"/Users/s1743989/VirusEvolution Dropbox/Verity Hill/Agent_based_model/Looping models/\"\n",
    "results = \"Results/no_caps/2/log_files/\"\n",
    "\n",
    "\n",
    "\n",
    "\n",
    "transm_dict = defaultdict(list)\n",
    "nodes = []\n",
    "times = []\n",
    "child_dict = defaultdict(list)\n",
    "those_sampled = []\n",
    "\n",
    "\n",
    "with open(dropbox_path + results + \"information_file_for_2.csv\") as f:\n",
    "    next(f)\n",
    "    for l in f:\n",
    "        toks = l.strip(\"\\n\").split(\",\")\n",
    "        \n",
    "        focal = toks[0]\n",
    "    \n",
    "        transm_dict[focal] = [toks[1], int(toks[4]), int(toks[5])]\n",
    "        \n",
    "        child_dict[toks[1]].append(focal)\n",
    "        \n",
    "        nodes.append(toks[0])\n",
    "        \n",
    "        times.append(int(toks[5]))\n",
    "        \n",
    "        nodes.append(focal)\n",
    "            \n",
    "        if focal not in child_dict.keys():\n",
    "               child_dict[focal] = []\n",
    "                \n",
    "        those_sampled.append(focal)\n",
    "        \n",
    "        \n",
    "epidemic_len = max(times)\n",
    "\n",
    "\n",
    "#newick_tree, Ne_dict, big_tree, R0, those_sampled, coal_intervals, lineages_through_time = cts.simulate_tree(transm_dict, child_dict, nodes, 1, epidemic_len)\n",
    "\n",
    "tree = cts.simulate_tree(transm_dict, child_dict, nodes, 1, epidemic_len, True)"
   ]
  },
  {
   "cell_type": "code",
   "execution_count": 30,
   "metadata": {},
   "outputs": [
    {
     "name": "stdout",
     "output_type": "stream",
     "text": [
      "[1, 2, 3]\n",
      "[0.16666667 0.33333333 0.5       ]\n",
      "3\n"
     ]
    }
   ],
   "source": [
    "#sim_a_vector = bl.calculate_branch_statistics(tree)\n",
    "sim_a_vector = (1,2,3, None)\n",
    "\n",
    "processing = list(sim_a_vector)\n",
    "processing.remove(None)\n",
    "print(processing)\n",
    "mid_a_x = normalise(processing)\n",
    "print(mid_a_x)\n",
    "new_a_x = np.array(mid_a_x)\n",
    "print(len(new_a_x))"
   ]
  },
  {
   "cell_type": "code",
   "execution_count": 37,
   "metadata": {},
   "outputs": [
    {
     "name": "stdout",
     "output_type": "stream",
     "text": [
      "[0.04682632 0.09794978 0.10515936 0.11696818 0.11646749 0.07191204\n",
      " 0.0550219  0.04590037 0.03945282 0.04368183 0.05707097 0.05308446\n",
      " 0.03243955 0.03808636 0.03168514 0.02121876 0.01492135 0.00901105\n",
      " 0.00157196 0.00157029]\n",
      "[0.04682632162300475, 0.09794978406295148, 0.11696818083211298, 0.11646748938324836, 0.07191204247249891, 0.05502190317880006, 0.045900373895101536, 0.03945281766398639, 0.043681829434920535, 0.057070968037845476, 0.05308446353220811, 0.03243954759458386, 0.0380863640047905, 0.03168514168255112, 0.02121876081391143, 0.014921352801597785, 0.009011052497728923, 0.0015719604219533389, 0.0015702873708305309]\n"
     ]
    }
   ],
   "source": [
    "thing = get_observed_SS()[3]\n",
    "print(thing)\n",
    "\n",
    "lst = list(thing)\n",
    "\n",
    "lst.pop(2)\n",
    "\n",
    "print(lst)\n"
   ]
  },
  {
   "cell_type": "code",
   "execution_count": 2,
   "metadata": {},
   "outputs": [
    {
     "name": "stdout",
     "output_type": "stream",
     "text": [
      "20\n"
     ]
    }
   ],
   "source": [
    "import LTT_metrics\n",
    "\n",
    "LTT_bins = [(0, 0.021361168777556623), (0.021361168777556623, 0.042722337555113246), (0.042722337555113246, 0.06408350633266988), (0.06408350633266988, 0.08544467511022649), (0.08544467511022649, 0.10680584388778311), (0.10680584388778311, 0.12816701266533972), (0.12816701266533972, 0.14952818144289634), (0.14952818144289634, 0.17088935022045296), (0.17088935022045296, 0.19225051899800957), (0.19225051899800957, 0.2136116877755662), (0.2136116877755662, 0.2349728565531228), (0.2349728565531228, 0.25633402533067945), (0.25633402533067945, 0.27769519410823607), (0.27769519410823607, 0.2990563628857927), (0.2990563628857927, 0.3204175316633493), (0.3204175316633493, 0.3417787004409059), (0.3417787004409059, 0.36313986921846253), (0.36313986921846253, 0.38450103799601915), (0.38450103799601915, 0.40586220677357576), (0.40586220677357576, 0.4272233755511324)]\n",
    "\n",
    "print(len(LTT_bins))"
   ]
  },
  {
   "cell_type": "code",
   "execution_count": 3,
   "metadata": {},
   "outputs": [
    {
     "name": "stdout",
     "output_type": "stream",
     "text": [
      "{(0, 0.021361168777556623): 9, (0.021361168777556623, 0.042722337555113246): 24.66001629857823, (0.042722337555113246, 0.06408350633266988): 25, (0.06408350633266988, 0.08544467511022649): 25, (0.08544467511022649, 0.10680584388778311): 19.9773620071626, (0.10680584388778311, 0.12816701266533972): 0, (0.12816701266533972, 0.14952818144289634): 0, (0.14952818144289634, 0.17088935022045296): 0, (0.17088935022045296, 0.19225051899800957): 0, (0.19225051899800957, 0.2136116877755662): 0, (0.2136116877755662, 0.2349728565531228): 0, (0.2349728565531228, 0.25633402533067945): 0, (0.25633402533067945, 0.27769519410823607): 0, (0.27769519410823607, 0.2990563628857927): 0, (0.2990563628857927, 0.3204175316633493): 0, (0.3204175316633493, 0.3417787004409059): 0, (0.3417787004409059, 0.36313986921846253): 0, (0.36313986921846253, 0.38450103799601915): 0, (0.38450103799601915, 0.40586220677357576): 0, (0.40586220677357576, 0.4272233755511324): 0}\n"
     ]
    },
    {
     "data": {
      "text/plain": [
       "[9,\n",
       " 24.66001629857823,\n",
       " 25,\n",
       " 25,\n",
       " 19.9773620071626,\n",
       " 0,\n",
       " 0,\n",
       " 0,\n",
       " 0,\n",
       " 0,\n",
       " 0,\n",
       " 0,\n",
       " 0,\n",
       " 0,\n",
       " 0,\n",
       " 0,\n",
       " 0,\n",
       " 0,\n",
       " 0,\n",
       " 0]"
      ]
     },
     "execution_count": 3,
     "metadata": {},
     "output_type": "execute_result"
    }
   ],
   "source": [
    "LTT_metrics.bin_sim(tree.lineages_through_time, LTT_bins)"
   ]
  },
  {
   "cell_type": "code",
   "execution_count": 38,
   "metadata": {},
   "outputs": [
    {
     "name": "stdout",
     "output_type": "stream",
     "text": [
      "a\n"
     ]
    }
   ],
   "source": [
    "import numpy as np\n",
    "def normalise(vector):\n",
    "    norm=np.linalg.norm(vector, ord=1)\n",
    "    return vector/norm\n",
    "\n",
    "a = [1,2,3, 35, None, 40, 122, None]\n",
    "\n",
    "if None not in a:\n",
    "    print(\"n\")\n",
    "else:\n",
    "    print(\"a\")"
   ]
  },
  {
   "cell_type": "code",
   "execution_count": 33,
   "metadata": {},
   "outputs": [
    {
     "name": "stdout",
     "output_type": "stream",
     "text": [
      "[4, 7]\n"
     ]
    }
   ],
   "source": []
  },
  {
   "cell_type": "code",
   "execution_count": 29,
   "metadata": {},
   "outputs": [
    {
     "data": {
      "text/plain": [
       "[1, 2, 3, 35, 40, 122]"
      ]
     },
     "execution_count": 29,
     "metadata": {},
     "output_type": "execute_result"
    }
   ],
   "source": [
    "a.remove(None)\n",
    "a"
   ]
  },
  {
   "cell_type": "code",
   "execution_count": 46,
   "metadata": {},
   "outputs": [
    {
     "name": "stdout",
     "output_type": "stream",
     "text": [
      "[4, 7, 14, 15]\n",
      "[1, 2, 3, 35, 40, 122, None, 2, 3, 4, 5, 6, 8, None, None, 1, 3]\n",
      "[1, 2, 3, 35, 40, 122, 2, 3, 4, 5, 6, 8, None, None, 1, 3]\n",
      "[1, 2, 3, 35, 40, 122, 2, 3, 4, 5, 6, 8, None, 1, 3]\n",
      "[1, 2, 3, 35, 40, 122, 2, 3, 4, 5, 6, 8, 1, 3]\n"
     ]
    },
    {
     "data": {
      "text/plain": [
       "[1, 2, 3, 35, 40, 122, 2, 3, 4, 5, 6, 8, 1, 3]"
      ]
     },
     "execution_count": 46,
     "metadata": {},
     "output_type": "execute_result"
    }
   ],
   "source": [
    "\n",
    "a = [1,2,3, 35, None, 40, 122, None, 2,3,4,5,6,8, None,None,1,3]\n",
    "indices = [i for i,x in enumerate(a) if x == None]\n",
    "print(indices)\n",
    "count = 0\n",
    "\n",
    "for i in indices:\n",
    "    \n",
    "    #print(i-count)\n",
    "    a.pop(i-count)\n",
    "    count += 1\n",
    "    \n",
    "    print(a)\n",
    "a"
   ]
  },
  {
   "cell_type": "code",
   "execution_count": 6,
   "metadata": {
    "collapsed": true
   },
   "outputs": [],
   "source": [
    "results_path = \"Looping models/Results/Fitting/LTT/\"\n",
    "\n",
    "run_number = 2\n",
    "\n",
    "try:\n",
    "    os.mkdir(os.path.join(dropbox_path, results_path, str(run_number)))\n",
    "except FileExistsError:\n",
    "    pass"
   ]
  },
  {
   "cell_type": "code",
   "execution_count": 7,
   "metadata": {
    "collapsed": true
   },
   "outputs": [
    {
     "name": "stdout",
     "output_type": "stream",
     "text": [
      "(array([1.82881143e-01, 3.39365382e-02, 1.05112375e-02, 6.92756254e-03,\n",
      "       2.76445567e-04, 1.29848969e-02, 9.08707574e-03, 3.40119680e-04,\n",
      "       8.02417069e-03, 4.95533309e-03, 1.84276642e-04, 2.64530390e-01,\n",
      "       2.33433201e-01, 2.31927608e-01]), array([8.63844135e-01, 1.35995419e-01, 1.26764264e-05, 1.38535232e-04,\n",
      "       3.73410329e-07, 7.11397137e-06, 4.16021717e-08, 1.70519081e-06]), array([7.64716360e-02, 3.28948609e-05, 2.07757444e-01, 7.15588995e-01,\n",
      "       1.49030353e-04]), array([0.04682632, 0.09794978, 0.10515936, 0.11696818, 0.11646749,\n",
      "       0.07191204, 0.0550219 , 0.04590037, 0.03945282, 0.04368183,\n",
      "       0.05707097, 0.05308446, 0.03243955, 0.03808636, 0.03168514,\n",
      "       0.02121876, 0.01492135, 0.00901105, 0.00157196, 0.00157029]), [(0, 0.021361168777556623), (0.021361168777556623, 0.042722337555113246), (0.042722337555113246, 0.06408350633266988), (0.06408350633266988, 0.08544467511022649), (0.08544467511022649, 0.10680584388778311), (0.10680584388778311, 0.12816701266533972), (0.12816701266533972, 0.14952818144289634), (0.14952818144289634, 0.17088935022045296), (0.17088935022045296, 0.19225051899800957), (0.19225051899800957, 0.2136116877755662), (0.2136116877755662, 0.2349728565531228), (0.2349728565531228, 0.25633402533067945), (0.25633402533067945, 0.27769519410823607), (0.27769519410823607, 0.2990563628857927), (0.2990563628857927, 0.3204175316633493), (0.3204175316633493, 0.3417787004409059), (0.3417787004409059, 0.36313986921846253), (0.36313986921846253, 0.38450103799601915), (0.38450103799601915, 0.40586220677357576), (0.40586220677357576, 0.4272233755511324)], 371, 93, 30)\n"
     ]
    }
   ],
   "source": [
    "observed_SS = get_observed_SS()\n",
    "\n",
    "print(observed_SS)\n",
    "\n",
    "new_LTT = list(observed_SS[2])\n",
    "      \n",
    "observed = {\"a\":new_LTT, \"b\":observed_SS[7], \"c\":observed_SS[6]}\n",
    "\n",
    "#This needs to be a dictionary not an array\n",
    "\n",
    "#observed = new_LTT"
   ]
  },
  {
   "cell_type": "code",
   "execution_count": 8,
   "metadata": {
    "collapsed": true
   },
   "outputs": [],
   "source": [
    "def compare_LTT_stats(obs_LTT, coalescent_tree):\n",
    "    \n",
    "    sim_LTT_pre = LTT.calculate_LTT_metrics(coalescent_tree.lineages_through_time)\n",
    "    sim_LTT = normalise(sim_LTT_pre)\n",
    "    \n",
    "    LTT_stat_difference = np.linalg.norm(obs_LTT - sim_LTT)\n",
    "    \n",
    "    return LTT_stat_difference\n",
    "\n"
   ]
  },
  {
   "cell_type": "code",
   "execution_count": 9,
   "metadata": {
    "collapsed": true
   },
   "outputs": [],
   "source": [
    "def distance(observed, sim):\n",
    "    \n",
    "    coalescent_tree = sim[0]\n",
    "    dist = sim[1]\n",
    "    ch = sim[2]\n",
    "    \n",
    "    observed_LTT = observed[0]\n",
    "    obs_dist = observed[1]\n",
    "    obs_ch = observed[2]\n",
    "    \n",
    "    a_dist = compare_LTT_stats(observed_LTT, coalescent_tree)\n",
    "    b_dist = get_jumps(obs_dist, dist)\n",
    "    c_dist = get_jumps(obs_ch, ch)\n",
    "    \n",
    "    distance = (a+b+c)/3\n",
    "    \n",
    "    #return distance\n",
    "    return {\"a\":a_dist, \"b\":b_dist, \"c\":c_dist}"
   ]
  },
  {
   "cell_type": "code",
   "execution_count": 71,
   "metadata": {
    "collapsed": true
   },
   "outputs": [],
   "source": [
    "def distance2(x,y): #inputs are the dictionaries\n",
    "    \n",
    "    new_a_x = np.array(x['a'])\n",
    "    new_a_y = np.array(y['a'])\n",
    "    \n",
    "    dist_a = np.linalg.norm(new_a_x - new_a_y)\n",
    "    dist_b = np.linalg.norm(x[\"b\"] - y[\"b\"])\n",
    "    dist_c = np.linalg.norm(x[\"c\"] - y[\"c\"])\n",
    "    \n",
    "    final_b = dist_b/y[\"b\"]\n",
    "    final_c = dist_c/y[\"c\"]\n",
    "\n",
    "    dist = dist_a + final_b + final_c\n",
    "    \n",
    "    return dist\n",
    "    "
   ]
  },
  {
   "cell_type": "code",
   "execution_count": 72,
   "metadata": {},
   "outputs": [
    {
     "data": {
      "text/plain": [
       "0.4945454545454545"
      ]
     },
     "execution_count": 72,
     "metadata": {},
     "output_type": "execute_result"
    }
   ],
   "source": [
    "dict1 = {\"a\":0.01,\"b\":21, \"c\":100}\n",
    "dict2 = {\"a\":0.05,\"b\":33, \"c\":110}\n",
    "\n",
    "distance2(dict1, dict2)\n"
   ]
  },
  {
   "cell_type": "code",
   "execution_count": 34,
   "metadata": {
    "collapsed": true
   },
   "outputs": [],
   "source": [
    "distance = pyabc.PNormDistance(p=2)"
   ]
  },
  {
   "cell_type": "code",
   "execution_count": 16,
   "metadata": {
    "collapsed": true
   },
   "outputs": [],
   "source": [
    "def simulate_pyabc(parameter):\n",
    "    result = simulate_epidemic(**parameter)\n",
    "    return {\"a\":result[0], \"b\":result[1], \"c\":result[2]} #so this returns the sample as a dictionary"
   ]
  },
  {
   "cell_type": "code",
   "execution_count": 17,
   "metadata": {
    "collapsed": true
   },
   "outputs": [],
   "source": [
    "parameters = dict(a=(0.5,1), b=(0,0.3), c=(0,0.5))"
   ]
  },
  {
   "cell_type": "code",
   "execution_count": 40,
   "metadata": {
    "collapsed": true
   },
   "outputs": [],
   "source": [
    "#prior = pyabc.Distribution(a=pyabc.RV(\"uniform\", 0.5, 1), b=pyabc.RV(\"uniform\",0, 0.3), c=pyabc.RV(\"uniform\", 0, 0.5))\n",
    "#prior = pyabc.Distribution(a=pyabc.RV(\"uniform\", 0.5, 1))\n",
    "\n",
    "prior = pyabc.Distribution(**{key: pyabc.RV(\"uniform\", a, b - a) for key, (a,b) in parameters.items()})\n",
    "\n",
    "abc = pyabc.ABCSMC(simulate_pyabc, prior, distance2)"
   ]
  },
  {
   "cell_type": "code",
   "execution_count": 41,
   "metadata": {
    "scrolled": false
   },
   "outputs": [
    {
     "name": "stderr",
     "output_type": "stream",
     "text": [
      "INFO:History:Start <ABCSMC(id=31, start_time=2020-02-19 15:32:45.144119, end_time=None)>\n",
      "INFO:ABC:Calibration sample before t=0.\n",
      "Process Process-30:\n",
      "  File \"/Users/s1743989/Documents/GitHub/ABSynth/Fitting_modules/ABCSMC/epidemic_function_fitting.py\", line 26, in run_epidemic\n",
      "    assignment = focal_case.who_am_I(infected_individuals_set, popn_size, option_dict_districtlevel, contact_structure, case_dict, parent, day, cfr, distributions) #Assign the current case id to an individual\n",
      "Process Process-35:\n",
      "Process Process-34:\n",
      "Process Process-31:\n",
      "Process Process-25:\n",
      "Process Process-32:\n",
      "Process Process-29:\n",
      "Process Process-26:\n",
      "Process Process-28:\n",
      "Process Process-36:\n",
      "Process Process-33:\n",
      "Process Process-27:\n",
      "Traceback (most recent call last):\n",
      "Traceback (most recent call last):\n",
      "Traceback (most recent call last):\n",
      "Traceback (most recent call last):\n",
      "Traceback (most recent call last):\n",
      "Traceback (most recent call last):\n",
      "  File \"/Users/s1743989/anaconda3/lib/python3.6/multiprocessing/process.py\", line 258, in _bootstrap\n",
      "    self.run()\n",
      "  File \"/Users/s1743989/anaconda3/lib/python3.6/multiprocessing/process.py\", line 258, in _bootstrap\n",
      "    self.run()\n",
      "  File \"/Users/s1743989/anaconda3/lib/python3.6/multiprocessing/process.py\", line 258, in _bootstrap\n",
      "    self.run()\n",
      "  File \"/Users/s1743989/anaconda3/lib/python3.6/multiprocessing/process.py\", line 258, in _bootstrap\n",
      "    self.run()\n",
      "  File \"/Users/s1743989/anaconda3/lib/python3.6/multiprocessing/process.py\", line 258, in _bootstrap\n",
      "    self.run()\n",
      "  File \"/Users/s1743989/anaconda3/lib/python3.6/multiprocessing/process.py\", line 258, in _bootstrap\n",
      "    self.run()\n",
      "  File \"/Users/s1743989/anaconda3/lib/python3.6/multiprocessing/process.py\", line 93, in run\n",
      "    self._target(*self._args, **self._kwargs)\n",
      "Traceback (most recent call last):\n",
      "  File \"/Users/s1743989/anaconda3/lib/python3.6/multiprocessing/process.py\", line 93, in run\n",
      "    self._target(*self._args, **self._kwargs)\n",
      "  File \"/Users/s1743989/anaconda3/lib/python3.6/multiprocessing/process.py\", line 93, in run\n",
      "    self._target(*self._args, **self._kwargs)\n",
      "  File \"/Users/s1743989/anaconda3/lib/python3.6/multiprocessing/process.py\", line 93, in run\n",
      "    self._target(*self._args, **self._kwargs)\n",
      "Traceback (most recent call last):\n",
      "  File \"/Users/s1743989/anaconda3/lib/python3.6/multiprocessing/process.py\", line 93, in run\n",
      "    self._target(*self._args, **self._kwargs)\n",
      "  File \"/Users/s1743989/anaconda3/lib/python3.6/site-packages/pyabc/sampler/multicore_evaluation_parallel.py\", line 32, in work\n",
      "    new_sim = simulate_one()\n",
      "  File \"/Users/s1743989/anaconda3/lib/python3.6/site-packages/pyabc/sampler/multicore_evaluation_parallel.py\", line 32, in work\n",
      "    new_sim = simulate_one()\n",
      "Traceback (most recent call last):\n",
      "  File \"/Users/s1743989/anaconda3/lib/python3.6/site-packages/pyabc/sampler/multicore_evaluation_parallel.py\", line 32, in work\n",
      "    new_sim = simulate_one()\n",
      "  File \"/Users/s1743989/anaconda3/lib/python3.6/multiprocessing/process.py\", line 93, in run\n",
      "    self._target(*self._args, **self._kwargs)\n",
      "  File \"/Users/s1743989/anaconda3/lib/python3.6/site-packages/pyabc/sampler/multicore_evaluation_parallel.py\", line 32, in work\n",
      "    new_sim = simulate_one()\n",
      "  File \"/Users/s1743989/anaconda3/lib/python3.6/site-packages/pyabc/sampler/multicore_evaluation_parallel.py\", line 32, in work\n",
      "    new_sim = simulate_one()\n"
     ]
    },
    {
     "ename": "KeyboardInterrupt",
     "evalue": "",
     "output_type": "error",
     "traceback": [
      "\u001b[0;31m---------------------------------------------------------------------------\u001b[0m",
      "\u001b[0;31mKeyboardInterrupt\u001b[0m                         Traceback (most recent call last)",
      "\u001b[0;32m<ipython-input-41-3ef1f78c0e33>\u001b[0m in \u001b[0;36m<module>\u001b[0;34m\u001b[0m\n\u001b[1;32m      4\u001b[0m \u001b[0mabc_id\u001b[0m \u001b[0;34m=\u001b[0m \u001b[0mabc\u001b[0m\u001b[0;34m.\u001b[0m\u001b[0mnew\u001b[0m\u001b[0;34m(\u001b[0m\u001b[0mdb_path\u001b[0m\u001b[0;34m,\u001b[0m \u001b[0mobserved\u001b[0m\u001b[0;34m)\u001b[0m\u001b[0;34m\u001b[0m\u001b[0;34m\u001b[0m\u001b[0m\n\u001b[1;32m      5\u001b[0m \u001b[0;34m\u001b[0m\u001b[0m\n\u001b[0;32m----> 6\u001b[0;31m \u001b[0mhistory\u001b[0m \u001b[0;34m=\u001b[0m \u001b[0mabc\u001b[0m\u001b[0;34m.\u001b[0m\u001b[0mrun\u001b[0m\u001b[0;34m(\u001b[0m\u001b[0mmax_nr_populations\u001b[0m\u001b[0;34m=\u001b[0m\u001b[0;36m10\u001b[0m\u001b[0;34m,\u001b[0m \u001b[0mminimum_epsilon\u001b[0m\u001b[0;34m=\u001b[0m\u001b[0;36m0.1\u001b[0m\u001b[0;34m)\u001b[0m\u001b[0;34m\u001b[0m\u001b[0;34m\u001b[0m\u001b[0m\n\u001b[0m",
      "\u001b[0;32m~/anaconda3/lib/python3.6/site-packages/pyabc/smc.py\u001b[0m in \u001b[0;36mrun\u001b[0;34m(self, minimum_epsilon, max_nr_populations, min_acceptance_rate)\u001b[0m\n\u001b[1;32m    859\u001b[0m         \u001b[0mself\u001b[0m\u001b[0;34m.\u001b[0m\u001b[0m_adapt_population_size\u001b[0m\u001b[0;34m(\u001b[0m\u001b[0mt0\u001b[0m\u001b[0;34m)\u001b[0m\u001b[0;34m\u001b[0m\u001b[0;34m\u001b[0m\u001b[0m\n\u001b[1;32m    860\u001b[0m         \u001b[0;31m# sample from prior to calibrate distance, epsilon, and acceptor\u001b[0m\u001b[0;34m\u001b[0m\u001b[0;34m\u001b[0m\u001b[0;34m\u001b[0m\u001b[0m\n\u001b[0;32m--> 861\u001b[0;31m         \u001b[0mself\u001b[0m\u001b[0;34m.\u001b[0m\u001b[0m_initialize_dist_eps_acc\u001b[0m\u001b[0;34m(\u001b[0m\u001b[0mt0\u001b[0m\u001b[0;34m)\u001b[0m\u001b[0;34m\u001b[0m\u001b[0;34m\u001b[0m\u001b[0m\n\u001b[0m\u001b[1;32m    862\u001b[0m \u001b[0;34m\u001b[0m\u001b[0m\n\u001b[1;32m    863\u001b[0m         \u001b[0;31m# configure recording of rejected particles\u001b[0m\u001b[0;34m\u001b[0m\u001b[0;34m\u001b[0m\u001b[0;34m\u001b[0m\u001b[0m\n",
      "\u001b[0;32m~/anaconda3/lib/python3.6/site-packages/pyabc/smc.py\u001b[0m in \u001b[0;36m_initialize_dist_eps_acc\u001b[0;34m(self, t)\u001b[0m\n\u001b[1;32m    441\u001b[0m             \u001b[0mt\u001b[0m\u001b[0;34m,\u001b[0m \u001b[0mget_initial_weighted_distances\u001b[0m\u001b[0;34m,\u001b[0m \u001b[0mget_initial_records\u001b[0m\u001b[0;34m,\u001b[0m\u001b[0;34m\u001b[0m\u001b[0;34m\u001b[0m\u001b[0m\n\u001b[1;32m    442\u001b[0m             \u001b[0mself\u001b[0m\u001b[0;34m.\u001b[0m\u001b[0mmax_nr_populations\u001b[0m\u001b[0;34m,\u001b[0m\u001b[0;34m\u001b[0m\u001b[0;34m\u001b[0m\u001b[0m\n\u001b[0;32m--> 443\u001b[0;31m             self.acceptor.get_epsilon_config(t))\n\u001b[0m\u001b[1;32m    444\u001b[0m \u001b[0;34m\u001b[0m\u001b[0m\n\u001b[1;32m    445\u001b[0m     \u001b[0;32mdef\u001b[0m \u001b[0m_get_initial_population\u001b[0m\u001b[0;34m(\u001b[0m\u001b[0mself\u001b[0m\u001b[0;34m,\u001b[0m \u001b[0mt\u001b[0m\u001b[0;34m:\u001b[0m \u001b[0mint\u001b[0m\u001b[0;34m)\u001b[0m \u001b[0;34m->\u001b[0m \u001b[0;34m(\u001b[0m\u001b[0mList\u001b[0m\u001b[0;34m[\u001b[0m\u001b[0mfloat\u001b[0m\u001b[0;34m]\u001b[0m\u001b[0;34m,\u001b[0m \u001b[0mList\u001b[0m\u001b[0;34m[\u001b[0m\u001b[0mdict\u001b[0m\u001b[0;34m]\u001b[0m\u001b[0;34m)\u001b[0m\u001b[0;34m:\u001b[0m\u001b[0;34m\u001b[0m\u001b[0;34m\u001b[0m\u001b[0m\n",
      "\u001b[0;32m~/anaconda3/lib/python3.6/site-packages/pyabc/epsilon/epsilon.py\u001b[0m in \u001b[0;36minitialize\u001b[0;34m(self, t, get_weighted_distances, get_all_records, max_nr_populations, acceptor_config)\u001b[0m\n\u001b[1;32m    147\u001b[0m \u001b[0;34m\u001b[0m\u001b[0m\n\u001b[1;32m    148\u001b[0m         \u001b[0;31m# execute function\u001b[0m\u001b[0;34m\u001b[0m\u001b[0;34m\u001b[0m\u001b[0;34m\u001b[0m\u001b[0m\n\u001b[0;32m--> 149\u001b[0;31m         \u001b[0mweighted_distances\u001b[0m \u001b[0;34m=\u001b[0m \u001b[0mget_weighted_distances\u001b[0m\u001b[0;34m(\u001b[0m\u001b[0;34m)\u001b[0m\u001b[0;34m\u001b[0m\u001b[0;34m\u001b[0m\u001b[0m\n\u001b[0m\u001b[1;32m    150\u001b[0m \u001b[0;34m\u001b[0m\u001b[0m\n\u001b[1;32m    151\u001b[0m         \u001b[0;31m# initialize epsilon\u001b[0m\u001b[0;34m\u001b[0m\u001b[0;34m\u001b[0m\u001b[0;34m\u001b[0m\u001b[0m\n",
      "\u001b[0;32m~/anaconda3/lib/python3.6/site-packages/pyabc/smc.py\u001b[0m in \u001b[0;36mget_initial_weighted_distances\u001b[0;34m()\u001b[0m\n\u001b[1;32m    413\u001b[0m \u001b[0;34m\u001b[0m\u001b[0m\n\u001b[1;32m    414\u001b[0m         \u001b[0;32mdef\u001b[0m \u001b[0mget_initial_weighted_distances\u001b[0m\u001b[0;34m(\u001b[0m\u001b[0;34m)\u001b[0m\u001b[0;34m:\u001b[0m\u001b[0;34m\u001b[0m\u001b[0;34m\u001b[0m\u001b[0m\n\u001b[0;32m--> 415\u001b[0;31m             \u001b[0mpopulation\u001b[0m \u001b[0;34m=\u001b[0m \u001b[0m_get_initial_population_with_distances\u001b[0m\u001b[0;34m(\u001b[0m\u001b[0;34m)\u001b[0m\u001b[0;34m\u001b[0m\u001b[0;34m\u001b[0m\u001b[0m\n\u001b[0m\u001b[1;32m    416\u001b[0m             \u001b[0mweighted_distances\u001b[0m \u001b[0;34m=\u001b[0m \u001b[0mpopulation\u001b[0m\u001b[0;34m.\u001b[0m\u001b[0mget_weighted_distances\u001b[0m\u001b[0;34m(\u001b[0m\u001b[0;34m)\u001b[0m\u001b[0;34m\u001b[0m\u001b[0;34m\u001b[0m\u001b[0m\n\u001b[1;32m    417\u001b[0m             \u001b[0;32mreturn\u001b[0m \u001b[0mweighted_distances\u001b[0m\u001b[0;34m\u001b[0m\u001b[0;34m\u001b[0m\u001b[0m\n",
      "\u001b[0;32m~/anaconda3/lib/python3.6/site-packages/pyabc/smc.py\u001b[0m in \u001b[0;36m_get_initial_population_with_distances\u001b[0;34m()\u001b[0m\n\u001b[1;32m    404\u001b[0m \u001b[0;34m\u001b[0m\u001b[0m\n\u001b[1;32m    405\u001b[0m         \u001b[0;32mdef\u001b[0m \u001b[0m_get_initial_population_with_distances\u001b[0m\u001b[0;34m(\u001b[0m\u001b[0;34m)\u001b[0m\u001b[0;34m:\u001b[0m\u001b[0;34m\u001b[0m\u001b[0;34m\u001b[0m\u001b[0m\n\u001b[0;32m--> 406\u001b[0;31m             \u001b[0mpopulation\u001b[0m \u001b[0;34m=\u001b[0m \u001b[0mself\u001b[0m\u001b[0;34m.\u001b[0m\u001b[0m_get_initial_population\u001b[0m\u001b[0;34m(\u001b[0m\u001b[0mt\u001b[0m\u001b[0;34m)\u001b[0m\u001b[0;34m\u001b[0m\u001b[0;34m\u001b[0m\u001b[0m\n\u001b[0m\u001b[1;32m    407\u001b[0m \u001b[0;34m\u001b[0m\u001b[0m\n\u001b[1;32m    408\u001b[0m             \u001b[0;32mdef\u001b[0m \u001b[0mdistance_to_ground_truth\u001b[0m\u001b[0;34m(\u001b[0m\u001b[0mx\u001b[0m\u001b[0;34m,\u001b[0m \u001b[0mpar\u001b[0m\u001b[0;34m)\u001b[0m\u001b[0;34m:\u001b[0m\u001b[0;34m\u001b[0m\u001b[0;34m\u001b[0m\u001b[0m\n",
      "\u001b[0;32m~/anaconda3/lib/python3.6/site-packages/pyabc/smc.py\u001b[0m in \u001b[0;36m_get_initial_population\u001b[0;34m(self, t)\u001b[0m\n\u001b[1;32m    462\u001b[0m             \u001b[0;32melse\u001b[0m\u001b[0;34m:\u001b[0m\u001b[0;34m\u001b[0m\u001b[0;34m\u001b[0m\u001b[0m\n\u001b[1;32m    463\u001b[0m                 \u001b[0;31m# sample\u001b[0m\u001b[0;34m\u001b[0m\u001b[0;34m\u001b[0m\u001b[0;34m\u001b[0m\u001b[0m\n\u001b[0;32m--> 464\u001b[0;31m                 \u001b[0mpopulation\u001b[0m \u001b[0;34m=\u001b[0m \u001b[0mself\u001b[0m\u001b[0;34m.\u001b[0m\u001b[0m_sample_from_prior\u001b[0m\u001b[0;34m(\u001b[0m\u001b[0mt\u001b[0m\u001b[0;34m)\u001b[0m\u001b[0;34m\u001b[0m\u001b[0;34m\u001b[0m\u001b[0m\n\u001b[0m\u001b[1;32m    465\u001b[0m                 \u001b[0;31m# update number of samples in calibration\u001b[0m\u001b[0;34m\u001b[0m\u001b[0;34m\u001b[0m\u001b[0;34m\u001b[0m\u001b[0m\n\u001b[1;32m    466\u001b[0m                 self.history.update_nr_samples(\n",
      "\u001b[0;32m~/anaconda3/lib/python3.6/site-packages/pyabc/smc.py\u001b[0m in \u001b[0;36m_sample_from_prior\u001b[0;34m(self, t)\u001b[0m\n\u001b[1;32m    525\u001b[0m         sample = self.sampler.sample_until_n_accepted(\n\u001b[1;32m    526\u001b[0m             \u001b[0mself\u001b[0m\u001b[0;34m.\u001b[0m\u001b[0mpopulation_strategy\u001b[0m\u001b[0;34m.\u001b[0m\u001b[0mnr_particles\u001b[0m\u001b[0;34m,\u001b[0m \u001b[0msimulate_one\u001b[0m\u001b[0;34m,\u001b[0m\u001b[0;34m\u001b[0m\u001b[0;34m\u001b[0m\u001b[0m\n\u001b[0;32m--> 527\u001b[0;31m             max_eval=np.inf, all_accepted=True)\n\u001b[0m\u001b[1;32m    528\u001b[0m \u001b[0;34m\u001b[0m\u001b[0m\n\u001b[1;32m    529\u001b[0m         \u001b[0;31m# extract accepted population\u001b[0m\u001b[0;34m\u001b[0m\u001b[0;34m\u001b[0m\u001b[0;34m\u001b[0m\u001b[0m\n",
      "\u001b[0;32m~/anaconda3/lib/python3.6/site-packages/pyabc/sampler/base.py\u001b[0m in \u001b[0;36msample_until_n_accepted\u001b[0;34m(self, n, simulate_one, max_eval, all_accepted)\u001b[0m\n\u001b[1;32m    149\u001b[0m     def sample_until_n_accepted(\n\u001b[1;32m    150\u001b[0m             self, n, simulate_one, max_eval=np.inf, all_accepted=False):\n\u001b[0;32m--> 151\u001b[0;31m         \u001b[0msample\u001b[0m \u001b[0;34m=\u001b[0m \u001b[0mf\u001b[0m\u001b[0;34m(\u001b[0m\u001b[0mself\u001b[0m\u001b[0;34m,\u001b[0m \u001b[0mn\u001b[0m\u001b[0;34m,\u001b[0m \u001b[0msimulate_one\u001b[0m\u001b[0;34m,\u001b[0m \u001b[0mmax_eval\u001b[0m\u001b[0;34m,\u001b[0m \u001b[0mall_accepted\u001b[0m\u001b[0;34m)\u001b[0m\u001b[0;34m\u001b[0m\u001b[0;34m\u001b[0m\u001b[0m\n\u001b[0m\u001b[1;32m    152\u001b[0m         \u001b[0;32mif\u001b[0m \u001b[0msample\u001b[0m\u001b[0;34m.\u001b[0m\u001b[0mn_accepted\u001b[0m \u001b[0;34m!=\u001b[0m \u001b[0mn\u001b[0m \u001b[0;32mand\u001b[0m \u001b[0msample\u001b[0m\u001b[0;34m.\u001b[0m\u001b[0mok\u001b[0m\u001b[0;34m:\u001b[0m\u001b[0;34m\u001b[0m\u001b[0;34m\u001b[0m\u001b[0m\n\u001b[1;32m    153\u001b[0m             \u001b[0;31m# this should not happen if the sampler is configured correctly\u001b[0m\u001b[0;34m\u001b[0m\u001b[0;34m\u001b[0m\u001b[0;34m\u001b[0m\u001b[0m\n",
      "\u001b[0;32m~/anaconda3/lib/python3.6/site-packages/pyabc/sampler/multicore_evaluation_parallel.py\u001b[0m in \u001b[0;36msample_until_n_accepted\u001b[0;34m(self, n, simulate_one, max_eval, all_accepted)\u001b[0m\n\u001b[1;32m    119\u001b[0m         \u001b[0mn_done\u001b[0m \u001b[0;34m=\u001b[0m \u001b[0;36m0\u001b[0m\u001b[0;34m\u001b[0m\u001b[0;34m\u001b[0m\u001b[0m\n\u001b[1;32m    120\u001b[0m         \u001b[0;32mwhile\u001b[0m \u001b[0mn_done\u001b[0m \u001b[0;34m<\u001b[0m \u001b[0mlen\u001b[0m\u001b[0;34m(\u001b[0m\u001b[0mprocesses\u001b[0m\u001b[0;34m)\u001b[0m\u001b[0;34m:\u001b[0m\u001b[0;34m\u001b[0m\u001b[0;34m\u001b[0m\u001b[0m\n\u001b[0;32m--> 121\u001b[0;31m             \u001b[0mval\u001b[0m \u001b[0;34m=\u001b[0m \u001b[0mget_if_worker_healthy\u001b[0m\u001b[0;34m(\u001b[0m\u001b[0mprocesses\u001b[0m\u001b[0;34m,\u001b[0m \u001b[0mqueue\u001b[0m\u001b[0;34m)\u001b[0m\u001b[0;34m\u001b[0m\u001b[0;34m\u001b[0m\u001b[0m\n\u001b[0m\u001b[1;32m    122\u001b[0m             \u001b[0;32mif\u001b[0m \u001b[0mval\u001b[0m \u001b[0;34m==\u001b[0m \u001b[0mDONE\u001b[0m\u001b[0;34m:\u001b[0m\u001b[0;34m\u001b[0m\u001b[0;34m\u001b[0m\u001b[0m\n\u001b[1;32m    123\u001b[0m                 \u001b[0mn_done\u001b[0m \u001b[0;34m+=\u001b[0m \u001b[0;36m1\u001b[0m\u001b[0;34m\u001b[0m\u001b[0;34m\u001b[0m\u001b[0m\n",
      "\u001b[0;32m~/anaconda3/lib/python3.6/site-packages/pyabc/sampler/multicorebase.py\u001b[0m in \u001b[0;36mget_if_worker_healthy\u001b[0;34m(workers, queue)\u001b[0m\n\u001b[1;32m     64\u001b[0m     \u001b[0;32mwhile\u001b[0m \u001b[0;32mTrue\u001b[0m\u001b[0;34m:\u001b[0m\u001b[0;34m\u001b[0m\u001b[0;34m\u001b[0m\u001b[0m\n\u001b[1;32m     65\u001b[0m         \u001b[0;32mtry\u001b[0m\u001b[0;34m:\u001b[0m\u001b[0;34m\u001b[0m\u001b[0;34m\u001b[0m\u001b[0m\n\u001b[0;32m---> 66\u001b[0;31m             \u001b[0mitem\u001b[0m \u001b[0;34m=\u001b[0m \u001b[0mqueue\u001b[0m\u001b[0;34m.\u001b[0m\u001b[0mget\u001b[0m\u001b[0;34m(\u001b[0m\u001b[0;32mTrue\u001b[0m\u001b[0;34m,\u001b[0m \u001b[0;36m5\u001b[0m\u001b[0;34m)\u001b[0m\u001b[0;34m\u001b[0m\u001b[0;34m\u001b[0m\u001b[0m\n\u001b[0m\u001b[1;32m     67\u001b[0m             \u001b[0;32mreturn\u001b[0m \u001b[0mitem\u001b[0m\u001b[0;34m\u001b[0m\u001b[0;34m\u001b[0m\u001b[0m\n\u001b[1;32m     68\u001b[0m         \u001b[0;32mexcept\u001b[0m \u001b[0mEmpty\u001b[0m\u001b[0;34m:\u001b[0m\u001b[0;34m\u001b[0m\u001b[0;34m\u001b[0m\u001b[0m\n",
      "\u001b[0;32m~/anaconda3/lib/python3.6/multiprocessing/queues.py\u001b[0m in \u001b[0;36mget\u001b[0;34m(self, block, timeout)\u001b[0m\n\u001b[1;32m    102\u001b[0m                 \u001b[0;32mif\u001b[0m \u001b[0mblock\u001b[0m\u001b[0;34m:\u001b[0m\u001b[0;34m\u001b[0m\u001b[0;34m\u001b[0m\u001b[0m\n\u001b[1;32m    103\u001b[0m                     \u001b[0mtimeout\u001b[0m \u001b[0;34m=\u001b[0m \u001b[0mdeadline\u001b[0m \u001b[0;34m-\u001b[0m \u001b[0mtime\u001b[0m\u001b[0;34m.\u001b[0m\u001b[0mmonotonic\u001b[0m\u001b[0;34m(\u001b[0m\u001b[0;34m)\u001b[0m\u001b[0;34m\u001b[0m\u001b[0;34m\u001b[0m\u001b[0m\n\u001b[0;32m--> 104\u001b[0;31m                     \u001b[0;32mif\u001b[0m \u001b[0;32mnot\u001b[0m \u001b[0mself\u001b[0m\u001b[0;34m.\u001b[0m\u001b[0m_poll\u001b[0m\u001b[0;34m(\u001b[0m\u001b[0mtimeout\u001b[0m\u001b[0;34m)\u001b[0m\u001b[0;34m:\u001b[0m\u001b[0;34m\u001b[0m\u001b[0;34m\u001b[0m\u001b[0m\n\u001b[0m\u001b[1;32m    105\u001b[0m                         \u001b[0;32mraise\u001b[0m \u001b[0mEmpty\u001b[0m\u001b[0;34m\u001b[0m\u001b[0;34m\u001b[0m\u001b[0m\n\u001b[1;32m    106\u001b[0m                 \u001b[0;32melif\u001b[0m \u001b[0;32mnot\u001b[0m \u001b[0mself\u001b[0m\u001b[0;34m.\u001b[0m\u001b[0m_poll\u001b[0m\u001b[0;34m(\u001b[0m\u001b[0;34m)\u001b[0m\u001b[0;34m:\u001b[0m\u001b[0;34m\u001b[0m\u001b[0;34m\u001b[0m\u001b[0m\n",
      "\u001b[0;32m~/anaconda3/lib/python3.6/multiprocessing/connection.py\u001b[0m in \u001b[0;36mpoll\u001b[0;34m(self, timeout)\u001b[0m\n\u001b[1;32m    255\u001b[0m         \u001b[0mself\u001b[0m\u001b[0;34m.\u001b[0m\u001b[0m_check_closed\u001b[0m\u001b[0;34m(\u001b[0m\u001b[0;34m)\u001b[0m\u001b[0;34m\u001b[0m\u001b[0;34m\u001b[0m\u001b[0m\n\u001b[1;32m    256\u001b[0m         \u001b[0mself\u001b[0m\u001b[0;34m.\u001b[0m\u001b[0m_check_readable\u001b[0m\u001b[0;34m(\u001b[0m\u001b[0;34m)\u001b[0m\u001b[0;34m\u001b[0m\u001b[0;34m\u001b[0m\u001b[0m\n\u001b[0;32m--> 257\u001b[0;31m         \u001b[0;32mreturn\u001b[0m \u001b[0mself\u001b[0m\u001b[0;34m.\u001b[0m\u001b[0m_poll\u001b[0m\u001b[0;34m(\u001b[0m\u001b[0mtimeout\u001b[0m\u001b[0;34m)\u001b[0m\u001b[0;34m\u001b[0m\u001b[0;34m\u001b[0m\u001b[0m\n\u001b[0m\u001b[1;32m    258\u001b[0m \u001b[0;34m\u001b[0m\u001b[0m\n\u001b[1;32m    259\u001b[0m     \u001b[0;32mdef\u001b[0m \u001b[0m__enter__\u001b[0m\u001b[0;34m(\u001b[0m\u001b[0mself\u001b[0m\u001b[0;34m)\u001b[0m\u001b[0;34m:\u001b[0m\u001b[0;34m\u001b[0m\u001b[0;34m\u001b[0m\u001b[0m\n",
      "\u001b[0;32m~/anaconda3/lib/python3.6/multiprocessing/connection.py\u001b[0m in \u001b[0;36m_poll\u001b[0;34m(self, timeout)\u001b[0m\n\u001b[1;32m    412\u001b[0m \u001b[0;34m\u001b[0m\u001b[0m\n\u001b[1;32m    413\u001b[0m     \u001b[0;32mdef\u001b[0m \u001b[0m_poll\u001b[0m\u001b[0;34m(\u001b[0m\u001b[0mself\u001b[0m\u001b[0;34m,\u001b[0m \u001b[0mtimeout\u001b[0m\u001b[0;34m)\u001b[0m\u001b[0;34m:\u001b[0m\u001b[0;34m\u001b[0m\u001b[0;34m\u001b[0m\u001b[0m\n\u001b[0;32m--> 414\u001b[0;31m         \u001b[0mr\u001b[0m \u001b[0;34m=\u001b[0m \u001b[0mwait\u001b[0m\u001b[0;34m(\u001b[0m\u001b[0;34m[\u001b[0m\u001b[0mself\u001b[0m\u001b[0;34m]\u001b[0m\u001b[0;34m,\u001b[0m \u001b[0mtimeout\u001b[0m\u001b[0;34m)\u001b[0m\u001b[0;34m\u001b[0m\u001b[0;34m\u001b[0m\u001b[0m\n\u001b[0m\u001b[1;32m    415\u001b[0m         \u001b[0;32mreturn\u001b[0m \u001b[0mbool\u001b[0m\u001b[0;34m(\u001b[0m\u001b[0mr\u001b[0m\u001b[0;34m)\u001b[0m\u001b[0;34m\u001b[0m\u001b[0;34m\u001b[0m\u001b[0m\n\u001b[1;32m    416\u001b[0m \u001b[0;34m\u001b[0m\u001b[0m\n",
      "\u001b[0;32m~/anaconda3/lib/python3.6/multiprocessing/connection.py\u001b[0m in \u001b[0;36mwait\u001b[0;34m(object_list, timeout)\u001b[0m\n\u001b[1;32m    909\u001b[0m \u001b[0;34m\u001b[0m\u001b[0m\n\u001b[1;32m    910\u001b[0m             \u001b[0;32mwhile\u001b[0m \u001b[0;32mTrue\u001b[0m\u001b[0;34m:\u001b[0m\u001b[0;34m\u001b[0m\u001b[0;34m\u001b[0m\u001b[0m\n\u001b[0;32m--> 911\u001b[0;31m                 \u001b[0mready\u001b[0m \u001b[0;34m=\u001b[0m \u001b[0mselector\u001b[0m\u001b[0;34m.\u001b[0m\u001b[0mselect\u001b[0m\u001b[0;34m(\u001b[0m\u001b[0mtimeout\u001b[0m\u001b[0;34m)\u001b[0m\u001b[0;34m\u001b[0m\u001b[0;34m\u001b[0m\u001b[0m\n\u001b[0m\u001b[1;32m    912\u001b[0m                 \u001b[0;32mif\u001b[0m \u001b[0mready\u001b[0m\u001b[0;34m:\u001b[0m\u001b[0;34m\u001b[0m\u001b[0;34m\u001b[0m\u001b[0m\n\u001b[1;32m    913\u001b[0m                     \u001b[0;32mreturn\u001b[0m \u001b[0;34m[\u001b[0m\u001b[0mkey\u001b[0m\u001b[0;34m.\u001b[0m\u001b[0mfileobj\u001b[0m \u001b[0;32mfor\u001b[0m \u001b[0;34m(\u001b[0m\u001b[0mkey\u001b[0m\u001b[0;34m,\u001b[0m \u001b[0mevents\u001b[0m\u001b[0;34m)\u001b[0m \u001b[0;32min\u001b[0m \u001b[0mready\u001b[0m\u001b[0;34m]\u001b[0m\u001b[0;34m\u001b[0m\u001b[0;34m\u001b[0m\u001b[0m\n",
      "\u001b[0;32m~/anaconda3/lib/python3.6/selectors.py\u001b[0m in \u001b[0;36mselect\u001b[0;34m(self, timeout)\u001b[0m\n\u001b[1;32m    374\u001b[0m             \u001b[0mready\u001b[0m \u001b[0;34m=\u001b[0m \u001b[0;34m[\u001b[0m\u001b[0;34m]\u001b[0m\u001b[0;34m\u001b[0m\u001b[0;34m\u001b[0m\u001b[0m\n\u001b[1;32m    375\u001b[0m             \u001b[0;32mtry\u001b[0m\u001b[0;34m:\u001b[0m\u001b[0;34m\u001b[0m\u001b[0;34m\u001b[0m\u001b[0m\n\u001b[0;32m--> 376\u001b[0;31m                 \u001b[0mfd_event_list\u001b[0m \u001b[0;34m=\u001b[0m \u001b[0mself\u001b[0m\u001b[0;34m.\u001b[0m\u001b[0m_poll\u001b[0m\u001b[0;34m.\u001b[0m\u001b[0mpoll\u001b[0m\u001b[0;34m(\u001b[0m\u001b[0mtimeout\u001b[0m\u001b[0;34m)\u001b[0m\u001b[0;34m\u001b[0m\u001b[0;34m\u001b[0m\u001b[0m\n\u001b[0m\u001b[1;32m    377\u001b[0m             \u001b[0;32mexcept\u001b[0m \u001b[0mInterruptedError\u001b[0m\u001b[0;34m:\u001b[0m\u001b[0;34m\u001b[0m\u001b[0;34m\u001b[0m\u001b[0m\n\u001b[1;32m    378\u001b[0m                 \u001b[0;32mreturn\u001b[0m \u001b[0mready\u001b[0m\u001b[0;34m\u001b[0m\u001b[0;34m\u001b[0m\u001b[0m\n",
      "\u001b[0;31mKeyboardInterrupt\u001b[0m: "
     ]
    },
    {
     "name": "stderr",
     "output_type": "stream",
     "text": [
      "  File \"/Users/s1743989/anaconda3/lib/python3.6/multiprocessing/process.py\", line 258, in _bootstrap\n",
      "    self.run()\n",
      "  File \"/Users/s1743989/anaconda3/lib/python3.6/multiprocessing/process.py\", line 258, in _bootstrap\n",
      "    self.run()\n",
      "  File \"/Users/s1743989/anaconda3/lib/python3.6/site-packages/pyabc/smc.py\", line 491, in simulate_one\n",
      "    t, theta, summary_statistics)\n",
      "  File \"/Users/s1743989/anaconda3/lib/python3.6/site-packages/pyabc/smc.py\", line 491, in simulate_one\n",
      "    t, theta, summary_statistics)\n",
      "  File \"/Users/s1743989/anaconda3/lib/python3.6/site-packages/pyabc/smc.py\", line 491, in simulate_one\n",
      "    t, theta, summary_statistics)\n",
      "  File \"/Users/s1743989/anaconda3/lib/python3.6/site-packages/pyabc/sampler/multicore_evaluation_parallel.py\", line 32, in work\n",
      "    new_sim = simulate_one()\n",
      "  File \"/Users/s1743989/anaconda3/lib/python3.6/site-packages/pyabc/smc.py\", line 491, in simulate_one\n",
      "    t, theta, summary_statistics)\n",
      "  File \"/Users/s1743989/anaconda3/lib/python3.6/site-packages/pyabc/model.py\", line 121, in summary_statistics\n",
      "    raw_data = self.sample(pars)\n",
      "  File \"/Users/s1743989/anaconda3/lib/python3.6/site-packages/pyabc/smc.py\", line 491, in simulate_one\n",
      "    t, theta, summary_statistics)\n",
      "  File \"/Users/s1743989/anaconda3/lib/python3.6/site-packages/pyabc/model.py\", line 121, in summary_statistics\n",
      "    raw_data = self.sample(pars)\n",
      "  File \"/Users/s1743989/anaconda3/lib/python3.6/site-packages/pyabc/model.py\", line 121, in summary_statistics\n",
      "    raw_data = self.sample(pars)\n",
      "  File \"/Users/s1743989/anaconda3/lib/python3.6/site-packages/pyabc/smc.py\", line 491, in simulate_one\n",
      "    t, theta, summary_statistics)\n",
      "  File \"/Users/s1743989/anaconda3/lib/python3.6/multiprocessing/process.py\", line 258, in _bootstrap\n",
      "    self.run()\n",
      "  File \"/Users/s1743989/anaconda3/lib/python3.6/site-packages/pyabc/model.py\", line 270, in sample\n",
      "    return self.sample_function(pars)\n",
      "  File \"/Users/s1743989/anaconda3/lib/python3.6/site-packages/pyabc/model.py\", line 121, in summary_statistics\n",
      "    raw_data = self.sample(pars)\n",
      "  File \"/Users/s1743989/anaconda3/lib/python3.6/site-packages/pyabc/model.py\", line 270, in sample\n",
      "    return self.sample_function(pars)\n",
      "  File \"/Users/s1743989/anaconda3/lib/python3.6/multiprocessing/process.py\", line 93, in run\n",
      "    self._target(*self._args, **self._kwargs)\n",
      "  File \"/Users/s1743989/anaconda3/lib/python3.6/site-packages/pyabc/model.py\", line 121, in summary_statistics\n",
      "    raw_data = self.sample(pars)\n",
      "Traceback (most recent call last):\n",
      "  File \"/Users/s1743989/anaconda3/lib/python3.6/site-packages/pyabc/model.py\", line 121, in summary_statistics\n",
      "    raw_data = self.sample(pars)\n",
      "  File \"/Users/s1743989/anaconda3/lib/python3.6/multiprocessing/process.py\", line 93, in run\n",
      "    self._target(*self._args, **self._kwargs)\n",
      "  File \"/Users/s1743989/anaconda3/lib/python3.6/site-packages/pyabc/model.py\", line 270, in sample\n",
      "    return self.sample_function(pars)\n",
      "  File \"/Users/s1743989/anaconda3/lib/python3.6/multiprocessing/process.py\", line 93, in run\n",
      "    self._target(*self._args, **self._kwargs)\n",
      "  File \"<ipython-input-16-6213c32ec756>\", line 2, in simulate_pyabc\n",
      "    result = simulate_epidemic(**parameter)\n",
      "  File \"/Users/s1743989/anaconda3/lib/python3.6/site-packages/pyabc/sampler/multicore_evaluation_parallel.py\", line 32, in work\n",
      "    new_sim = simulate_one()\n",
      "  File \"/Users/s1743989/anaconda3/lib/python3.6/site-packages/pyabc/model.py\", line 270, in sample\n",
      "    return self.sample_function(pars)\n",
      "  File \"<ipython-input-16-6213c32ec756>\", line 2, in simulate_pyabc\n",
      "    result = simulate_epidemic(**parameter)\n",
      "  File \"/Users/s1743989/anaconda3/lib/python3.6/site-packages/pyabc/model.py\", line 270, in sample\n",
      "    return self.sample_function(pars)\n",
      "  File \"/Users/s1743989/anaconda3/lib/python3.6/site-packages/pyabc/model.py\", line 270, in sample\n",
      "    return self.sample_function(pars)\n",
      "  File \"<ipython-input-16-6213c32ec756>\", line 2, in simulate_pyabc\n",
      "    result = simulate_epidemic(**parameter)\n",
      "  File \"/Users/s1743989/anaconda3/lib/python3.6/site-packages/pyabc/sampler/multicore_evaluation_parallel.py\", line 32, in work\n",
      "    new_sim = simulate_one()\n",
      "  File \"/Users/s1743989/anaconda3/lib/python3.6/multiprocessing/process.py\", line 258, in _bootstrap\n",
      "    self.run()\n",
      "  File \"/Users/s1743989/anaconda3/lib/python3.6/site-packages/pyabc/sampler/multicore_evaluation_parallel.py\", line 32, in work\n",
      "    new_sim = simulate_one()\n",
      "  File \"/Users/s1743989/Documents/GitHub/ABSynth/Fitting_modules/ABCSMC/Simulate_epidemic_fitting.py\", line 85, in simulate_epidemic\n",
      "    result = run_model(a, b, c, LTT, iteration_number_outside, distributions, contact_structure, capped, size_file, original_dist_mvmt, original_ch_mvmt, original_case_dict, original_day_dict, option_dict_district_level, infected_individuals_set, cdf_array, cdf_len_set, original_trans_dict, original_child_dict, original_nodes, original_onset_times)\n",
      "  File \"<ipython-input-16-6213c32ec756>\", line 2, in simulate_pyabc\n",
      "    result = simulate_epidemic(**parameter)\n",
      "  File \"/Users/s1743989/Documents/GitHub/ABSynth/Fitting_modules/ABCSMC/Simulate_epidemic_fitting.py\", line 85, in simulate_epidemic\n",
      "    result = run_model(a, b, c, LTT, iteration_number_outside, distributions, contact_structure, capped, size_file, original_dist_mvmt, original_ch_mvmt, original_case_dict, original_day_dict, option_dict_district_level, infected_individuals_set, cdf_array, cdf_len_set, original_trans_dict, original_child_dict, original_nodes, original_onset_times)\n",
      "  File \"<ipython-input-16-6213c32ec756>\", line 2, in simulate_pyabc\n",
      "    result = simulate_epidemic(**parameter)\n",
      "  File \"<ipython-input-16-6213c32ec756>\", line 2, in simulate_pyabc\n",
      "    result = simulate_epidemic(**parameter)\n",
      "  File \"/Users/s1743989/Documents/GitHub/ABSynth/Fitting_modules/ABCSMC/Simulate_epidemic_fitting.py\", line 85, in simulate_epidemic\n",
      "    result = run_model(a, b, c, LTT, iteration_number_outside, distributions, contact_structure, capped, size_file, original_dist_mvmt, original_ch_mvmt, original_case_dict, original_day_dict, option_dict_district_level, infected_individuals_set, cdf_array, cdf_len_set, original_trans_dict, original_child_dict, original_nodes, original_onset_times)\n",
      "  File \"/Users/s1743989/Documents/GitHub/ABSynth/Fitting_modules/ABCSMC/Simulate_epidemic_fitting.py\", line 114, in run_model\n",
      "    day_dict, case_dict, nodes, trans_dict, child_dict, dist_mvmt, ch_mvmt, onset_times, epidemic_capped = run_epidemic(0, original_day_dict, susceptibles_left , original_case_dict, original_trans_dict, original_child_dict, infected_individuals_set, popn_size, option_dict_district_level, original_onset_times, original_nodes, cdf_len_set, cdf_array, original_dist_mvmt, original_ch_mvmt, contact_structure, cfr, distributions, iteration_count, capped, epidemic_length, case_limit, a, b, c)\n",
      "  File \"/Users/s1743989/Documents/GitHub/ABSynth/Fitting_modules/ABCSMC/Simulate_epidemic_fitting.py\", line 85, in simulate_epidemic\n",
      "    result = run_model(a, b, c, LTT, iteration_number_outside, distributions, contact_structure, capped, size_file, original_dist_mvmt, original_ch_mvmt, original_case_dict, original_day_dict, option_dict_district_level, infected_individuals_set, cdf_array, cdf_len_set, original_trans_dict, original_child_dict, original_nodes, original_onset_times)\n",
      "Traceback (most recent call last):\n",
      "  File \"/Users/s1743989/Documents/GitHub/ABSynth/Fitting_modules/ABCSMC/Simulate_epidemic_fitting.py\", line 85, in simulate_epidemic\n",
      "    result = run_model(a, b, c, LTT, iteration_number_outside, distributions, contact_structure, capped, size_file, original_dist_mvmt, original_ch_mvmt, original_case_dict, original_day_dict, option_dict_district_level, infected_individuals_set, cdf_array, cdf_len_set, original_trans_dict, original_child_dict, original_nodes, original_onset_times)\n",
      "  File \"/Users/s1743989/Documents/GitHub/ABSynth/Fitting_modules/ABCSMC/Simulate_epidemic_fitting.py\", line 114, in run_model\n",
      "    day_dict, case_dict, nodes, trans_dict, child_dict, dist_mvmt, ch_mvmt, onset_times, epidemic_capped = run_epidemic(0, original_day_dict, susceptibles_left , original_case_dict, original_trans_dict, original_child_dict, infected_individuals_set, popn_size, option_dict_district_level, original_onset_times, original_nodes, cdf_len_set, cdf_array, original_dist_mvmt, original_ch_mvmt, contact_structure, cfr, distributions, iteration_count, capped, epidemic_length, case_limit, a, b, c)\n"
     ]
    },
    {
     "name": "stderr",
     "output_type": "stream",
     "text": [
      "  File \"/Users/s1743989/Documents/GitHub/ABSynth/Fitting_modules/ABCSMC/epidemic_function_fitting.py\", line 26, in run_epidemic\n",
      "    assignment = focal_case.who_am_I(infected_individuals_set, popn_size, option_dict_districtlevel, contact_structure, case_dict, parent, day, cfr, distributions) #Assign the current case id to an individual\n",
      "  File \"/Users/s1743989/Documents/GitHub/ABSynth/Fitting_modules/ABCSMC/Simulate_epidemic_fitting.py\", line 114, in run_model\n",
      "    day_dict, case_dict, nodes, trans_dict, child_dict, dist_mvmt, ch_mvmt, onset_times, epidemic_capped = run_epidemic(0, original_day_dict, susceptibles_left , original_case_dict, original_trans_dict, original_child_dict, infected_individuals_set, popn_size, option_dict_district_level, original_onset_times, original_nodes, cdf_len_set, cdf_array, original_dist_mvmt, original_ch_mvmt, contact_structure, cfr, distributions, iteration_count, capped, epidemic_length, case_limit, a, b, c)\n",
      "Traceback (most recent call last):\n",
      "  File \"/Users/s1743989/Documents/GitHub/ABSynth/Fitting_modules/ABCSMC/Simulate_epidemic_fitting.py\", line 85, in simulate_epidemic\n",
      "    result = run_model(a, b, c, LTT, iteration_number_outside, distributions, contact_structure, capped, size_file, original_dist_mvmt, original_ch_mvmt, original_case_dict, original_day_dict, option_dict_district_level, infected_individuals_set, cdf_array, cdf_len_set, original_trans_dict, original_child_dict, original_nodes, original_onset_times)\n",
      "  File \"/Users/s1743989/Documents/GitHub/ABSynth/Fitting_modules/ABCSMC/Simulate_epidemic_fitting.py\", line 114, in run_model\n",
      "    day_dict, case_dict, nodes, trans_dict, child_dict, dist_mvmt, ch_mvmt, onset_times, epidemic_capped = run_epidemic(0, original_day_dict, susceptibles_left , original_case_dict, original_trans_dict, original_child_dict, infected_individuals_set, popn_size, option_dict_district_level, original_onset_times, original_nodes, cdf_len_set, cdf_array, original_dist_mvmt, original_ch_mvmt, contact_structure, cfr, distributions, iteration_count, capped, epidemic_length, case_limit, a, b, c)\n",
      "  File \"/Users/s1743989/Documents/GitHub/ABSynth/Fitting_modules/ABCSMC/case_class_fitting.py\", line 50, in who_am_I\n",
      "    poss_case = random.choice(random.choice([hh_to_ppl[hh] for hh in cluster_to_hh[parent_individual.comm]\n",
      "  File \"/Users/s1743989/Documents/GitHub/ABSynth/Fitting_modules/ABCSMC/Simulate_epidemic_fitting.py\", line 114, in run_model\n",
      "    day_dict, case_dict, nodes, trans_dict, child_dict, dist_mvmt, ch_mvmt, onset_times, epidemic_capped = run_epidemic(0, original_day_dict, susceptibles_left , original_case_dict, original_trans_dict, original_child_dict, infected_individuals_set, popn_size, option_dict_district_level, original_onset_times, original_nodes, cdf_len_set, cdf_array, original_dist_mvmt, original_ch_mvmt, contact_structure, cfr, distributions, iteration_count, capped, epidemic_length, case_limit, a, b, c)\n",
      "  File \"/Users/s1743989/anaconda3/lib/python3.6/multiprocessing/process.py\", line 258, in _bootstrap\n",
      "    self.run()\n",
      "  File \"/Users/s1743989/Documents/GitHub/ABSynth/Fitting_modules/ABCSMC/epidemic_function_fitting.py\", line 26, in run_epidemic\n",
      "    assignment = focal_case.who_am_I(infected_individuals_set, popn_size, option_dict_districtlevel, contact_structure, case_dict, parent, day, cfr, distributions) #Assign the current case id to an individual\n",
      "  File \"/Users/s1743989/Documents/GitHub/ABSynth/Fitting_modules/ABCSMC/Simulate_epidemic_fitting.py\", line 114, in run_model\n",
      "    day_dict, case_dict, nodes, trans_dict, child_dict, dist_mvmt, ch_mvmt, onset_times, epidemic_capped = run_epidemic(0, original_day_dict, susceptibles_left , original_case_dict, original_trans_dict, original_child_dict, infected_individuals_set, popn_size, option_dict_district_level, original_onset_times, original_nodes, cdf_len_set, cdf_array, original_dist_mvmt, original_ch_mvmt, contact_structure, cfr, distributions, iteration_count, capped, epidemic_length, case_limit, a, b, c)\n",
      "  File \"/Users/s1743989/anaconda3/lib/python3.6/multiprocessing/process.py\", line 258, in _bootstrap\n",
      "    self.run()\n",
      "KeyboardInterrupt\n",
      "  File \"/Users/s1743989/Documents/GitHub/ABSynth/Fitting_modules/ABCSMC/epidemic_function_fitting.py\", line 26, in run_epidemic\n",
      "    assignment = focal_case.who_am_I(infected_individuals_set, popn_size, option_dict_districtlevel, contact_structure, case_dict, parent, day, cfr, distributions) #Assign the current case id to an individual\n",
      "  File \"/Users/s1743989/anaconda3/lib/python3.6/multiprocessing/process.py\", line 93, in run\n",
      "    self._target(*self._args, **self._kwargs)\n",
      "  File \"/Users/s1743989/Documents/GitHub/ABSynth/Fitting_modules/ABCSMC/epidemic_function_fitting.py\", line 26, in run_epidemic\n",
      "    assignment = focal_case.who_am_I(infected_individuals_set, popn_size, option_dict_districtlevel, contact_structure, case_dict, parent, day, cfr, distributions) #Assign the current case id to an individual\n",
      "  File \"/Users/s1743989/Documents/GitHub/ABSynth/Fitting_modules/ABCSMC/epidemic_function_fitting.py\", line 26, in run_epidemic\n",
      "    assignment = focal_case.who_am_I(infected_individuals_set, popn_size, option_dict_districtlevel, contact_structure, case_dict, parent, day, cfr, distributions) #Assign the current case id to an individual\n",
      "  File \"/Users/s1743989/Documents/GitHub/ABSynth/Fitting_modules/ABCSMC/case_class_fitting.py\", line 50, in who_am_I\n",
      "    poss_case = random.choice(random.choice([hh_to_ppl[hh] for hh in cluster_to_hh[parent_individual.comm]\n",
      "  File \"/Users/s1743989/Documents/GitHub/ABSynth/Fitting_modules/ABCSMC/case_class_fitting.py\", line 50, in who_am_I\n",
      "    poss_case = random.choice(random.choice([hh_to_ppl[hh] for hh in cluster_to_hh[parent_individual.comm]\n",
      "  File \"/Users/s1743989/anaconda3/lib/python3.6/multiprocessing/process.py\", line 93, in run\n",
      "    self._target(*self._args, **self._kwargs)\n",
      "  File \"/Users/s1743989/Documents/GitHub/ABSynth/Fitting_modules/ABCSMC/case_class_fitting.py\", line 50, in who_am_I\n",
      "    poss_case = random.choice(random.choice([hh_to_ppl[hh] for hh in cluster_to_hh[parent_individual.comm]\n",
      "  File \"/Users/s1743989/Documents/GitHub/ABSynth/Fitting_modules/ABCSMC/case_class_fitting.py\", line 50, in who_am_I\n",
      "    poss_case = random.choice(random.choice([hh_to_ppl[hh] for hh in cluster_to_hh[parent_individual.comm]\n",
      "  File \"/Users/s1743989/Documents/GitHub/ABSynth/Fitting_modules/ABCSMC/case_class_fitting.py\", line 51, in <listcomp>\n",
      "    if hh != parent_individual.hh]))\n",
      "  File \"/Users/s1743989/anaconda3/lib/python3.6/site-packages/pyabc/smc.py\", line 491, in simulate_one\n",
      "    t, theta, summary_statistics)\n",
      "  File \"/Users/s1743989/Documents/GitHub/ABSynth/Fitting_modules/ABCSMC/case_class_fitting.py\", line 50, in who_am_I\n",
      "    poss_case = random.choice(random.choice([hh_to_ppl[hh] for hh in cluster_to_hh[parent_individual.comm]\n",
      "  File \"/Users/s1743989/anaconda3/lib/python3.6/site-packages/pyabc/sampler/multicore_evaluation_parallel.py\", line 32, in work\n",
      "    new_sim = simulate_one()\n",
      "  File \"/Users/s1743989/anaconda3/lib/python3.6/site-packages/pyabc/smc.py\", line 491, in simulate_one\n",
      "    t, theta, summary_statistics)\n",
      "  File \"/Users/s1743989/Documents/GitHub/ABSynth/Fitting_modules/ABCSMC/case_class_fitting.py\", line 51, in <listcomp>\n",
      "    if hh != parent_individual.hh]))\n",
      "  File \"/Users/s1743989/anaconda3/lib/python3.6/site-packages/pyabc/smc.py\", line 491, in simulate_one\n",
      "    t, theta, summary_statistics)\n",
      "  File \"/Users/s1743989/anaconda3/lib/python3.6/multiprocessing/process.py\", line 93, in run\n",
      "    self._target(*self._args, **self._kwargs)\n",
      "  File \"/Users/s1743989/anaconda3/lib/python3.6/site-packages/pyabc/sampler/multicore_evaluation_parallel.py\", line 32, in work\n",
      "    new_sim = simulate_one()\n",
      "  File \"/Users/s1743989/Documents/GitHub/ABSynth/Fitting_modules/ABCSMC/case_class_fitting.py\", line 51, in <listcomp>\n",
      "    if hh != parent_individual.hh]))\n",
      "  File \"/Users/s1743989/anaconda3/lib/python3.6/site-packages/pyabc/smc.py\", line 491, in simulate_one\n",
      "    t, theta, summary_statistics)\n",
      "  File \"/Users/s1743989/Documents/GitHub/ABSynth/Fitting_modules/ABCSMC/case_class_fitting.py\", line 51, in <listcomp>\n",
      "    if hh != parent_individual.hh]))\n",
      "  File \"/Users/s1743989/Documents/GitHub/ABSynth/Fitting_modules/ABCSMC/case_class_fitting.py\", line 51, in <listcomp>\n",
      "    if hh != parent_individual.hh]))\n"
     ]
    },
    {
     "name": "stderr",
     "output_type": "stream",
     "text": [
      "  File \"/Users/s1743989/anaconda3/lib/python3.6/site-packages/pyabc/smc.py\", line 491, in simulate_one\n",
      "    t, theta, summary_statistics)\n",
      "KeyboardInterrupt\n",
      "KeyboardInterrupt\n",
      "  File \"/Users/s1743989/anaconda3/lib/python3.6/site-packages/pyabc/model.py\", line 121, in summary_statistics\n",
      "    raw_data = self.sample(pars)\n",
      "KeyboardInterrupt\n",
      "KeyboardInterrupt\n",
      "KeyboardInterrupt\n",
      "  File \"/Users/s1743989/anaconda3/lib/python3.6/site-packages/pyabc/model.py\", line 121, in summary_statistics\n",
      "    raw_data = self.sample(pars)\n",
      "  File \"/Users/s1743989/anaconda3/lib/python3.6/site-packages/pyabc/model.py\", line 121, in summary_statistics\n",
      "    raw_data = self.sample(pars)\n",
      "  File \"/Users/s1743989/anaconda3/lib/python3.6/site-packages/pyabc/model.py\", line 270, in sample\n",
      "    return self.sample_function(pars)\n",
      "  File \"/Users/s1743989/anaconda3/lib/python3.6/site-packages/pyabc/model.py\", line 121, in summary_statistics\n",
      "    raw_data = self.sample(pars)\n",
      "  File \"/Users/s1743989/anaconda3/lib/python3.6/site-packages/pyabc/model.py\", line 270, in sample\n",
      "    return self.sample_function(pars)\n",
      "  File \"<ipython-input-16-6213c32ec756>\", line 2, in simulate_pyabc\n",
      "    result = simulate_epidemic(**parameter)\n",
      "  File \"/Users/s1743989/anaconda3/lib/python3.6/site-packages/pyabc/model.py\", line 270, in sample\n",
      "    return self.sample_function(pars)\n",
      "  File \"/Users/s1743989/anaconda3/lib/python3.6/site-packages/pyabc/sampler/multicore_evaluation_parallel.py\", line 32, in work\n",
      "    new_sim = simulate_one()\n",
      "  File \"<ipython-input-16-6213c32ec756>\", line 2, in simulate_pyabc\n",
      "    result = simulate_epidemic(**parameter)\n",
      "  File \"/Users/s1743989/Documents/GitHub/ABSynth/Fitting_modules/ABCSMC/Simulate_epidemic_fitting.py\", line 85, in simulate_epidemic\n",
      "    result = run_model(a, b, c, LTT, iteration_number_outside, distributions, contact_structure, capped, size_file, original_dist_mvmt, original_ch_mvmt, original_case_dict, original_day_dict, option_dict_district_level, infected_individuals_set, cdf_array, cdf_len_set, original_trans_dict, original_child_dict, original_nodes, original_onset_times)\n",
      "  File \"/Users/s1743989/anaconda3/lib/python3.6/site-packages/pyabc/model.py\", line 270, in sample\n",
      "    return self.sample_function(pars)\n",
      "  File \"/Users/s1743989/Documents/GitHub/ABSynth/Fitting_modules/ABCSMC/Simulate_epidemic_fitting.py\", line 85, in simulate_epidemic\n",
      "    result = run_model(a, b, c, LTT, iteration_number_outside, distributions, contact_structure, capped, size_file, original_dist_mvmt, original_ch_mvmt, original_case_dict, original_day_dict, option_dict_district_level, infected_individuals_set, cdf_array, cdf_len_set, original_trans_dict, original_child_dict, original_nodes, original_onset_times)\n",
      "  File \"/Users/s1743989/Documents/GitHub/ABSynth/Fitting_modules/ABCSMC/Simulate_epidemic_fitting.py\", line 114, in run_model\n",
      "    day_dict, case_dict, nodes, trans_dict, child_dict, dist_mvmt, ch_mvmt, onset_times, epidemic_capped = run_epidemic(0, original_day_dict, susceptibles_left , original_case_dict, original_trans_dict, original_child_dict, infected_individuals_set, popn_size, option_dict_district_level, original_onset_times, original_nodes, cdf_len_set, cdf_array, original_dist_mvmt, original_ch_mvmt, contact_structure, cfr, distributions, iteration_count, capped, epidemic_length, case_limit, a, b, c)\n",
      "  File \"/Users/s1743989/Documents/GitHub/ABSynth/Fitting_modules/ABCSMC/Simulate_epidemic_fitting.py\", line 114, in run_model\n",
      "    day_dict, case_dict, nodes, trans_dict, child_dict, dist_mvmt, ch_mvmt, onset_times, epidemic_capped = run_epidemic(0, original_day_dict, susceptibles_left , original_case_dict, original_trans_dict, original_child_dict, infected_individuals_set, popn_size, option_dict_district_level, original_onset_times, original_nodes, cdf_len_set, cdf_array, original_dist_mvmt, original_ch_mvmt, contact_structure, cfr, distributions, iteration_count, capped, epidemic_length, case_limit, a, b, c)\n",
      "  File \"/Users/s1743989/Documents/GitHub/ABSynth/Fitting_modules/ABCSMC/epidemic_function_fitting.py\", line 26, in run_epidemic\n",
      "    assignment = focal_case.who_am_I(infected_individuals_set, popn_size, option_dict_districtlevel, contact_structure, case_dict, parent, day, cfr, distributions) #Assign the current case id to an individual\n",
      "  File \"<ipython-input-16-6213c32ec756>\", line 2, in simulate_pyabc\n",
      "    result = simulate_epidemic(**parameter)\n",
      "  File \"/Users/s1743989/Documents/GitHub/ABSynth/Fitting_modules/ABCSMC/case_class_fitting.py\", line 50, in who_am_I\n",
      "    poss_case = random.choice(random.choice([hh_to_ppl[hh] for hh in cluster_to_hh[parent_individual.comm]\n",
      "  File \"/Users/s1743989/Documents/GitHub/ABSynth/Fitting_modules/ABCSMC/epidemic_function_fitting.py\", line 26, in run_epidemic\n",
      "    assignment = focal_case.who_am_I(infected_individuals_set, popn_size, option_dict_districtlevel, contact_structure, case_dict, parent, day, cfr, distributions) #Assign the current case id to an individual\n",
      "  File \"/Users/s1743989/anaconda3/lib/python3.6/random.py\", line 261, in choice\n",
      "    return seq[i]\n",
      "  File \"/Users/s1743989/anaconda3/lib/python3.6/site-packages/pyabc/model.py\", line 121, in summary_statistics\n",
      "    raw_data = self.sample(pars)\n",
      "  File \"/Users/s1743989/Documents/GitHub/ABSynth/Fitting_modules/ABCSMC/case_class_fitting.py\", line 50, in who_am_I\n",
      "    poss_case = random.choice(random.choice([hh_to_ppl[hh] for hh in cluster_to_hh[parent_individual.comm]\n",
      "  File \"<ipython-input-16-6213c32ec756>\", line 2, in simulate_pyabc\n",
      "    result = simulate_epidemic(**parameter)\n",
      "  File \"/Users/s1743989/anaconda3/lib/python3.6/site-packages/pyabc/smc.py\", line 491, in simulate_one\n",
      "    t, theta, summary_statistics)\n",
      "  File \"/Users/s1743989/Documents/GitHub/ABSynth/Fitting_modules/ABCSMC/Simulate_epidemic_fitting.py\", line 85, in simulate_epidemic\n",
      "    result = run_model(a, b, c, LTT, iteration_number_outside, distributions, contact_structure, capped, size_file, original_dist_mvmt, original_ch_mvmt, original_case_dict, original_day_dict, option_dict_district_level, infected_individuals_set, cdf_array, cdf_len_set, original_trans_dict, original_child_dict, original_nodes, original_onset_times)\n",
      "  File \"/Users/s1743989/anaconda3/lib/python3.6/site-packages/pyabc/model.py\", line 270, in sample\n",
      "    return self.sample_function(pars)\n",
      "KeyboardInterrupt\n",
      "  File \"/Users/s1743989/Documents/GitHub/ABSynth/Fitting_modules/ABCSMC/Simulate_epidemic_fitting.py\", line 85, in simulate_epidemic\n",
      "    result = run_model(a, b, c, LTT, iteration_number_outside, distributions, contact_structure, capped, size_file, original_dist_mvmt, original_ch_mvmt, original_case_dict, original_day_dict, option_dict_district_level, infected_individuals_set, cdf_array, cdf_len_set, original_trans_dict, original_child_dict, original_nodes, original_onset_times)\n",
      "  File \"<ipython-input-16-6213c32ec756>\", line 2, in simulate_pyabc\n",
      "    result = simulate_epidemic(**parameter)\n",
      "  File \"/Users/s1743989/anaconda3/lib/python3.6/random.py\", line 261, in choice\n",
      "    return seq[i]\n",
      "  File \"/Users/s1743989/Documents/GitHub/ABSynth/Fitting_modules/ABCSMC/Simulate_epidemic_fitting.py\", line 85, in simulate_epidemic\n",
      "    result = run_model(a, b, c, LTT, iteration_number_outside, distributions, contact_structure, capped, size_file, original_dist_mvmt, original_ch_mvmt, original_case_dict, original_day_dict, option_dict_district_level, infected_individuals_set, cdf_array, cdf_len_set, original_trans_dict, original_child_dict, original_nodes, original_onset_times)\n",
      "KeyboardInterrupt\n",
      "  File \"/Users/s1743989/Documents/GitHub/ABSynth/Fitting_modules/ABCSMC/Simulate_epidemic_fitting.py\", line 114, in run_model\n",
      "    day_dict, case_dict, nodes, trans_dict, child_dict, dist_mvmt, ch_mvmt, onset_times, epidemic_capped = run_epidemic(0, original_day_dict, susceptibles_left , original_case_dict, original_trans_dict, original_child_dict, infected_individuals_set, popn_size, option_dict_district_level, original_onset_times, original_nodes, cdf_len_set, cdf_array, original_dist_mvmt, original_ch_mvmt, contact_structure, cfr, distributions, iteration_count, capped, epidemic_length, case_limit, a, b, c)\n",
      "  File \"/Users/s1743989/anaconda3/lib/python3.6/site-packages/pyabc/model.py\", line 121, in summary_statistics\n",
      "    raw_data = self.sample(pars)\n"
     ]
    },
    {
     "name": "stderr",
     "output_type": "stream",
     "text": [
      "  File \"/Users/s1743989/Documents/GitHub/ABSynth/Fitting_modules/ABCSMC/epidemic_function_fitting.py\", line 26, in run_epidemic\n",
      "    assignment = focal_case.who_am_I(infected_individuals_set, popn_size, option_dict_districtlevel, contact_structure, case_dict, parent, day, cfr, distributions) #Assign the current case id to an individual\n",
      "  File \"/Users/s1743989/Documents/GitHub/ABSynth/Fitting_modules/ABCSMC/Simulate_epidemic_fitting.py\", line 114, in run_model\n",
      "    day_dict, case_dict, nodes, trans_dict, child_dict, dist_mvmt, ch_mvmt, onset_times, epidemic_capped = run_epidemic(0, original_day_dict, susceptibles_left , original_case_dict, original_trans_dict, original_child_dict, infected_individuals_set, popn_size, option_dict_district_level, original_onset_times, original_nodes, cdf_len_set, cdf_array, original_dist_mvmt, original_ch_mvmt, contact_structure, cfr, distributions, iteration_count, capped, epidemic_length, case_limit, a, b, c)\n",
      "  File \"/Users/s1743989/Documents/GitHub/ABSynth/Fitting_modules/ABCSMC/case_class_fitting.py\", line 50, in who_am_I\n",
      "    poss_case = random.choice(random.choice([hh_to_ppl[hh] for hh in cluster_to_hh[parent_individual.comm]\n",
      "  File \"/Users/s1743989/Documents/GitHub/ABSynth/Fitting_modules/ABCSMC/Simulate_epidemic_fitting.py\", line 114, in run_model\n",
      "    day_dict, case_dict, nodes, trans_dict, child_dict, dist_mvmt, ch_mvmt, onset_times, epidemic_capped = run_epidemic(0, original_day_dict, susceptibles_left , original_case_dict, original_trans_dict, original_child_dict, infected_individuals_set, popn_size, option_dict_district_level, original_onset_times, original_nodes, cdf_len_set, cdf_array, original_dist_mvmt, original_ch_mvmt, contact_structure, cfr, distributions, iteration_count, capped, epidemic_length, case_limit, a, b, c)\n",
      "  File \"/Users/s1743989/anaconda3/lib/python3.6/site-packages/pyabc/model.py\", line 270, in sample\n",
      "    return self.sample_function(pars)\n",
      "  File \"/Users/s1743989/Documents/GitHub/ABSynth/Fitting_modules/ABCSMC/case_class_fitting.py\", line 51, in <listcomp>\n",
      "    if hh != parent_individual.hh]))\n",
      "  File \"/Users/s1743989/Documents/GitHub/ABSynth/Fitting_modules/ABCSMC/epidemic_function_fitting.py\", line 26, in run_epidemic\n",
      "    assignment = focal_case.who_am_I(infected_individuals_set, popn_size, option_dict_districtlevel, contact_structure, case_dict, parent, day, cfr, distributions) #Assign the current case id to an individual\n",
      "KeyboardInterrupt\n",
      "  File \"/Users/s1743989/Documents/GitHub/ABSynth/Fitting_modules/ABCSMC/epidemic_function_fitting.py\", line 26, in run_epidemic\n",
      "    assignment = focal_case.who_am_I(infected_individuals_set, popn_size, option_dict_districtlevel, contact_structure, case_dict, parent, day, cfr, distributions) #Assign the current case id to an individual\n",
      "  File \"<ipython-input-16-6213c32ec756>\", line 2, in simulate_pyabc\n",
      "    result = simulate_epidemic(**parameter)\n",
      "  File \"/Users/s1743989/Documents/GitHub/ABSynth/Fitting_modules/ABCSMC/Simulate_epidemic_fitting.py\", line 85, in simulate_epidemic\n",
      "    result = run_model(a, b, c, LTT, iteration_number_outside, distributions, contact_structure, capped, size_file, original_dist_mvmt, original_ch_mvmt, original_case_dict, original_day_dict, option_dict_district_level, infected_individuals_set, cdf_array, cdf_len_set, original_trans_dict, original_child_dict, original_nodes, original_onset_times)\n",
      "  File \"/Users/s1743989/Documents/GitHub/ABSynth/Fitting_modules/ABCSMC/case_class_fitting.py\", line 50, in who_am_I\n",
      "    poss_case = random.choice(random.choice([hh_to_ppl[hh] for hh in cluster_to_hh[parent_individual.comm]\n",
      "  File \"/Users/s1743989/Documents/GitHub/ABSynth/Fitting_modules/ABCSMC/case_class_fitting.py\", line 50, in who_am_I\n",
      "    poss_case = random.choice(random.choice([hh_to_ppl[hh] for hh in cluster_to_hh[parent_individual.comm]\n",
      "  File \"/Users/s1743989/Documents/GitHub/ABSynth/Fitting_modules/ABCSMC/Simulate_epidemic_fitting.py\", line 114, in run_model\n",
      "    day_dict, case_dict, nodes, trans_dict, child_dict, dist_mvmt, ch_mvmt, onset_times, epidemic_capped = run_epidemic(0, original_day_dict, susceptibles_left , original_case_dict, original_trans_dict, original_child_dict, infected_individuals_set, popn_size, option_dict_district_level, original_onset_times, original_nodes, cdf_len_set, cdf_array, original_dist_mvmt, original_ch_mvmt, contact_structure, cfr, distributions, iteration_count, capped, epidemic_length, case_limit, a, b, c)\n",
      "  File \"/Users/s1743989/Documents/GitHub/ABSynth/Fitting_modules/ABCSMC/case_class_fitting.py\", line 51, in <listcomp>\n",
      "    if hh != parent_individual.hh]))\n",
      "  File \"/Users/s1743989/Documents/GitHub/ABSynth/Fitting_modules/ABCSMC/case_class_fitting.py\", line 51, in <listcomp>\n",
      "    if hh != parent_individual.hh]))\n",
      "  File \"/Users/s1743989/Documents/GitHub/ABSynth/Fitting_modules/ABCSMC/epidemic_function_fitting.py\", line 26, in run_epidemic\n",
      "    assignment = focal_case.who_am_I(infected_individuals_set, popn_size, option_dict_districtlevel, contact_structure, case_dict, parent, day, cfr, distributions) #Assign the current case id to an individual\n",
      "KeyboardInterrupt\n",
      "  File \"/Users/s1743989/Documents/GitHub/ABSynth/Fitting_modules/ABCSMC/case_class_fitting.py\", line 50, in who_am_I\n",
      "    poss_case = random.choice(random.choice([hh_to_ppl[hh] for hh in cluster_to_hh[parent_individual.comm]\n",
      "KeyboardInterrupt\n",
      "KeyboardInterrupt\n"
     ]
    }
   ],
   "source": [
    "db_path = (\"sqlite:///\" +\n",
    "           os.path.join(tempfile.gettempdir(), \"test.db\"))\n",
    "\n",
    "abc_id = abc.new(db_path, observed)\n",
    "\n",
    "history = abc.run(max_nr_populations=10, minimum_epsilon=0.1)"
   ]
  },
  {
   "cell_type": "code",
   "execution_count": 21,
   "metadata": {},
   "outputs": [
    {
     "name": "stdout",
     "output_type": "stream",
     "text": [
      "[0.07647163596358295, 3.289486088152504e-05, 0.20775744412099748, 0.715588994701951, 0.00014903035258703715]\n"
     ]
    }
   ],
   "source": [
    "print(new_LTT)\n"
   ]
  },
  {
   "cell_type": "code",
   "execution_count": 32,
   "metadata": {},
   "outputs": [
    {
     "name": "stdout",
     "output_type": "stream",
     "text": [
      "0\n",
      "10\n"
     ]
    },
    {
     "name": "stderr",
     "output_type": "stream",
     "text": [
      "/Users/s1743989/anaconda3/lib/python3.6/site-packages/ipykernel_launcher.py:9: FutureWarning: elementwise comparison failed; returning scalar instead, but in the future will perform elementwise comparison\n",
      "  if __name__ == '__main__':\n"
     ]
    },
    {
     "name": "stdout",
     "output_type": "stream",
     "text": [
      "<class 'numpy.ndarray'> <class 'int'> <class 'int'>\n",
      "20\n",
      "30\n",
      "40\n"
     ]
    },
    {
     "ename": "KeyboardInterrupt",
     "evalue": "",
     "output_type": "error",
     "traceback": [
      "\u001b[0;31m---------------------------------------------------------------------------\u001b[0m",
      "\u001b[0;31mKeyboardInterrupt\u001b[0m                         Traceback (most recent call last)",
      "\u001b[0;32m<ipython-input-32-9269e8ac9d76>\u001b[0m in \u001b[0;36m<module>\u001b[0;34m\u001b[0m\n\u001b[1;32m      6\u001b[0m     \u001b[0;32mif\u001b[0m \u001b[0mi\u001b[0m \u001b[0;34m%\u001b[0m\u001b[0;36m10\u001b[0m \u001b[0;34m==\u001b[0m \u001b[0;36m0\u001b[0m\u001b[0;34m:\u001b[0m\u001b[0;34m\u001b[0m\u001b[0;34m\u001b[0m\u001b[0m\n\u001b[1;32m      7\u001b[0m         \u001b[0mprint\u001b[0m\u001b[0;34m(\u001b[0m\u001b[0mi\u001b[0m\u001b[0;34m)\u001b[0m\u001b[0;34m\u001b[0m\u001b[0;34m\u001b[0m\u001b[0m\n\u001b[0;32m----> 8\u001b[0;31m     \u001b[0mresult\u001b[0m \u001b[0;34m=\u001b[0m \u001b[0msimulate_epidemic\u001b[0m\u001b[0;34m(\u001b[0m\u001b[0ma\u001b[0m\u001b[0;34m,\u001b[0m\u001b[0mb\u001b[0m\u001b[0;34m,\u001b[0m\u001b[0mc\u001b[0m\u001b[0;34m)\u001b[0m\u001b[0;34m\u001b[0m\u001b[0;34m\u001b[0m\u001b[0m\n\u001b[0m\u001b[1;32m      9\u001b[0m     \u001b[0;32mif\u001b[0m \u001b[0mresult\u001b[0m\u001b[0;34m[\u001b[0m\u001b[0;36m0\u001b[0m\u001b[0;34m]\u001b[0m \u001b[0;34m!=\u001b[0m \u001b[0;34m\"W\"\u001b[0m\u001b[0;34m:\u001b[0m\u001b[0;34m\u001b[0m\u001b[0;34m\u001b[0m\u001b[0m\n\u001b[1;32m     10\u001b[0m \u001b[0;34m\u001b[0m\u001b[0m\n",
      "\u001b[0;32m~/Documents/GitHub/ABSynth/Fitting_modules/ABCSMC/Simulate_epidemic_fitting.py\u001b[0m in \u001b[0;36msimulate_epidemic\u001b[0;34m(a, b, c, distributions, contact_structure, district_keys, ch_keys, size_file)\u001b[0m\n\u001b[1;32m     83\u001b[0m     \u001b[0miteration_number_outside\u001b[0m \u001b[0;34m=\u001b[0m \u001b[0;36m1\u001b[0m\u001b[0;34m\u001b[0m\u001b[0;34m\u001b[0m\u001b[0m\n\u001b[1;32m     84\u001b[0m \u001b[0;34m\u001b[0m\u001b[0m\n\u001b[0;32m---> 85\u001b[0;31m     \u001b[0mresult\u001b[0m \u001b[0;34m=\u001b[0m \u001b[0mrun_model\u001b[0m\u001b[0;34m(\u001b[0m\u001b[0ma\u001b[0m\u001b[0;34m,\u001b[0m \u001b[0mb\u001b[0m\u001b[0;34m,\u001b[0m \u001b[0mc\u001b[0m\u001b[0;34m,\u001b[0m \u001b[0mLTT\u001b[0m\u001b[0;34m,\u001b[0m \u001b[0miteration_number_outside\u001b[0m\u001b[0;34m,\u001b[0m \u001b[0mdistributions\u001b[0m\u001b[0;34m,\u001b[0m \u001b[0mcontact_structure\u001b[0m\u001b[0;34m,\u001b[0m \u001b[0mcapped\u001b[0m\u001b[0;34m,\u001b[0m \u001b[0msize_file\u001b[0m\u001b[0;34m,\u001b[0m \u001b[0moriginal_dist_mvmt\u001b[0m\u001b[0;34m,\u001b[0m \u001b[0moriginal_ch_mvmt\u001b[0m\u001b[0;34m,\u001b[0m \u001b[0moriginal_case_dict\u001b[0m\u001b[0;34m,\u001b[0m \u001b[0moriginal_day_dict\u001b[0m\u001b[0;34m,\u001b[0m \u001b[0moption_dict_district_level\u001b[0m\u001b[0;34m,\u001b[0m \u001b[0minfected_individuals_set\u001b[0m\u001b[0;34m,\u001b[0m \u001b[0mcdf_array\u001b[0m\u001b[0;34m,\u001b[0m \u001b[0mcdf_len_set\u001b[0m\u001b[0;34m,\u001b[0m \u001b[0moriginal_trans_dict\u001b[0m\u001b[0;34m,\u001b[0m \u001b[0moriginal_child_dict\u001b[0m\u001b[0;34m,\u001b[0m \u001b[0moriginal_nodes\u001b[0m\u001b[0;34m,\u001b[0m \u001b[0moriginal_onset_times\u001b[0m\u001b[0;34m)\u001b[0m\u001b[0;34m\u001b[0m\u001b[0;34m\u001b[0m\u001b[0m\n\u001b[0m\u001b[1;32m     86\u001b[0m \u001b[0;34m\u001b[0m\u001b[0m\n\u001b[1;32m     87\u001b[0m     \u001b[0;32mreturn\u001b[0m \u001b[0mresult\u001b[0m\u001b[0;34m\u001b[0m\u001b[0;34m\u001b[0m\u001b[0m\n",
      "\u001b[0;32m~/Documents/GitHub/ABSynth/Fitting_modules/ABCSMC/Simulate_epidemic_fitting.py\u001b[0m in \u001b[0;36mrun_model\u001b[0;34m(a, b, c, LTT, iteration_number, distributions, contact_structure, capped, size_file, original_dist_mvmt, original_ch_mvmt, original_case_dict, original_day_dict, option_dict_district_level, infected_individuals_set, cdf_array, cdf_len_set, original_trans_dict, original_child_dict, original_nodes, original_onset_times)\u001b[0m\n\u001b[1;32m    112\u001b[0m \u001b[0;34m\u001b[0m\u001b[0m\n\u001b[1;32m    113\u001b[0m         \u001b[0;31m###Run the epidemic###\u001b[0m\u001b[0;34m\u001b[0m\u001b[0;34m\u001b[0m\u001b[0;34m\u001b[0m\u001b[0m\n\u001b[0;32m--> 114\u001b[0;31m         \u001b[0mday_dict\u001b[0m\u001b[0;34m,\u001b[0m \u001b[0mcase_dict\u001b[0m\u001b[0;34m,\u001b[0m \u001b[0mnodes\u001b[0m\u001b[0;34m,\u001b[0m \u001b[0mtrans_dict\u001b[0m\u001b[0;34m,\u001b[0m \u001b[0mchild_dict\u001b[0m\u001b[0;34m,\u001b[0m \u001b[0mdist_mvmt\u001b[0m\u001b[0;34m,\u001b[0m \u001b[0mch_mvmt\u001b[0m\u001b[0;34m,\u001b[0m \u001b[0monset_times\u001b[0m\u001b[0;34m,\u001b[0m \u001b[0mepidemic_capped\u001b[0m \u001b[0;34m=\u001b[0m \u001b[0mrun_epidemic\u001b[0m\u001b[0;34m(\u001b[0m\u001b[0;36m0\u001b[0m\u001b[0;34m,\u001b[0m \u001b[0moriginal_day_dict\u001b[0m\u001b[0;34m,\u001b[0m \u001b[0msusceptibles_left\u001b[0m \u001b[0;34m,\u001b[0m \u001b[0moriginal_case_dict\u001b[0m\u001b[0;34m,\u001b[0m \u001b[0moriginal_trans_dict\u001b[0m\u001b[0;34m,\u001b[0m \u001b[0moriginal_child_dict\u001b[0m\u001b[0;34m,\u001b[0m \u001b[0minfected_individuals_set\u001b[0m\u001b[0;34m,\u001b[0m \u001b[0mpopn_size\u001b[0m\u001b[0;34m,\u001b[0m \u001b[0moption_dict_district_level\u001b[0m\u001b[0;34m,\u001b[0m \u001b[0moriginal_onset_times\u001b[0m\u001b[0;34m,\u001b[0m \u001b[0moriginal_nodes\u001b[0m\u001b[0;34m,\u001b[0m \u001b[0mcdf_len_set\u001b[0m\u001b[0;34m,\u001b[0m \u001b[0mcdf_array\u001b[0m\u001b[0;34m,\u001b[0m \u001b[0moriginal_dist_mvmt\u001b[0m\u001b[0;34m,\u001b[0m \u001b[0moriginal_ch_mvmt\u001b[0m\u001b[0;34m,\u001b[0m \u001b[0mcontact_structure\u001b[0m\u001b[0;34m,\u001b[0m \u001b[0mcfr\u001b[0m\u001b[0;34m,\u001b[0m \u001b[0mdistributions\u001b[0m\u001b[0;34m,\u001b[0m \u001b[0miteration_count\u001b[0m\u001b[0;34m,\u001b[0m \u001b[0mcapped\u001b[0m\u001b[0;34m,\u001b[0m \u001b[0mepidemic_length\u001b[0m\u001b[0;34m,\u001b[0m \u001b[0mcase_limit\u001b[0m\u001b[0;34m,\u001b[0m \u001b[0ma\u001b[0m\u001b[0;34m,\u001b[0m \u001b[0mb\u001b[0m\u001b[0;34m,\u001b[0m \u001b[0mc\u001b[0m\u001b[0;34m)\u001b[0m\u001b[0;34m\u001b[0m\u001b[0;34m\u001b[0m\u001b[0m\n\u001b[0m\u001b[1;32m    115\u001b[0m \u001b[0;34m\u001b[0m\u001b[0m\n\u001b[1;32m    116\u001b[0m \u001b[0;34m\u001b[0m\u001b[0m\n",
      "\u001b[0;32m~/Documents/GitHub/ABSynth/Fitting_modules/ABCSMC/epidemic_function_fitting.py\u001b[0m in \u001b[0;36mrun_epidemic\u001b[0;34m(start_day, day_dict, susceptibles_left, case_dict, trans_dict, child_dict, infected_individuals_set, popn_size, option_dict_districtlevel, onset_times, nodes, cdf_len_set, cdf_array, dist_mvmt, ch_mvmt, contact_structure, cfr, distributions, iteration_count, capped, epidemic_length, case_limit, a, b, c)\u001b[0m\n\u001b[1;32m     24\u001b[0m \u001b[0;34m\u001b[0m\u001b[0m\n\u001b[1;32m     25\u001b[0m                     \u001b[0;31m#May need to check that the new individual is coming out of this\u001b[0m\u001b[0;34m\u001b[0m\u001b[0;34m\u001b[0m\u001b[0;34m\u001b[0m\u001b[0m\n\u001b[0;32m---> 26\u001b[0;31m                     \u001b[0massignment\u001b[0m \u001b[0;34m=\u001b[0m \u001b[0mfocal_case\u001b[0m\u001b[0;34m.\u001b[0m\u001b[0mwho_am_I\u001b[0m\u001b[0;34m(\u001b[0m\u001b[0minfected_individuals_set\u001b[0m\u001b[0;34m,\u001b[0m \u001b[0mpopn_size\u001b[0m\u001b[0;34m,\u001b[0m \u001b[0moption_dict_districtlevel\u001b[0m\u001b[0;34m,\u001b[0m \u001b[0mcontact_structure\u001b[0m\u001b[0;34m,\u001b[0m \u001b[0mcase_dict\u001b[0m\u001b[0;34m,\u001b[0m \u001b[0mparent\u001b[0m\u001b[0;34m,\u001b[0m \u001b[0mday\u001b[0m\u001b[0;34m,\u001b[0m \u001b[0mcfr\u001b[0m\u001b[0;34m,\u001b[0m \u001b[0mdistributions\u001b[0m\u001b[0;34m)\u001b[0m \u001b[0;31m#Assign the current case id to an individual\u001b[0m\u001b[0;34m\u001b[0m\u001b[0;34m\u001b[0m\u001b[0m\n\u001b[0m\u001b[1;32m     27\u001b[0m \u001b[0;34m\u001b[0m\u001b[0m\n\u001b[1;32m     28\u001b[0m                     \u001b[0;32mif\u001b[0m \u001b[0massignment\u001b[0m \u001b[0;34m==\u001b[0m \u001b[0;32mNone\u001b[0m \u001b[0;32mand\u001b[0m \u001b[0mday\u001b[0m \u001b[0;34m!=\u001b[0m \u001b[0;36m0\u001b[0m\u001b[0;34m:\u001b[0m \u001b[0;31m#If individual is already infected\u001b[0m\u001b[0;34m\u001b[0m\u001b[0;34m\u001b[0m\u001b[0m\n",
      "\u001b[0;32m~/Documents/GitHub/ABSynth/Fitting_modules/ABCSMC/case_class_fitting.py\u001b[0m in \u001b[0;36mwho_am_I\u001b[0;34m(self, infected_individuals_set, popn_size, option_dict_districtlevel, contact_structure, case_dict, parent_individual, day, cfr, distributions)\u001b[0m\n\u001b[1;32m     48\u001b[0m \u001b[0;34m\u001b[0m\u001b[0m\n\u001b[1;32m     49\u001b[0m         \u001b[0;32melif\u001b[0m \u001b[0mself\u001b[0m\u001b[0;34m.\u001b[0m\u001b[0mlevel\u001b[0m \u001b[0;34m==\u001b[0m \u001b[0;34m\"Comm\"\u001b[0m\u001b[0;34m:\u001b[0m\u001b[0;34m\u001b[0m\u001b[0;34m\u001b[0m\u001b[0m\n\u001b[0;32m---> 50\u001b[0;31m             poss_case = random.choice(random.choice([hh_to_ppl[hh] for hh in cluster_to_hh[parent_individual.comm] \n\u001b[0m\u001b[1;32m     51\u001b[0m                                                 if hh != parent_individual.hh]))\n\u001b[1;32m     52\u001b[0m \u001b[0;34m\u001b[0m\u001b[0m\n",
      "\u001b[0;32m~/Documents/GitHub/ABSynth/Fitting_modules/ABCSMC/case_class_fitting.py\u001b[0m in \u001b[0;36m<listcomp>\u001b[0;34m(.0)\u001b[0m\n\u001b[1;32m     49\u001b[0m         \u001b[0;32melif\u001b[0m \u001b[0mself\u001b[0m\u001b[0;34m.\u001b[0m\u001b[0mlevel\u001b[0m \u001b[0;34m==\u001b[0m \u001b[0;34m\"Comm\"\u001b[0m\u001b[0;34m:\u001b[0m\u001b[0;34m\u001b[0m\u001b[0;34m\u001b[0m\u001b[0m\n\u001b[1;32m     50\u001b[0m             poss_case = random.choice(random.choice([hh_to_ppl[hh] for hh in cluster_to_hh[parent_individual.comm] \n\u001b[0;32m---> 51\u001b[0;31m                                                 if hh != parent_individual.hh]))\n\u001b[0m\u001b[1;32m     52\u001b[0m \u001b[0;34m\u001b[0m\u001b[0m\n\u001b[1;32m     53\u001b[0m \u001b[0;34m\u001b[0m\u001b[0m\n",
      "\u001b[0;31mKeyboardInterrupt\u001b[0m: "
     ]
    }
   ],
   "source": [
    "a=0.97\n",
    "b=0.05 \n",
    "c=0.15\n",
    "\n",
    "for i in range(100):\n",
    "    if i %10 == 0:\n",
    "        print(i)\n",
    "    result = simulate_epidemic(a,b,c)\n",
    "    if result[0] != \"W\":\n",
    "       \n",
    "        print(type(result[0]), type(result[1]), type(result[2]))"
   ]
  },
  {
   "cell_type": "code",
   "execution_count": 6,
   "metadata": {
    "collapsed": true
   },
   "outputs": [],
   "source": [
    "import numpy as np\n",
    "def distance(x,y): #inputs are the dictionaries\n",
    "    \n",
    "    new_a_x = np.array(x['a'])\n",
    "    new_a_y = np.array(y['a'])\n",
    "    \n",
    "    if new_a_x.size == new_a_y.size:\n",
    "        dist_a = np.linalg.norm(new_a_x - new_a_y)\n",
    "    else:\n",
    "        dist_a = 1\n",
    "    \n",
    "    dist_b = np.linalg.norm(x[\"b\"] - y[\"b\"])\n",
    "    dist_c = np.linalg.norm(x[\"c\"] - y[\"c\"])\n",
    "    \n",
    "    final_b = dist_b/y[\"b\"]\n",
    "    final_c = dist_c/y[\"c\"]\n",
    "\n",
    "    dist = dist_a + final_b + final_c\n",
    "    \n",
    "    return dist\n",
    "    "
   ]
  },
  {
   "cell_type": "code",
   "execution_count": 4,
   "metadata": {
    "collapsed": true
   },
   "outputs": [],
   "source": [
    "def normalise(vector):\n",
    "    norm=np.linalg.norm(vector, ord=1)\n",
    "    return vector/norm"
   ]
  },
  {
   "cell_type": "code",
   "execution_count": 39,
   "metadata": {
    "collapsed": true
   },
   "outputs": [],
   "source": [
    "b1 = 25\n",
    "b2 = 30\n",
    "\n",
    "c1 = 87\n",
    "c2 = 90\n",
    "\n",
    "a1_pre = [5,13000,0.00000004,300000000]\n",
    "a2_pre = [600,23,12,5]\n",
    "\n",
    "a1 = normalise(a1_pre)\n",
    "a2 = normalise(a2_pre)"
   ]
  },
  {
   "cell_type": "code",
   "execution_count": 40,
   "metadata": {},
   "outputs": [
    {
     "data": {
      "text/plain": [
       "array([1.66659442e-08, 4.33314549e-05, 1.33327554e-16, 9.99956652e-01])"
      ]
     },
     "execution_count": 40,
     "metadata": {},
     "output_type": "execute_result"
    }
   ],
   "source": [
    "#print(sum(a1))\n",
    "\n",
    "new_a1 = np.array(a1)\n",
    "new_a2 = np.array(a2)\n",
    "\n",
    "new_a1 "
   ]
  },
  {
   "cell_type": "code",
   "execution_count": 41,
   "metadata": {
    "collapsed": true
   },
   "outputs": [],
   "source": [
    "dist_a = np.linalg.norm(new_a2 - new_a1)"
   ]
  },
  {
   "cell_type": "code",
   "execution_count": 42,
   "metadata": {},
   "outputs": [
    {
     "name": "stdout",
     "output_type": "stream",
     "text": [
      "1.3656120205588693\n"
     ]
    }
   ],
   "source": [
    "print(dist_a)"
   ]
  },
  {
   "cell_type": "code",
   "execution_count": null,
   "metadata": {
    "collapsed": true
   },
   "outputs": [],
   "source": [
    "#so 1 isn't the biggest distance it can be. It looks like it's 2"
   ]
  }
 ],
 "metadata": {
  "kernelspec": {
   "display_name": "Python 3",
   "language": "python",
   "name": "python3"
  },
  "language_info": {
   "codemirror_mode": {
    "name": "ipython",
    "version": 3
   },
   "file_extension": ".py",
   "mimetype": "text/x-python",
   "name": "python",
   "nbconvert_exporter": "python",
   "pygments_lexer": "ipython3",
   "version": "3.6.8"
  }
 },
 "nbformat": 4,
 "nbformat_minor": 2
}
