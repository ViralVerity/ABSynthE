{
 "cells": [
  {
   "cell_type": "code",
   "execution_count": 47,
   "metadata": {},
   "outputs": [],
   "source": [
    "import dendropy\n",
    "import numpy as np\n",
    "import statistics\n",
    "from collections import Counter\n",
    "from collections import defaultdict\n",
    "\n",
    "from io import StringIO\n",
    "from re import *\n",
    "\n",
    "import json\n",
    "import datetime as dt"
   ]
  },
  {
   "cell_type": "markdown",
   "metadata": {},
   "source": [
    "## Prune full tree to first epoch"
   ]
  },
  {
   "cell_type": "code",
   "execution_count": 121,
   "metadata": {},
   "outputs": [],
   "source": [
    "tree = dendropy.Tree.get(path=\"full_epidemic_tree.mcc\", schema='nexus')"
   ]
  },
  {
   "cell_type": "code",
   "execution_count": 122,
   "metadata": {},
   "outputs": [],
   "source": [
    "for node in tree.preorder_node_iter():\n",
    "    if node.distance_from_root() == 0:\n",
    "        root = node"
   ]
  },
  {
   "cell_type": "code",
   "execution_count": 123,
   "metadata": {
    "scrolled": true
   },
   "outputs": [],
   "source": [
    "keep = []\n",
    "all_seqs = []\n",
    "for node in tree.leaf_node_iter():\n",
    "    if node.distance_from_root() <= 0.3866:\n",
    "        keep.append(node.taxon.label)\n",
    "    all_seqs.append(node.taxon.label)\n",
    "    "
   ]
  },
  {
   "cell_type": "code",
   "execution_count": 124,
   "metadata": {},
   "outputs": [
    {
     "name": "stdout",
     "output_type": "stream",
     "text": [
      "214\n",
      "1284\n"
     ]
    }
   ],
   "source": [
    "print(len(keep))\n",
    "print(len(all_seqs))"
   ]
  },
  {
   "cell_type": "code",
   "execution_count": 125,
   "metadata": {},
   "outputs": [],
   "source": [
    "tree.retain_taxa_with_labels(keep)"
   ]
  },
  {
   "cell_type": "code",
   "execution_count": 126,
   "metadata": {},
   "outputs": [
    {
     "name": "stdout",
     "output_type": "stream",
     "text": [
      "214\n"
     ]
    },
    {
     "name": "stderr",
     "output_type": "stream",
     "text": [
      "/usr/local/lib/python3.7/site-packages/ipykernel_launcher.py:2: CriticalDeprecationWarning: Deprecated since DendroPy 4: 'leaf_iter()' will no longer be supported in future releases; use 'leaf_node_iter()' instead\n",
      "  \n"
     ]
    }
   ],
   "source": [
    "count = 0\n",
    "for i in tree.leaf_iter():\n",
    "    count += 1\n",
    "print(count)"
   ]
  },
  {
   "cell_type": "code",
   "execution_count": 229,
   "metadata": {},
   "outputs": [],
   "source": [
    "tree.write(path=\"pruned_tree.nexus\", schema=\"nexus\")"
   ]
  },
  {
   "cell_type": "markdown",
   "metadata": {},
   "source": [
    "## Branch length\n",
    "\n",
    "- max_H = Sum of branch lengths between root and farthest leaf\n",
    "- min_H = sum of branch lengths between root and closest leaf\n",
    "- a_BL_mean = mean length of all branches\n",
    "- a_BL_median = median\n",
    "- a_BL_var = variance\n",
    "- e_BL_mean = mean length of external branches\n",
    "- e_BL_median = median len of external branches\n",
    "- e_BL_var = variance\n",
    "- i_BL_mean = internal branch len mean\n",
    "- i_BL_median\n",
    "- i_BL_var"
   ]
  },
  {
   "cell_type": "code",
   "execution_count": 127,
   "metadata": {},
   "outputs": [
    {
     "name": "stdout",
     "output_type": "stream",
     "text": [
      "0.3859675963699254\n",
      "0.11747444568536669\n"
     ]
    }
   ],
   "source": [
    "#max_h and min_h\n",
    "path_lens = []\n",
    "for i in tree.leaf_node_iter():\n",
    "    path_lens.append(i.distance_from_root())\n",
    "    \n",
    "print(max(path_lens))\n",
    "print(min(path_lens))"
   ]
  },
  {
   "cell_type": "code",
   "execution_count": 128,
   "metadata": {},
   "outputs": [
    {
     "name": "stdout",
     "output_type": "stream",
     "text": [
      "0.035080050967117304\n",
      "0.021939933283573243\n",
      "0.0013770629364285776\n"
     ]
    }
   ],
   "source": [
    "# all branches\n",
    "all_branch = []\n",
    "for i in tree.preorder_node_iter():\n",
    "    if i.edge_length:\n",
    "        all_branch.append(i.edge_length)\n",
    "    \n",
    "print(np.mean(all_branch))\n",
    "print(np.median(all_branch))\n",
    "print(np.var(all_branch))"
   ]
  },
  {
   "cell_type": "code",
   "execution_count": 129,
   "metadata": {},
   "outputs": [
    {
     "name": "stdout",
     "output_type": "stream",
     "text": [
      "0.051805151396388485\n",
      "0.04441308703686353\n",
      "0.001384042360694057\n"
     ]
    }
   ],
   "source": [
    "#external branches\n",
    "e_branch_lens = []\n",
    "for i in tree.leaf_node_iter():\n",
    "    e_branch_lens.append(i.edge_length)\n",
    "    \n",
    "print(np.mean(e_branch_lens))\n",
    "print(np.median(e_branch_lens))\n",
    "print(np.var(e_branch_lens))"
   ]
  },
  {
   "cell_type": "code",
   "execution_count": 130,
   "metadata": {},
   "outputs": [
    {
     "name": "stdout",
     "output_type": "stream",
     "text": [
      "0.018197166571532235\n",
      "0.0072969106972364806\n",
      "0.0008026179459713262\n"
     ]
    }
   ],
   "source": [
    "# internal branches\n",
    "i_branch_lens = []\n",
    "for i in tree.preorder_node_iter():\n",
    "    if not i.taxon and i.edge_length:\n",
    "        i_branch_lens.append(i.edge_length)\n",
    "        \n",
    "print(np.mean(i_branch_lens))\n",
    "print(np.median(i_branch_lens))\n",
    "print(np.var(i_branch_lens))"
   ]
  },
  {
   "cell_type": "code",
   "execution_count": 131,
   "metadata": {},
   "outputs": [
    {
     "name": "stdout",
     "output_type": "stream",
     "text": [
      "0.35126171975246506\n",
      "0.16429640865044878\n",
      "0.5799085120262046\n"
     ]
    }
   ],
   "source": [
    "# ratios\n",
    "print(np.mean(i_branch_lens)/np.mean(e_branch_lens))\n",
    "print(np.median(i_branch_lens)/np.median(e_branch_lens))\n",
    "print(np.var(i_branch_lens)/np.var(e_branch_lens))"
   ]
  },
  {
   "cell_type": "markdown",
   "metadata": {},
   "source": [
    "## Topology set"
   ]
  },
  {
   "cell_type": "code",
   "execution_count": 340,
   "metadata": {},
   "outputs": [],
   "source": [
    "node_to_all_children = defaultdict(list)\n",
    "  \n",
    "for node in tree.postorder_node_iter():\n",
    "    if not node.taxon:\n",
    "        node_to_all_children[node].extend(node._child_nodes)\n",
    "        for child in node._child_nodes:\n",
    "            node_to_all_children[node].extend(node_to_all_children[child])\n",
    "    else:\n",
    "        node_to_all_children[node] = []\n",
    "\n",
    "\n"
   ]
  },
  {
   "cell_type": "code",
   "execution_count": 346,
   "metadata": {},
   "outputs": [
    {
     "name": "stdout",
     "output_type": "stream",
     "text": [
      "2168\n"
     ]
    }
   ],
   "source": [
    "differences = []\n",
    "\n",
    "for node in tree.preorder_node_iter():\n",
    "    if not node.taxon:\n",
    "        direct_children = node._child_nodes\n",
    "        left = direct_children[0]\n",
    "        right = direct_children[1]\n",
    "        left_count = 0\n",
    "        right_count = 0\n",
    "        if not left.taxon :\n",
    "            for query in node_to_all_children[left]:\n",
    "                if query.taxon:\n",
    "                    left_count += 1\n",
    "        else:\n",
    "            left_count += 1\n",
    "            \n",
    "        if not right.taxon:\n",
    "            for query in node_to_all_children[right]:\n",
    "                if query.taxon:\n",
    "                    right_count += 1\n",
    "        else:\n",
    "            right_count += 1\n",
    "\n",
    "        differences.append(abs(left_count - right_count))\n",
    "        \n",
    "print(sum(differences))"
   ]
  },
  {
   "cell_type": "code",
   "execution_count": 345,
   "metadata": {},
   "outputs": [
    {
     "name": "stdout",
     "output_type": "stream",
     "text": [
      "0.704225352112676\n",
      "0.5386550674701448\n"
     ]
    }
   ],
   "source": [
    "#staircaseness\n",
    "\n",
    "uneven = 0\n",
    "ratio_list = []\n",
    "\n",
    "for node in tree.preorder_node_iter():\n",
    "    if not node.taxon:\n",
    "        direct_children = node._child_nodes\n",
    "        left = direct_children[0]\n",
    "        right = direct_children[1]\n",
    "        left_count = 0\n",
    "        right_count = 0\n",
    "        if not left.taxon :\n",
    "            for query in node_to_all_children[left]:\n",
    "                if query.taxon:\n",
    "                    left_count += 1\n",
    "        else:\n",
    "            left_count += 1\n",
    "            \n",
    "        if not right.taxon:\n",
    "            for query in node_to_all_children[right]:\n",
    "                if query.taxon:\n",
    "                    right_count += 1\n",
    "        else:\n",
    "            right_count += 1\n",
    "\n",
    "                \n",
    "        if left_count != right_count:\n",
    "            uneven += 1\n",
    "        \n",
    "        \n",
    "        if left_count < right_count:\n",
    "            ratio = left_count/right_count\n",
    "        else:\n",
    "            ratio = right_count/left_count\n",
    "       \n",
    "\n",
    "\n",
    "        ratio_list.append(ratio)\n",
    "            \n",
    "print(uneven/len(all_internals))\n",
    "print(np.mean(ratio_list))"
   ]
  },
  {
   "cell_type": "code",
   "execution_count": 349,
   "metadata": {},
   "outputs": [
    {
     "name": "stdout",
     "output_type": "stream",
     "text": [
      "3204\n"
     ]
    },
    {
     "name": "stderr",
     "output_type": "stream",
     "text": [
      "/usr/local/lib/python3.7/site-packages/ipykernel_launcher.py:11: CriticalDeprecationWarning: Deprecated since DendroPy 4: 'leaf_iter()' will no longer be supported in future releases; use 'leaf_node_iter()' instead\n",
      "  # This is added back by InteractiveShellApp.init_path()\n"
     ]
    }
   ],
   "source": [
    "leaf_paths = []\n",
    "def get_full_path(lst,node, count):\n",
    "    if node == root:\n",
    "        lst.append(count)\n",
    "        return\n",
    "    else:\n",
    "        count += 1\n",
    "        get_full_path(lst, node.parent_node, count)\n",
    "\n",
    "            \n",
    "for leaf in tree.leaf_iter():\n",
    "    get_full_path(leaf_paths,leaf,0)\n",
    "    \n",
    "print(sum(leaf_paths))"
   ]
  },
  {
   "cell_type": "code",
   "execution_count": 168,
   "metadata": {},
   "outputs": [
    {
     "name": "stdout",
     "output_type": "stream",
     "text": [
      "0.75\n",
      "18\n"
     ]
    }
   ],
   "source": [
    "#Width ones\n",
    "\n",
    "all_paths = []\n",
    "for node in tree.preorder_node_iter():\n",
    "    get_full_path(all_paths, node, 0)\n",
    "\n",
    "depths = []\n",
    "for i in all_paths:\n",
    "    depth = i+1\n",
    "    depths.append(depth)\n",
    "max_depth = max(depths)\n",
    "    \n",
    "widths = Counter(depths)\n",
    "max_width = max(widths.items(), key = lambda k : k[1])[0]\n",
    "\n",
    "WD_ratio = max_width/max_depth\n",
    "print(WD_ratio)\n"
   ]
  },
  {
   "cell_type": "code",
   "execution_count": 197,
   "metadata": {},
   "outputs": [
    {
     "name": "stdout",
     "output_type": "stream",
     "text": [
      "12\n"
     ]
    }
   ],
   "source": [
    "index = 0\n",
    "diffs = []\n",
    "for depth, count in widths.items():\n",
    "    if index > 0:\n",
    "        width_diff = abs(count - widths[index-1])\n",
    "        diffs.append(width_diff)\n",
    "    index += 1\n",
    "\n",
    "print(max(diffs))"
   ]
  },
  {
   "cell_type": "code",
   "execution_count": 350,
   "metadata": {},
   "outputs": [],
   "source": [
    "##ladder ones\n",
    "\n",
    "def go_up_ladder(node, node_set, ladder, ladder_list):\n",
    "    \n",
    "    if node == root:\n",
    "        return\n",
    "            \n",
    "    if len(node.sibling_nodes()) == 1:\n",
    "        if node.taxon:\n",
    "            if not node.sibling_nodes()[0].taxon:\n",
    "                if node.parent_node not in node_set:\n",
    "                    ladder.append(node.parent_node)\n",
    "                    node_set.add(node.parent_node)\n",
    "                    go_up_ladder(node.parent_node, node_set, ladder, ladder_list)\n",
    "                else:\n",
    "                    ladder_list.append(ladder)\n",
    "                    return\n",
    "            else:\n",
    "                ladder_list.append(ladder)\n",
    "                return\n",
    "        else:\n",
    "            if node.sibling_nodes()[0].taxon:\n",
    "                if node.parent_node not in node_set:\n",
    "                    ladder.append(node.parent_node)\n",
    "                    go_up_ladder(node.parent_node,node_set, ladder, ladder_list)\n",
    "                    node_set.add(node.parent_node)\n",
    "                else:\n",
    "                    ladder_list.append(ladder)\n",
    "                    return\n",
    "            else:\n",
    "                ladder_list.append(ladder)\n",
    "                return\n",
    "    else:\n",
    "        print('here')\n",
    "        ladder_list.append(ladder)\n",
    "        return"
   ]
  },
  {
   "cell_type": "code",
   "execution_count": 351,
   "metadata": {
    "scrolled": true
   },
   "outputs": [
    {
     "name": "stderr",
     "output_type": "stream",
     "text": [
      "/usr/local/lib/python3.7/site-packages/ipykernel_launcher.py:3: CriticalDeprecationWarning: Deprecated since DendroPy 4: 'leaf_iter()' will no longer be supported in future releases; use 'leaf_node_iter()' instead\n",
      "  This is separate from the ipykernel package so we can avoid doing imports until\n"
     ]
    }
   ],
   "source": [
    "node_set = set()\n",
    "ladder_list = []\n",
    "for leaf in tree.leaf_iter():\n",
    "    go_up_ladder(leaf, node_set, [], ladder_list)"
   ]
  },
  {
   "cell_type": "code",
   "execution_count": 241,
   "metadata": {},
   "outputs": [
    {
     "name": "stdout",
     "output_type": "stream",
     "text": [
      "0.014018691588785047\n"
     ]
    }
   ],
   "source": [
    "print(max([len(i) for i in ladder_list])/len(keep))\n"
   ]
  },
  {
   "cell_type": "code",
   "execution_count": 352,
   "metadata": {},
   "outputs": [
    {
     "name": "stdout",
     "output_type": "stream",
     "text": [
      "70\n"
     ]
    }
   ],
   "source": [
    "ladders = [i for i in ladder_list if len(i) > 0]\n",
    "print(len(ladders))"
   ]
  },
  {
   "cell_type": "code",
   "execution_count": 235,
   "metadata": {
    "scrolled": true
   },
   "outputs": [
    {
     "name": "stdout",
     "output_type": "stream",
     "text": [
      "96\n",
      "213\n",
      "0.4507042253521127\n"
     ]
    }
   ],
   "source": [
    "in_ladders = []\n",
    "for lst in ladder_list:\n",
    "    for node in lst:\n",
    "        if not node.taxon:\n",
    "            in_ladders.append(node)\n",
    "print(len(in_ladders))\n",
    "all_internals = []\n",
    "for i in tree.preorder_node_iter():\n",
    "    if not i.taxon:\n",
    "        all_internals.append(i)\n",
    "print(len(all_internals))\n",
    "print(len(in_ladders)/len(all_internals))"
   ]
  },
  {
   "cell_type": "markdown",
   "metadata": {},
   "source": [
    "## LTT set"
   ]
  },
  {
   "cell_type": "code",
   "execution_count": 242,
   "metadata": {},
   "outputs": [
    {
     "name": "stdout",
     "output_type": "stream",
     "text": [
      "['__class__', '__copy__', '__deepcopy__', '__delattr__', '__dict__', '__dir__', '__doc__', '__eq__', '__format__', '__ge__', '__getattribute__', '__gt__', '__hash__', '__init__', '__init_subclass__', '__le__', '__lt__', '__module__', '__ne__', '__new__', '__reduce__', '__reduce_ex__', '__repr__', '__setattr__', '__sizeof__', '__str__', '__subclasshook__', '__weakref__', '_annotations', '_as_newick_string', '_child_nodes', '_distance_from_tip', '_edge', '_get_annotations', '_get_bipartition', '_get_edge', '_get_edge_length', '_get_indented_form', '_get_indented_form_line', '_get_label', '_get_leafset_bitmask', '_get_node_token', '_get_parent_node', '_get_split_bitmask', '_get_tree_leafset_bitmask', '_has_annotations', '_label', '_parent_node', '_set_annotations', '_set_bipartition', '_set_edge', '_set_edge_length', '_set_label', '_set_leafset_bitmask', '_set_parent_node', '_set_split_bitmask', '_set_tree_leafset_bitmask', '_write_indented_form', '_write_indented_form_line', '_write_newick', 'add_child', 'adjacent_nodes', 'age', 'age_order_iter', 'ageorder_iter', 'ancestor_iter', 'annotations', 'apply', 'bipartition', 'child_edge_iter', 'child_edges', 'child_node_iter', 'child_nodes', 'clear_child_nodes', 'clone', 'collapse_clade', 'collapse_conflicting', 'collapse_neighborhood', 'comments', 'copy_annotations_from', 'deep_copy_annotations_from', 'description', 'distance_from_root', 'distance_from_tip', 'edge', 'edge_factory', 'edge_length', 'extract_subtree', 'get_adjacent_nodes', 'get_incident_edges', 'has_annotations', 'incident_edges', 'inorder_iter', 'insert_child', 'insert_new_child', 'is_internal', 'is_leaf', 'label', 'leaf_iter', 'leaf_nodes', 'leafset_as_bitstring', 'leafset_bitmask', 'level', 'level_order_iter', 'levelorder_iter', 'new_child', 'num_child_nodes', 'parent_node', 'postorder_internal_node_iter', 'postorder_iter', 'preorder_internal_node_iter', 'preorder_iter', 'reinsert_nodes', 'remove_child', 'reversible_remove_child', 'set_child_nodes', 'set_children', 'sibling_nodes', 'sister_nodes', 'split_as_bitstring', 'split_bitmask', 'taxon', 'taxon_namespace_scoped_copy', 'tree_leafset_bitmask']\n"
     ]
    }
   ],
   "source": [
    "print(dir(tip))"
   ]
  },
  {
   "cell_type": "code",
   "execution_count": 281,
   "metadata": {},
   "outputs": [],
   "source": [
    "edge_dict = {}\n",
    "all_starts = set()\n",
    "\n",
    "for edge in tree.preorder_edge_iter():\n",
    "    if edge.tail_node:\n",
    "        start = edge.tail_node.distance_from_root()\n",
    "        end = edge.head_node.distance_from_root()\n",
    "        \n",
    "        edge_dict[edge] = (start,end)\n",
    "        \n",
    "        all_starts.add(start)\n",
    "        all_starts.add(end) #needed for the heavy sampling bit at the end\n",
    "        \n",
    "all_starts = sorted(all_starts)"
   ]
  },
  {
   "cell_type": "code",
   "execution_count": 285,
   "metadata": {},
   "outputs": [],
   "source": [
    "bins = []\n",
    "for count,i in enumerate(all_starts):\n",
    "    try:\n",
    "        end = all_starts[count+1]\n",
    "        bins.append((i,end))\n",
    "    except IndexError:\n",
    "        pass\n",
    "    "
   ]
  },
  {
   "cell_type": "code",
   "execution_count": 290,
   "metadata": {
    "scrolled": true
   },
   "outputs": [],
   "source": [
    "bin_dict = {}\n",
    "\n",
    "for bin_pair in bins:\n",
    "    bin_dict[bin_pair] = 0\n",
    "    for edge, timings in edge_dict.items():\n",
    "        start = timings[0]\n",
    "        end = timings[1]\n",
    "        if start <= bin_pair[0] and end > bin_pair[0]:\n",
    "            bin_dict[bin_pair] += 1\n",
    "    "
   ]
  },
  {
   "cell_type": "code",
   "execution_count": 295,
   "metadata": {},
   "outputs": [
    {
     "name": "stdout",
     "output_type": "stream",
     "text": [
      "95\n",
      "(0.16645019089776691, 0.16678951417833487)\n"
     ]
    }
   ],
   "source": [
    "t_max_L = max(bin_dict.items(), key = lambda k : k[1])[0]\n",
    "max_L = max(bin_dict.items(), key = lambda k : k[1])[1]\n",
    "\n",
    "print(max_L)\n",
    "print(t_max_L)"
   ]
  },
  {
   "cell_type": "code",
   "execution_count": 296,
   "metadata": {},
   "outputs": [
    {
     "data": {
      "text/plain": [
       "{(0.0, 0.05676089805192319): 2,\n",
       " (0.05676089805192319, 0.05987169207556686): 3,\n",
       " (0.05987169207556686, 0.06425522864214739): 4,\n",
       " (0.06425522864214739, 0.06581239649891701): 5,\n",
       " (0.06581239649891701, 0.07789203046309079): 6,\n",
       " (0.07789203046309079, 0.08299101009946286): 7,\n",
       " (0.08299101009946286, 0.08500091823284261): 8,\n",
       " (0.08500091823284261, 0.08764229042527139): 9,\n",
       " (0.08764229042527139, 0.08980978558293451): 10,\n",
       " (0.08980978558293451, 0.09194442837581973): 11,\n",
       " (0.09194442837581973, 0.0934101900894464): 12,\n",
       " (0.0934101900894464, 0.09426347395244727): 13,\n",
       " (0.09426347395244727, 0.09816097584063166): 14,\n",
       " (0.09816097584063166, 0.09828553029949405): 15,\n",
       " (0.09828553029949405, 0.1001974413433393): 16,\n",
       " (0.1001974413433393, 0.10358054495640334): 17,\n",
       " (0.10358054495640334, 0.10424827925561275): 18,\n",
       " (0.10424827925561275, 0.10470884608166253): 19,\n",
       " (0.10470884608166253, 0.10679838503007377): 20,\n",
       " (0.10679838503007377, 0.10786078463086701): 21,\n",
       " (0.10786078463086701, 0.11265901577166604): 22,\n",
       " (0.11265901577166604, 0.11370367380792534): 23,\n",
       " (0.11370367380792534, 0.11372314397199013): 24,\n",
       " (0.11372314397199013, 0.1144096780700683): 25,\n",
       " (0.1144096780700683, 0.11458207332484527): 26,\n",
       " (0.11458207332484527, 0.11484920051917924): 27,\n",
       " (0.11484920051917924, 0.11502671783165286): 28,\n",
       " (0.11502671783165286, 0.11521583516700629): 29,\n",
       " (0.11521583516700629, 0.11552806478295552): 30,\n",
       " (0.11552806478295552, 0.11554450248290049): 31,\n",
       " (0.11554450248290049, 0.11555596185646988): 32,\n",
       " (0.11555596185646988, 0.1156618954983406): 33,\n",
       " (0.1156618954983406, 0.11612220069679147): 34,\n",
       " (0.11612220069679147, 0.11642534944956706): 35,\n",
       " (0.11642534944956706, 0.11646324154287924): 36,\n",
       " (0.11646324154287924, 0.1166581590378204): 37,\n",
       " (0.1166581590378204, 0.11692388386646568): 38,\n",
       " (0.11692388386646568, 0.11716671315097948): 39,\n",
       " (0.11716671315097948, 0.11747444568536669): 40,\n",
       " (0.11747444568536669, 0.11785798435893402): 39,\n",
       " (0.11785798435893402, 0.11790093381070244): 40,\n",
       " (0.11790093381070244, 0.11812863851375255): 41,\n",
       " (0.11812863851375255, 0.1182912037119992): 42,\n",
       " (0.1182912037119992, 0.11830815508712367): 43,\n",
       " (0.11830815508712367, 0.11879846392761362): 44,\n",
       " (0.11879846392761362, 0.11913212814125917): 45,\n",
       " (0.11913212814125917, 0.1191521714778947): 46,\n",
       " (0.1191521714778947, 0.11924058022220052): 47,\n",
       " (0.11924058022220052, 0.11925648676550216): 48,\n",
       " (0.11925648676550216, 0.11967870475960263): 49,\n",
       " (0.11967870475960263, 0.11996585681156602): 50,\n",
       " (0.11996585681156602, 0.11997111128909244): 51,\n",
       " (0.11997111128909244, 0.12021417171272297): 52,\n",
       " (0.12021417171272297, 0.12022064184631898): 49,\n",
       " (0.12022064184631898, 0.12032849015941927): 50,\n",
       " (0.12032849015941927, 0.12037606586397209): 51,\n",
       " (0.12037606586397209, 0.1215630164237036): 52,\n",
       " (0.1215630164237036, 0.12204492092637076): 53,\n",
       " (0.12204492092637076, 0.12213867504524778): 54,\n",
       " (0.12213867504524778, 0.12286572422471553): 55,\n",
       " (0.12286572422471553, 0.12294630851022159): 56,\n",
       " (0.12294630851022159, 0.122953897740115): 57,\n",
       " (0.122953897740115, 0.12304879845345584): 55,\n",
       " (0.12304879845345584, 0.12314132520227372): 56,\n",
       " (0.12314132520227372, 0.12353104932521664): 57,\n",
       " (0.12353104932521664, 0.12380437121505028): 58,\n",
       " (0.12380437121505028, 0.12397742885798602): 59,\n",
       " (0.12397742885798602, 0.12489621433034226): 60,\n",
       " (0.12489621433034226, 0.12518271726471308): 61,\n",
       " (0.12518271726471308, 0.12530063532781943): 62,\n",
       " (0.12530063532781943, 0.1254288723617134): 63,\n",
       " (0.1254288723617134, 0.12569362376747129): 64,\n",
       " (0.12569362376747129, 0.1257408690148325): 58,\n",
       " (0.1257408690148325, 0.12638296994012044): 59,\n",
       " (0.12638296994012044, 0.12719952388005518): 60,\n",
       " (0.12719952388005518, 0.1275248296461191): 61,\n",
       " (0.1275248296461191, 0.12761079454614732): 62,\n",
       " (0.12761079454614732, 0.12802771009024627): 63,\n",
       " (0.12802771009024627, 0.1293262564179234): 64,\n",
       " (0.1293262564179234, 0.1300202036555449): 65,\n",
       " (0.1300202036555449, 0.13015938987247733): 66,\n",
       " (0.13015938987247733, 0.1306965626323977): 67,\n",
       " (0.1306965626323977, 0.13078553276483595): 68,\n",
       " (0.13078553276483595, 0.1324490223795569): 69,\n",
       " (0.1324490223795569, 0.13267234284453244): 70,\n",
       " (0.13267234284453244, 0.13335553068237704): 71,\n",
       " (0.13335553068237704, 0.13391280184954013): 72,\n",
       " (0.13391280184954013, 0.13406019432588878): 71,\n",
       " (0.13406019432588878, 0.1341578079453265): 72,\n",
       " (0.1341578079453265, 0.1344715582321323): 73,\n",
       " (0.1344715582321323, 0.13531221287343254): 74,\n",
       " (0.13531221287343254, 0.1354683021834071): 75,\n",
       " (0.1354683021834071, 0.13600676005036338): 76,\n",
       " (0.13600676005036338, 0.137230928731223): 77,\n",
       " (0.137230928731223, 0.1393922539046526): 78,\n",
       " (0.1393922539046526, 0.1394467086603668): 76,\n",
       " (0.1394467086603668, 0.14007848772259224): 77,\n",
       " (0.14007848772259224, 0.14020917364214003): 78,\n",
       " (0.14020917364214003, 0.14060377617858988): 79,\n",
       " (0.14060377617858988, 0.14133442840660915): 80,\n",
       " (0.14133442840660915, 0.14147461236599201): 81,\n",
       " (0.14147461236599201, 0.14206707275864172): 82,\n",
       " (0.14206707275864172, 0.14213197993200977): 83,\n",
       " (0.14213197993200977, 0.14246412667846786): 76,\n",
       " (0.14246412667846786, 0.14268706305641188): 77,\n",
       " (0.14268706305641188, 0.14294870662560366): 78,\n",
       " (0.14294870662560366, 0.14333167260813728): 79,\n",
       " (0.14333167260813728, 0.14342237043589656): 80,\n",
       " (0.14342237043589656, 0.14487170595936671): 81,\n",
       " (0.14487170595936671, 0.14535956852041854): 78,\n",
       " (0.14535956852041854, 0.14658414791916585): 79,\n",
       " (0.14658414791916585, 0.14751107047997358): 80,\n",
       " (0.14751107047997358, 0.14761143198672388): 81,\n",
       " (0.14761143198672388, 0.1489803139426158): 80,\n",
       " (0.1489803139426158, 0.1502711464845865): 81,\n",
       " (0.1502711464845865, 0.1503540481247938): 82,\n",
       " (0.1503540481247938, 0.15204298597675114): 83,\n",
       " (0.15204298597675114, 0.15309088404154836): 84,\n",
       " (0.15309088404154836, 0.15395281114165305): 81,\n",
       " (0.15395281114165305, 0.15413508563709266): 82,\n",
       " (0.15413508563709266, 0.15415434391063498): 83,\n",
       " (0.15415434391063498, 0.15632685096966203): 84,\n",
       " (0.15632685096966203, 0.15649829762080958): 85,\n",
       " (0.15649829762080958, 0.15656471996161425): 86,\n",
       " (0.15656471996161425, 0.15733867978459282): 87,\n",
       " (0.15733867978459282, 0.15834198245843534): 88,\n",
       " (0.15834198245843534, 0.15857033609626292): 89,\n",
       " (0.15857033609626292, 0.1587090944005225): 88,\n",
       " (0.1587090944005225, 0.15985193332190684): 89,\n",
       " (0.15985193332190684, 0.16010979270419812): 90,\n",
       " (0.16010979270419812, 0.16039943791824562): 91,\n",
       " (0.16039943791824562, 0.1613100621236203): 92,\n",
       " (0.1613100621236203, 0.1622696044178018): 90,\n",
       " (0.1622696044178018, 0.16257979139884626): 91,\n",
       " (0.16257979139884626, 0.16290466568635953): 92,\n",
       " (0.16290466568635953, 0.1640497881509777): 93,\n",
       " (0.1640497881509777, 0.16606614529255714): 92,\n",
       " (0.16606614529255714, 0.16638659792231758): 93,\n",
       " (0.16638659792231758, 0.16645019089776691): 94,\n",
       " (0.16645019089776691, 0.16678951417833487): 95,\n",
       " (0.16678951417833487, 0.1668133490444319): 91,\n",
       " (0.1668133490444319, 0.16762332292628268): 92,\n",
       " (0.16762332292628268, 0.16818894934679984): 93,\n",
       " (0.16818894934679984, 0.1683676409068091): 94,\n",
       " (0.1683676409068091, 0.16952924020572957): 95,\n",
       " (0.16952924020572957, 0.17048672205182802): 94,\n",
       " (0.17048672205182802, 0.17226896623308696): 95,\n",
       " (0.17226896623308696, 0.17318794862911058): 88,\n",
       " (0.17318794862911058, 0.17364600343428127): 89,\n",
       " (0.17364600343428127, 0.1742979593695213): 90,\n",
       " (0.1742979593695213, 0.17463996792168257): 91,\n",
       " (0.17463996792168257, 0.17500869226044435): 92,\n",
       " (0.17500869226044435, 0.1776786733084057): 72,\n",
       " (0.1776786733084057, 0.17774841828780175): 73,\n",
       " (0.17774841828780175, 0.17917109159980282): 67,\n",
       " (0.17917109159980282, 0.18048814431515914): 68,\n",
       " (0.18048814431515914, 0.1807328259545713): 63,\n",
       " (0.1807328259545713, 0.18117804416338612): 64,\n",
       " (0.18117804416338612, 0.18231091009475464): 65,\n",
       " (0.18231091009475464, 0.18322787034251653): 66,\n",
       " (0.18322787034251653, 0.18327394383164508): 58,\n",
       " (0.18327394383164508, 0.18596759636991167): 59,\n",
       " (0.18596759636991167, 0.18744000094714708): 56,\n",
       " (0.18744000094714708, 0.18877957753884234): 57,\n",
       " (0.18877957753884234, 0.19144704842462668): 58,\n",
       " (0.19144704842462668, 0.19418677445198407): 56,\n",
       " (0.19418677445198407, 0.19634945093519351): 55,\n",
       " (0.19634945093519351, 0.19742815550541293): 56,\n",
       " (0.19742815550541293, 0.19966622650681365): 57,\n",
       " (0.19966622650681365, 0.20240595253417148): 53,\n",
       " (0.20240595253417148, 0.2051456785615291): 52,\n",
       " (0.2051456785615291, 0.20579320616170338): 51,\n",
       " (0.20579320616170338, 0.20772411247218803): 52,\n",
       " (0.20772411247218803, 0.2102611536604): 53,\n",
       " (0.2102611536604, 0.21122873856185476): 54,\n",
       " (0.21122873856185476, 0.21311766487275619): 55,\n",
       " (0.21311766487275619, 0.2162508702766175): 56,\n",
       " (0.2162508702766175, 0.21991893816372077): 57,\n",
       " (0.21991893816372077, 0.2199505403694706): 58,\n",
       " (0.2199505403694706, 0.22025981760438462): 59,\n",
       " (0.22025981760438462, 0.2205905317810133): 60,\n",
       " (0.2205905317810133, 0.22093980198249707): 61,\n",
       " (0.22093980198249707, 0.22323605593675677): 62,\n",
       " (0.22323605593675677, 0.22441329523691067): 63,\n",
       " (0.22441329523691067, 0.22706348678082078): 64,\n",
       " (0.22706348678082078, 0.2298032128081795): 63,\n",
       " (0.2298032128081795, 0.23254293883557775): 62,\n",
       " (0.23254293883557775, 0.2329528776643386): 61,\n",
       " (0.2329528776643386, 0.233741434832478): 62,\n",
       " (0.233741434832478, 0.23409080727049014): 63,\n",
       " (0.23409080727049014, 0.2352826648629367): 64,\n",
       " (0.2352826648629367, 0.23659740360647352): 63,\n",
       " (0.23659740360647352, 0.2367503185439095): 64,\n",
       " (0.2367503185439095, 0.23802239089029542): 65,\n",
       " (0.23802239089029542, 0.23816815522249168): 63,\n",
       " (0.23816815522249168, 0.23850961237634705): 64,\n",
       " (0.23850961237634705, 0.24076211691765437): 65,\n",
       " (0.24076211691765437, 0.2435018429450131): 63,\n",
       " (0.2435018429450131, 0.2461492420366478): 62,\n",
       " (0.2461492420366478, 0.24624156897237204): 63,\n",
       " (0.24624156897237204, 0.2484948203399151): 55,\n",
       " (0.2484948203399151, 0.24898129500031607): 56,\n",
       " (0.24898129500031607, 0.24945452114402267): 53,\n",
       " (0.24945452114402267, 0.25108362859919575): 54,\n",
       " (0.25108362859919575, 0.2517210210276719): 55,\n",
       " (0.2517210210276719, 0.2535151725935758): 53,\n",
       " (0.2535151725935758, 0.25446074705502797): 54,\n",
       " (0.25446074705502797, 0.2572004730823838): 47,\n",
       " (0.2572004730823838, 0.25961200572840637): 45,\n",
       " (0.25961200572840637, 0.2599401991097401): 46,\n",
       " (0.2599401991097401, 0.2600035531732945): 44,\n",
       " (0.2600035531732945, 0.2634616134409402): 45,\n",
       " (0.2634616134409402, 0.2634756096773838): 46,\n",
       " (0.2634756096773838, 0.26541965116489585): 47,\n",
       " (0.26541965116489585, 0.2681593771922528): 43,\n",
       " (0.2681593771922528, 0.2696948817591358): 39,\n",
       " (0.2696948817591358, 0.2704721502671783): 40,\n",
       " (0.2704721502671783, 0.27089910321960975): 41,\n",
       " (0.27089910321960975, 0.2721169104905734): 38,\n",
       " (0.2721169104905734, 0.2736388292469669): 39,\n",
       " (0.2736388292469669, 0.27619705332544675): 36,\n",
       " (0.27619705332544675, 0.27637855527432365): 37,\n",
       " (0.27637855527432365, 0.2781260110157271): 36,\n",
       " (0.2781260110157271, 0.2803848468414536): 37,\n",
       " (0.2803848468414536, 0.28328860257254584): 38,\n",
       " (0.28328860257254584, 0.2849853305066372): 39,\n",
       " (0.2849853305066372, 0.2873374593838751): 40,\n",
       " (0.2873374593838751, 0.28830444356514917): 39,\n",
       " (0.28830444356514917, 0.28925971315809496): 40,\n",
       " (0.28925971315809496, 0.2908079996730226): 41,\n",
       " (0.2908079996730226, 0.29162955961510395): 42,\n",
       " (0.29162955961510395, 0.29248452548973414): 43,\n",
       " (0.29248452548973414, 0.293064876909934): 44,\n",
       " (0.293064876909934, 0.2942647482629872): 45,\n",
       " (0.2942647482629872, 0.29721860151692403): 46,\n",
       " (0.29721860151692403, 0.29858096843646464): 47,\n",
       " (0.29858096843646464, 0.30030239141467185): 48,\n",
       " (0.30030239141467185, 0.30377581554806077): 49,\n",
       " (0.30377581554806077, 0.3051830785450047): 48,\n",
       " (0.3051830785450047, 0.30589248544420955): 49,\n",
       " (0.30589248544420955, 0.3092552676028175): 50,\n",
       " (0.3092552676028175, 0.30943146385276465): 47,\n",
       " (0.30943146385276465, 0.31007813860633027): 48,\n",
       " (0.31007813860633027, 0.3103213437013843): 49,\n",
       " (0.3103213437013843, 0.31199499363017513): 50,\n",
       " (0.31199499363017513, 0.3139451233902233): 48,\n",
       " (0.3139451233902233, 0.3147347196575325): 49,\n",
       " (0.3147347196575325, 0.31551713531606773): 44,\n",
       " (0.31551713531606773, 0.31593307470256327): 45,\n",
       " (0.31593307470256327, 0.3161144191949703): 46,\n",
       " (0.3161144191949703, 0.31637480773635307): 47,\n",
       " (0.31637480773635307, 0.3184830108997343): 48,\n",
       " (0.3184830108997343, 0.31882181552644084): 49,\n",
       " (0.31882181552644084, 0.3203716319178269): 50,\n",
       " (0.3203716319178269, 0.32268357359291366): 51,\n",
       " (0.32268357359291366, 0.3247176400537384): 52,\n",
       " (0.3247176400537384, 0.3256936237670902): 53,\n",
       " (0.3256936237670902, 0.32680575980418647): 52,\n",
       " (0.32680575980418647, 0.327126529659977): 53,\n",
       " (0.327126529659977, 0.32843334979444805): 54,\n",
       " (0.32843334979444805, 0.3303421627113359): 51,\n",
       " (0.3303421627113359, 0.3311730758218061): 52,\n",
       " (0.3311730758218061, 0.33139999233422035): 51,\n",
       " (0.33139999233422035, 0.3339128018491637): 52,\n",
       " (0.3339128018491637, 0.33665252787652156): 49,\n",
       " (0.33665252787652156, 0.3393922539038794): 45,\n",
       " (0.3393922539038794, 0.34213197993171285): 40,\n",
       " (0.34213197993171285, 0.3448717059590718): 36,\n",
       " (0.3448717059590718, 0.34761143198643096): 34,\n",
       " (0.34761143198643096, 0.35035115801379013): 32,\n",
       " (0.35035115801379013, 0.3530908840411491): 30,\n",
       " (0.3530908840411491, 0.3558306100689692): 29,\n",
       " (0.3558306100689692, 0.3559437338698086): 28,\n",
       " (0.3559437338698086, 0.36131006212368044): 29,\n",
       " (0.36131006212368044, 0.36404978815103606): 26,\n",
       " (0.36404978815103606, 0.3667895141783917): 25,\n",
       " (0.3667895141783917, 0.36952924020574707): 23,\n",
       " (0.36952924020574707, 0.3722689662331473): 20,\n",
       " (0.3722689662331473, 0.37500869226050315): 13,\n",
       " (0.37500869226050315, 0.37774841828785855): 10,\n",
       " (0.37774841828785855, 0.38048814431521416): 7,\n",
       " (0.38048814431521416, 0.3832278703425698): 5,\n",
       " (0.3832278703425698, 0.3859675963699254): 2}"
      ]
     },
     "execution_count": 296,
     "metadata": {},
     "output_type": "execute_result"
    }
   ],
   "source": [
    "bin_dict"
   ]
  },
  {
   "cell_type": "code",
   "execution_count": 297,
   "metadata": {},
   "outputs": [],
   "source": [
    "## slopes\n",
    "\n",
    "peak_y = 95\n",
    "peak_x = 0.16645019089776691\n",
    "\n",
    "start_y = 2\n",
    "start_x = 0\n",
    "\n",
    "end_y = 2\n",
    "end_x = 0.3859675963699254"
   ]
  },
  {
   "cell_type": "code",
   "execution_count": 300,
   "metadata": {},
   "outputs": [
    {
     "name": "stdout",
     "output_type": "stream",
     "text": [
      "558.7257034575601\n",
      "423.6566107364787\n",
      "1.318817384877529\n"
     ]
    }
   ],
   "source": [
    "slope_1 = (peak_y-start_y)/(peak_x-start_x)\n",
    "slope_2 = (peak_y-end_y)/(end_x-peak_x)\n",
    "\n",
    "print(slope_1)\n",
    "print(slope_2)\n",
    "print(slope_1/slope_2)"
   ]
  },
  {
   "cell_type": "code",
   "execution_count": 305,
   "metadata": {},
   "outputs": [],
   "source": [
    "sampling_times = []\n",
    "branching_times = []\n",
    "for node in tree.preorder_node_iter():\n",
    "    if node.taxon:\n",
    "        sampling_times.append(node.distance_from_root())\n",
    "    else:\n",
    "        branching_times.append(node.distance_from_root())\n",
    "\n",
    "sampling_times = sorted(sampling_times)\n",
    "branching_times = sorted(branching_times)"
   ]
  },
  {
   "cell_type": "code",
   "execution_count": 310,
   "metadata": {},
   "outputs": [
    {
     "name": "stdout",
     "output_type": "stream",
     "text": [
      "0.0012605312238711675\n",
      "0.0016789798767443802\n"
     ]
    }
   ],
   "source": [
    "sampling_diffs = []\n",
    "for count,i in enumerate(sampling_times):\n",
    "    try:\n",
    "        next_one = sampling_times[count + 1]\n",
    "        sampling_diffs.append(next_one - i)\n",
    "    except IndexError:\n",
    "        pass\n",
    "\n",
    "branching_diffs = []\n",
    "for count,i in enumerate(branching_times):\n",
    "    try:\n",
    "        next_one = branching_times[count + 1]\n",
    "        branching_diffs.append(next_one - i)\n",
    "    except IndexError:\n",
    "        pass\n",
    "    \n",
    "print(np.mean(sampling_diffs))\n",
    "print(np.mean(branching_diffs))"
   ]
  },
  {
   "cell_type": "code",
   "execution_count": 309,
   "metadata": {},
   "outputs": [
    {
     "data": {
      "text/plain": [
       "0.0"
      ]
     },
     "execution_count": 309,
     "metadata": {},
     "output_type": "execute_result"
    }
   ],
   "source": [
    "sampling_diffs"
   ]
  },
  {
   "cell_type": "code",
   "execution_count": 315,
   "metadata": {
    "scrolled": true
   },
   "outputs": [
    {
     "name": "stdout",
     "output_type": "stream",
     "text": [
      "[0, 0.019298379818496268, 0.038596759636992536, 0.057895139455488805, 0.07719351927398507, 0.09649189909248135, 0.11579027891097762, 0.1350886587294739, 0.15438703854797017, 0.17368541836646645, 0.19298379818496272, 0.212282178003459, 0.23158055782195527, 0.25087893764045155, 0.2701773174589478, 0.28947569727744404, 0.3087740770959403, 0.32807245691443654, 0.3473708367329328, 0.36666921655142903]\n"
     ]
    }
   ],
   "source": [
    "full_len = 0.3859675963699254\n",
    "\n",
    "bin_size = full_len/20\n",
    "\n",
    "new_bin = 0\n",
    "new_bin_list = []\n",
    "for i in range(20):\n",
    "    new_bin_list.append(new_bin)\n",
    "    new_bin += bin_size\n",
    "    \n",
    "\n",
    "print(new_bin_list)"
   ]
  },
  {
   "cell_type": "code",
   "execution_count": 317,
   "metadata": {},
   "outputs": [],
   "source": [
    "new_bin_dict = {}\n",
    "\n",
    "for bin_start in new_bin_list:\n",
    "    new_bin_dict[bin_start] = 0\n",
    "    for edge, timings in edge_dict.items():\n",
    "        start = timings[0]\n",
    "        end = timings[1]\n",
    "        if start <= bin_start and end > bin_start:\n",
    "            new_bin_dict[bin_start] += 1"
   ]
  },
  {
   "cell_type": "code",
   "execution_count": 319,
   "metadata": {},
   "outputs": [
    {
     "data": {
      "text/plain": [
       "dict_values([2, 2, 2, 3, 6, 14, 34, 74, 84, 90, 56, 55, 62, 54, 40, 41, 50, 54, 34, 25])"
      ]
     },
     "execution_count": 319,
     "metadata": {},
     "output_type": "execute_result"
    }
   ],
   "source": [
    "new_bin_dict.values()"
   ]
  },
  {
   "cell_type": "code",
   "execution_count": null,
   "metadata": {},
   "outputs": [],
   "source": []
  }
 ],
 "metadata": {
  "kernelspec": {
   "display_name": "Python 3",
   "language": "python",
   "name": "python3"
  },
  "language_info": {
   "codemirror_mode": {
    "name": "ipython",
    "version": 3
   },
   "file_extension": ".py",
   "mimetype": "text/x-python",
   "name": "python",
   "nbconvert_exporter": "python",
   "pygments_lexer": "ipython3",
   "version": "3.7.7"
  }
 },
 "nbformat": 4,
 "nbformat_minor": 4
}
