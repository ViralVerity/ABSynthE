{
 "cells": [
  {
   "cell_type": "code",
   "execution_count": 47,
   "metadata": {},
   "outputs": [],
   "source": [
    "import dendropy\n",
    "import numpy as np\n",
    "import statistics\n",
    "from collections import Counter\n",
    "from collections import defaultdict\n",
    "\n",
    "from io import StringIO\n",
    "from re import *\n",
    "\n",
    "import json\n",
    "import datetime as dt"
   ]
  },
  {
   "cell_type": "markdown",
   "metadata": {},
   "source": [
    "## Prune full tree to first epoch"
   ]
  },
  {
   "cell_type": "code",
   "execution_count": 121,
   "metadata": {},
   "outputs": [],
   "source": [
    "tree = dendropy.Tree.get(path=\"full_epidemic_tree.mcc\", schema='nexus')"
   ]
  },
  {
   "cell_type": "code",
   "execution_count": 122,
   "metadata": {},
   "outputs": [],
   "source": [
    "for node in tree.preorder_node_iter():\n",
    "    if node.distance_from_root() == 0:\n",
    "        root = node"
   ]
  },
  {
   "cell_type": "code",
   "execution_count": 123,
   "metadata": {
    "scrolled": true
   },
   "outputs": [],
   "source": [
    "keep = []\n",
    "all_seqs = []\n",
    "for node in tree.leaf_node_iter():\n",
    "    if node.distance_from_root() <= 0.3866:\n",
    "        keep.append(node.taxon.label)\n",
    "    all_seqs.append(node.taxon.label)\n",
    "    "
   ]
  },
  {
   "cell_type": "code",
   "execution_count": 124,
   "metadata": {},
   "outputs": [
    {
     "name": "stdout",
     "output_type": "stream",
     "text": [
      "214\n",
      "1284\n"
     ]
    }
   ],
   "source": [
    "print(len(keep))\n",
    "print(len(all_seqs))"
   ]
  },
  {
   "cell_type": "code",
   "execution_count": 125,
   "metadata": {},
   "outputs": [],
   "source": [
    "tree.retain_taxa_with_labels(keep)"
   ]
  },
  {
   "cell_type": "code",
   "execution_count": 126,
   "metadata": {},
   "outputs": [
    {
     "name": "stdout",
     "output_type": "stream",
     "text": [
      "214\n"
     ]
    },
    {
     "name": "stderr",
     "output_type": "stream",
     "text": [
      "/usr/local/lib/python3.7/site-packages/ipykernel_launcher.py:2: CriticalDeprecationWarning: Deprecated since DendroPy 4: 'leaf_iter()' will no longer be supported in future releases; use 'leaf_node_iter()' instead\n",
      "  \n"
     ]
    }
   ],
   "source": [
    "count = 0\n",
    "for i in tree.leaf_iter():\n",
    "    count += 1\n",
    "print(count)"
   ]
  },
  {
   "cell_type": "code",
   "execution_count": 229,
   "metadata": {},
   "outputs": [],
   "source": [
    "tree.write(path=\"pruned_tree.nexus\", schema=\"nexus\")"
   ]
  },
  {
   "cell_type": "markdown",
   "metadata": {},
   "source": [
    "## Branch length\n",
    "\n",
    "- max_H = Sum of branch lengths between root and farthest leaf\n",
    "- min_H = sum of branch lengths between root and closest leaf\n",
    "- a_BL_mean = mean length of all branches\n",
    "- a_BL_median = median\n",
    "- a_BL_var = variance\n",
    "- e_BL_mean = mean length of external branches\n",
    "- e_BL_median = median len of external branches\n",
    "- e_BL_var = variance\n",
    "- i_BL_mean = internal branch len mean\n",
    "- i_BL_median\n",
    "- i_BL_var"
   ]
  },
  {
   "cell_type": "code",
   "execution_count": 127,
   "metadata": {},
   "outputs": [
    {
     "name": "stdout",
     "output_type": "stream",
     "text": [
      "0.3859675963699254\n",
      "0.11747444568536669\n"
     ]
    }
   ],
   "source": [
    "#max_h and min_h\n",
    "path_lens = []\n",
    "for i in tree.leaf_node_iter():\n",
    "    path_lens.append(i.distance_from_root())\n",
    "    \n",
    "print(max(path_lens))\n",
    "print(min(path_lens))"
   ]
  },
  {
   "cell_type": "code",
   "execution_count": 128,
   "metadata": {},
   "outputs": [
    {
     "name": "stdout",
     "output_type": "stream",
     "text": [
      "0.035080050967117304\n",
      "0.021939933283573243\n",
      "0.0013770629364285776\n"
     ]
    }
   ],
   "source": [
    "# all branches\n",
    "all_branch = []\n",
    "for i in tree.preorder_node_iter():\n",
    "    if i.edge_length:\n",
    "        all_branch.append(i.edge_length)\n",
    "    \n",
    "print(np.mean(all_branch))\n",
    "print(np.median(all_branch))\n",
    "print(np.var(all_branch))"
   ]
  },
  {
   "cell_type": "code",
   "execution_count": 129,
   "metadata": {},
   "outputs": [
    {
     "name": "stdout",
     "output_type": "stream",
     "text": [
      "0.051805151396388485\n",
      "0.04441308703686353\n",
      "0.001384042360694057\n"
     ]
    }
   ],
   "source": [
    "#external branches\n",
    "e_branch_lens = []\n",
    "for i in tree.leaf_node_iter():\n",
    "    e_branch_lens.append(i.edge_length)\n",
    "    \n",
    "print(np.mean(e_branch_lens))\n",
    "print(np.median(e_branch_lens))\n",
    "print(np.var(e_branch_lens))"
   ]
  },
  {
   "cell_type": "code",
   "execution_count": 130,
   "metadata": {},
   "outputs": [
    {
     "name": "stdout",
     "output_type": "stream",
     "text": [
      "0.018197166571532235\n",
      "0.0072969106972364806\n",
      "0.0008026179459713262\n"
     ]
    }
   ],
   "source": [
    "# internal branches\n",
    "i_branch_lens = []\n",
    "for i in tree.preorder_node_iter():\n",
    "    if not i.taxon and i.edge_length:\n",
    "        i_branch_lens.append(i.edge_length)\n",
    "        \n",
    "print(np.mean(i_branch_lens))\n",
    "print(np.median(i_branch_lens))\n",
    "print(np.var(i_branch_lens))"
   ]
  },
  {
   "cell_type": "code",
   "execution_count": 131,
   "metadata": {},
   "outputs": [
    {
     "name": "stdout",
     "output_type": "stream",
     "text": [
      "0.35126171975246506\n",
      "0.16429640865044878\n",
      "0.5799085120262046\n"
     ]
    }
   ],
   "source": [
    "# ratios\n",
    "print(np.mean(i_branch_lens)/np.mean(e_branch_lens))\n",
    "print(np.median(i_branch_lens)/np.median(e_branch_lens))\n",
    "print(np.var(i_branch_lens)/np.var(e_branch_lens))"
   ]
  },
  {
   "cell_type": "markdown",
   "metadata": {},
   "source": [
    "## Topology set"
   ]
  },
  {
   "cell_type": "code",
   "execution_count": 340,
   "metadata": {},
   "outputs": [],
   "source": [
    "node_to_all_children = defaultdict(list)\n",
    "  \n",
    "for node in tree.postorder_node_iter():\n",
    "    if not node.taxon:\n",
    "        node_to_all_children[node].extend(node._child_nodes)\n",
    "        for child in node._child_nodes:\n",
    "            node_to_all_children[node].extend(node_to_all_children[child])\n",
    "    else:\n",
    "        node_to_all_children[node] = []\n",
    "\n",
    "\n"
   ]
  },
  {
   "cell_type": "code",
   "execution_count": 346,
   "metadata": {},
   "outputs": [
    {
     "name": "stdout",
     "output_type": "stream",
     "text": [
      "2168\n"
     ]
    }
   ],
   "source": [
    "differences = []\n",
    "\n",
    "for node in tree.preorder_node_iter():\n",
    "    if not node.taxon:\n",
    "        direct_children = node._child_nodes\n",
    "        left = direct_children[0]\n",
    "        right = direct_children[1]\n",
    "        left_count = 0\n",
    "        right_count = 0\n",
    "        if not left.taxon :\n",
    "            for query in node_to_all_children[left]:\n",
    "                if query.taxon:\n",
    "                    left_count += 1\n",
    "        else:\n",
    "            left_count += 1\n",
    "            \n",
    "        if not right.taxon:\n",
    "            for query in node_to_all_children[right]:\n",
    "                if query.taxon:\n",
    "                    right_count += 1\n",
    "        else:\n",
    "            right_count += 1\n",
    "\n",
    "        differences.append(abs(left_count - right_count))\n",
    "        \n",
    "print(sum(differences))"
   ]
  },
  {
   "cell_type": "code",
   "execution_count": 345,
   "metadata": {},
   "outputs": [
    {
     "name": "stdout",
     "output_type": "stream",
     "text": [
      "0.704225352112676\n",
      "0.5386550674701448\n"
     ]
    }
   ],
   "source": [
    "#staircaseness\n",
    "\n",
    "uneven = 0\n",
    "ratio_list = []\n",
    "\n",
    "for node in tree.preorder_node_iter():\n",
    "    if not node.taxon:\n",
    "        direct_children = node._child_nodes\n",
    "        left = direct_children[0]\n",
    "        right = direct_children[1]\n",
    "        left_count = 0\n",
    "        right_count = 0\n",
    "        if not left.taxon :\n",
    "            for query in node_to_all_children[left]:\n",
    "                if query.taxon:\n",
    "                    left_count += 1\n",
    "        else:\n",
    "            left_count += 1\n",
    "            \n",
    "        if not right.taxon:\n",
    "            for query in node_to_all_children[right]:\n",
    "                if query.taxon:\n",
    "                    right_count += 1\n",
    "        else:\n",
    "            right_count += 1\n",
    "\n",
    "                \n",
    "        if left_count != right_count:\n",
    "            uneven += 1\n",
    "        \n",
    "        \n",
    "        if left_count < right_count:\n",
    "            ratio = left_count/right_count\n",
    "        else:\n",
    "            ratio = right_count/left_count\n",
    "       \n",
    "\n",
    "\n",
    "        ratio_list.append(ratio)\n",
    "            \n",
    "print(uneven/len(all_internals))\n",
    "print(np.mean(ratio_list))"
   ]
  },
  {
   "cell_type": "code",
   "execution_count": 349,
   "metadata": {},
   "outputs": [
    {
     "name": "stdout",
     "output_type": "stream",
     "text": [
      "3204\n"
     ]
    },
    {
     "name": "stderr",
     "output_type": "stream",
     "text": [
      "/usr/local/lib/python3.7/site-packages/ipykernel_launcher.py:11: CriticalDeprecationWarning: Deprecated since DendroPy 4: 'leaf_iter()' will no longer be supported in future releases; use 'leaf_node_iter()' instead\n",
      "  # This is added back by InteractiveShellApp.init_path()\n"
     ]
    }
   ],
   "source": [
    "leaf_paths = []\n",
    "def get_full_path(lst,node, count):\n",
    "    if node == root:\n",
    "        lst.append(count)\n",
    "        return\n",
    "    else:\n",
    "        count += 1\n",
    "        get_full_path(lst, node.parent_node, count)\n",
    "\n",
    "            \n",
    "for leaf in tree.leaf_iter():\n",
    "    get_full_path(leaf_paths,leaf,0)\n",
    "    \n",
    "print(sum(leaf_paths))"
   ]
  },
  {
   "cell_type": "code",
   "execution_count": 168,
   "metadata": {},
   "outputs": [
    {
     "name": "stdout",
     "output_type": "stream",
     "text": [
      "0.75\n",
      "18\n"
     ]
    }
   ],
   "source": [
    "#Width ones\n",
    "\n",
    "all_paths = []\n",
    "for node in tree.preorder_node_iter():\n",
    "    get_full_path(all_paths, node, 0)\n",
    "\n",
    "depths = []\n",
    "for i in all_paths:\n",
    "    depth = i+1\n",
    "    depths.append(depth)\n",
    "max_depth = max(depths)\n",
    "    \n",
    "widths = Counter(depths)\n",
    "max_width = max(widths.items(), key = lambda k : k[1])[0]\n",
    "\n",
    "WD_ratio = max_width/max_depth\n",
    "print(WD_ratio)\n"
   ]
  },
  {
   "cell_type": "code",
   "execution_count": 197,
   "metadata": {},
   "outputs": [
    {
     "name": "stdout",
     "output_type": "stream",
     "text": [
      "12\n"
     ]
    }
   ],
   "source": [
    "index = 0\n",
    "diffs = []\n",
    "for depth, count in widths.items():\n",
    "    if index > 0:\n",
    "        width_diff = abs(count - widths[index-1])\n",
    "        diffs.append(width_diff)\n",
    "    index += 1\n",
    "\n",
    "print(max(diffs))"
   ]
  },
  {
   "cell_type": "code",
   "execution_count": 350,
   "metadata": {},
   "outputs": [],
   "source": [
    "##ladder ones\n",
    "\n",
    "def go_up_ladder(node, node_set, ladder, ladder_list):\n",
    "    \n",
    "    if node == root:\n",
    "        return\n",
    "            \n",
    "    if len(node.sibling_nodes()) == 1:\n",
    "        if node.taxon:\n",
    "            if not node.sibling_nodes()[0].taxon:\n",
    "                if node.parent_node not in node_set:\n",
    "                    ladder.append(node.parent_node)\n",
    "                    node_set.add(node.parent_node)\n",
    "                    go_up_ladder(node.parent_node, node_set, ladder, ladder_list)\n",
    "                else:\n",
    "                    ladder_list.append(ladder)\n",
    "                    return\n",
    "            else:\n",
    "                ladder_list.append(ladder)\n",
    "                return\n",
    "        else:\n",
    "            if node.sibling_nodes()[0].taxon:\n",
    "                if node.parent_node not in node_set:\n",
    "                    ladder.append(node.parent_node)\n",
    "                    go_up_ladder(node.parent_node,node_set, ladder, ladder_list)\n",
    "                    node_set.add(node.parent_node)\n",
    "                else:\n",
    "                    ladder_list.append(ladder)\n",
    "                    return\n",
    "            else:\n",
    "                ladder_list.append(ladder)\n",
    "                return\n",
    "    else:\n",
    "        print('here')\n",
    "        ladder_list.append(ladder)\n",
    "        return"
   ]
  },
  {
   "cell_type": "code",
   "execution_count": 351,
   "metadata": {
    "scrolled": true
   },
   "outputs": [
    {
     "name": "stderr",
     "output_type": "stream",
     "text": [
      "/usr/local/lib/python3.7/site-packages/ipykernel_launcher.py:3: CriticalDeprecationWarning: Deprecated since DendroPy 4: 'leaf_iter()' will no longer be supported in future releases; use 'leaf_node_iter()' instead\n",
      "  This is separate from the ipykernel package so we can avoid doing imports until\n"
     ]
    }
   ],
   "source": [
    "node_set = set()\n",
    "ladder_list = []\n",
    "for leaf in tree.leaf_iter():\n",
    "    go_up_ladder(leaf, node_set, [], ladder_list)"
   ]
  },
  {
   "cell_type": "code",
   "execution_count": 241,
   "metadata": {},
   "outputs": [
    {
     "name": "stdout",
     "output_type": "stream",
     "text": [
      "0.014018691588785047\n"
     ]
    }
   ],
   "source": [
    "print(max([len(i) for i in ladder_list])/len(keep))\n"
   ]
  },
  {
   "cell_type": "code",
   "execution_count": 352,
   "metadata": {},
   "outputs": [
    {
     "name": "stdout",
     "output_type": "stream",
     "text": [
      "70\n"
     ]
    }
   ],
   "source": [
    "ladders = [i for i in ladder_list if len(i) > 0]\n",
    "print(len(ladders))"
   ]
  },
  {
   "cell_type": "code",
   "execution_count": 235,
   "metadata": {
    "scrolled": true
   },
   "outputs": [
    {
     "name": "stdout",
     "output_type": "stream",
     "text": [
      "96\n",
      "213\n",
      "0.4507042253521127\n"
     ]
    }
   ],
   "source": [
    "in_ladders = []\n",
    "for lst in ladder_list:\n",
    "    for node in lst:\n",
    "        if not node.taxon:\n",
    "            in_ladders.append(node)\n",
    "print(len(in_ladders))\n",
    "all_internals = []\n",
    "for i in tree.preorder_node_iter():\n",
    "    if not i.taxon:\n",
    "        all_internals.append(i)\n",
    "print(len(all_internals))\n",
    "print(len(in_ladders)/len(all_internals))"
   ]
  },
  {
   "cell_type": "markdown",
   "metadata": {},
   "source": [
    "## LTT set"
   ]
  },
  {
   "cell_type": "code",
   "execution_count": 360,
   "metadata": {},
   "outputs": [],
   "source": [
    "full_len = 0.3859675963699254\n"
   ]
  },
  {
   "cell_type": "code",
   "execution_count": 361,
   "metadata": {},
   "outputs": [],
   "source": [
    "edge_dict = {}\n",
    "all_starts = set()\n",
    "\n",
    "for edge in tree.preorder_edge_iter():\n",
    "    if edge.tail_node:\n",
    "        end = full_len - (edge.tail_node.distance_from_root())\n",
    "        start = full_len - (edge.head_node.distance_from_root())\n",
    "        \n",
    "        edge_dict[edge] = (start,end)\n",
    "        \n",
    "        all_starts.add(start)\n",
    "        all_starts.add(end) #needed for the heavy sampling bit at the end\n",
    "        \n",
    "all_starts = sorted(all_starts)"
   ]
  },
  {
   "cell_type": "code",
   "execution_count": 362,
   "metadata": {},
   "outputs": [],
   "source": [
    "bins = []\n",
    "for count,i in enumerate(all_starts):\n",
    "    try:\n",
    "        end = all_starts[count+1]\n",
    "        bins.append((i,end))\n",
    "    except IndexError:\n",
    "        pass\n",
    "    "
   ]
  },
  {
   "cell_type": "code",
   "execution_count": 363,
   "metadata": {
    "scrolled": true
   },
   "outputs": [],
   "source": [
    "bin_dict = {}\n",
    "\n",
    "for bin_pair in bins:\n",
    "    bin_dict[bin_pair] = 0\n",
    "    for edge, timings in edge_dict.items():\n",
    "        start = timings[0]\n",
    "        end = timings[1]\n",
    "        if start <= bin_pair[0] and end > bin_pair[0]:\n",
    "            bin_dict[bin_pair] += 1\n",
    "    "
   ]
  },
  {
   "cell_type": "code",
   "execution_count": 401,
   "metadata": {},
   "outputs": [
    {
     "name": "stdout",
     "output_type": "stream",
     "text": [
      "95\n",
      "0.21369863013683843\n"
     ]
    }
   ],
   "source": [
    "t_max_L = max(bin_dict.items(), key = lambda k : k[1])[0][0]\n",
    "max_L = max(bin_dict.items(), key = lambda k : k[1])[1]\n",
    "\n",
    "print(max_L)\n",
    "print(t_max_L)"
   ]
  },
  {
   "cell_type": "code",
   "execution_count": 367,
   "metadata": {},
   "outputs": [],
   "source": [
    "## slopes\n",
    "\n",
    "peak_y = 95\n",
    "peak_x = 0.21369863013683843\n",
    "\n",
    "start_y = 2\n",
    "start_x = 0\n",
    "\n",
    "end_y = 2\n",
    "end_x = 0.3859675963699254"
   ]
  },
  {
   "cell_type": "code",
   "execution_count": 368,
   "metadata": {},
   "outputs": [
    {
     "name": "stdout",
     "output_type": "stream",
     "text": [
      "435.19230769260884\n",
      "539.8534746773089\n",
      "0.8061304189117982\n"
     ]
    }
   ],
   "source": [
    "slope_1 = (peak_y-start_y)/(peak_x-start_x)\n",
    "slope_2 = (peak_y-end_y)/(end_x-peak_x)\n",
    "\n",
    "print(slope_1)\n",
    "print(slope_2)\n",
    "print(slope_1/slope_2)"
   ]
  },
  {
   "cell_type": "code",
   "execution_count": 369,
   "metadata": {},
   "outputs": [],
   "source": [
    "sampling_times = []\n",
    "branching_times = []\n",
    "for node in tree.preorder_node_iter():\n",
    "    if node.taxon:\n",
    "        sampling_times.append(node.distance_from_root())\n",
    "    else:\n",
    "        branching_times.append(node.distance_from_root())\n",
    "\n",
    "sampling_times = sorted(sampling_times)\n",
    "branching_times = sorted(branching_times)"
   ]
  },
  {
   "cell_type": "code",
   "execution_count": 370,
   "metadata": {},
   "outputs": [
    {
     "name": "stdout",
     "output_type": "stream",
     "text": [
      "0.0012605312238711675\n",
      "0.0016789798767443802\n"
     ]
    }
   ],
   "source": [
    "sampling_diffs = []\n",
    "for count,i in enumerate(sampling_times):\n",
    "    try:\n",
    "        next_one = sampling_times[count + 1]\n",
    "        sampling_diffs.append(next_one - i)\n",
    "    except IndexError:\n",
    "        pass\n",
    "\n",
    "branching_diffs = []\n",
    "for count,i in enumerate(branching_times):\n",
    "    try:\n",
    "        next_one = branching_times[count + 1]\n",
    "        branching_diffs.append(next_one - i)\n",
    "    except IndexError:\n",
    "        pass\n",
    "    \n",
    "print(np.mean(sampling_diffs))\n",
    "print(np.mean(branching_diffs))"
   ]
  },
  {
   "cell_type": "code",
   "execution_count": 376,
   "metadata": {
    "scrolled": true
   },
   "outputs": [
    {
     "name": "stdout",
     "output_type": "stream",
     "text": [
      "[0, 0.019298379818496268, 0.038596759636992536, 0.057895139455488805, 0.07719351927398507, 0.09649189909248135, 0.11579027891097762, 0.1350886587294739, 0.15438703854797017, 0.17368541836646645, 0.19298379818496272, 0.212282178003459, 0.23158055782195527, 0.25087893764045155, 0.2701773174589478, 0.28947569727744404, 0.3087740770959403, 0.32807245691443654, 0.3473708367329328, 0.36666921655142903]\n"
     ]
    }
   ],
   "source": [
    "bin_size = full_len/20\n",
    "\n",
    "new_bin = 0\n",
    "new_bin_list = []\n",
    "new_tup_list = []\n",
    "for i in range(20):\n",
    "    new_bin_list.append(new_bin)\n",
    "    new_tup_list.append((new_bin, new_bin+bin_size))\n",
    "\n",
    "    new_bin += bin_size\n",
    "    \n",
    "    \n",
    "    \n",
    "print(new_bin_list)"
   ]
  },
  {
   "cell_type": "code",
   "execution_count": 394,
   "metadata": {},
   "outputs": [],
   "source": [
    "new_lins = defaultdict(list)\n",
    "average_lins = {}\n",
    "\n",
    "for new_bin in new_tup_list:\n",
    "    for old_bin in bins:\n",
    "        start1 = old_bin[0]\n",
    "        start2 = new_bin[0]\n",
    "        end1 = old_bin[1]\n",
    "        end2 = new_bin[1]\n",
    "        \n",
    "        if start1 >= start2 and end1 <= end2:\n",
    "            frac = (end1-start1)/bin_size\n",
    "        elif start1 >= start2 and end1 > end2 and start1 < end2:\n",
    "            frac = (end2-start1)/bin_size\n",
    "        elif start1 < start2 and end1 <= end2 and end1 > start2:\n",
    "            frac = (end1-start2)/bin_size\n",
    "        else:\n",
    "            continue\n",
    "        \n",
    "        new_lins[new_bin].append(frac*bin_dict[old_bin])\n",
    "                \n",
    "for new_bin, totals in new_lins.items():\n",
    "    average_lins[new_bin] = np.mean(totals)\n"
   ]
  },
  {
   "cell_type": "code",
   "execution_count": 372,
   "metadata": {},
   "outputs": [],
   "source": [
    "new_bin_dict = {}\n",
    "\n",
    "for bin_start in new_bin_list:\n",
    "    new_bin_dict[bin_start] = 0\n",
    "    for edge, timings in edge_dict.items():\n",
    "        start = timings[0]\n",
    "        end = timings[1]\n",
    "        if start <= bin_start and end > bin_start:\n",
    "            new_bin_dict[bin_start] += 1"
   ]
  },
  {
   "cell_type": "code",
   "execution_count": null,
   "metadata": {},
   "outputs": [],
   "source": []
  }
 ],
 "metadata": {
  "kernelspec": {
   "display_name": "Python 3",
   "language": "python",
   "name": "python3"
  },
  "language_info": {
   "codemirror_mode": {
    "name": "ipython",
    "version": 3
   },
   "file_extension": ".py",
   "mimetype": "text/x-python",
   "name": "python",
   "nbconvert_exporter": "python",
   "pygments_lexer": "ipython3",
   "version": "3.7.7"
  }
 },
 "nbformat": 4,
 "nbformat_minor": 4
}
