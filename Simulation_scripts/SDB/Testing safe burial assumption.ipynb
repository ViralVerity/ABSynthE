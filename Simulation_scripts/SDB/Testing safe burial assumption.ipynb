{
 "cells": [
  {
   "cell_type": "code",
   "execution_count": 1,
   "metadata": {
    "collapsed": true
   },
   "outputs": [],
   "source": [
    "import scipy as sp\n",
    "import numpy as np\n",
    "from scipy import stats\n",
    "\n",
    "\n",
    "def define_distributions():\n",
    "    \n",
    "    clinical_x = np.linspace(0, 40, 40)\n",
    "\n",
    "    incshape = (8.5/7.6)**2\n",
    "    incscale = (7.6**2)/8.5\n",
    "    inccdf = sp.stats.gamma.cdf(clinical_x, incshape, loc = 0, scale = incscale)\n",
    "\n",
    "    death_shape = (8.6/6.9)**2\n",
    "    death_scale = (6.9**2)/8.6\n",
    "    death_cdf = sp.stats.gamma.cdf(clinical_x, death_shape, loc = 0, scale = death_scale)\n",
    "\n",
    "    recovery_shape = (15.2/6.2)**2\n",
    "    recovery_scale = (6.2**2)/15.2\n",
    "    recovery_cdf = sp.stats.gamma.cdf(clinical_x, recovery_shape, loc = 0, scale = recovery_scale)\n",
    "    \n",
    "    \n",
    "    return inccdf, death_cdf, recovery_cdf\n",
    "\n",
    "def get_cdf(dim):\n",
    "\n",
    "    x = np.linspace(0,dim, dim) #This is where difference between living/dead comes in\n",
    "    mu = 3.1\n",
    "    sigma = 2.5\n",
    "\n",
    "    a = shape = (mu/sigma)**2\n",
    "    scale = (sigma**2)/mu\n",
    "\n",
    "    cdf = sp.stats.gamma.cdf(x,a,loc=0,scale=scale)\n",
    "\n",
    "    return cdf\n",
    "\n"
   ]
  },
  {
   "cell_type": "markdown",
   "metadata": {},
   "source": [
    "## Currently we have up to seven days of infectivity post-mortem from Prescott et al 2015\n",
    "\n",
    "A few options: \n",
    "\n",
    "   - Assume 100% SDB from first wave of cases, so how many cases averted in best case scenario \n",
    "   - Introduce SDB in waves - either in time or in effectiveness\n",
    "    \n",
    "   - Try and get a measure of how much SDB there really was and when. Could therefore do some nice matching to reality things?\n",
    "   \n"
   ]
  },
  {
   "cell_type": "code",
   "execution_count": null,
   "metadata": {
    "collapsed": true
   },
   "outputs": [],
   "source": []
  }
 ],
 "metadata": {
  "kernelspec": {
   "display_name": "Python 3",
   "language": "python",
   "name": "python3"
  },
  "language_info": {
   "codemirror_mode": {
    "name": "ipython",
    "version": 3
   },
   "file_extension": ".py",
   "mimetype": "text/x-python",
   "name": "python",
   "nbconvert_exporter": "python",
   "pygments_lexer": "ipython3",
   "version": "3.6.8"
  }
 },
 "nbformat": 4,
 "nbformat_minor": 2
}
