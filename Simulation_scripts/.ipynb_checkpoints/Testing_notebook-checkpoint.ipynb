{
 "cells": [
  {
   "cell_type": "code",
   "execution_count": 1,
   "metadata": {},
   "outputs": [
    {
     "name": "stdout",
     "output_type": "stream",
     "text": [
      "1414058 ['NA', 0.0, 0.0]\n",
      "1414059 ['1414058', 0.04089328310021556, 5.235226442993586]\n",
      "1414064 ['1414058', 0.24543786756221087, 1.6009189853040326]\n",
      "1414065 ['1414058', 0.5034358717718364, 13.75887903522916]\n",
      "1414062 ['1414058', 0.9803305474456774, 16.290029683844356]\n",
      "1414063 ['1414058', 0.046566724514872315, 12.352747038467493]\n",
      "1494579 ['1414058', 0.26947652244582554, 6.954066457007047]\n",
      "1494577 ['1414058', 0.05993463419655609, 11.993508802874949]\n",
      "1542800 ['1414058', 0.24719755608583427, 6.370001232952928]\n",
      "1542801 ['1414058', 0.6097638815626146, 18.798829361664918]\n",
      "1494581 ['1414058', 0.7281364164327855, 27.314535821207357]\n",
      "1542805 ['1414058', 0.9639624513442977, 14.06953196582348]\n",
      "1494580 ['1414058', 0.3848512418785246, 3.3480068159865617]\n",
      "1482406 ['1414058', 0.32008194889022856, 1.2086041957311822]\n",
      "1598063 ['1414058', 0.6908184110499099, 13.364241111053637]\n",
      "1494582 ['1494577', 14.316908001480275, 19.416141646601947]\n",
      "1494584 ['1494577', 15.280083144631925, 20.951931884474714]\n",
      "1542804 ['1542805', 16.380071133487647, 19.41161477932184]\n",
      "1542802 ['1414062', 20.994559934569132, 57.074831547733226]\n",
      "1494585 ['1494582', 21.386007200915564, 24.41662424165744]\n",
      "1414066 ['1494582', 25.355475402808224, 29.525905003569434]\n",
      "2453958 ['1542804', 25.741709337588883, 31.38223098896532]\n"
     ]
    }
   ],
   "source": [
    "#import Tree_simulator as ctx\n",
    "from collections import defaultdict\n",
    "import numpy as np\n",
    "\n",
    "dropbox_path = \"/Users/s1743989/VirusEvolution Dropbox/Verity Hill/Agent_based_model/Looping models/Results/testing_tidying/\"\n",
    "\n",
    "current_run = \"4/log_files/\"\n",
    "\n",
    "input_file = dropbox_path + current_run + \"information_file_for_0.csv\"\n",
    "#input_file = dropbox_path + \"test_transtree.csv\"\n",
    "\n",
    "\n",
    "\n",
    "trans_dict = defaultdict(list)\n",
    "nodes = []\n",
    "\n",
    "\n",
    "with open(input_file) as f:\n",
    "        next(f)\n",
    "        for l in f:\n",
    "            toks = l.strip(\"\\n\").split(\",\")\n",
    "            focal = toks[0]\n",
    "            parent = toks[1]\n",
    "            #time_inf_file = toks[2]\n",
    "            #time_sampled_file = toks[3]\n",
    "            time_inf_file = toks[4]\n",
    "            time_sampled_file = toks[6]\n",
    "            \n",
    "            time_inf = float(time_inf_file) + np.random.uniform(0,1)\n",
    "            time_sampled = float(time_sampled_file) + np.random.uniform(0,1)\n",
    "\n",
    "            trans_dict[focal] = [parent, time_inf, time_sampled]\n",
    "\n",
    "            nodes.append(focal)\n",
    "            \n",
    "\n",
    "trans_dict['1414058'] = ['NA',0.0,0.0]\n",
    "            \n",
    "for k,v in trans_dict.items():            \n",
    "    print(k,v)\n",
    "\n",
    "# tree = ctx.simulate_tree(trans_dict, nodes, 1, 31)\n",
    "# print(tree)\n",
    "\n",
    "# for nde in tree.nodes:\n",
    "#     if not nde.remove_func_called:\n",
    "#         print(nde)\n",
    "        \n",
    "        \n",
    "# print(len(tree.nodes))\n",
    "        \n",
    "#for nde in tree.nodes:\n",
    "\n",
    "#print(tree.final_nodes)\n",
    "\n",
    "#print(tree.nodes)\n",
    "\n",
    "#print(tree.node_heights)\n",
    "\n",
    "#for nde in tree.nodes:\n",
    " #   print(nde.removed)\n",
    "    \n",
    "    \n",
    "#for nde in tree.final_nodes:\n",
    " #   print(nde.node_parent)"
   ]
  },
  {
   "cell_type": "code",
   "execution_count": 2,
   "metadata": {},
   "outputs": [
    {
     "ename": "TypeError",
     "evalue": "'NoneType' object does not support item assignment",
     "output_type": "error",
     "traceback": [
      "\u001b[0;31m---------------------------------------------------------------------------\u001b[0m",
      "\u001b[0;31mTypeError\u001b[0m                                 Traceback (most recent call last)",
      "\u001b[0;32m<ipython-input-2-55d6a47783f2>\u001b[0m in \u001b[0;36m<module>\u001b[0;34m()\u001b[0m\n\u001b[1;32m      8\u001b[0m \u001b[0mtest\u001b[0m \u001b[0;34m=\u001b[0m \u001b[0mnode_class\u001b[0m\u001b[0;34m.\u001b[0m\u001b[0mnode\u001b[0m\u001b[0;34m(\u001b[0m\u001b[0;34m'1414059'\u001b[0m\u001b[0;34m,\u001b[0m \u001b[0;34m\"Ind\"\u001b[0m\u001b[0;34m,\u001b[0m \u001b[0mtrans_dict\u001b[0m\u001b[0;34m,\u001b[0m \u001b[0mthose_sampled\u001b[0m\u001b[0;34m,\u001b[0m \u001b[0mnode_dict\u001b[0m\u001b[0;34m)\u001b[0m\u001b[0;34m\u001b[0m\u001b[0;34m\u001b[0m\u001b[0m\n\u001b[1;32m      9\u001b[0m \u001b[0;34m\u001b[0m\u001b[0m\n\u001b[0;32m---> 10\u001b[0;31m \u001b[0mtest\u001b[0m\u001b[0;34m.\u001b[0m\u001b[0mget_parent\u001b[0m\u001b[0;34m(\u001b[0m\u001b[0mtrans_dict\u001b[0m\u001b[0;34m,\u001b[0m \u001b[0mnode_dict\u001b[0m\u001b[0;34m)\u001b[0m\u001b[0;34m\u001b[0m\u001b[0;34m\u001b[0m\u001b[0m\n\u001b[0m",
      "\u001b[0;32m~/Documents/GitHub/ABSynth/Simulation_scripts/node_class.py\u001b[0m in \u001b[0;36mget_parent\u001b[0;34m(self, trans_dict, node_dict)\u001b[0m\n\u001b[1;32m     74\u001b[0m \u001b[0;34m\u001b[0m\u001b[0m\n\u001b[1;32m     75\u001b[0m             \u001b[0;32mif\u001b[0m \u001b[0mparent_id\u001b[0m \u001b[0;34m!=\u001b[0m \u001b[0;34m\"NA\"\u001b[0m\u001b[0;34m:\u001b[0m\u001b[0;34m\u001b[0m\u001b[0;34m\u001b[0m\u001b[0m\n\u001b[0;32m---> 76\u001b[0;31m                 \u001b[0mself\u001b[0m\u001b[0;34m.\u001b[0m\u001b[0mparent\u001b[0m \u001b[0;34m=\u001b[0m \u001b[0mnode\u001b[0m\u001b[0;34m(\u001b[0m\u001b[0mparent_id\u001b[0m\u001b[0;34m,\u001b[0m \u001b[0;34m\"Ind\"\u001b[0m\u001b[0;34m,\u001b[0m \u001b[0mtrans_dict\u001b[0m \u001b[0;34m)\u001b[0m\u001b[0;34m\u001b[0m\u001b[0;34m\u001b[0m\u001b[0m\n\u001b[0m\u001b[1;32m     77\u001b[0m                 \u001b[0mnode_dict\u001b[0m\u001b[0;34m[\u001b[0m\u001b[0mparent_id\u001b[0m\u001b[0;34m]\u001b[0m \u001b[0;34m=\u001b[0m \u001b[0mself\u001b[0m\u001b[0;34m.\u001b[0m\u001b[0mparent\u001b[0m\u001b[0;34m\u001b[0m\u001b[0;34m\u001b[0m\u001b[0m\n\u001b[1;32m     78\u001b[0m                 \u001b[0mself\u001b[0m\u001b[0;34m.\u001b[0m\u001b[0mparent\u001b[0m\u001b[0;34m.\u001b[0m\u001b[0mchildren\u001b[0m\u001b[0;34m.\u001b[0m\u001b[0madd\u001b[0m\u001b[0;34m(\u001b[0m\u001b[0mself\u001b[0m\u001b[0;34m)\u001b[0m\u001b[0;34m\u001b[0m\u001b[0;34m\u001b[0m\u001b[0m\n",
      "\u001b[0;32m~/Documents/GitHub/ABSynth/Simulation_scripts/node_class.py\u001b[0m in \u001b[0;36m__init__\u001b[0;34m(self, unique_id, node_type, trans_dict, those_sampled, node_dict, height, lucky_pair, subtree)\u001b[0m\n\u001b[1;32m     13\u001b[0m \u001b[0;34m\u001b[0m\u001b[0m\n\u001b[1;32m     14\u001b[0m         \u001b[0;32mif\u001b[0m \u001b[0mself\u001b[0m\u001b[0;34m.\u001b[0m\u001b[0mtype\u001b[0m \u001b[0;34m==\u001b[0m \u001b[0;34m\"Ind\"\u001b[0m\u001b[0;34m:\u001b[0m \u001b[0;31m#ie if we're just looking at this person, not as a node in the tree\u001b[0m\u001b[0;34m\u001b[0m\u001b[0;34m\u001b[0m\u001b[0m\n\u001b[0;32m---> 15\u001b[0;31m             \u001b[0mself\u001b[0m\u001b[0;34m.\u001b[0m\u001b[0mget_useful_info\u001b[0m\u001b[0;34m(\u001b[0m\u001b[0mtrans_dict\u001b[0m\u001b[0;34m,\u001b[0m \u001b[0mthose_sampled\u001b[0m\u001b[0;34m,\u001b[0m \u001b[0mnode_dict\u001b[0m\u001b[0;34m)\u001b[0m \u001b[0;31m#Gets info like time course of infection\u001b[0m\u001b[0;34m\u001b[0m\u001b[0;34m\u001b[0m\u001b[0m\n\u001b[0m\u001b[1;32m     16\u001b[0m \u001b[0;34m\u001b[0m\u001b[0m\n\u001b[1;32m     17\u001b[0m         \u001b[0;31m##These three arguments are optional, because they're only relevant for coalescent nodes\u001b[0m\u001b[0;34m\u001b[0m\u001b[0;34m\u001b[0m\u001b[0;34m\u001b[0m\u001b[0m\n",
      "\u001b[0;32m~/Documents/GitHub/ABSynth/Simulation_scripts/node_class.py\u001b[0m in \u001b[0;36mget_useful_info\u001b[0;34m(self, trans_dict, those_sampled, node_dict)\u001b[0m\n\u001b[1;32m     55\u001b[0m             \u001b[0mself\u001b[0m\u001b[0;34m.\u001b[0m\u001b[0mtime_sampled\u001b[0m \u001b[0;34m=\u001b[0m \u001b[0mfloat\u001b[0m\u001b[0;34m(\u001b[0m\u001b[0mtrans_dict\u001b[0m\u001b[0;34m[\u001b[0m\u001b[0mself\u001b[0m\u001b[0;34m.\u001b[0m\u001b[0mid\u001b[0m\u001b[0;34m]\u001b[0m\u001b[0;34m[\u001b[0m\u001b[0;36m2\u001b[0m\u001b[0;34m]\u001b[0m\u001b[0;34m)\u001b[0m\u001b[0;34m\u001b[0m\u001b[0;34m\u001b[0m\u001b[0m\n\u001b[1;32m     56\u001b[0m \u001b[0;34m\u001b[0m\u001b[0m\n\u001b[0;32m---> 57\u001b[0;31m         \u001b[0mnode_dict\u001b[0m\u001b[0;34m[\u001b[0m\u001b[0mself\u001b[0m\u001b[0;34m.\u001b[0m\u001b[0mid\u001b[0m\u001b[0;34m]\u001b[0m \u001b[0;34m=\u001b[0m \u001b[0mself\u001b[0m\u001b[0;34m\u001b[0m\u001b[0;34m\u001b[0m\u001b[0m\n\u001b[0m\u001b[1;32m     58\u001b[0m \u001b[0;34m\u001b[0m\u001b[0m\n\u001b[1;32m     59\u001b[0m         \u001b[0;31m#self.get_parent(trans_dict, node_dict)\u001b[0m\u001b[0;34m\u001b[0m\u001b[0;34m\u001b[0m\u001b[0;34m\u001b[0m\u001b[0m\n",
      "\u001b[0;31mTypeError\u001b[0m: 'NoneType' object does not support item assignment"
     ]
    }
   ],
   "source": [
    "import node_class\n",
    "\n",
    "those_sampled = []\n",
    "for i in trans_dict.keys():\n",
    "    those_sampled.append(i)\n",
    "node_dict = {}\n",
    "\n",
    "test = node_class.node('1414059', \"Ind\", trans_dict, those_sampled, node_dict)\n",
    "\n",
    "test.get_parent(trans_dict, those_sampled, node_dict)"
   ]
  },
  {
   "cell_type": "code",
   "execution_count": 1,
   "metadata": {},
   "outputs": [
    {
     "name": "stdout",
     "output_type": "stream",
     "text": [
      "0\n",
      "1\n",
      "2\n",
      "3\n",
      "4\n",
      "5\n"
     ]
    }
   ],
   "source": [
    "thing = False\n",
    "thing2 = False\n",
    "\n",
    "for i in range(10):\n",
    "    if thing:\n",
    "        if thing2:\n",
    "            break\n",
    "    print(i)\n",
    "            \n",
    "    if i == 5:\n",
    "        thing = True\n",
    "        thing2 = True"
   ]
  },
  {
   "cell_type": "code",
   "execution_count": 6,
   "metadata": {
    "collapsed": true
   },
   "outputs": [],
   "source": [
    "test_dict = {}\n",
    "\n",
    "for i in range(10):\n",
    "    test_dict[i]= \"a\"\n",
    "    \n",
    "try:\n",
    "    for i, v in test_dict.items():\n",
    "        test_dict[i+1] = 'n'\n",
    "except RuntimeError:\n",
    "    pass"
   ]
  },
  {
   "cell_type": "code",
   "execution_count": 7,
   "metadata": {},
   "outputs": [
    {
     "data": {
      "text/plain": [
       "{0: 'a',\n",
       " 1: 'n',\n",
       " 2: 'n',\n",
       " 3: 'n',\n",
       " 4: 'n',\n",
       " 5: 'n',\n",
       " 6: 'n',\n",
       " 7: 'n',\n",
       " 8: 'n',\n",
       " 9: 'n',\n",
       " 10: 'n'}"
      ]
     },
     "execution_count": 7,
     "metadata": {},
     "output_type": "execute_result"
    }
   ],
   "source": [
    "test_dict"
   ]
  },
  {
   "cell_type": "code",
   "execution_count": 11,
   "metadata": {
    "collapsed": true
   },
   "outputs": [],
   "source": [
    "import distribution_functions"
   ]
  },
  {
   "cell_type": "code",
   "execution_count": 14,
   "metadata": {},
   "outputs": [
    {
     "data": {
      "text/plain": [
       "(array([ 0.        ,  0.07625625,  0.1673127 ,  0.25660258,  0.3402285 ,\n",
       "         0.41685344,  0.48616327,  0.54832398,  0.60373617,  0.65290919,\n",
       "         0.69639239,  0.73473629,  0.76847079,  0.79809334,  0.82406315,\n",
       "         0.84679914,  0.86668013,  0.88404642,  0.89920204,  0.91241755,\n",
       "         0.92393282,  0.93395997,  0.94268607,  0.95027582,  0.95687391,\n",
       "         0.9626073 ,  0.96758723,  0.97191103,  0.97566383,  0.97891993,\n",
       "         0.98174421,  0.98419322,  0.98631626,  0.98815625,  0.98975054,\n",
       "         0.99113164,  0.9923278 ,  0.99336358,  0.99426031,  0.99503652]),\n",
       " array([ 0.        ,  0.04718939,  0.12417941,  0.20950683,  0.29507027,\n",
       "         0.37684467,  0.45280994,  0.52206555,  0.58436636,  0.63985375,\n",
       "         0.68889111,  0.7319606 ,  0.76959746,  0.80234859,  0.8307468 ,\n",
       "         0.85529555,  0.87646056,  0.89466607,  0.91029397,  0.92368489,\n",
       "         0.93514043,  0.94492602,  0.95327405,  0.96038717,  0.96644141,\n",
       "         0.97158924,  0.9759623 ,  0.97967405,  0.98282199,  0.98548981,\n",
       "         0.9877492 ,  0.98966147,  0.99127898,  0.9926464 ,  0.9938018 ,\n",
       "         0.99477756,  0.99560124,  0.99629622,  0.99688238,  0.99737656]),\n",
       " array([  0.00000000e+00,   4.24623907e-06,   1.94101644e-04,\n",
       "          1.57892588e-03,   6.34700008e-03,   1.73667545e-02,\n",
       "          3.73086077e-02,   6.79135420e-02,   1.09640123e-01,\n",
       "          1.61682362e-01,   2.22238188e-01,   2.88889705e-01,\n",
       "          3.58985398e-01,   4.29957136e-01,   4.99543322e-01,\n",
       "          5.65916770e-01,   6.27731614e-01,   6.84110112e-01,\n",
       "          7.34590612e-01,   7.79055044e-01,   8.17649957e-01,\n",
       "          8.50710698e-01,   8.78694477e-01,   9.02125058e-01,\n",
       "          9.21549694e-01,   9.37507555e-01,   9.50508185e-01,\n",
       "          9.61018154e-01,   9.69454108e-01,   9.76180534e-01,\n",
       "          9.81510826e-01,   9.85710474e-01,   9.89001502e-01,\n",
       "          9.91567485e-01,   9.93558675e-01,   9.95096933e-01,\n",
       "          9.96280289e-01,   9.97187006e-01,   9.97879144e-01,\n",
       "          9.98405602e-01]))"
      ]
     },
     "execution_count": 14,
     "metadata": {},
     "output_type": "execute_result"
    }
   ],
   "source": [
    "import scipy.stats as sp\n",
    "\n",
    "distribution_functions.define_distributions()"
   ]
  },
  {
   "cell_type": "code",
   "execution_count": 16,
   "metadata": {},
   "outputs": [],
   "source": [
    "a,b,c,d = ['a', 'b', 'c', 'd']"
   ]
  },
  {
   "cell_type": "code",
   "execution_count": 17,
   "metadata": {},
   "outputs": [
    {
     "data": {
      "text/plain": [
       "'a'"
      ]
     },
     "execution_count": 17,
     "metadata": {},
     "output_type": "execute_result"
    }
   ],
   "source": [
    "a"
   ]
  },
  {
   "cell_type": "code",
   "execution_count": 18,
   "metadata": {
    "collapsed": true
   },
   "outputs": [],
   "source": [
    "class test():\n",
    "    def __init__(self, test_id, u_id=None):\n",
    "        \n",
    "        self.test_id = test_id\n",
    "        \n",
    "        if u_id:\n",
    "            self.u_id = u_id\n",
    "        \n",
    "        \n",
    "        "
   ]
  },
  {
   "cell_type": "code",
   "execution_count": 20,
   "metadata": {},
   "outputs": [],
   "source": [
    "testy1 = test(3)\n",
    "testy2 = test(5,6)"
   ]
  },
  {
   "cell_type": "code",
   "execution_count": 24,
   "metadata": {},
   "outputs": [
    {
     "data": {
      "text/plain": [
       "6"
      ]
     },
     "execution_count": 24,
     "metadata": {},
     "output_type": "execute_result"
    }
   ],
   "source": [
    "testy2.u_id"
   ]
  },
  {
   "cell_type": "code",
   "execution_count": null,
   "metadata": {
    "collapsed": true
   },
   "outputs": [],
   "source": []
  }
 ],
 "metadata": {
  "kernelspec": {
   "display_name": "Python 3",
   "language": "python",
   "name": "python3"
  },
  "language_info": {
   "codemirror_mode": {
    "name": "ipython",
    "version": 3
   },
   "file_extension": ".py",
   "mimetype": "text/x-python",
   "name": "python",
   "nbconvert_exporter": "python",
   "pygments_lexer": "ipython3",
   "version": "3.6.8"
  }
 },
 "nbformat": 4,
 "nbformat_minor": 2
}
