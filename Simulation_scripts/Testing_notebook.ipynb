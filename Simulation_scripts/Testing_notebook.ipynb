{
 "cells": [
  {
   "cell_type": "code",
   "execution_count": 2,
   "metadata": {},
   "outputs": [
    {
     "name": "stdout",
     "output_type": "stream",
     "text": [
      "1414058 ['NA', 0.0, 0.0]\n",
      "1414059 ['1414058', 0.8865712105529767, 5.676269096328714]\n",
      "1414064 ['1414058', 0.6365236793804115, 1.5223051681445803]\n",
      "1414065 ['1414058', 0.7611808055149979, 13.337779662389632]\n",
      "1414062 ['1414058', 0.42488090388545385, 16.28641535929078]\n",
      "1414063 ['1414058', 0.7048893317803369, 12.930304917250405]\n",
      "1494579 ['1414058', 0.5389529843398909, 6.8336184729405565]\n",
      "1494577 ['1414058', 0.963937668080102, 11.080513741351233]\n",
      "1542800 ['1414058', 0.2615137112418353, 6.979320957980539]\n",
      "1542801 ['1414058', 0.25623147978009986, 18.494360415954304]\n",
      "1494581 ['1414058', 0.494838033865464, 27.491294501142093]\n",
      "1542805 ['1414058', 0.31202231090014754, 14.214662839854688]\n",
      "1494580 ['1414058', 0.5751946037719656, 3.748854357171275]\n",
      "1482406 ['1414058', 0.16261452129671228, 1.1719814558323542]\n",
      "1598063 ['1414058', 0.702360717564185, 13.77484130738628]\n",
      "1494582 ['1494577', 14.946630663621182, 19.52813004643589]\n",
      "1494584 ['1494577', 15.872585808305898, 20.311124380412874]\n",
      "1542804 ['1542805', 16.22797033565816, 19.839524446253165]\n",
      "1542802 ['1414062', 20.299557818333614, 57.60326883081293]\n",
      "1494585 ['1494582', 21.860794895336674, 24.62457465249902]\n",
      "1414066 ['1494582', 25.16582128214252, 29.243305782866166]\n",
      "2453958 ['1542804', 25.764287631256853, 31.1219071812383]\n"
     ]
    }
   ],
   "source": [
    "#import Tree_simulator as ctx\n",
    "from collections import defaultdict\n",
    "import numpy as np\n",
    "from node_class import *\n",
    "from tree_class import *\n",
    "\n",
    "\n",
    "\n",
    "dropbox_path = \"/Users/s1743989/VirusEvolution Dropbox/Verity Hill/Agent_based_model/Looping models/Results/testing_tidying/\"\n",
    "\n",
    "current_run = \"4/log_files/\"\n",
    "\n",
    "input_file = dropbox_path + current_run + \"information_file_for_0.csv\"\n",
    "#input_file = dropbox_path + \"test_transtree.csv\"\n",
    "\n",
    "\n",
    "\n",
    "trans_dict = defaultdict(list)\n",
    "nodes = []\n",
    "\n",
    "\n",
    "with open(input_file) as f:\n",
    "        next(f)\n",
    "        for l in f:\n",
    "            toks = l.strip(\"\\n\").split(\",\")\n",
    "            focal = toks[0]\n",
    "            parent = toks[1]\n",
    "            #time_inf_file = toks[2]\n",
    "            #time_sampled_file = toks[3]\n",
    "            time_inf_file = toks[4]\n",
    "            time_sampled_file = toks[6]\n",
    "            \n",
    "            time_inf = float(time_inf_file) + np.random.uniform(0,1)\n",
    "            time_sampled = float(time_sampled_file) + np.random.uniform(0,1)\n",
    "\n",
    "            trans_dict[focal] = [parent, time_inf, time_sampled]\n",
    "\n",
    "            nodes.append(focal)\n",
    "            \n",
    "\n",
    "trans_dict['1414058'] = ['NA',0.0,0.0]\n",
    "            \n",
    "for k,v in trans_dict.items():            \n",
    "    print(k,v)\n",
    "    \n",
    "those_sampled = []\n",
    "for i in trans_dict.keys():\n",
    "    those_sampled.append(i)\n",
    "node_dict = {}\n",
    "\n",
    "for i in nodes:\n",
    "    node(i, \"Ind\", trans_dict, those_sampled, node_dict, 0, 0)\n",
    "\n",
    "\n",
    "# tree = ctx.simulate_tree(trans_dict, nodes, 1, 31)\n",
    "# print(tree)\n",
    "\n",
    "# for nde in tree.nodes:\n",
    "#     if not nde.remove_func_called:\n",
    "#         print(nde)\n",
    "        \n",
    "        \n",
    "# print(len(tree.nodes))\n",
    "        \n",
    "#for nde in tree.nodes:\n",
    "\n",
    "#print(tree.final_nodes)\n",
    "\n",
    "#print(tree.nodes)\n",
    "\n",
    "#print(tree.node_heights)\n",
    "\n",
    "#for nde in tree.nodes:\n",
    " #   print(nde.removed)\n",
    "    \n",
    "    \n",
    "#for nde in tree.final_nodes:\n",
    " #   print(nde.node_parent)"
   ]
  },
  {
   "cell_type": "code",
   "execution_count": 20,
   "metadata": {},
   "outputs": [
    {
     "name": "stdout",
     "output_type": "stream",
     "text": [
      "Coalescing [<node_class.node object at 0x1127fbb70>, <node_class.node object at 0x1127fbb00>]\n",
      "new node is 426ed87e-33a1-11ea-9506-003ee1ccacd0 0.45488428710372375\n",
      "Coalescing [<node_class.node object at 0x1126d8780>, <node_class.node object at 0x1128018d0>]\n",
      "new node is 426ee63e-33a1-11ea-8bce-003ee1ccacd0 5.046996517310092\n"
     ]
    }
   ],
   "source": [
    "subtree_dict = {}\n",
    "\n",
    "test_subtree = tree(node_dict['1494577'], subtree_dict)\n",
    "\n",
    "# for i in test_subtree.tips:\n",
    "#     print(i.type, i.relative_height, i.absolute_time)\n",
    "    \n",
    "# for i in test_subtree.nodes:\n",
    "#     print(i, i.relative_height, i.children)\n",
    "    \n",
    "# print(test_subtree.heights)"
   ]
  },
  {
   "cell_type": "code",
   "execution_count": 21,
   "metadata": {},
   "outputs": [
    {
     "name": "stdout",
     "output_type": "stream",
     "text": [
      "<node_class.node object at 0x1128018d0> 0.45488428710372375 [<node_class.node object at 0x1127fbb70>, <node_class.node object at 0x1127fbb00>]\n",
      "<node_class.node object at 0x1127fbd68> 5.046996517310092 [<node_class.node object at 0x1126d8780>, <node_class.node object at 0x1128018d0>]\n",
      "<node_class.node object at 0x1127fbe48> 15.059956059684477 <node_class.node object at 0x1127fbd68>\n"
     ]
    }
   ],
   "source": [
    "for i in test_subtree.nodes:\n",
    "    print(i, i.relative_height, i.children)"
   ]
  },
  {
   "cell_type": "code",
   "execution_count": 22,
   "metadata": {},
   "outputs": [
    {
     "name": "stdout",
     "output_type": "stream",
     "text": [
      "<node_class.node object at 0x1127fbb00> Trans 0.45488428710372375 15.6726259715576\n",
      "<node_class.node object at 0x1127fbb70> Trans 0.0 16.127510258661324\n",
      "<node_class.node object at 0x1126d8780> Ind 5.046996517310092 11.080513741351233\n"
     ]
    }
   ],
   "source": [
    "for i in test_subtree.tips:\n",
    "    print(i, i.type, i.relative_height, i.absolute_time)"
   ]
  },
  {
   "cell_type": "code",
   "execution_count": 23,
   "metadata": {},
   "outputs": [
    {
     "data": {
      "text/plain": [
       "{<node_class.node at 0x1127fbe48>: 0.0,\n",
       " <node_class.node at 0x1127fbb00>: 0.0,\n",
       " <node_class.node at 0x1127fbb70>: 0.45488428710372375,\n",
       " <node_class.node at 0x1126d8780>: 0.0,\n",
       " <node_class.node at 0x1128018d0>: 4.592112230206368,\n",
       " <node_class.node at 0x1127fbd68>: 10.012959542374386}"
      ]
     },
     "execution_count": 23,
     "metadata": {},
     "output_type": "execute_result"
    }
   ],
   "source": [
    "test_subtree.get_branch_lengths()\n",
    "\n",
    "test_subtree.branch_lengths"
   ]
  },
  {
   "cell_type": "code",
   "execution_count": 24,
   "metadata": {},
   "outputs": [
    {
     "data": {
      "text/plain": [
       "{<node_class.node at 0x1127fbb00>: 0.45488428710372375,\n",
       " <node_class.node at 0x1127fbb70>: 0.0,\n",
       " <node_class.node at 0x1126d8780>: 5.046996517310092,\n",
       " <node_class.node at 0x1128018d0>: 0.45488428710372375,\n",
       " <node_class.node at 0x1127fbd68>: 5.046996517310092,\n",
       " <node_class.node at 0x1127fbe48>: 15.059956059684477}"
      ]
     },
     "execution_count": 24,
     "metadata": {},
     "output_type": "execute_result"
    }
   ],
   "source": [
    "test_subtree.heights"
   ]
  },
  {
   "cell_type": "code",
   "execution_count": 25,
   "metadata": {},
   "outputs": [
    {
     "data": {
      "text/plain": [
       "<node_class.node at 0x1127fbe48>"
      ]
     },
     "execution_count": 25,
     "metadata": {},
     "output_type": "execute_result"
    }
   ],
   "source": [
    "test_subtree.root"
   ]
  },
  {
   "cell_type": "code",
   "execution_count": 27,
   "metadata": {},
   "outputs": [
    {
     "name": "stdout",
     "output_type": "stream",
     "text": [
      "Coal 0.45488428710372375\n",
      "Coal 5.046996517310092\n",
      "Coal 15.059956059684477\n",
      "Trans 0.45488428710372375\n",
      "Trans 0.0\n",
      "Ind 5.046996517310092\n"
     ]
    }
   ],
   "source": [
    "for nde in test_subtree.nodes:\n",
    "    print(nde.type, nde.relative_height)\n",
    "    \n",
    "for tip in test_subtree.tips:\n",
    "    print(tip.type, tip.relative_height)"
   ]
  },
  {
   "cell_type": "code",
   "execution_count": 19,
   "metadata": {},
   "outputs": [
    {
     "name": "stdout",
     "output_type": "stream",
     "text": [
      "0.45488428710372375\n",
      "0.0\n",
      "5.046996517310092\n"
     ]
    }
   ],
   "source": [
    "for tip in test_subtree.tips:\n",
    "    print(tip.relative_height)"
   ]
  },
  {
   "cell_type": "code",
   "execution_count": 20,
   "metadata": {},
   "outputs": [
    {
     "name": "stdout",
     "output_type": "stream",
     "text": [
      "1.7540357027104863\n"
     ]
    }
   ],
   "source": [
    "print(test_subtree.most_recent_tip)"
   ]
  },
  {
   "cell_type": "code",
   "execution_count": 21,
   "metadata": {},
   "outputs": [
    {
     "name": "stdout",
     "output_type": "stream",
     "text": [
      "0.9205718155363366\n"
     ]
    }
   ],
   "source": [
    "print(test_subtree.person.time_infected)"
   ]
  },
  {
   "cell_type": "code",
   "execution_count": 5,
   "metadata": {},
   "outputs": [
    {
     "name": "stdout",
     "output_type": "stream",
     "text": [
      "making parent node\n",
      "1414058\n"
     ]
    }
   ],
   "source": [
    "import node_class\n",
    "\n",
    "those_sampled = []\n",
    "for i in trans_dict.keys():\n",
    "    those_sampled.append(i)\n",
    "node_dict = {}\n",
    "\n",
    "test = node_class.node('1414059', \"Ind\", trans_dict, those_sampled, node_dict)\n",
    "\n",
    "test.get_parent(trans_dict, those_sampled, node_dict)\n",
    "\n",
    "print(test.parent.id)"
   ]
  },
  {
   "cell_type": "code",
   "execution_count": 3,
   "metadata": {},
   "outputs": [
    {
     "name": "stdout",
     "output_type": "stream",
     "text": [
      "[<node_class.node object at 0x1085c6ef0>, <node_class.node object at 0x1085c6f98>, <node_class.node object at 0x1085c6f28>]\n",
      "1494585\n",
      "1414066\n",
      "2453958\n"
     ]
    }
   ],
   "source": [
    "import node_class\n",
    "\n",
    "gen_3_out = []\n",
    "gen_4_out = []\n",
    "\n",
    "for i in nodes:\n",
    "    node_class.node(i, \"Ind\", trans_dict, those_sampled, node_dict, gen_3_out, gen_4_out)\n",
    "    \n",
    "print(gen_3_out)\n",
    "    \n",
    "for i in gen_3_out:\n",
    "    print(i.id)\n",
    "    "
   ]
  },
  {
   "cell_type": "code",
   "execution_count": 3,
   "metadata": {},
   "outputs": [
    {
     "name": "stdout",
     "output_type": "stream",
     "text": [
      "1414058 []\n",
      "1414059 [<node_class.node object at 0x1085ab4a8>]\n",
      "1414064 [<node_class.node object at 0x1085ab4a8>]\n",
      "1414065 [<node_class.node object at 0x1085ab4a8>]\n",
      "1414062 [<node_class.node object at 0x1085ab4a8>]\n",
      "1414063 [<node_class.node object at 0x1085ab4a8>]\n",
      "1494579 [<node_class.node object at 0x1085ab4a8>]\n",
      "1494577 [<node_class.node object at 0x1085ab4a8>]\n",
      "1542800 [<node_class.node object at 0x1085ab4a8>]\n",
      "1542801 [<node_class.node object at 0x1085ab4a8>]\n",
      "1494581 [<node_class.node object at 0x1085ab4a8>]\n",
      "1542805 [<node_class.node object at 0x1085ab4a8>]\n",
      "1494580 [<node_class.node object at 0x1085ab4a8>]\n",
      "1482406 [<node_class.node object at 0x1085ab4a8>]\n",
      "1598063 [<node_class.node object at 0x1085ab4a8>]\n",
      "1494582 [<node_class.node object at 0x1085abb38>, <node_class.node object at 0x1085ab4a8>]\n",
      "1494584 [<node_class.node object at 0x1085abb38>, <node_class.node object at 0x1085ab4a8>]\n",
      "1542804 [<node_class.node object at 0x1085abcf8>, <node_class.node object at 0x1085ab4a8>]\n",
      "1542802 [<node_class.node object at 0x1085ab940>, <node_class.node object at 0x1085ab4a8>]\n",
      "1494585 [<node_class.node object at 0x1085abf60>, <node_class.node object at 0x1085abb38>, <node_class.node object at 0x1085ab4a8>]\n",
      "1414066 [<node_class.node object at 0x1085abf60>, <node_class.node object at 0x1085abb38>, <node_class.node object at 0x1085ab4a8>]\n",
      "2453958 [<node_class.node object at 0x1085ab828>, <node_class.node object at 0x1085abcf8>, <node_class.node object at 0x1085ab4a8>]\n"
     ]
    }
   ],
   "source": [
    "for k,v in node_dict.items():\n",
    "    print(k, v.to_root)"
   ]
  },
  {
   "cell_type": "code",
   "execution_count": 2,
   "metadata": {},
   "outputs": [
    {
     "ename": "NameError",
     "evalue": "name 'random' is not defined",
     "output_type": "error",
     "traceback": [
      "\u001b[0;31m---------------------------------------------------------------------------\u001b[0m",
      "\u001b[0;31mNameError\u001b[0m                                 Traceback (most recent call last)",
      "\u001b[0;32m<ipython-input-2-c87126946bbe>\u001b[0m in \u001b[0;36m<module>\u001b[0;34m()\u001b[0m\n\u001b[1;32m      1\u001b[0m \u001b[0msubtree_dict\u001b[0m \u001b[0;34m=\u001b[0m \u001b[0;34m{\u001b[0m\u001b[0;34m}\u001b[0m\u001b[0;34m\u001b[0m\u001b[0;34m\u001b[0m\u001b[0m\n\u001b[1;32m      2\u001b[0m \u001b[0;34m\u001b[0m\u001b[0m\n\u001b[0;32m----> 3\u001b[0;31m \u001b[0mtest_subtree\u001b[0m \u001b[0;34m=\u001b[0m \u001b[0mtree\u001b[0m\u001b[0;34m(\u001b[0m\u001b[0mnode_dict\u001b[0m\u001b[0;34m[\u001b[0m\u001b[0;34m'1494577'\u001b[0m\u001b[0;34m]\u001b[0m\u001b[0;34m,\u001b[0m \u001b[0msubtree_dict\u001b[0m\u001b[0;34m)\u001b[0m\u001b[0;34m\u001b[0m\u001b[0;34m\u001b[0m\u001b[0m\n\u001b[0m\u001b[1;32m      4\u001b[0m \u001b[0;34m\u001b[0m\u001b[0m\n\u001b[1;32m      5\u001b[0m \u001b[0;32mfor\u001b[0m \u001b[0mi\u001b[0m \u001b[0;32min\u001b[0m \u001b[0mtest_subtree\u001b[0m\u001b[0;34m.\u001b[0m\u001b[0mtips\u001b[0m\u001b[0;34m:\u001b[0m\u001b[0;34m\u001b[0m\u001b[0;34m\u001b[0m\u001b[0m\n",
      "\u001b[0;32m~/Documents/GitHub/ABSynth/Simulation_scripts/tree_class.py\u001b[0m in \u001b[0;36m__init__\u001b[0;34m(self, person_tree, subtree_dict)\u001b[0m\n\u001b[1;32m     31\u001b[0m \u001b[0;34m\u001b[0m\u001b[0m\n\u001b[1;32m     32\u001b[0m             \u001b[0mself\u001b[0m\u001b[0;34m.\u001b[0m\u001b[0msort_out_tips\u001b[0m\u001b[0;34m(\u001b[0m\u001b[0;34m)\u001b[0m\u001b[0;34m\u001b[0m\u001b[0;34m\u001b[0m\u001b[0m\n\u001b[0;32m---> 33\u001b[0;31m             \u001b[0mself\u001b[0m\u001b[0;34m.\u001b[0m\u001b[0mcoalescent\u001b[0m\u001b[0;34m(\u001b[0m\u001b[0mself\u001b[0m\u001b[0;34m.\u001b[0m\u001b[0mtips\u001b[0m\u001b[0;34m,\u001b[0m \u001b[0;36m0.0\u001b[0m\u001b[0;34m)\u001b[0m\u001b[0;34m\u001b[0m\u001b[0;34m\u001b[0m\u001b[0m\n\u001b[0m\u001b[1;32m     34\u001b[0m             \u001b[0mself\u001b[0m\u001b[0;34m.\u001b[0m\u001b[0mdefine_root\u001b[0m\u001b[0;34m(\u001b[0m\u001b[0;34m)\u001b[0m\u001b[0;34m\u001b[0m\u001b[0;34m\u001b[0m\u001b[0m\n\u001b[1;32m     35\u001b[0m \u001b[0;34m\u001b[0m\u001b[0m\n",
      "\u001b[0;32m~/Documents/GitHub/ABSynth/Simulation_scripts/tree_class.py\u001b[0m in \u001b[0;36mcoalescent\u001b[0;34m(self, lineage_list, current_height)\u001b[0m\n\u001b[1;32m    129\u001b[0m                 \u001b[0mcurrent_height\u001b[0m \u001b[0;34m=\u001b[0m \u001b[0mnext_sample\u001b[0m\u001b[0;34m.\u001b[0m\u001b[0mrelative_height\u001b[0m\u001b[0;34m\u001b[0m\u001b[0;34m\u001b[0m\u001b[0m\n\u001b[1;32m    130\u001b[0m \u001b[0;34m\u001b[0m\u001b[0m\n\u001b[0;32m--> 131\u001b[0;31m                 \u001b[0mself\u001b[0m\u001b[0;34m.\u001b[0m\u001b[0mcoalescent\u001b[0m\u001b[0;34m(\u001b[0m\u001b[0mlineage_list\u001b[0m\u001b[0;34m,\u001b[0m \u001b[0mcurrent_height\u001b[0m\u001b[0;34m)\u001b[0m\u001b[0;34m\u001b[0m\u001b[0;34m\u001b[0m\u001b[0m\n\u001b[0m\u001b[1;32m    132\u001b[0m \u001b[0;34m\u001b[0m\u001b[0m\n\u001b[1;32m    133\u001b[0m             \u001b[0;31m#Got some stuff in active population to be coalescing\u001b[0m\u001b[0;34m\u001b[0m\u001b[0;34m\u001b[0m\u001b[0;34m\u001b[0m\u001b[0m\n",
      "\u001b[0;32m~/Documents/GitHub/ABSynth/Simulation_scripts/tree_class.py\u001b[0m in \u001b[0;36mcoalescent\u001b[0;34m(self, lineage_list, current_height)\u001b[0m\n\u001b[1;32m    158\u001b[0m \u001b[0;34m\u001b[0m\u001b[0m\n\u001b[1;32m    159\u001b[0m                     \u001b[0;31m#Who is going to coalesce?\u001b[0m\u001b[0;34m\u001b[0m\u001b[0;34m\u001b[0m\u001b[0;34m\u001b[0m\u001b[0m\n\u001b[0;32m--> 160\u001b[0;31m                     \u001b[0mlucky_pair\u001b[0m \u001b[0;34m=\u001b[0m \u001b[0mrandom\u001b[0m\u001b[0;34m.\u001b[0m\u001b[0msample\u001b[0m\u001b[0;34m(\u001b[0m\u001b[0mactive_pop\u001b[0m\u001b[0;34m,\u001b[0m \u001b[0mk\u001b[0m\u001b[0;34m=\u001b[0m\u001b[0;36m2\u001b[0m\u001b[0;34m)\u001b[0m\u001b[0;34m\u001b[0m\u001b[0;34m\u001b[0m\u001b[0m\n\u001b[0m\u001b[1;32m    161\u001b[0m \u001b[0;34m\u001b[0m\u001b[0m\n\u001b[1;32m    162\u001b[0m                     \u001b[0;31m#ie the coalescent event of the pair selected above\u001b[0m\u001b[0;34m\u001b[0m\u001b[0;34m\u001b[0m\u001b[0;34m\u001b[0m\u001b[0m\n",
      "\u001b[0;31mNameError\u001b[0m: name 'random' is not defined"
     ]
    }
   ],
   "source": []
  },
  {
   "cell_type": "code",
   "execution_count": null,
   "metadata": {
    "collapsed": true
   },
   "outputs": [],
   "source": []
  },
  {
   "cell_type": "code",
   "execution_count": 1,
   "metadata": {},
   "outputs": [
    {
     "name": "stdout",
     "output_type": "stream",
     "text": [
      "0\n",
      "1\n",
      "2\n",
      "3\n",
      "4\n",
      "5\n"
     ]
    }
   ],
   "source": [
    "thing = False\n",
    "thing2 = False\n",
    "\n",
    "for i in range(10):\n",
    "    if thing:\n",
    "        if thing2:\n",
    "            break\n",
    "    print(i)\n",
    "            \n",
    "    if i == 5:\n",
    "        thing = True\n",
    "        thing2 = True"
   ]
  },
  {
   "cell_type": "code",
   "execution_count": 6,
   "metadata": {
    "collapsed": true
   },
   "outputs": [],
   "source": [
    "test_dict = {}\n",
    "\n",
    "for i in range(10):\n",
    "    test_dict[i]= \"a\"\n",
    "    \n",
    "try:\n",
    "    for i, v in test_dict.items():\n",
    "        test_dict[i+1] = 'n'\n",
    "except RuntimeError:\n",
    "    pass"
   ]
  },
  {
   "cell_type": "code",
   "execution_count": 7,
   "metadata": {},
   "outputs": [
    {
     "data": {
      "text/plain": [
       "{0: 'a',\n",
       " 1: 'n',\n",
       " 2: 'n',\n",
       " 3: 'n',\n",
       " 4: 'n',\n",
       " 5: 'n',\n",
       " 6: 'n',\n",
       " 7: 'n',\n",
       " 8: 'n',\n",
       " 9: 'n',\n",
       " 10: 'n'}"
      ]
     },
     "execution_count": 7,
     "metadata": {},
     "output_type": "execute_result"
    }
   ],
   "source": [
    "test_dict"
   ]
  },
  {
   "cell_type": "code",
   "execution_count": 11,
   "metadata": {
    "collapsed": true
   },
   "outputs": [],
   "source": [
    "import distribution_functions"
   ]
  },
  {
   "cell_type": "code",
   "execution_count": 14,
   "metadata": {},
   "outputs": [
    {
     "data": {
      "text/plain": [
       "(array([ 0.        ,  0.07625625,  0.1673127 ,  0.25660258,  0.3402285 ,\n",
       "         0.41685344,  0.48616327,  0.54832398,  0.60373617,  0.65290919,\n",
       "         0.69639239,  0.73473629,  0.76847079,  0.79809334,  0.82406315,\n",
       "         0.84679914,  0.86668013,  0.88404642,  0.89920204,  0.91241755,\n",
       "         0.92393282,  0.93395997,  0.94268607,  0.95027582,  0.95687391,\n",
       "         0.9626073 ,  0.96758723,  0.97191103,  0.97566383,  0.97891993,\n",
       "         0.98174421,  0.98419322,  0.98631626,  0.98815625,  0.98975054,\n",
       "         0.99113164,  0.9923278 ,  0.99336358,  0.99426031,  0.99503652]),\n",
       " array([ 0.        ,  0.04718939,  0.12417941,  0.20950683,  0.29507027,\n",
       "         0.37684467,  0.45280994,  0.52206555,  0.58436636,  0.63985375,\n",
       "         0.68889111,  0.7319606 ,  0.76959746,  0.80234859,  0.8307468 ,\n",
       "         0.85529555,  0.87646056,  0.89466607,  0.91029397,  0.92368489,\n",
       "         0.93514043,  0.94492602,  0.95327405,  0.96038717,  0.96644141,\n",
       "         0.97158924,  0.9759623 ,  0.97967405,  0.98282199,  0.98548981,\n",
       "         0.9877492 ,  0.98966147,  0.99127898,  0.9926464 ,  0.9938018 ,\n",
       "         0.99477756,  0.99560124,  0.99629622,  0.99688238,  0.99737656]),\n",
       " array([  0.00000000e+00,   4.24623907e-06,   1.94101644e-04,\n",
       "          1.57892588e-03,   6.34700008e-03,   1.73667545e-02,\n",
       "          3.73086077e-02,   6.79135420e-02,   1.09640123e-01,\n",
       "          1.61682362e-01,   2.22238188e-01,   2.88889705e-01,\n",
       "          3.58985398e-01,   4.29957136e-01,   4.99543322e-01,\n",
       "          5.65916770e-01,   6.27731614e-01,   6.84110112e-01,\n",
       "          7.34590612e-01,   7.79055044e-01,   8.17649957e-01,\n",
       "          8.50710698e-01,   8.78694477e-01,   9.02125058e-01,\n",
       "          9.21549694e-01,   9.37507555e-01,   9.50508185e-01,\n",
       "          9.61018154e-01,   9.69454108e-01,   9.76180534e-01,\n",
       "          9.81510826e-01,   9.85710474e-01,   9.89001502e-01,\n",
       "          9.91567485e-01,   9.93558675e-01,   9.95096933e-01,\n",
       "          9.96280289e-01,   9.97187006e-01,   9.97879144e-01,\n",
       "          9.98405602e-01]))"
      ]
     },
     "execution_count": 14,
     "metadata": {},
     "output_type": "execute_result"
    }
   ],
   "source": [
    "import scipy.stats as sp\n",
    "\n",
    "distribution_functions.define_distributions()"
   ]
  },
  {
   "cell_type": "code",
   "execution_count": 16,
   "metadata": {},
   "outputs": [],
   "source": [
    "a,b,c,d = ['a', 'b', 'c', 'd']"
   ]
  },
  {
   "cell_type": "code",
   "execution_count": 17,
   "metadata": {},
   "outputs": [
    {
     "data": {
      "text/plain": [
       "'a'"
      ]
     },
     "execution_count": 17,
     "metadata": {},
     "output_type": "execute_result"
    }
   ],
   "source": [
    "a"
   ]
  },
  {
   "cell_type": "code",
   "execution_count": 18,
   "metadata": {
    "collapsed": true
   },
   "outputs": [],
   "source": [
    "class test():\n",
    "    def __init__(self, test_id, u_id=None):\n",
    "        \n",
    "        self.test_id = test_id\n",
    "        \n",
    "        if u_id:\n",
    "            self.u_id = u_id\n",
    "        \n",
    "        \n",
    "        "
   ]
  },
  {
   "cell_type": "code",
   "execution_count": 20,
   "metadata": {},
   "outputs": [],
   "source": [
    "testy1 = test(3)\n",
    "testy2 = test(5,6)"
   ]
  },
  {
   "cell_type": "code",
   "execution_count": 24,
   "metadata": {},
   "outputs": [
    {
     "data": {
      "text/plain": [
       "6"
      ]
     },
     "execution_count": 24,
     "metadata": {},
     "output_type": "execute_result"
    }
   ],
   "source": [
    "testy2.u_id"
   ]
  },
  {
   "cell_type": "code",
   "execution_count": null,
   "metadata": {
    "collapsed": true
   },
   "outputs": [],
   "source": []
  }
 ],
 "metadata": {
  "kernelspec": {
   "display_name": "Python 3",
   "language": "python",
   "name": "python3"
  },
  "language_info": {
   "codemirror_mode": {
    "name": "ipython",
    "version": 3
   },
   "file_extension": ".py",
   "mimetype": "text/x-python",
   "name": "python",
   "nbconvert_exporter": "python",
   "pygments_lexer": "ipython3",
   "version": "3.6.8"
  }
 },
 "nbformat": 4,
 "nbformat_minor": 2
}
