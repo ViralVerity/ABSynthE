{
 "cells": [
  {
   "cell_type": "code",
   "execution_count": 1,
   "metadata": {},
   "outputs": [
    {
     "name": "stdout",
     "output_type": "stream",
     "text": [
      "['1414058', '1414059', '1414065', '1414062', '1414063', '1494579', '1494577', '1542800', '1542801', '1494581', '1542805', '1494580', '1482406', '1598063', '1494582', '1494584', '1542804', '1542802', '1494585', '1414066', '2453958']\n"
     ]
    }
   ],
   "source": [
    "#import Tree_simulator as ctx\n",
    "from collections import defaultdict\n",
    "import numpy as np\n",
    "from node_class import *\n",
    "from tree_class import *\n",
    "\n",
    "\n",
    "child_dict = defaultdict(list)\n",
    "\n",
    "dropbox_path = \"/Users/s1743989/VirusEvolution Dropbox/Verity Hill/Agent_based_model/Looping models/Results/testing_tidying/\"\n",
    "\n",
    "current_run = \"4/log_files/\"\n",
    "\n",
    "input_file = dropbox_path + current_run + \"information_file_for_0.csv\"\n",
    "#input_file = dropbox_path + \"test_transtree.csv\"\n",
    "\n",
    "\n",
    "\n",
    "trans_dict = defaultdict(list)\n",
    "nodes = []\n",
    "\n",
    "\n",
    "with open(input_file) as f:\n",
    "        next(f)\n",
    "        for l in f:\n",
    "            toks = l.strip(\"\\n\").split(\",\")\n",
    "            focal = toks[0]\n",
    "            parent = toks[1]\n",
    "            #time_inf_file = toks[2]\n",
    "            #time_sampled_file = toks[3]\n",
    "            time_inf = float(toks[4])\n",
    "            time_sampled = float(toks[6])\n",
    "\n",
    "            trans_dict[focal] = [parent, time_inf, time_sampled]\n",
    "            \n",
    "            child_dict[parent].append(focal)\n",
    "\n",
    "            nodes.append(focal)\n",
    "            \n",
    "            if focal not in child_dict.keys():\n",
    "                child_dict[focal] = []\n",
    "\n",
    "trans_dict['1414058'] = ['NA',0.0,0.0]\n",
    "            \n",
    "# for k,v in trans_dict.items():            \n",
    "#     print(k,v)\n",
    "    \n",
    "those_sampled = []\n",
    "for i in trans_dict.keys():\n",
    "    those_sampled.append(i)\n",
    "    \n",
    "those_sampled.remove(\"1414064\")\n",
    "node_dict = {}\n",
    "\n",
    "print(those_sampled)\n",
    "\n",
    "# child_dict"
   ]
  },
  {
   "cell_type": "code",
   "execution_count": 6,
   "metadata": {
    "scrolled": false
   },
   "outputs": [
    {
     "name": "stdout",
     "output_type": "stream",
     "text": [
      "1414058\n",
      "<tree_class.tree object at 0x107450cf8> <node_class.node object at 0x107450c88>\n",
      "<tree_class.tree object at 0x107450668> <node_class.node object at 0x1074508d0>\n",
      "<tree_class.tree object at 0x107462208> <node_class.node object at 0x1074625c0>\n",
      "<tree_class.tree object at 0x1074625f8> <node_class.node object at 0x107462710>\n",
      "<tree_class.tree object at 0x107462940> <node_class.node object at 0x1074629e8>\n",
      "<tree_class.tree object at 0x107462b70> <node_class.node object at 0x107462be0>\n",
      "<tree_class.tree object at 0x1063d0b38> <node_class.node object at 0x107462dd8>\n",
      "<tree_class.tree object at 0x1063d0b38> <node_class.node object at 0x107462dd8>\n"
     ]
    },
    {
     "data": {
      "text/plain": [
       "<node_class.node at 0x1063d0ba8>"
      ]
     },
     "execution_count": 6,
     "metadata": {},
     "output_type": "execute_result"
    }
   ],
   "source": [
    "index_case = child_dict[\"NA\"][0]\n",
    "\n",
    "print(index_case)\n",
    "\n",
    "those_sampled = ['1414059', '1414065','1598063', '1494582', '1494584', '1542804' ]\n",
    "\n",
    "node(index_case, \"Ind\", trans_dict=trans_dict, child_dict=child_dict, those_sampled=those_sampled, node_dict=node_dict)"
   ]
  },
  {
   "cell_type": "code",
   "execution_count": 7,
   "metadata": {
    "scrolled": false
   },
   "outputs": [
    {
     "name": "stdout",
     "output_type": "stream",
     "text": [
      "6\n",
      "node\n",
      "1414058\n",
      "secondaries\n",
      "1494577\n",
      "1494580\n",
      "1494579\n",
      "1494581\n",
      "1542805\n",
      "1414063\n",
      "1482406\n",
      "1598063\n",
      "1542801\n",
      "1414062\n",
      "1414059\n",
      "1414064\n",
      "1542800\n",
      "1414065\n",
      "downstream samples\n",
      "1598063\n",
      "1414065\n",
      "1414059\n",
      "node\n",
      "1414059\n",
      "secondaries\n",
      "downstream samples\n",
      "node\n",
      "1414064\n",
      "secondaries\n",
      "downstream samples\n",
      "node\n",
      "1414065\n",
      "secondaries\n",
      "downstream samples\n",
      "node\n",
      "1414062\n",
      "secondaries\n",
      "1542802\n",
      "downstream samples\n",
      "node\n",
      "1542802\n",
      "secondaries\n",
      "downstream samples\n",
      "node\n",
      "1414063\n",
      "secondaries\n",
      "downstream samples\n",
      "node\n",
      "1494579\n",
      "secondaries\n",
      "downstream samples\n",
      "node\n",
      "1494577\n",
      "secondaries\n",
      "1494582\n",
      "1494584\n",
      "downstream samples\n",
      "1494582\n",
      "1494584\n",
      "node\n",
      "1494582\n",
      "secondaries\n",
      "1414066\n",
      "1494585\n",
      "downstream samples\n",
      "node\n",
      "1494585\n",
      "secondaries\n",
      "downstream samples\n",
      "node\n",
      "1414066\n",
      "secondaries\n",
      "downstream samples\n",
      "node\n",
      "1494584\n",
      "secondaries\n",
      "downstream samples\n",
      "node\n",
      "1542800\n",
      "secondaries\n",
      "downstream samples\n",
      "node\n",
      "1542801\n",
      "secondaries\n",
      "downstream samples\n",
      "node\n",
      "1494581\n",
      "secondaries\n",
      "downstream samples\n",
      "node\n",
      "1542805\n",
      "secondaries\n",
      "1542804\n",
      "downstream samples\n",
      "1542804\n",
      "node\n",
      "1542804\n",
      "secondaries\n",
      "2453958\n",
      "downstream samples\n",
      "node\n",
      "2453958\n",
      "secondaries\n",
      "downstream samples\n",
      "node\n",
      "1494580\n",
      "secondaries\n",
      "downstream samples\n",
      "node\n",
      "1482406\n",
      "secondaries\n",
      "downstream samples\n",
      "node\n",
      "1598063\n",
      "secondaries\n",
      "downstream samples\n"
     ]
    }
   ],
   "source": [
    "print(len(those_sampled))\n",
    "\n",
    "for node in node_dict.values():\n",
    "    print(\"node\")\n",
    "    print(node.id)\n",
    "    print(\"secondaries\")\n",
    "    for i in node.infections:\n",
    "        print(i.id)\n",
    "    print(\"downstream samples\")\n",
    "    for j in node.sampled_infections:\n",
    "        print(j.id)"
   ]
  },
  {
   "cell_type": "code",
   "execution_count": 14,
   "metadata": {},
   "outputs": [],
   "source": [
    "test_whole_tree = tree(node_dict=node_dict)"
   ]
  },
  {
   "cell_type": "code",
   "execution_count": 9,
   "metadata": {
    "scrolled": true
   },
   "outputs": [
    {
     "data": {
      "text/plain": [
       "{<node_class.node at 0x104ff5748>: 0.0,\n",
       " <node_class.node at 0x104fdff60>: 0.8453106945070756,\n",
       " <node_class.node at 0x104fdfef0>: 0.09709806820616362,\n",
       " <node_class.node at 0x104fdfe80>: 0.6276507991675098,\n",
       " <node_class.node at 0x104fdf6d8>: 0.7458462113773892,\n",
       " <node_class.node at 0x104fdf2b0>: 0.15167556146828154,\n",
       " <node_class.node at 0x104fdf898>: 0.11856777989869705,\n",
       " <node_class.node at 0x104fdf400>: 0.40428426525510985,\n",
       " <node_class.node at 0x104fdf828>: 0.7136013602574274,\n",
       " <node_class.node at 0x104fdf160>: 0.38709179372003477,\n",
       " <node_class.node at 0x104fdf128>: 0.2686093708670181,\n",
       " <node_class.node at 0x104f51048>: 0.9423458602811261,\n",
       " <node_class.node at 0x104f51e80>: 0.8577311322683258,\n",
       " <node_class.node at 0x104f51e48>: 0.038482457409794946,\n",
       " <node_class.node at 0x104f51f60>: 0.3659520682346139,\n",
       " <node_class.node at 0x104fec2e8>: 0.6025067112494682,\n",
       " <node_class.node at 0x104f51668>: 0.0,\n",
       " <node_class.node at 0x104ff5160>: 0.0,\n",
       " <node_class.node at 0x104ff51d0>: 0.0,\n",
       " <node_class.node at 0x104ff5080>: 0.0,\n",
       " <node_class.node at 0x104ff5128>: 0.0,\n",
       " <node_class.node at 0x104ff5240>: 0.0,\n",
       " <node_class.node at 0x104ff53c8>: 0.0,\n",
       " <node_class.node at 0x104ff52e8>: 0.0,\n",
       " <node_class.node at 0x104ff5320>: 0.0,\n",
       " <node_class.node at 0x104ff5438>: 0.0,\n",
       " <node_class.node at 0x104ff5470>: 0.0,\n",
       " <node_class.node at 0x104ff5518>: 0.0,\n",
       " <node_class.node at 0x104ff5780>: 0.0,\n",
       " <node_class.node at 0x104ff5710>: 0.0,\n",
       " <node_class.node at 0x104fec470>: 0.3659520682346139,\n",
       " <node_class.node at 0x104fec3c8>: 5.0,\n",
       " <node_class.node at 0x104fec550>: 0.40428426525510985,\n",
       " <node_class.node at 0x104fec4a8>: 1.0,\n",
       " <node_class.node at 0x104fec630>: 0.8577311322683258,\n",
       " <node_class.node at 0x104fec588>: 13.0,\n",
       " <node_class.node at 0x104fec898>: 0.6276507991675098,\n",
       " <node_class.node at 0x104fec7b8>: 4.730723544422647,\n",
       " <node_class.node at 0x104fec668>: 0.6310759738279632,\n",
       " <node_class.node at 0x104fec828>: 15.368924026172039,\n",
       " <node_class.node at 0x104fec780>: 4.730723544422647,\n",
       " <node_class.node at 0x104fec6d8>: 41.63107597382796,\n",
       " <node_class.node at 0x104fec978>: 0.2686093708670181,\n",
       " <node_class.node at 0x104fec8d0>: 12.0,\n",
       " <node_class.node at 0x104feca58>: 0.038482457409794946,\n",
       " <node_class.node at 0x104fec9b0>: 6.0,\n",
       " <node_class.node at 0x104fdf4a8>: 0.11856777989869705,\n",
       " <node_class.node at 0x104fdf978>: 0.004544686788187757,\n",
       " <node_class.node at 0x104fdfa58>: 0.9286696889969455,\n",
       " <node_class.node at 0x104feca90>: 0.8902654475889786,\n",
       " <node_class.node at 0x104fdf9b0>: 4.288507523692045,\n",
       " <node_class.node at 0x104fdf2e8>: 10.109734552411021,\n",
       " <node_class.node at 0x104fdf5f8>: 0.004544686788187757,\n",
       " <node_class.node at 0x104fecd30>: 4.13929919875733,\n",
       " <node_class.node at 0x104fecd68>: 0.4245306847460828,\n",
       " <node_class.node at 0x104fecb00>: 4.597213237108745,\n",
       " <node_class.node at 0x104fecdd8>: 7.056628222136336,\n",
       " <node_class.node at 0x104fece48>: 0.004544686788187757,\n",
       " <node_class.node at 0x104fecc18>: 0.4245306847460828,\n",
       " <node_class.node at 0x104fecb70>: 2.540585014972409,\n",
       " <node_class.node at 0x104feccf8>: 4.13929919875733,\n",
       " <node_class.node at 0x104fecc50>: 7.540585014972409,\n",
       " <node_class.node at 0x104fdfa20>: 0.9286696889969455,\n",
       " <node_class.node at 0x104fdf550>: 5.601757923896933,\n",
       " <node_class.node at 0x104fdf7f0>: 0.9423458602811261,\n",
       " <node_class.node at 0x104fdf908>: 6.0,\n",
       " <node_class.node at 0x104fdf0f0>: 0.7458462113773892,\n",
       " <node_class.node at 0x104fdf278>: 18.0,\n",
       " <node_class.node at 0x104fdf358>: 0.7136013602574274,\n",
       " <node_class.node at 0x104fdf6a0>: 27.0,\n",
       " <node_class.node at 0x104fdfb70>: 0.15167556146828154,\n",
       " <node_class.node at 0x104fdfba8>: 2.997677123991241,\n",
       " <node_class.node at 0x104fdf5c0>: 0.8895407404863032,\n",
       " <node_class.node at 0x104fdfc50>: 13.110459259513696,\n",
       " <node_class.node at 0x104fdfb38>: 2.997677123991241,\n",
       " <node_class.node at 0x104fdfac8>: 6.597228873551802,\n",
       " <node_class.node at 0x104fdf780>: 0.45427725720341083,\n",
       " <node_class.node at 0x104fdfa90>: 5.435263483282892,\n",
       " <node_class.node at 0x104fdf518>: 6.597228873551802,\n",
       " <node_class.node at 0x104fdf198>: 12.454277257203412,\n",
       " <node_class.node at 0x104fdfdd8>: 0.38709179372003477,\n",
       " <node_class.node at 0x104fdfc88>: 3.0,\n",
       " <node_class.node at 0x104fdfcc0>: 0.8453106945070756,\n",
       " <node_class.node at 0x104fdfe10>: 1.0,\n",
       " <node_class.node at 0x104fdff98>: 0.09709806820616362,\n",
       " <node_class.node at 0x104fdfe48>: 13.0}"
      ]
     },
     "execution_count": 9,
     "metadata": {},
     "output_type": "execute_result"
    }
   ],
   "source": [
    "test_whole_tree.branch_lengths"
   ]
  },
  {
   "cell_type": "code",
   "execution_count": 11,
   "metadata": {},
   "outputs": [
    {
     "name": "stdout",
     "output_type": "stream",
     "text": [
      "22\n",
      "43\n",
      "21\n"
     ]
    }
   ],
   "source": [
    "ind = 0\n",
    "coal = 0\n",
    "trans = 0\n",
    "\n",
    "for k,v in test_whole_tree.branch_lengths.items():\n",
    "    if k.type == \"Ind\":\n",
    "        ind += 1\n",
    "    if k.type == \"Coal\":\n",
    "        coal += 1\n",
    "    if k.type == \"Trans\":\n",
    "        trans += 1\n",
    "    \n",
    "print(ind)\n",
    "print(coal)\n",
    "print(trans)"
   ]
  },
  {
   "cell_type": "code",
   "execution_count": 12,
   "metadata": {},
   "outputs": [
    {
     "name": "stdout",
     "output_type": "stream",
     "text": [
      "0\n",
      "1\n",
      "1\n",
      "1\n",
      "1\n",
      "2\n",
      "1\n",
      "1\n",
      "1\n",
      "2\n",
      "3\n",
      "3\n",
      "2\n",
      "1\n",
      "1\n",
      "1\n",
      "1\n",
      "2\n",
      "3\n",
      "1\n",
      "1\n",
      "1\n"
     ]
    }
   ],
   "source": [
    "for v in node_dict.values():\n",
    "    print(v.generation)"
   ]
  },
  {
   "cell_type": "code",
   "execution_count": 6,
   "metadata": {},
   "outputs": [
    {
     "data": {
      "text/plain": [
       "{<node_class.node at 0x106917320>: 57.863975740716796,\n",
       " <node_class.node at 0x1069171d0>: 57.863975740716796,\n",
       " <node_class.node at 0x1069170f0>: 57.863975740716796,\n",
       " <node_class.node at 0x106917160>: 57.863975740716796,\n",
       " <node_class.node at 0x1069173c8>: 57.863975740716796,\n",
       " <node_class.node at 0x106917400>: 57.863975740716796,\n",
       " <node_class.node at 0x106917550>: 57.863975740716796,\n",
       " <node_class.node at 0x106917588>: 57.863975740716796,\n",
       " <node_class.node at 0x1069174a8>: 57.863975740716796,\n",
       " <node_class.node at 0x106917438>: 57.863975740716796,\n",
       " <node_class.node at 0x1069176a0>: 57.863975740716796,\n",
       " <node_class.node at 0x106923748>: 57.863975740716796,\n",
       " <node_class.node at 0x106917710>: 57.863975740716796,\n",
       " <node_class.node at 0x106917748>: 57.863975740716796,\n",
       " <node_class.node at 0x1050d4438>: 41.80006082293839,\n",
       " <node_class.node at 0x106913278>: 43.1874140752347,\n",
       " <node_class.node at 0x106913438>: 48.88231342468949,\n",
       " <node_class.node at 0x1069130f0>: 35.49033663693908,\n",
       " <node_class.node at 0x106913198>: 38.48614939586267,\n",
       " <node_class.node at 0x106913ac8>: 43.72646936711045,\n",
       " <node_class.node at 0x106913978>: 38.38005164563951}"
      ]
     },
     "execution_count": 6,
     "metadata": {},
     "output_type": "execute_result"
    }
   ],
   "source": [
    "test_whole_tree.heights"
   ]
  },
  {
   "cell_type": "code",
   "execution_count": 14,
   "metadata": {},
   "outputs": [
    {
     "name": "stdout",
     "output_type": "stream",
     "text": [
      "1414058 0.25472225161763434\n",
      "1414064 1.6172346188229139\n",
      "1482406 1.9281904614999164\n",
      "1494580 3.8793008887974167\n",
      "1414059 5.042976573706733\n",
      "1542800 6.713696040011873\n",
      "1494579 6.798721281801653\n",
      "1494577 11.486292033288425\n",
      "1414063 12.522320593496065\n",
      "1598063 13.916530143294073\n",
      "1414065 13.989091583878775\n",
      "1542805 14.06433367054609\n",
      "1414062 16.509583580220568\n",
      "1542801 18.48575484772381\n",
      "1542804 19.836229677901922\n",
      "1494582 19.935695763227404\n",
      "1494584 20.637613587587808\n",
      "1494585 24.964574231235485\n",
      "1494581 27.099793310053037\n",
      "1414066 29.89797107293672\n",
      "2453958 31.575139237659673\n",
      "1542802 57.15614985036376\n"
     ]
    }
   ],
   "source": [
    "for i in sorted(test_whole_tree.tips, key = sort_key):\n",
    "    print(i.id, i.time_sampled)"
   ]
  },
  {
   "cell_type": "code",
   "execution_count": 16,
   "metadata": {},
   "outputs": [
    {
     "data": {
      "text/plain": [
       "{}"
      ]
     },
     "execution_count": 16,
     "metadata": {},
     "output_type": "execute_result"
    }
   ],
   "source": [
    "test_whole_tree.heights"
   ]
  },
  {
   "cell_type": "code",
   "execution_count": 15,
   "metadata": {
    "scrolled": true
   },
   "outputs": [
    {
     "ename": "KeyError",
     "evalue": "<node_class.node object at 0x104aac240>",
     "output_type": "error",
     "traceback": [
      "\u001b[0;31m---------------------------------------------------------------------------\u001b[0m",
      "\u001b[0;31mKeyError\u001b[0m                                  Traceback (most recent call last)",
      "\u001b[0;32m<ipython-input-15-ff8acd04953a>\u001b[0m in \u001b[0;36m<module>\u001b[0;34m()\u001b[0m\n\u001b[1;32m      1\u001b[0m \u001b[0;32mfor\u001b[0m \u001b[0mnde\u001b[0m \u001b[0;32min\u001b[0m \u001b[0mtest_whole_tree\u001b[0m\u001b[0;34m.\u001b[0m\u001b[0mfinal_nodes\u001b[0m\u001b[0;34m:\u001b[0m\u001b[0;34m\u001b[0m\u001b[0;34m\u001b[0m\u001b[0m\n\u001b[1;32m      2\u001b[0m     \u001b[0;31m#print(nde.node_children, nde.removed)\u001b[0m\u001b[0;34m\u001b[0m\u001b[0;34m\u001b[0m\u001b[0;34m\u001b[0m\u001b[0m\n\u001b[0;32m----> 3\u001b[0;31m     \u001b[0mprint\u001b[0m\u001b[0;34m(\u001b[0m\u001b[0mtest_whole_tree\u001b[0m\u001b[0;34m.\u001b[0m\u001b[0mheights\u001b[0m\u001b[0;34m[\u001b[0m\u001b[0mnde\u001b[0m\u001b[0;34m]\u001b[0m\u001b[0;34m)\u001b[0m\u001b[0;34m\u001b[0m\u001b[0;34m\u001b[0m\u001b[0m\n\u001b[0m\u001b[1;32m      4\u001b[0m \u001b[0;34m\u001b[0m\u001b[0m\n\u001b[1;32m      5\u001b[0m \u001b[0;31m# print(test_whole_tree.root.id)\u001b[0m\u001b[0;34m\u001b[0m\u001b[0;34m\u001b[0m\u001b[0;34m\u001b[0m\u001b[0m\n",
      "\u001b[0;31mKeyError\u001b[0m: <node_class.node object at 0x104aac240>"
     ]
    }
   ],
   "source": [
    "for nde in test_whole_tree.final_nodes:\n",
    "    #print(nde.node_children, nde.removed)\n",
    "    print(test_whole_tree.heights[nde])\n",
    "        \n",
    "# print(test_whole_tree.root.id)"
   ]
  },
  {
   "cell_type": "code",
   "execution_count": 3,
   "metadata": {},
   "outputs": [],
   "source": [
    "test_subtree = node_dict[\"1414058\"].subtree"
   ]
  },
  {
   "cell_type": "code",
   "execution_count": 4,
   "metadata": {},
   "outputs": [
    {
     "data": {
      "text/plain": [
       "{<node_class.node at 0x1127f0f98>: 0.0,\n",
       " <node_class.node at 0x1127c7630>: 0.7708836539624382,\n",
       " <node_class.node at 0x1127c75f8>: 0.8253550072077744,\n",
       " <node_class.node at 0x1127c75c0>: 1.0586695191386362,\n",
       " <node_class.node at 0x1127c7588>: 1.336966342964216,\n",
       " <node_class.node at 0x1127c7550>: 0.1806980178792548,\n",
       " <node_class.node at 0x1127c7518>: 0.13198655612479218,\n",
       " <node_class.node at 0x1127c74e0>: 1.001419241313663,\n",
       " <node_class.node at 0x1127c74a8>: 0.7726820210093606,\n",
       " <node_class.node at 0x1127c7470>: 1.1421596483763907,\n",
       " <node_class.node at 0x1127c7438>: 0.7560570986945252,\n",
       " <node_class.node at 0x1127c7400>: 0.6045036305289759,\n",
       " <node_class.node at 0x1127c73c8>: 0.8797698398968109,\n",
       " <node_class.node at 0x1127c7390>: 0.5824223746933344,\n",
       " <node_class.node at 0x1127c7358>: 0.7538040237200525,\n",
       " <node_class.node at 0x111783710>: 0.6413278284225421,\n",
       " <node_class.node at 0x1127c7240>: 1.6662102901350295,\n",
       " <node_class.node at 0x1127c70f0>: 0.0,\n",
       " <node_class.node at 0x1127c7e80>: 0.0,\n",
       " <node_class.node at 0x1127f0048>: 0.0,\n",
       " <node_class.node at 0x1127f01d0>: 0.0,\n",
       " <node_class.node at 0x1127f0358>: 0.0,\n",
       " <node_class.node at 0x1127f04a8>: 0.0,\n",
       " <node_class.node at 0x1127f0630>: 0.0,\n",
       " <node_class.node at 0x1127f07f0>: 0.0,\n",
       " <node_class.node at 0x1127f0978>: 0.0,\n",
       " <node_class.node at 0x1127f0b00>: 0.0,\n",
       " <node_class.node at 0x1127f0c88>: 0.0,\n",
       " <node_class.node at 0x1127f0dd8>: 0.0,\n",
       " <node_class.node at 0x1127f0f60>: 0.0}"
      ]
     },
     "execution_count": 4,
     "metadata": {},
     "output_type": "execute_result"
    }
   ],
   "source": [
    "test_subtree.branch_lengths"
   ]
  },
  {
   "cell_type": "code",
   "execution_count": 8,
   "metadata": {
    "scrolled": true
   },
   "outputs": [
    {
     "name": "stdout",
     "output_type": "stream",
     "text": [
      "Trans 1.421305403227831\n",
      "Trans 0.6462672129751376\n",
      "Trans 0.9844568230322934\n",
      "Trans 1.541125775101645\n",
      "Trans 1.1136691766378477\n",
      "Trans 0.1607105891697077\n",
      "Trans 1.198235254297397\n",
      "Trans 0.8092600647578663\n",
      "Trans 0.7694599750286222\n",
      "Trans 0.9430220319586463\n",
      "Trans 1.6199454596965355\n",
      "Trans 0.8869666931551166\n",
      "Trans 0.9567124725495288\n",
      "Trans 0.8377084233110004\n",
      "Ind 0.8825749428163373\n",
      "0.8317393927554201\n"
     ]
    }
   ],
   "source": [
    "for i in test_subtree.tips:\n",
    "    print(i.type, i.absolute_time)\n",
    "    if i.type == \"Ind\":\n",
    "        print(i.time_infected)"
   ]
  },
  {
   "cell_type": "code",
   "execution_count": 7,
   "metadata": {},
   "outputs": [
    {
     "name": "stdout",
     "output_type": "stream",
     "text": [
      "[<node_class.node object at 0x106f73160>]\n"
     ]
    }
   ],
   "source": [
    "print(test_whole_tree.root.node_children)\n"
   ]
  },
  {
   "cell_type": "code",
   "execution_count": 10,
   "metadata": {},
   "outputs": [
    {
     "name": "stdout",
     "output_type": "stream",
     "text": [
      "Trans -0.18087431519330432\n",
      "Trans -0.2954002144221022\n",
      "Trans -0.2434972890446705\n"
     ]
    }
   ],
   "source": [
    "for key, value in test_whole_tree.branch_lengths.items():\n",
    "    if value < 0:\n",
    "        print(key.type, value)"
   ]
  },
  {
   "cell_type": "code",
   "execution_count": 28,
   "metadata": {},
   "outputs": [
    {
     "name": "stdout",
     "output_type": "stream",
     "text": [
      "<node_class.node object at 0x106f73940> -0.18087431519330432 <node_class.node object at 0x106f73588> 1.2092058421741323 1.028331526980828\n",
      "<node_class.node object at 0x106f73828> -0.2954002144221022 <node_class.node object at 0x106f734a8> 1.3237317414029302 1.028331526980828\n",
      "<node_class.node object at 0x106f737b8> -0.2434972890446705 <node_class.node object at 0x106f73390> 1.2718288160254985 1.028331526980828\n"
     ]
    }
   ],
   "source": [
    "for key, value in node_dict.items():\n",
    "    for k,v in value.subtree.branch_lengths.items():\n",
    "        if v < 0:\n",
    "            print(k, v, k.node_parent, value.subtree.heights[k], value.subtree.heights[k.node_parent])"
   ]
  },
  {
   "cell_type": "code",
   "execution_count": 33,
   "metadata": {
    "scrolled": false
   },
   "outputs": [
    {
     "name": "stdout",
     "output_type": "stream",
     "text": [
      "<node_class.node object at 0x106f73a58> Trans 0.40152764575883504\n",
      "<node_class.node object at 0x106f73a20> Trans 0.21608394701563638\n",
      "<node_class.node object at 0x106f739e8> Trans 0.5821371371951336\n",
      "<node_class.node object at 0x106f739b0> Trans 0.7108852427084713\n",
      "<node_class.node object at 0x106f73978> Trans 0.5265483793547883\n",
      "<node_class.node object at 0x106f73940> Trans 1.2092058421741323\n",
      "<node_class.node object at 0x106f73908> Trans 0.6921072212218484\n",
      "<node_class.node object at 0x106f738d0> Trans 0.05058206031818191\n",
      "<node_class.node object at 0x106f73898> Trans 0.0\n",
      "<node_class.node object at 0x106f73860> Trans 0.6679062702040257\n",
      "<node_class.node object at 0x106f73828> Trans 1.3237317414029302\n",
      "<node_class.node object at 0x106f737f0> Trans 0.7923534315835759\n",
      "<node_class.node object at 0x106f737b8> Trans 1.2718288160254985\n",
      "<node_class.node object at 0x106f73780> Trans 0.43000961594401854\n",
      "<node_class.node object at 0x105f2f748> Ind 0.8843394367975457\n",
      "<node_class.node object at 0x106f73748> Coal 1.028331526980828\n",
      "<node_class.node object at 0x106f736a0> Coal 1.028331526980828\n",
      "<node_class.node object at 0x106f73630> Coal 1.028331526980828\n",
      "<node_class.node object at 0x106f735c0> Coal 1.028331526980828\n",
      "<node_class.node object at 0x106f73588> Coal 1.028331526980828\n",
      "<node_class.node object at 0x106f73518> Coal 1.028331526980828\n",
      "<node_class.node object at 0x106f734a8> Coal 1.028331526980828\n",
      "<node_class.node object at 0x106f73438> Coal 1.028331526980828\n",
      "<node_class.node object at 0x106f73390> Coal 1.028331526980828\n",
      "<node_class.node object at 0x106f73320> Coal 1.028331526980828\n",
      "<node_class.node object at 0x106f732b0> Coal 1.028331526980828\n",
      "<node_class.node object at 0x106f73240> Coal 1.028331526980828\n",
      "<node_class.node object at 0x106f731d0> Coal 1.028331526980828\n",
      "<node_class.node object at 0x106f73160> Coal 1.028331526980828\n",
      "<node_class.node object at 0x106f73128> Coal 1.028331526980828\n",
      "<node_class.node object at 0x106f73128>\n"
     ]
    }
   ],
   "source": [
    "for nde, height in problem_tree.heights.items():\n",
    "    print(nde, nde.type, height)\n",
    "    \n",
    "print(problem_tree.root)"
   ]
  },
  {
   "cell_type": "code",
   "execution_count": 34,
   "metadata": {
    "collapsed": true
   },
   "outputs": [],
   "source": [
    "subtrees = []\n",
    "for nde in node_dict.values():\n",
    "    subtrees.append(nde.subtree)"
   ]
  },
  {
   "cell_type": "code",
   "execution_count": 36,
   "metadata": {},
   "outputs": [
    {
     "name": "stdout",
     "output_type": "stream",
     "text": [
      "1414058 1.028331526980828\n",
      "1414058 1.028331526980828\n",
      "1414058 1.028331526980828\n",
      "1414058 1.028331526980828\n",
      "1414058 1.028331526980828\n",
      "1414058 1.028331526980828\n",
      "1414058 1.028331526980828\n",
      "1414058 1.028331526980828\n",
      "1414058 1.028331526980828\n",
      "1414058 1.028331526980828\n",
      "1414058 1.028331526980828\n",
      "1414058 1.028331526980828\n",
      "1414058 1.028331526980828\n",
      "1414058 1.028331526980828\n",
      "1414058 1.028331526980828\n",
      "1414059 3.947877575061134\n",
      "1414064 0.32363573940138846\n",
      "1414065 12.078959478444572\n",
      "1414062 8.393034297936525\n",
      "1414062 20.108679577365645\n",
      "1542802 36.335483204734324\n",
      "1414063 11.99839568231758\n",
      "1494579 4.312233405605827\n",
      "1494577 2.2912434442924043\n",
      "1494577 4.992361557529815\n",
      "1494577 15.327428133449565\n",
      "1494582 6.002247070077648\n",
      "1494582 10.535525331641526\n",
      "1494582 11.80286793687421\n",
      "1494585 2.153260211050789\n",
      "1414066 3.5655775414142\n",
      "1494584 4.067634765556685\n",
      "1542800 4.633832738015743\n",
      "1542801 16.9189716557749\n",
      "1494581 25.964779833796392\n",
      "1542805 4.293279174045278\n",
      "1542805 15.16702314302743\n",
      "1542804 8.23893495991971\n",
      "1542804 8.76091896080722\n",
      "2453958 6.0895035468635825\n",
      "1494580 2.088648552728659\n",
      "1482406 1.2144072078970432\n",
      "1598063 12.15242376743173\n"
     ]
    }
   ],
   "source": [
    "for tre in subtrees:\n",
    "    for nde in tre.nodes:\n",
    "        if nde.type == \"Coal\":\n",
    "            print(tre.person.id, tre.heights[nde])"
   ]
  },
  {
   "cell_type": "code",
   "execution_count": 39,
   "metadata": {},
   "outputs": [],
   "source": [
    "problem_tree.coalescent(problem_tree.tips, 0.0)"
   ]
  },
  {
   "cell_type": "code",
   "execution_count": 40,
   "metadata": {},
   "outputs": [
    {
     "data": {
      "text/plain": [
       "{<node_class.node at 0x106f73a58>: 0.40152764575883504,\n",
       " <node_class.node at 0x106f73a20>: 0.21608394701563638,\n",
       " <node_class.node at 0x106f739e8>: 0.5821371371951336,\n",
       " <node_class.node at 0x106f739b0>: 0.7108852427084713,\n",
       " <node_class.node at 0x106f73978>: 0.5265483793547883,\n",
       " <node_class.node at 0x106f73940>: 1.2092058421741323,\n",
       " <node_class.node at 0x106f73908>: 0.6921072212218484,\n",
       " <node_class.node at 0x106f738d0>: 0.05058206031818191,\n",
       " <node_class.node at 0x106f73898>: 0.0,\n",
       " <node_class.node at 0x106f73860>: 0.6679062702040257,\n",
       " <node_class.node at 0x106f73828>: 1.3237317414029302,\n",
       " <node_class.node at 0x106f737f0>: 0.7923534315835759,\n",
       " <node_class.node at 0x106f737b8>: 1.2718288160254985,\n",
       " <node_class.node at 0x106f73780>: 0.43000961594401854,\n",
       " <node_class.node at 0x105f2f748>: 0.8843394367975457,\n",
       " <node_class.node at 0x106f73748>: 1.028331526980828,\n",
       " <node_class.node at 0x106f736a0>: 1.028331526980828,\n",
       " <node_class.node at 0x106f73630>: 1.028331526980828,\n",
       " <node_class.node at 0x106f735c0>: 1.028331526980828,\n",
       " <node_class.node at 0x106f73588>: 1.028331526980828,\n",
       " <node_class.node at 0x106f73518>: 1.028331526980828,\n",
       " <node_class.node at 0x106f734a8>: 1.028331526980828,\n",
       " <node_class.node at 0x106f73438>: 1.028331526980828,\n",
       " <node_class.node at 0x106f73390>: 1.028331526980828,\n",
       " <node_class.node at 0x106f73320>: 1.028331526980828,\n",
       " <node_class.node at 0x106f732b0>: 1.028331526980828,\n",
       " <node_class.node at 0x106f73240>: 1.028331526980828,\n",
       " <node_class.node at 0x106f731d0>: 1.028331526980828,\n",
       " <node_class.node at 0x106f73160>: 1.028331526980828,\n",
       " <node_class.node at 0x106f73128>: 1.028331526980828,\n",
       " <node_class.node at 0x107037128>: 1.028331526980828,\n",
       " <node_class.node at 0x106fb4dd8>: 1.028331526980828,\n",
       " <node_class.node at 0x107032a58>: 1.028331526980828,\n",
       " <node_class.node at 0x106fe83c8>: 1.028331526980828,\n",
       " <node_class.node at 0x106fc3208>: 1.028331526980828,\n",
       " <node_class.node at 0x106fab390>: 1.028331526980828,\n",
       " <node_class.node at 0x106faba58>: 1.028331526980828,\n",
       " <node_class.node at 0x106fab358>: 1.028331526980828,\n",
       " <node_class.node at 0x1070dbda0>: 1.028331526980828,\n",
       " <node_class.node at 0x1070dbf28>: 1.028331526980828,\n",
       " <node_class.node at 0x1070e5f60>: 1.028331526980828,\n",
       " <node_class.node at 0x1070e6128>: 1.028331526980828,\n",
       " <node_class.node at 0x1070e62e8>: 1.028331526980828,\n",
       " <node_class.node at 0x1070e64e0>: 1.028331526980828,\n",
       " <node_class.node at 0x1070fea58>: 1.028331526980828,\n",
       " <node_class.node at 0x1070fe828>: 1.028331526980828,\n",
       " <node_class.node at 0x1070fe7f0>: 1.028331526980828,\n",
       " <node_class.node at 0x1070fe6d8>: 1.028331526980828,\n",
       " <node_class.node at 0x1070fec88>: 1.028331526980828,\n",
       " <node_class.node at 0x1070fed68>: 1.028331526980828,\n",
       " <node_class.node at 0x1070fedd8>: 1.028331526980828,\n",
       " <node_class.node at 0x1070fee48>: 1.028331526980828,\n",
       " <node_class.node at 0x1070feef0>: 1.028331526980828,\n",
       " <node_class.node at 0x1070fef60>: 1.028331526980828,\n",
       " <node_class.node at 0x1070fbf98>: 1.028331526980828,\n",
       " <node_class.node at 0x1070fbdd8>: 1.028331526980828,\n",
       " <node_class.node at 0x1070fbc18>: 1.028331526980828,\n",
       " <node_class.node at 0x1070fba58>: 1.028331526980828}"
      ]
     },
     "execution_count": 40,
     "metadata": {},
     "output_type": "execute_result"
    }
   ],
   "source": [
    "problem_tree.heights"
   ]
  },
  {
   "cell_type": "code",
   "execution_count": 16,
   "metadata": {},
   "outputs": [
    {
     "name": "stdout",
     "output_type": "stream",
     "text": [
      "<node_class.node object at 0x1117749b0> 1494582 1494585\n",
      "<node_class.node object at 0x1117748d0> 1494582 1414066\n",
      "<node_class.node object at 0x110749438>\n"
     ]
    }
   ],
   "source": [
    "for i in test_node.subtree.tips:\n",
    "    if i.type == \"Trans\":\n",
    "        print(i, i.infector.id, i.infectee.id)\n",
    "    if i.type==\"Ind\":\n",
    "        print(i)"
   ]
  },
  {
   "cell_type": "code",
   "execution_count": 15,
   "metadata": {},
   "outputs": [
    {
     "data": {
      "text/plain": [
       "25.938816932409154"
      ]
     },
     "execution_count": 15,
     "metadata": {},
     "output_type": "execute_result"
    }
   ],
   "source": [
    "test_node.subtree.most_recent_tip"
   ]
  },
  {
   "cell_type": "code",
   "execution_count": 2,
   "metadata": {},
   "outputs": [
    {
     "name": "stdout",
     "output_type": "stream",
     "text": [
      "Coalescing [<node_class.node object at 0x10fda5be0>, <node_class.node object at 0x10fda5c18>]\n",
      "new node is 31c95a70-33a2-11ea-b9d4-003ee1ccacd0 1.6260687277799577\n",
      "Coalescing [<node_class.node object at 0x10eca8ba8>, <node_class.node object at 0x10fdaea58>]\n",
      "new node is 31caa2ae-33a2-11ea-8af0-003ee1ccacd0 4.890694339801867\n"
     ]
    }
   ],
   "source": [
    "subtree_dict = {}\n",
    "\n",
    "test_subtree = tree(node_dict['1494577'], subtree_dict)\n",
    "\n",
    "# for i in test_subtree.tips:\n",
    "#     print(i.type, i.relative_height, i.absolute_time)\n",
    "    \n",
    "# for i in test_subtree.nodes:\n",
    "#     print(i, i.relative_height, i.children)\n",
    "    \n",
    "# print(test_subtree.heights)"
   ]
  },
  {
   "cell_type": "code",
   "execution_count": 3,
   "metadata": {},
   "outputs": [
    {
     "name": "stdout",
     "output_type": "stream",
     "text": [
      "<node_class.node object at 0x10eca8ba8> 1.6260687277799577 [<node_class.node object at 0x10fda5be0>, <node_class.node object at 0x10fda5c18>]\n",
      "<node_class.node object at 0x10d5240f0> 4.890694339801867 [<node_class.node object at 0x10eca8ba8>, <node_class.node object at 0x10fdaea58>]\n",
      "<node_class.node object at 0x10eca8b70> 15.39728503389294 <node_class.node object at 0x10d5240f0>\n"
     ]
    }
   ],
   "source": [
    "for i in test_subtree.nodes:\n",
    "    print(i, i.relative_height, i.children)"
   ]
  },
  {
   "cell_type": "code",
   "execution_count": null,
   "metadata": {
    "collapsed": true
   },
   "outputs": [],
   "source": []
  },
  {
   "cell_type": "code",
   "execution_count": 4,
   "metadata": {},
   "outputs": [
    {
     "name": "stdout",
     "output_type": "stream",
     "text": [
      "<node_class.node object at 0x10fda5c18> Trans 0.7677236495531741 15.072135611799034\n",
      "<node_class.node object at 0x10fda5be0> Trans 0.0 15.839859261352208\n",
      "<node_class.node object at 0x10fdaea58> Ind 3.954982241700204 11.884877019652004\n"
     ]
    }
   ],
   "source": [
    "for i in test_subtree.tips:\n",
    "    print(i, i.type, i.relative_height, i.absolute_time)"
   ]
  },
  {
   "cell_type": "code",
   "execution_count": 5,
   "metadata": {},
   "outputs": [
    {
     "data": {
      "text/plain": [
       "{<node_class.node at 0x10eca8b70>: 0.0,\n",
       " <node_class.node at 0x10fda5c18>: 0.8583450782267836,\n",
       " <node_class.node at 0x10fda5be0>: 1.6260687277799577,\n",
       " <node_class.node at 0x10fdaea58>: 0.9357120981016633,\n",
       " <node_class.node at 0x10eca8ba8>: 3.2646256120219097,\n",
       " <node_class.node at 0x10d5240f0>: 10.506590694091074}"
      ]
     },
     "execution_count": 5,
     "metadata": {},
     "output_type": "execute_result"
    }
   ],
   "source": [
    "test_subtree.get_branch_lengths()\n",
    "\n",
    "test_subtree.branch_lengths"
   ]
  },
  {
   "cell_type": "code",
   "execution_count": 6,
   "metadata": {},
   "outputs": [
    {
     "data": {
      "text/plain": [
       "{<node_class.node at 0x10fda5c18>: 0.7677236495531741,\n",
       " <node_class.node at 0x10fda5be0>: 0.0,\n",
       " <node_class.node at 0x10fdaea58>: 3.954982241700204,\n",
       " <node_class.node at 0x10eca8ba8>: 1.6260687277799577,\n",
       " <node_class.node at 0x10d5240f0>: 4.890694339801867,\n",
       " <node_class.node at 0x10eca8b70>: 15.39728503389294}"
      ]
     },
     "execution_count": 6,
     "metadata": {},
     "output_type": "execute_result"
    }
   ],
   "source": [
    "test_subtree.heights"
   ]
  },
  {
   "cell_type": "code",
   "execution_count": 7,
   "metadata": {},
   "outputs": [
    {
     "data": {
      "text/plain": [
       "<node_class.node at 0x10eca8b70>"
      ]
     },
     "execution_count": 7,
     "metadata": {},
     "output_type": "execute_result"
    }
   ],
   "source": [
    "test_subtree.root"
   ]
  },
  {
   "cell_type": "code",
   "execution_count": 8,
   "metadata": {},
   "outputs": [
    {
     "name": "stdout",
     "output_type": "stream",
     "text": [
      "Coal 1.6260687277799577\n",
      "Coal 4.890694339801867\n",
      "Coal 15.39728503389294\n",
      "Trans 0.7677236495531741\n",
      "Trans 0.0\n",
      "Ind 3.954982241700204\n"
     ]
    }
   ],
   "source": [
    "for nde in test_subtree.nodes:\n",
    "    print(nde.type, nde.relative_height)\n",
    "    \n",
    "for tip in test_subtree.tips:\n",
    "    print(tip.type, tip.relative_height)"
   ]
  },
  {
   "cell_type": "code",
   "execution_count": 9,
   "metadata": {},
   "outputs": [
    {
     "name": "stdout",
     "output_type": "stream",
     "text": [
      "0.7677236495531741\n",
      "0.0\n",
      "3.954982241700204\n"
     ]
    }
   ],
   "source": [
    "for tip in test_subtree.tips:\n",
    "    print(tip.relative_height)"
   ]
  },
  {
   "cell_type": "code",
   "execution_count": 20,
   "metadata": {},
   "outputs": [
    {
     "name": "stdout",
     "output_type": "stream",
     "text": [
      "1.7540357027104863\n"
     ]
    }
   ],
   "source": [
    "print(test_subtree.most_recent_tip)"
   ]
  },
  {
   "cell_type": "code",
   "execution_count": 21,
   "metadata": {},
   "outputs": [
    {
     "name": "stdout",
     "output_type": "stream",
     "text": [
      "0.9205718155363366\n"
     ]
    }
   ],
   "source": [
    "print(test_subtree.person.time_infected)"
   ]
  },
  {
   "cell_type": "code",
   "execution_count": 5,
   "metadata": {},
   "outputs": [
    {
     "name": "stdout",
     "output_type": "stream",
     "text": [
      "making parent node\n",
      "1414058\n"
     ]
    }
   ],
   "source": [
    "import node_class\n",
    "\n",
    "those_sampled = []\n",
    "for i in trans_dict.keys():\n",
    "    those_sampled.append(i)\n",
    "node_dict = {}\n",
    "\n",
    "test = node_class.node('1414059', \"Ind\", trans_dict, those_sampled, node_dict)\n",
    "\n",
    "test.get_parent(trans_dict, those_sampled, node_dict)\n",
    "\n",
    "print(test.parent.id)"
   ]
  },
  {
   "cell_type": "code",
   "execution_count": 3,
   "metadata": {},
   "outputs": [
    {
     "name": "stdout",
     "output_type": "stream",
     "text": [
      "[<node_class.node object at 0x1085c6ef0>, <node_class.node object at 0x1085c6f98>, <node_class.node object at 0x1085c6f28>]\n",
      "1494585\n",
      "1414066\n",
      "2453958\n"
     ]
    }
   ],
   "source": [
    "import node_class\n",
    "\n",
    "gen_3_out = []\n",
    "gen_4_out = []\n",
    "\n",
    "for i in nodes:\n",
    "    node_class.node(i, \"Ind\", trans_dict, those_sampled, node_dict, gen_3_out, gen_4_out)\n",
    "    \n",
    "print(gen_3_out)\n",
    "    \n",
    "for i in gen_3_out:\n",
    "    print(i.id)\n",
    "    "
   ]
  },
  {
   "cell_type": "code",
   "execution_count": 3,
   "metadata": {},
   "outputs": [
    {
     "name": "stdout",
     "output_type": "stream",
     "text": [
      "1414058 []\n",
      "1414059 [<node_class.node object at 0x1085ab4a8>]\n",
      "1414064 [<node_class.node object at 0x1085ab4a8>]\n",
      "1414065 [<node_class.node object at 0x1085ab4a8>]\n",
      "1414062 [<node_class.node object at 0x1085ab4a8>]\n",
      "1414063 [<node_class.node object at 0x1085ab4a8>]\n",
      "1494579 [<node_class.node object at 0x1085ab4a8>]\n",
      "1494577 [<node_class.node object at 0x1085ab4a8>]\n",
      "1542800 [<node_class.node object at 0x1085ab4a8>]\n",
      "1542801 [<node_class.node object at 0x1085ab4a8>]\n",
      "1494581 [<node_class.node object at 0x1085ab4a8>]\n",
      "1542805 [<node_class.node object at 0x1085ab4a8>]\n",
      "1494580 [<node_class.node object at 0x1085ab4a8>]\n",
      "1482406 [<node_class.node object at 0x1085ab4a8>]\n",
      "1598063 [<node_class.node object at 0x1085ab4a8>]\n",
      "1494582 [<node_class.node object at 0x1085abb38>, <node_class.node object at 0x1085ab4a8>]\n",
      "1494584 [<node_class.node object at 0x1085abb38>, <node_class.node object at 0x1085ab4a8>]\n",
      "1542804 [<node_class.node object at 0x1085abcf8>, <node_class.node object at 0x1085ab4a8>]\n",
      "1542802 [<node_class.node object at 0x1085ab940>, <node_class.node object at 0x1085ab4a8>]\n",
      "1494585 [<node_class.node object at 0x1085abf60>, <node_class.node object at 0x1085abb38>, <node_class.node object at 0x1085ab4a8>]\n",
      "1414066 [<node_class.node object at 0x1085abf60>, <node_class.node object at 0x1085abb38>, <node_class.node object at 0x1085ab4a8>]\n",
      "2453958 [<node_class.node object at 0x1085ab828>, <node_class.node object at 0x1085abcf8>, <node_class.node object at 0x1085ab4a8>]\n"
     ]
    }
   ],
   "source": [
    "for k,v in node_dict.items():\n",
    "    print(k, v.to_root)"
   ]
  },
  {
   "cell_type": "code",
   "execution_count": 2,
   "metadata": {},
   "outputs": [
    {
     "ename": "NameError",
     "evalue": "name 'random' is not defined",
     "output_type": "error",
     "traceback": [
      "\u001b[0;31m---------------------------------------------------------------------------\u001b[0m",
      "\u001b[0;31mNameError\u001b[0m                                 Traceback (most recent call last)",
      "\u001b[0;32m<ipython-input-2-c87126946bbe>\u001b[0m in \u001b[0;36m<module>\u001b[0;34m()\u001b[0m\n\u001b[1;32m      1\u001b[0m \u001b[0msubtree_dict\u001b[0m \u001b[0;34m=\u001b[0m \u001b[0;34m{\u001b[0m\u001b[0;34m}\u001b[0m\u001b[0;34m\u001b[0m\u001b[0;34m\u001b[0m\u001b[0m\n\u001b[1;32m      2\u001b[0m \u001b[0;34m\u001b[0m\u001b[0m\n\u001b[0;32m----> 3\u001b[0;31m \u001b[0mtest_subtree\u001b[0m \u001b[0;34m=\u001b[0m \u001b[0mtree\u001b[0m\u001b[0;34m(\u001b[0m\u001b[0mnode_dict\u001b[0m\u001b[0;34m[\u001b[0m\u001b[0;34m'1494577'\u001b[0m\u001b[0;34m]\u001b[0m\u001b[0;34m,\u001b[0m \u001b[0msubtree_dict\u001b[0m\u001b[0;34m)\u001b[0m\u001b[0;34m\u001b[0m\u001b[0;34m\u001b[0m\u001b[0m\n\u001b[0m\u001b[1;32m      4\u001b[0m \u001b[0;34m\u001b[0m\u001b[0m\n\u001b[1;32m      5\u001b[0m \u001b[0;32mfor\u001b[0m \u001b[0mi\u001b[0m \u001b[0;32min\u001b[0m \u001b[0mtest_subtree\u001b[0m\u001b[0;34m.\u001b[0m\u001b[0mtips\u001b[0m\u001b[0;34m:\u001b[0m\u001b[0;34m\u001b[0m\u001b[0;34m\u001b[0m\u001b[0m\n",
      "\u001b[0;32m~/Documents/GitHub/ABSynth/Simulation_scripts/tree_class.py\u001b[0m in \u001b[0;36m__init__\u001b[0;34m(self, person_tree, subtree_dict)\u001b[0m\n\u001b[1;32m     31\u001b[0m \u001b[0;34m\u001b[0m\u001b[0m\n\u001b[1;32m     32\u001b[0m             \u001b[0mself\u001b[0m\u001b[0;34m.\u001b[0m\u001b[0msort_out_tips\u001b[0m\u001b[0;34m(\u001b[0m\u001b[0;34m)\u001b[0m\u001b[0;34m\u001b[0m\u001b[0;34m\u001b[0m\u001b[0m\n\u001b[0;32m---> 33\u001b[0;31m             \u001b[0mself\u001b[0m\u001b[0;34m.\u001b[0m\u001b[0mcoalescent\u001b[0m\u001b[0;34m(\u001b[0m\u001b[0mself\u001b[0m\u001b[0;34m.\u001b[0m\u001b[0mtips\u001b[0m\u001b[0;34m,\u001b[0m \u001b[0;36m0.0\u001b[0m\u001b[0;34m)\u001b[0m\u001b[0;34m\u001b[0m\u001b[0;34m\u001b[0m\u001b[0m\n\u001b[0m\u001b[1;32m     34\u001b[0m             \u001b[0mself\u001b[0m\u001b[0;34m.\u001b[0m\u001b[0mdefine_root\u001b[0m\u001b[0;34m(\u001b[0m\u001b[0;34m)\u001b[0m\u001b[0;34m\u001b[0m\u001b[0;34m\u001b[0m\u001b[0m\n\u001b[1;32m     35\u001b[0m \u001b[0;34m\u001b[0m\u001b[0m\n",
      "\u001b[0;32m~/Documents/GitHub/ABSynth/Simulation_scripts/tree_class.py\u001b[0m in \u001b[0;36mcoalescent\u001b[0;34m(self, lineage_list, current_height)\u001b[0m\n\u001b[1;32m    129\u001b[0m                 \u001b[0mcurrent_height\u001b[0m \u001b[0;34m=\u001b[0m \u001b[0mnext_sample\u001b[0m\u001b[0;34m.\u001b[0m\u001b[0mrelative_height\u001b[0m\u001b[0;34m\u001b[0m\u001b[0;34m\u001b[0m\u001b[0m\n\u001b[1;32m    130\u001b[0m \u001b[0;34m\u001b[0m\u001b[0m\n\u001b[0;32m--> 131\u001b[0;31m                 \u001b[0mself\u001b[0m\u001b[0;34m.\u001b[0m\u001b[0mcoalescent\u001b[0m\u001b[0;34m(\u001b[0m\u001b[0mlineage_list\u001b[0m\u001b[0;34m,\u001b[0m \u001b[0mcurrent_height\u001b[0m\u001b[0;34m)\u001b[0m\u001b[0;34m\u001b[0m\u001b[0;34m\u001b[0m\u001b[0m\n\u001b[0m\u001b[1;32m    132\u001b[0m \u001b[0;34m\u001b[0m\u001b[0m\n\u001b[1;32m    133\u001b[0m             \u001b[0;31m#Got some stuff in active population to be coalescing\u001b[0m\u001b[0;34m\u001b[0m\u001b[0;34m\u001b[0m\u001b[0;34m\u001b[0m\u001b[0m\n",
      "\u001b[0;32m~/Documents/GitHub/ABSynth/Simulation_scripts/tree_class.py\u001b[0m in \u001b[0;36mcoalescent\u001b[0;34m(self, lineage_list, current_height)\u001b[0m\n\u001b[1;32m    158\u001b[0m \u001b[0;34m\u001b[0m\u001b[0m\n\u001b[1;32m    159\u001b[0m                     \u001b[0;31m#Who is going to coalesce?\u001b[0m\u001b[0;34m\u001b[0m\u001b[0;34m\u001b[0m\u001b[0;34m\u001b[0m\u001b[0m\n\u001b[0;32m--> 160\u001b[0;31m                     \u001b[0mlucky_pair\u001b[0m \u001b[0;34m=\u001b[0m \u001b[0mrandom\u001b[0m\u001b[0;34m.\u001b[0m\u001b[0msample\u001b[0m\u001b[0;34m(\u001b[0m\u001b[0mactive_pop\u001b[0m\u001b[0;34m,\u001b[0m \u001b[0mk\u001b[0m\u001b[0;34m=\u001b[0m\u001b[0;36m2\u001b[0m\u001b[0;34m)\u001b[0m\u001b[0;34m\u001b[0m\u001b[0;34m\u001b[0m\u001b[0m\n\u001b[0m\u001b[1;32m    161\u001b[0m \u001b[0;34m\u001b[0m\u001b[0m\n\u001b[1;32m    162\u001b[0m                     \u001b[0;31m#ie the coalescent event of the pair selected above\u001b[0m\u001b[0;34m\u001b[0m\u001b[0;34m\u001b[0m\u001b[0;34m\u001b[0m\u001b[0m\n",
      "\u001b[0;31mNameError\u001b[0m: name 'random' is not defined"
     ]
    }
   ],
   "source": []
  },
  {
   "cell_type": "code",
   "execution_count": null,
   "metadata": {
    "collapsed": true
   },
   "outputs": [],
   "source": []
  },
  {
   "cell_type": "code",
   "execution_count": 1,
   "metadata": {},
   "outputs": [
    {
     "name": "stdout",
     "output_type": "stream",
     "text": [
      "0\n",
      "1\n",
      "2\n",
      "3\n",
      "4\n",
      "5\n"
     ]
    }
   ],
   "source": [
    "thing = False\n",
    "thing2 = False\n",
    "\n",
    "for i in range(10):\n",
    "    if thing:\n",
    "        if thing2:\n",
    "            break\n",
    "    print(i)\n",
    "            \n",
    "    if i == 5:\n",
    "        thing = True\n",
    "        thing2 = True"
   ]
  },
  {
   "cell_type": "code",
   "execution_count": 6,
   "metadata": {
    "collapsed": true
   },
   "outputs": [],
   "source": [
    "test_dict = {}\n",
    "\n",
    "for i in range(10):\n",
    "    test_dict[i]= \"a\"\n",
    "    \n",
    "try:\n",
    "    for i, v in test_dict.items():\n",
    "        test_dict[i+1] = 'n'\n",
    "except RuntimeError:\n",
    "    pass"
   ]
  },
  {
   "cell_type": "code",
   "execution_count": 7,
   "metadata": {},
   "outputs": [
    {
     "data": {
      "text/plain": [
       "{0: 'a',\n",
       " 1: 'n',\n",
       " 2: 'n',\n",
       " 3: 'n',\n",
       " 4: 'n',\n",
       " 5: 'n',\n",
       " 6: 'n',\n",
       " 7: 'n',\n",
       " 8: 'n',\n",
       " 9: 'n',\n",
       " 10: 'n'}"
      ]
     },
     "execution_count": 7,
     "metadata": {},
     "output_type": "execute_result"
    }
   ],
   "source": [
    "test_dict"
   ]
  },
  {
   "cell_type": "code",
   "execution_count": 11,
   "metadata": {
    "collapsed": true
   },
   "outputs": [],
   "source": [
    "import distribution_functions"
   ]
  },
  {
   "cell_type": "code",
   "execution_count": 14,
   "metadata": {},
   "outputs": [
    {
     "data": {
      "text/plain": [
       "(array([ 0.        ,  0.07625625,  0.1673127 ,  0.25660258,  0.3402285 ,\n",
       "         0.41685344,  0.48616327,  0.54832398,  0.60373617,  0.65290919,\n",
       "         0.69639239,  0.73473629,  0.76847079,  0.79809334,  0.82406315,\n",
       "         0.84679914,  0.86668013,  0.88404642,  0.89920204,  0.91241755,\n",
       "         0.92393282,  0.93395997,  0.94268607,  0.95027582,  0.95687391,\n",
       "         0.9626073 ,  0.96758723,  0.97191103,  0.97566383,  0.97891993,\n",
       "         0.98174421,  0.98419322,  0.98631626,  0.98815625,  0.98975054,\n",
       "         0.99113164,  0.9923278 ,  0.99336358,  0.99426031,  0.99503652]),\n",
       " array([ 0.        ,  0.04718939,  0.12417941,  0.20950683,  0.29507027,\n",
       "         0.37684467,  0.45280994,  0.52206555,  0.58436636,  0.63985375,\n",
       "         0.68889111,  0.7319606 ,  0.76959746,  0.80234859,  0.8307468 ,\n",
       "         0.85529555,  0.87646056,  0.89466607,  0.91029397,  0.92368489,\n",
       "         0.93514043,  0.94492602,  0.95327405,  0.96038717,  0.96644141,\n",
       "         0.97158924,  0.9759623 ,  0.97967405,  0.98282199,  0.98548981,\n",
       "         0.9877492 ,  0.98966147,  0.99127898,  0.9926464 ,  0.9938018 ,\n",
       "         0.99477756,  0.99560124,  0.99629622,  0.99688238,  0.99737656]),\n",
       " array([  0.00000000e+00,   4.24623907e-06,   1.94101644e-04,\n",
       "          1.57892588e-03,   6.34700008e-03,   1.73667545e-02,\n",
       "          3.73086077e-02,   6.79135420e-02,   1.09640123e-01,\n",
       "          1.61682362e-01,   2.22238188e-01,   2.88889705e-01,\n",
       "          3.58985398e-01,   4.29957136e-01,   4.99543322e-01,\n",
       "          5.65916770e-01,   6.27731614e-01,   6.84110112e-01,\n",
       "          7.34590612e-01,   7.79055044e-01,   8.17649957e-01,\n",
       "          8.50710698e-01,   8.78694477e-01,   9.02125058e-01,\n",
       "          9.21549694e-01,   9.37507555e-01,   9.50508185e-01,\n",
       "          9.61018154e-01,   9.69454108e-01,   9.76180534e-01,\n",
       "          9.81510826e-01,   9.85710474e-01,   9.89001502e-01,\n",
       "          9.91567485e-01,   9.93558675e-01,   9.95096933e-01,\n",
       "          9.96280289e-01,   9.97187006e-01,   9.97879144e-01,\n",
       "          9.98405602e-01]))"
      ]
     },
     "execution_count": 14,
     "metadata": {},
     "output_type": "execute_result"
    }
   ],
   "source": [
    "import scipy.stats as sp\n",
    "\n",
    "distribution_functions.define_distributions()"
   ]
  },
  {
   "cell_type": "code",
   "execution_count": 16,
   "metadata": {},
   "outputs": [],
   "source": [
    "a,b,c,d = ['a', 'b', 'c', 'd']"
   ]
  },
  {
   "cell_type": "code",
   "execution_count": 17,
   "metadata": {},
   "outputs": [
    {
     "data": {
      "text/plain": [
       "'a'"
      ]
     },
     "execution_count": 17,
     "metadata": {},
     "output_type": "execute_result"
    }
   ],
   "source": [
    "a"
   ]
  },
  {
   "cell_type": "code",
   "execution_count": 18,
   "metadata": {
    "collapsed": true
   },
   "outputs": [],
   "source": [
    "class test():\n",
    "    def __init__(self, test_id, u_id=None):\n",
    "        \n",
    "        self.test_id = test_id\n",
    "        \n",
    "        if u_id:\n",
    "            self.u_id = u_id\n",
    "        \n",
    "        \n",
    "        "
   ]
  },
  {
   "cell_type": "code",
   "execution_count": 20,
   "metadata": {},
   "outputs": [],
   "source": [
    "testy1 = test(3)\n",
    "testy2 = test(5,6)"
   ]
  },
  {
   "cell_type": "code",
   "execution_count": 24,
   "metadata": {},
   "outputs": [
    {
     "data": {
      "text/plain": [
       "6"
      ]
     },
     "execution_count": 24,
     "metadata": {},
     "output_type": "execute_result"
    }
   ],
   "source": [
    "testy2.u_id"
   ]
  },
  {
   "cell_type": "code",
   "execution_count": 4,
   "metadata": {},
   "outputs": [],
   "source": [
    "from collections import defaultdict\n",
    "import numpy as np\n",
    "from node_class import *\n",
    "from tree_class import *\n",
    "\n",
    "\n",
    "child_dict = defaultdict(list)\n",
    "\n",
    "dropbox_path = \"/Users/s1743989/VirusEvolution Dropbox/Verity Hill/Agent_based_model/Looping models/Results/testing_tidying/\"\n",
    "\n",
    "current_run = \"4/log_files/\"\n",
    "\n",
    "input_file = dropbox_path + current_run + \"information_file_for_0.csv\"\n",
    "#input_file = dropbox_path + \"test_transtree.csv\"\n",
    "\n",
    "\n",
    "\n",
    "trans_dict = defaultdict(list)\n",
    "nodes = []\n",
    "\n",
    "\n",
    "with open(input_file) as f:\n",
    "        next(f)\n",
    "        for l in f:\n",
    "            toks = l.strip(\"\\n\").split(\",\")\n",
    "            focal = toks[0]\n",
    "            parent = toks[1]\n",
    "            #time_inf_file = toks[2]\n",
    "            #time_sampled_file = toks[3]\n",
    "            time_inf = float(toks[4])\n",
    "            time_sampled = float(toks[6])\n",
    "\n",
    "            trans_dict[focal] = [parent, time_inf, time_sampled]\n",
    "            \n",
    "            child_dict[parent].append(focal)\n",
    "\n",
    "            nodes.append(focal)\n",
    "            \n",
    "            if focal not in child_dict.keys():\n",
    "                child_dict[focal] = []\n",
    "\n",
    "                \n",
    "trans_dict['1414058'] = ['NA',0.0,0.0]"
   ]
  },
  {
   "cell_type": "code",
   "execution_count": 5,
   "metadata": {},
   "outputs": [],
   "source": [
    "from Tree_simulator import *\n",
    "\n",
    "sampling_proportion=1\n",
    "epidemic_len=60"
   ]
  },
  {
   "cell_type": "code",
   "execution_count": 33,
   "metadata": {
    "scrolled": false
   },
   "outputs": [
    {
     "name": "stdout",
     "output_type": "stream",
     "text": [
      "{'1414065', '1414062', '1414059', '2453958', '1598063', '1494580', '1542805', '1542801', '1494585', '1494579', '1494582', '1414064', '1494584', '1542802', '1494577', '1494581', '1414058', '1482406'}\n",
      "function not called <node_class.node object at 0x113576668> [<node_class.node object at 0x113576630>]\n",
      "Trans node still in <node_class.node object at 0x1135766d8> [<node_class.node object at 0x113576630>]\n",
      "child of <node_class.node object at 0x1135766d8>\n",
      "No root to tip for <node_class.node object at 0x113576668> <node_class.node object at 0x113576588> Trans\n"
     ]
    },
    {
     "ename": "AttributeError",
     "evalue": "'node' object has no attribute 'node_parent'",
     "output_type": "error",
     "traceback": [
      "\u001b[0;31m---------------------------------------------------------------------------\u001b[0m",
      "\u001b[0;31mAttributeError\u001b[0m                            Traceback (most recent call last)",
      "\u001b[0;32m<ipython-input-33-9f011b3597b9>\u001b[0m in \u001b[0;36m<module>\u001b[0;34m()\u001b[0m\n\u001b[0;32m----> 1\u001b[0;31m \u001b[0mresult\u001b[0m \u001b[0;34m=\u001b[0m \u001b[0msimulate_tree\u001b[0m\u001b[0;34m(\u001b[0m\u001b[0mtrans_dict\u001b[0m\u001b[0;34m,\u001b[0m \u001b[0mchild_dict\u001b[0m\u001b[0;34m,\u001b[0m \u001b[0mnodes\u001b[0m\u001b[0;34m,\u001b[0m \u001b[0msampling_proportion\u001b[0m\u001b[0;34m,\u001b[0m \u001b[0mepidemic_len\u001b[0m\u001b[0;34m)\u001b[0m\u001b[0;34m\u001b[0m\u001b[0;34m\u001b[0m\u001b[0m\n\u001b[0m",
      "\u001b[0;32m~/Documents/GitHub/ABSynth/Simulation_scripts/Tree_simulator.py\u001b[0m in \u001b[0;36msimulate_tree\u001b[0;34m(trans_dict, child_dict, nodes, sampling_proportion, epidemic_len)\u001b[0m\n\u001b[1;32m    125\u001b[0m         \u001b[0mnode\u001b[0m\u001b[0;34m(\u001b[0m\u001b[0mindex_case\u001b[0m\u001b[0;34m,\u001b[0m \u001b[0;34m\"Ind\"\u001b[0m\u001b[0;34m,\u001b[0m \u001b[0mtrans_dict\u001b[0m\u001b[0;34m=\u001b[0m\u001b[0mtrans_dict\u001b[0m\u001b[0;34m,\u001b[0m \u001b[0mchild_dict\u001b[0m\u001b[0;34m=\u001b[0m\u001b[0mchild_dict\u001b[0m\u001b[0;34m,\u001b[0m \u001b[0mthose_sampled\u001b[0m\u001b[0;34m=\u001b[0m\u001b[0mthose_sampled\u001b[0m\u001b[0;34m,\u001b[0m \u001b[0mnode_dict\u001b[0m\u001b[0;34m=\u001b[0m\u001b[0mnode_dict\u001b[0m\u001b[0;34m)\u001b[0m\u001b[0;34m\u001b[0m\u001b[0;34m\u001b[0m\u001b[0m\n\u001b[1;32m    126\u001b[0m \u001b[0;34m\u001b[0m\u001b[0m\n\u001b[0;32m--> 127\u001b[0;31m         \u001b[0mcoalescent_tree\u001b[0m \u001b[0;34m=\u001b[0m \u001b[0mtree\u001b[0m\u001b[0;34m(\u001b[0m\u001b[0mnode_dict\u001b[0m\u001b[0;34m=\u001b[0m\u001b[0mnode_dict\u001b[0m\u001b[0;34m)\u001b[0m\u001b[0;34m\u001b[0m\u001b[0;34m\u001b[0m\u001b[0m\n\u001b[0m\u001b[1;32m    128\u001b[0m \u001b[0;34m\u001b[0m\u001b[0m\n\u001b[1;32m    129\u001b[0m         \u001b[0mR0\u001b[0m \u001b[0;34m=\u001b[0m \u001b[0mget_R0\u001b[0m\u001b[0;34m(\u001b[0m\u001b[0mnode_dict\u001b[0m\u001b[0;34m)\u001b[0m\u001b[0;34m\u001b[0m\u001b[0;34m\u001b[0m\u001b[0m\n",
      "\u001b[0;32m~/Documents/GitHub/ABSynth/Simulation_scripts/tree_class.py\u001b[0m in \u001b[0;36m__init__\u001b[0;34m(self, person_tree, subtree_dict, node_dict)\u001b[0m\n\u001b[1;32m     61\u001b[0m                         \u001b[0;32mif\u001b[0m \u001b[0mnde\u001b[0m \u001b[0;32min\u001b[0m \u001b[0mnde2\u001b[0m\u001b[0;34m.\u001b[0m\u001b[0mnode_children\u001b[0m\u001b[0;34m:\u001b[0m\u001b[0;34m\u001b[0m\u001b[0;34m\u001b[0m\u001b[0m\n\u001b[1;32m     62\u001b[0m                             \u001b[0mprint\u001b[0m\u001b[0;34m(\u001b[0m\u001b[0;34m\"child of \"\u001b[0m \u001b[0;34m+\u001b[0m \u001b[0mstr\u001b[0m\u001b[0;34m(\u001b[0m\u001b[0mnde2\u001b[0m\u001b[0;34m)\u001b[0m\u001b[0;34m)\u001b[0m\u001b[0;34m\u001b[0m\u001b[0;34m\u001b[0m\u001b[0m\n\u001b[0;32m---> 63\u001b[0;31m                 \u001b[0mself\u001b[0m\u001b[0;34m.\u001b[0m\u001b[0mget_tip_to_root\u001b[0m\u001b[0;34m(\u001b[0m\u001b[0mnde\u001b[0m\u001b[0;34m)\u001b[0m\u001b[0;34m\u001b[0m\u001b[0;34m\u001b[0m\u001b[0m\n\u001b[0m\u001b[1;32m     64\u001b[0m                 \u001b[0mself\u001b[0m\u001b[0;34m.\u001b[0m\u001b[0mheights\u001b[0m\u001b[0;34m[\u001b[0m\u001b[0mnde\u001b[0m\u001b[0;34m]\u001b[0m \u001b[0;34m=\u001b[0m \u001b[0mself\u001b[0m\u001b[0;34m.\u001b[0m\u001b[0mmost_recent_tip\u001b[0m \u001b[0;34m-\u001b[0m \u001b[0mnde\u001b[0m\u001b[0;34m.\u001b[0m\u001b[0mroot_to_tip\u001b[0m\u001b[0;34m\u001b[0m\u001b[0;34m\u001b[0m\u001b[0m\n\u001b[1;32m     65\u001b[0m \u001b[0;34m\u001b[0m\u001b[0m\n",
      "\u001b[0;32m~/Documents/GitHub/ABSynth/Simulation_scripts/tree_class.py\u001b[0m in \u001b[0;36mget_tip_to_root\u001b[0;34m(self, nde)\u001b[0m\n\u001b[1;32m    342\u001b[0m \u001b[0;34m\u001b[0m\u001b[0m\n\u001b[1;32m    343\u001b[0m \u001b[0;34m\u001b[0m\u001b[0m\n\u001b[0;32m--> 344\u001b[0;31m             \u001b[0mdistance\u001b[0m \u001b[0;34m=\u001b[0m \u001b[0mself\u001b[0m\u001b[0;34m.\u001b[0m\u001b[0mget_tip_to_root\u001b[0m\u001b[0;34m(\u001b[0m\u001b[0mnde\u001b[0m\u001b[0;34m.\u001b[0m\u001b[0mnode_parent\u001b[0m\u001b[0;34m)\u001b[0m \u001b[0;34m+\u001b[0m \u001b[0mself\u001b[0m\u001b[0;34m.\u001b[0m\u001b[0mbranch_lengths\u001b[0m\u001b[0;34m[\u001b[0m\u001b[0mnde\u001b[0m\u001b[0;34m]\u001b[0m\u001b[0;34m\u001b[0m\u001b[0;34m\u001b[0m\u001b[0m\n\u001b[0m\u001b[1;32m    345\u001b[0m \u001b[0;34m\u001b[0m\u001b[0m\n\u001b[1;32m    346\u001b[0m \u001b[0;34m\u001b[0m\u001b[0m\n",
      "\u001b[0;32m~/Documents/GitHub/ABSynth/Simulation_scripts/tree_class.py\u001b[0m in \u001b[0;36mget_tip_to_root\u001b[0;34m(self, nde)\u001b[0m\n\u001b[1;32m    342\u001b[0m \u001b[0;34m\u001b[0m\u001b[0m\n\u001b[1;32m    343\u001b[0m \u001b[0;34m\u001b[0m\u001b[0m\n\u001b[0;32m--> 344\u001b[0;31m             \u001b[0mdistance\u001b[0m \u001b[0;34m=\u001b[0m \u001b[0mself\u001b[0m\u001b[0;34m.\u001b[0m\u001b[0mget_tip_to_root\u001b[0m\u001b[0;34m(\u001b[0m\u001b[0mnde\u001b[0m\u001b[0;34m.\u001b[0m\u001b[0mnode_parent\u001b[0m\u001b[0;34m)\u001b[0m \u001b[0;34m+\u001b[0m \u001b[0mself\u001b[0m\u001b[0;34m.\u001b[0m\u001b[0mbranch_lengths\u001b[0m\u001b[0;34m[\u001b[0m\u001b[0mnde\u001b[0m\u001b[0;34m]\u001b[0m\u001b[0;34m\u001b[0m\u001b[0;34m\u001b[0m\u001b[0m\n\u001b[0m\u001b[1;32m    345\u001b[0m \u001b[0;34m\u001b[0m\u001b[0m\n\u001b[1;32m    346\u001b[0m \u001b[0;34m\u001b[0m\u001b[0m\n",
      "\u001b[0;31mAttributeError\u001b[0m: 'node' object has no attribute 'node_parent'"
     ]
    }
   ],
   "source": [
    "result = simulate_tree(trans_dict, child_dict, nodes, sampling_proportion, epidemic_len)"
   ]
  },
  {
   "cell_type": "code",
   "execution_count": 25,
   "metadata": {},
   "outputs": [],
   "source": [
    "big_tree = result[2]"
   ]
  },
  {
   "cell_type": "code",
   "execution_count": 36,
   "metadata": {},
   "outputs": [
    {
     "name": "stdout",
     "output_type": "stream",
     "text": [
      "[1, 2, 3, 4, 5]\n",
      "[1, 2, 3, 4, 5, 6]\n"
     ]
    }
   ],
   "source": [
    "list1 = [1,2,3,4,5]\n",
    "\n",
    "list2 = list1.copy()\n",
    "\n",
    "list2.append(6)\n",
    "\n",
    "print(list1)\n",
    "print(list2)\n"
   ]
  },
  {
   "cell_type": "code",
   "execution_count": 12,
   "metadata": {},
   "outputs": [
    {
     "name": "stdout",
     "output_type": "stream",
     "text": [
      "1\n",
      "0\n",
      "ye\n"
     ]
    }
   ],
   "source": [
    "test_set = set()\n",
    "test_set2 = set()\n",
    "\n",
    "test_set.add(1)\n",
    "\n",
    "print(len(test_set))\n",
    "print(len(test_set2))\n",
    "\n",
    "if len(test_set2) == 0:\n",
    "    print(\"ye\")"
   ]
  },
  {
   "cell_type": "code",
   "execution_count": 15,
   "metadata": {},
   "outputs": [
    {
     "name": "stdout",
     "output_type": "stream",
     "text": [
      "[(0, 6), (7, 13), (14, 20), (21, 27), (28, 34), (35, 41), (42, 48), (49, 55), (56, 62)]\n"
     ]
    },
    {
     "data": {
      "text/plain": [
       "{'1414058',\n",
       " '1414059',\n",
       " '1414062',\n",
       " '1414064',\n",
       " '1414065',\n",
       " '1494577',\n",
       " '1494579',\n",
       " '1494580',\n",
       " '1494581',\n",
       " '1494582',\n",
       " '1494584',\n",
       " '1494585',\n",
       " '1542800',\n",
       " '1542802',\n",
       " '1542804',\n",
       " '1542805',\n",
       " '1598063',\n",
       " '2453958'}"
      ]
     },
     "execution_count": 15,
     "metadata": {},
     "output_type": "execute_result"
    }
   ],
   "source": [
    "sampling2(trans_dict, sampling_proportion, epidemic_len)"
   ]
  },
  {
   "cell_type": "code",
   "execution_count": null,
   "metadata": {
    "collapsed": true
   },
   "outputs": [],
   "source": []
  }
 ],
 "metadata": {
  "kernelspec": {
   "display_name": "Python 3",
   "language": "python",
   "name": "python3"
  },
  "language_info": {
   "codemirror_mode": {
    "name": "ipython",
    "version": 3
   },
   "file_extension": ".py",
   "mimetype": "text/x-python",
   "name": "python",
   "nbconvert_exporter": "python",
   "pygments_lexer": "ipython3",
   "version": "3.6.8"
  }
 },
 "nbformat": 4,
 "nbformat_minor": 2
}
