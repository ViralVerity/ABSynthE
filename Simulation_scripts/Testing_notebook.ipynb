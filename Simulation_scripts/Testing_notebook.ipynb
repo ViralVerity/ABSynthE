{
 "cells": [
  {
   "cell_type": "code",
   "execution_count": 1,
   "metadata": {},
   "outputs": [
    {
     "name": "stdout",
     "output_type": "stream",
     "text": [
      "1414058 ['NA', 0.0, 0.0]\n",
      "1414059 ['1414058', 0.5174467193295447, 5.252475707271978]\n",
      "1414064 ['1414058', 0.6714298718071974, 1.962396832424902]\n",
      "1414065 ['1414058', 0.9637746927846732, 13.355088548267297]\n",
      "1414062 ['1414058', 0.540365091054816, 16.47818215561809]\n",
      "1414063 ['1414058', 0.8580187960650312, 12.78626220178024]\n",
      "1494579 ['1414058', 0.7075656494708153, 6.051389567380937]\n",
      "1494577 ['1414058', 0.7036536733255573, 11.564797952947348]\n",
      "1542800 ['1414058', 0.11217713502224214, 6.1958101735905355]\n",
      "1542801 ['1414058', 0.9653382878069247, 18.078127353390407]\n",
      "1494581 ['1414058', 0.19250268312851104, 27.89335433591449]\n",
      "1542805 ['1414058', 0.09224808718342348, 14.11173900826834]\n",
      "1494580 ['1414058', 0.7078619174714105, 3.2547455542137147]\n",
      "1482406 ['1414058', 0.5906448872431435, 1.7738706593941218]\n",
      "1598063 ['1414058', 0.7296203556689571, 13.11767712760685]\n",
      "1494582 ['1494577', 14.554285153234902, 19.187956282227127]\n",
      "1494584 ['1494577', 15.74901938886602, 20.112992950782278]\n",
      "1542804 ['1542805', 16.42135767345807, 19.996176189594195]\n",
      "1542802 ['1414062', 20.975485843370052, 57.9430945036963]\n",
      "1494585 ['1494582', 21.962790136396766, 24.182642060544897]\n",
      "1414066 ['1494582', 25.17468453049497, 29.95234489749191]\n",
      "2453958 ['1542804', 25.23085735427348, 31.7731730757814]\n"
     ]
    },
    {
     "data": {
      "text/plain": [
       "defaultdict(list,\n",
       "            {'1414058': ['1414059',\n",
       "              '1414064',\n",
       "              '1414065',\n",
       "              '1414062',\n",
       "              '1414063',\n",
       "              '1494579',\n",
       "              '1494577',\n",
       "              '1542800',\n",
       "              '1542801',\n",
       "              '1494581',\n",
       "              '1542805',\n",
       "              '1494580',\n",
       "              '1482406',\n",
       "              '1598063'],\n",
       "             '1414059': [],\n",
       "             '1414062': ['1542802'],\n",
       "             '1414063': [],\n",
       "             '1414064': [],\n",
       "             '1414065': [],\n",
       "             '1414066': [],\n",
       "             '1482406': [],\n",
       "             '1494577': ['1494582', '1494584'],\n",
       "             '1494579': [],\n",
       "             '1494580': [],\n",
       "             '1494581': [],\n",
       "             '1494582': ['1494585', '1414066'],\n",
       "             '1494584': [],\n",
       "             '1494585': [],\n",
       "             '1542800': [],\n",
       "             '1542801': [],\n",
       "             '1542802': [],\n",
       "             '1542804': ['2453958'],\n",
       "             '1542805': ['1542804'],\n",
       "             '1598063': [],\n",
       "             '2453958': [],\n",
       "             'NA': ['1414058']})"
      ]
     },
     "execution_count": 1,
     "metadata": {},
     "output_type": "execute_result"
    }
   ],
   "source": [
    "#import Tree_simulator as ctx\n",
    "from collections import defaultdict\n",
    "import numpy as np\n",
    "from node_class import *\n",
    "from tree_class import *\n",
    "\n",
    "\n",
    "child_dict = defaultdict(list)\n",
    "\n",
    "dropbox_path = \"/Users/s1743989/VirusEvolution Dropbox/Verity Hill/Agent_based_model/Looping models/Results/testing_tidying/\"\n",
    "\n",
    "current_run = \"4/log_files/\"\n",
    "\n",
    "input_file = dropbox_path + current_run + \"information_file_for_0.csv\"\n",
    "#input_file = dropbox_path + \"test_transtree.csv\"\n",
    "\n",
    "\n",
    "\n",
    "trans_dict = defaultdict(list)\n",
    "nodes = []\n",
    "\n",
    "\n",
    "with open(input_file) as f:\n",
    "        next(f)\n",
    "        for l in f:\n",
    "            toks = l.strip(\"\\n\").split(\",\")\n",
    "            focal = toks[0]\n",
    "            parent = toks[1]\n",
    "            #time_inf_file = toks[2]\n",
    "            #time_sampled_file = toks[3]\n",
    "            time_inf_file = toks[4]\n",
    "            time_sampled_file = toks[6]\n",
    "            \n",
    "            time_inf = float(time_inf_file) + np.random.uniform(0,1)\n",
    "            time_sampled = float(time_sampled_file) + np.random.uniform(0,1)\n",
    "\n",
    "            trans_dict[focal] = [parent, time_inf, time_sampled]\n",
    "            \n",
    "            child_dict[parent].append(focal)\n",
    "\n",
    "            nodes.append(focal)\n",
    "            \n",
    "            if focal not in child_dict.keys():\n",
    "                child_dict[focal] = []\n",
    "\n",
    "trans_dict['1414058'] = ['NA',0.0,0.0]\n",
    "            \n",
    "for k,v in trans_dict.items():            \n",
    "    print(k,v)\n",
    "    \n",
    "those_sampled = []\n",
    "for i in trans_dict.keys():\n",
    "    those_sampled.append(i)\n",
    "\n",
    "node_dict = {}\n",
    "\n",
    "child_dict"
   ]
  },
  {
   "cell_type": "code",
   "execution_count": 2,
   "metadata": {
    "scrolled": false
   },
   "outputs": [
    {
     "name": "stdout",
     "output_type": "stream",
     "text": [
      "1414058\n",
      "Making subtree for 1414059\n",
      "1\n",
      "Making subtree for 1414064\n",
      "1\n",
      "Making subtree for 1414065\n",
      "1\n",
      "Making subtree for 1542802\n",
      "1\n",
      "Making subtree for 1414062\n",
      "2\n",
      "made a node<node_class.node object at 0x1110ec438>\n",
      "Making subtree for 1414063\n",
      "1\n",
      "Making subtree for 1494579\n",
      "1\n",
      "Making subtree for 1494585\n",
      "1\n",
      "Making subtree for 1414066\n",
      "1\n",
      "Making subtree for 1494582\n",
      "3\n",
      "made a node<node_class.node object at 0x112928ac8>\n",
      "made a node<node_class.node object at 0x112928b38>\n",
      "Making subtree for 1494584\n",
      "1\n",
      "Making subtree for 1494577\n",
      "3\n",
      "made a node<node_class.node object at 0x11292d7f0>\n",
      "made a node<node_class.node object at 0x1129380b8>\n",
      "Making subtree for 1542800\n",
      "1\n",
      "Making subtree for 1542801\n",
      "1\n",
      "Making subtree for 1494581\n",
      "1\n",
      "Making subtree for 2453958\n",
      "1\n",
      "Making subtree for 1542804\n",
      "2\n",
      "made a node<node_class.node object at 0x113971eb8>\n",
      "Making subtree for 1542805\n",
      "2\n",
      "made a node<node_class.node object at 0x113974e80>\n",
      "Making subtree for 1494580\n",
      "1\n",
      "Making subtree for 1482406\n",
      "1\n",
      "Making subtree for 1598063\n",
      "1\n",
      "Making subtree for 1414058\n",
      "15\n",
      "made a node<node_class.node object at 0x1139741d0>\n",
      "made a node<node_class.node object at 0x113974128>\n",
      "made a node<node_class.node object at 0x113974048>\n",
      "made a node<node_class.node object at 0x113974ef0>\n",
      "made a node<node_class.node object at 0x1139a2048>\n",
      "made a node<node_class.node object at 0x1139a20f0>\n",
      "made a node<node_class.node object at 0x1139a21d0>\n",
      "made a node<node_class.node object at 0x1139a2278>\n",
      "made a node<node_class.node object at 0x1139a2390>\n",
      "made a node<node_class.node object at 0x1139a2438>\n",
      "made a node<node_class.node object at 0x1139a2518>\n",
      "made a node<node_class.node object at 0x1139a25c0>\n",
      "made a node<node_class.node object at 0x1139a26a0>\n",
      "made a node<node_class.node object at 0x1139a2748>\n"
     ]
    },
    {
     "data": {
      "text/plain": [
       "<node_class.node at 0x11292d780>"
      ]
     },
     "execution_count": 2,
     "metadata": {},
     "output_type": "execute_result"
    }
   ],
   "source": [
    "index_case = child_dict[\"NA\"][0]\n",
    "\n",
    "print(index_case)\n",
    "\n",
    "node(index_case, \"Ind\", trans_dict=trans_dict, child_dict=child_dict, those_sampled=those_sampled, node_dict=node_dict, gen_3=0, gen_4=0)"
   ]
  },
  {
   "cell_type": "code",
   "execution_count": 4,
   "metadata": {},
   "outputs": [
    {
     "name": "stdout",
     "output_type": "stream",
     "text": [
      "0\n",
      "1\n",
      "1\n",
      "1\n",
      "1\n",
      "2\n",
      "1\n",
      "1\n",
      "1\n",
      "2\n",
      "3\n",
      "3\n",
      "2\n",
      "1\n",
      "1\n",
      "1\n",
      "1\n",
      "2\n",
      "3\n",
      "1\n",
      "1\n",
      "1\n"
     ]
    }
   ],
   "source": [
    "for i in node_dict.values():\n",
    "    print(i.generation)"
   ]
  },
  {
   "cell_type": "code",
   "execution_count": 2,
   "metadata": {},
   "outputs": [
    {
     "name": "stdout",
     "output_type": "stream",
     "text": [
      "Coalescing [<node_class.node object at 0x10fda5be0>, <node_class.node object at 0x10fda5c18>]\n",
      "new node is 31c95a70-33a2-11ea-b9d4-003ee1ccacd0 1.6260687277799577\n",
      "Coalescing [<node_class.node object at 0x10eca8ba8>, <node_class.node object at 0x10fdaea58>]\n",
      "new node is 31caa2ae-33a2-11ea-8af0-003ee1ccacd0 4.890694339801867\n"
     ]
    }
   ],
   "source": [
    "subtree_dict = {}\n",
    "\n",
    "test_subtree = tree(node_dict['1494577'], subtree_dict)\n",
    "\n",
    "# for i in test_subtree.tips:\n",
    "#     print(i.type, i.relative_height, i.absolute_time)\n",
    "    \n",
    "# for i in test_subtree.nodes:\n",
    "#     print(i, i.relative_height, i.children)\n",
    "    \n",
    "# print(test_subtree.heights)"
   ]
  },
  {
   "cell_type": "code",
   "execution_count": 3,
   "metadata": {},
   "outputs": [
    {
     "name": "stdout",
     "output_type": "stream",
     "text": [
      "<node_class.node object at 0x10eca8ba8> 1.6260687277799577 [<node_class.node object at 0x10fda5be0>, <node_class.node object at 0x10fda5c18>]\n",
      "<node_class.node object at 0x10d5240f0> 4.890694339801867 [<node_class.node object at 0x10eca8ba8>, <node_class.node object at 0x10fdaea58>]\n",
      "<node_class.node object at 0x10eca8b70> 15.39728503389294 <node_class.node object at 0x10d5240f0>\n"
     ]
    }
   ],
   "source": [
    "for i in test_subtree.nodes:\n",
    "    print(i, i.relative_height, i.children)"
   ]
  },
  {
   "cell_type": "code",
   "execution_count": 4,
   "metadata": {},
   "outputs": [
    {
     "name": "stdout",
     "output_type": "stream",
     "text": [
      "<node_class.node object at 0x10fda5c18> Trans 0.7677236495531741 15.072135611799034\n",
      "<node_class.node object at 0x10fda5be0> Trans 0.0 15.839859261352208\n",
      "<node_class.node object at 0x10fdaea58> Ind 3.954982241700204 11.884877019652004\n"
     ]
    }
   ],
   "source": [
    "for i in test_subtree.tips:\n",
    "    print(i, i.type, i.relative_height, i.absolute_time)"
   ]
  },
  {
   "cell_type": "code",
   "execution_count": 5,
   "metadata": {},
   "outputs": [
    {
     "data": {
      "text/plain": [
       "{<node_class.node at 0x10eca8b70>: 0.0,\n",
       " <node_class.node at 0x10fda5c18>: 0.8583450782267836,\n",
       " <node_class.node at 0x10fda5be0>: 1.6260687277799577,\n",
       " <node_class.node at 0x10fdaea58>: 0.9357120981016633,\n",
       " <node_class.node at 0x10eca8ba8>: 3.2646256120219097,\n",
       " <node_class.node at 0x10d5240f0>: 10.506590694091074}"
      ]
     },
     "execution_count": 5,
     "metadata": {},
     "output_type": "execute_result"
    }
   ],
   "source": [
    "test_subtree.get_branch_lengths()\n",
    "\n",
    "test_subtree.branch_lengths"
   ]
  },
  {
   "cell_type": "code",
   "execution_count": 6,
   "metadata": {},
   "outputs": [
    {
     "data": {
      "text/plain": [
       "{<node_class.node at 0x10fda5c18>: 0.7677236495531741,\n",
       " <node_class.node at 0x10fda5be0>: 0.0,\n",
       " <node_class.node at 0x10fdaea58>: 3.954982241700204,\n",
       " <node_class.node at 0x10eca8ba8>: 1.6260687277799577,\n",
       " <node_class.node at 0x10d5240f0>: 4.890694339801867,\n",
       " <node_class.node at 0x10eca8b70>: 15.39728503389294}"
      ]
     },
     "execution_count": 6,
     "metadata": {},
     "output_type": "execute_result"
    }
   ],
   "source": [
    "test_subtree.heights"
   ]
  },
  {
   "cell_type": "code",
   "execution_count": 7,
   "metadata": {},
   "outputs": [
    {
     "data": {
      "text/plain": [
       "<node_class.node at 0x10eca8b70>"
      ]
     },
     "execution_count": 7,
     "metadata": {},
     "output_type": "execute_result"
    }
   ],
   "source": [
    "test_subtree.root"
   ]
  },
  {
   "cell_type": "code",
   "execution_count": 8,
   "metadata": {},
   "outputs": [
    {
     "name": "stdout",
     "output_type": "stream",
     "text": [
      "Coal 1.6260687277799577\n",
      "Coal 4.890694339801867\n",
      "Coal 15.39728503389294\n",
      "Trans 0.7677236495531741\n",
      "Trans 0.0\n",
      "Ind 3.954982241700204\n"
     ]
    }
   ],
   "source": [
    "for nde in test_subtree.nodes:\n",
    "    print(nde.type, nde.relative_height)\n",
    "    \n",
    "for tip in test_subtree.tips:\n",
    "    print(tip.type, tip.relative_height)"
   ]
  },
  {
   "cell_type": "code",
   "execution_count": 9,
   "metadata": {},
   "outputs": [
    {
     "name": "stdout",
     "output_type": "stream",
     "text": [
      "0.7677236495531741\n",
      "0.0\n",
      "3.954982241700204\n"
     ]
    }
   ],
   "source": [
    "for tip in test_subtree.tips:\n",
    "    print(tip.relative_height)"
   ]
  },
  {
   "cell_type": "code",
   "execution_count": 20,
   "metadata": {},
   "outputs": [
    {
     "name": "stdout",
     "output_type": "stream",
     "text": [
      "1.7540357027104863\n"
     ]
    }
   ],
   "source": [
    "print(test_subtree.most_recent_tip)"
   ]
  },
  {
   "cell_type": "code",
   "execution_count": 21,
   "metadata": {},
   "outputs": [
    {
     "name": "stdout",
     "output_type": "stream",
     "text": [
      "0.9205718155363366\n"
     ]
    }
   ],
   "source": [
    "print(test_subtree.person.time_infected)"
   ]
  },
  {
   "cell_type": "code",
   "execution_count": 5,
   "metadata": {},
   "outputs": [
    {
     "name": "stdout",
     "output_type": "stream",
     "text": [
      "making parent node\n",
      "1414058\n"
     ]
    }
   ],
   "source": [
    "import node_class\n",
    "\n",
    "those_sampled = []\n",
    "for i in trans_dict.keys():\n",
    "    those_sampled.append(i)\n",
    "node_dict = {}\n",
    "\n",
    "test = node_class.node('1414059', \"Ind\", trans_dict, those_sampled, node_dict)\n",
    "\n",
    "test.get_parent(trans_dict, those_sampled, node_dict)\n",
    "\n",
    "print(test.parent.id)"
   ]
  },
  {
   "cell_type": "code",
   "execution_count": 3,
   "metadata": {},
   "outputs": [
    {
     "name": "stdout",
     "output_type": "stream",
     "text": [
      "[<node_class.node object at 0x1085c6ef0>, <node_class.node object at 0x1085c6f98>, <node_class.node object at 0x1085c6f28>]\n",
      "1494585\n",
      "1414066\n",
      "2453958\n"
     ]
    }
   ],
   "source": [
    "import node_class\n",
    "\n",
    "gen_3_out = []\n",
    "gen_4_out = []\n",
    "\n",
    "for i in nodes:\n",
    "    node_class.node(i, \"Ind\", trans_dict, those_sampled, node_dict, gen_3_out, gen_4_out)\n",
    "    \n",
    "print(gen_3_out)\n",
    "    \n",
    "for i in gen_3_out:\n",
    "    print(i.id)\n",
    "    "
   ]
  },
  {
   "cell_type": "code",
   "execution_count": 3,
   "metadata": {},
   "outputs": [
    {
     "name": "stdout",
     "output_type": "stream",
     "text": [
      "1414058 []\n",
      "1414059 [<node_class.node object at 0x1085ab4a8>]\n",
      "1414064 [<node_class.node object at 0x1085ab4a8>]\n",
      "1414065 [<node_class.node object at 0x1085ab4a8>]\n",
      "1414062 [<node_class.node object at 0x1085ab4a8>]\n",
      "1414063 [<node_class.node object at 0x1085ab4a8>]\n",
      "1494579 [<node_class.node object at 0x1085ab4a8>]\n",
      "1494577 [<node_class.node object at 0x1085ab4a8>]\n",
      "1542800 [<node_class.node object at 0x1085ab4a8>]\n",
      "1542801 [<node_class.node object at 0x1085ab4a8>]\n",
      "1494581 [<node_class.node object at 0x1085ab4a8>]\n",
      "1542805 [<node_class.node object at 0x1085ab4a8>]\n",
      "1494580 [<node_class.node object at 0x1085ab4a8>]\n",
      "1482406 [<node_class.node object at 0x1085ab4a8>]\n",
      "1598063 [<node_class.node object at 0x1085ab4a8>]\n",
      "1494582 [<node_class.node object at 0x1085abb38>, <node_class.node object at 0x1085ab4a8>]\n",
      "1494584 [<node_class.node object at 0x1085abb38>, <node_class.node object at 0x1085ab4a8>]\n",
      "1542804 [<node_class.node object at 0x1085abcf8>, <node_class.node object at 0x1085ab4a8>]\n",
      "1542802 [<node_class.node object at 0x1085ab940>, <node_class.node object at 0x1085ab4a8>]\n",
      "1494585 [<node_class.node object at 0x1085abf60>, <node_class.node object at 0x1085abb38>, <node_class.node object at 0x1085ab4a8>]\n",
      "1414066 [<node_class.node object at 0x1085abf60>, <node_class.node object at 0x1085abb38>, <node_class.node object at 0x1085ab4a8>]\n",
      "2453958 [<node_class.node object at 0x1085ab828>, <node_class.node object at 0x1085abcf8>, <node_class.node object at 0x1085ab4a8>]\n"
     ]
    }
   ],
   "source": [
    "for k,v in node_dict.items():\n",
    "    print(k, v.to_root)"
   ]
  },
  {
   "cell_type": "code",
   "execution_count": 2,
   "metadata": {},
   "outputs": [
    {
     "ename": "NameError",
     "evalue": "name 'random' is not defined",
     "output_type": "error",
     "traceback": [
      "\u001b[0;31m---------------------------------------------------------------------------\u001b[0m",
      "\u001b[0;31mNameError\u001b[0m                                 Traceback (most recent call last)",
      "\u001b[0;32m<ipython-input-2-c87126946bbe>\u001b[0m in \u001b[0;36m<module>\u001b[0;34m()\u001b[0m\n\u001b[1;32m      1\u001b[0m \u001b[0msubtree_dict\u001b[0m \u001b[0;34m=\u001b[0m \u001b[0;34m{\u001b[0m\u001b[0;34m}\u001b[0m\u001b[0;34m\u001b[0m\u001b[0;34m\u001b[0m\u001b[0m\n\u001b[1;32m      2\u001b[0m \u001b[0;34m\u001b[0m\u001b[0m\n\u001b[0;32m----> 3\u001b[0;31m \u001b[0mtest_subtree\u001b[0m \u001b[0;34m=\u001b[0m \u001b[0mtree\u001b[0m\u001b[0;34m(\u001b[0m\u001b[0mnode_dict\u001b[0m\u001b[0;34m[\u001b[0m\u001b[0;34m'1494577'\u001b[0m\u001b[0;34m]\u001b[0m\u001b[0;34m,\u001b[0m \u001b[0msubtree_dict\u001b[0m\u001b[0;34m)\u001b[0m\u001b[0;34m\u001b[0m\u001b[0;34m\u001b[0m\u001b[0m\n\u001b[0m\u001b[1;32m      4\u001b[0m \u001b[0;34m\u001b[0m\u001b[0m\n\u001b[1;32m      5\u001b[0m \u001b[0;32mfor\u001b[0m \u001b[0mi\u001b[0m \u001b[0;32min\u001b[0m \u001b[0mtest_subtree\u001b[0m\u001b[0;34m.\u001b[0m\u001b[0mtips\u001b[0m\u001b[0;34m:\u001b[0m\u001b[0;34m\u001b[0m\u001b[0;34m\u001b[0m\u001b[0m\n",
      "\u001b[0;32m~/Documents/GitHub/ABSynth/Simulation_scripts/tree_class.py\u001b[0m in \u001b[0;36m__init__\u001b[0;34m(self, person_tree, subtree_dict)\u001b[0m\n\u001b[1;32m     31\u001b[0m \u001b[0;34m\u001b[0m\u001b[0m\n\u001b[1;32m     32\u001b[0m             \u001b[0mself\u001b[0m\u001b[0;34m.\u001b[0m\u001b[0msort_out_tips\u001b[0m\u001b[0;34m(\u001b[0m\u001b[0;34m)\u001b[0m\u001b[0;34m\u001b[0m\u001b[0;34m\u001b[0m\u001b[0m\n\u001b[0;32m---> 33\u001b[0;31m             \u001b[0mself\u001b[0m\u001b[0;34m.\u001b[0m\u001b[0mcoalescent\u001b[0m\u001b[0;34m(\u001b[0m\u001b[0mself\u001b[0m\u001b[0;34m.\u001b[0m\u001b[0mtips\u001b[0m\u001b[0;34m,\u001b[0m \u001b[0;36m0.0\u001b[0m\u001b[0;34m)\u001b[0m\u001b[0;34m\u001b[0m\u001b[0;34m\u001b[0m\u001b[0m\n\u001b[0m\u001b[1;32m     34\u001b[0m             \u001b[0mself\u001b[0m\u001b[0;34m.\u001b[0m\u001b[0mdefine_root\u001b[0m\u001b[0;34m(\u001b[0m\u001b[0;34m)\u001b[0m\u001b[0;34m\u001b[0m\u001b[0;34m\u001b[0m\u001b[0m\n\u001b[1;32m     35\u001b[0m \u001b[0;34m\u001b[0m\u001b[0m\n",
      "\u001b[0;32m~/Documents/GitHub/ABSynth/Simulation_scripts/tree_class.py\u001b[0m in \u001b[0;36mcoalescent\u001b[0;34m(self, lineage_list, current_height)\u001b[0m\n\u001b[1;32m    129\u001b[0m                 \u001b[0mcurrent_height\u001b[0m \u001b[0;34m=\u001b[0m \u001b[0mnext_sample\u001b[0m\u001b[0;34m.\u001b[0m\u001b[0mrelative_height\u001b[0m\u001b[0;34m\u001b[0m\u001b[0;34m\u001b[0m\u001b[0m\n\u001b[1;32m    130\u001b[0m \u001b[0;34m\u001b[0m\u001b[0m\n\u001b[0;32m--> 131\u001b[0;31m                 \u001b[0mself\u001b[0m\u001b[0;34m.\u001b[0m\u001b[0mcoalescent\u001b[0m\u001b[0;34m(\u001b[0m\u001b[0mlineage_list\u001b[0m\u001b[0;34m,\u001b[0m \u001b[0mcurrent_height\u001b[0m\u001b[0;34m)\u001b[0m\u001b[0;34m\u001b[0m\u001b[0;34m\u001b[0m\u001b[0m\n\u001b[0m\u001b[1;32m    132\u001b[0m \u001b[0;34m\u001b[0m\u001b[0m\n\u001b[1;32m    133\u001b[0m             \u001b[0;31m#Got some stuff in active population to be coalescing\u001b[0m\u001b[0;34m\u001b[0m\u001b[0;34m\u001b[0m\u001b[0;34m\u001b[0m\u001b[0m\n",
      "\u001b[0;32m~/Documents/GitHub/ABSynth/Simulation_scripts/tree_class.py\u001b[0m in \u001b[0;36mcoalescent\u001b[0;34m(self, lineage_list, current_height)\u001b[0m\n\u001b[1;32m    158\u001b[0m \u001b[0;34m\u001b[0m\u001b[0m\n\u001b[1;32m    159\u001b[0m                     \u001b[0;31m#Who is going to coalesce?\u001b[0m\u001b[0;34m\u001b[0m\u001b[0;34m\u001b[0m\u001b[0;34m\u001b[0m\u001b[0m\n\u001b[0;32m--> 160\u001b[0;31m                     \u001b[0mlucky_pair\u001b[0m \u001b[0;34m=\u001b[0m \u001b[0mrandom\u001b[0m\u001b[0;34m.\u001b[0m\u001b[0msample\u001b[0m\u001b[0;34m(\u001b[0m\u001b[0mactive_pop\u001b[0m\u001b[0;34m,\u001b[0m \u001b[0mk\u001b[0m\u001b[0;34m=\u001b[0m\u001b[0;36m2\u001b[0m\u001b[0;34m)\u001b[0m\u001b[0;34m\u001b[0m\u001b[0;34m\u001b[0m\u001b[0m\n\u001b[0m\u001b[1;32m    161\u001b[0m \u001b[0;34m\u001b[0m\u001b[0m\n\u001b[1;32m    162\u001b[0m                     \u001b[0;31m#ie the coalescent event of the pair selected above\u001b[0m\u001b[0;34m\u001b[0m\u001b[0;34m\u001b[0m\u001b[0;34m\u001b[0m\u001b[0m\n",
      "\u001b[0;31mNameError\u001b[0m: name 'random' is not defined"
     ]
    }
   ],
   "source": []
  },
  {
   "cell_type": "code",
   "execution_count": null,
   "metadata": {
    "collapsed": true
   },
   "outputs": [],
   "source": []
  },
  {
   "cell_type": "code",
   "execution_count": 1,
   "metadata": {},
   "outputs": [
    {
     "name": "stdout",
     "output_type": "stream",
     "text": [
      "0\n",
      "1\n",
      "2\n",
      "3\n",
      "4\n",
      "5\n"
     ]
    }
   ],
   "source": [
    "thing = False\n",
    "thing2 = False\n",
    "\n",
    "for i in range(10):\n",
    "    if thing:\n",
    "        if thing2:\n",
    "            break\n",
    "    print(i)\n",
    "            \n",
    "    if i == 5:\n",
    "        thing = True\n",
    "        thing2 = True"
   ]
  },
  {
   "cell_type": "code",
   "execution_count": 6,
   "metadata": {
    "collapsed": true
   },
   "outputs": [],
   "source": [
    "test_dict = {}\n",
    "\n",
    "for i in range(10):\n",
    "    test_dict[i]= \"a\"\n",
    "    \n",
    "try:\n",
    "    for i, v in test_dict.items():\n",
    "        test_dict[i+1] = 'n'\n",
    "except RuntimeError:\n",
    "    pass"
   ]
  },
  {
   "cell_type": "code",
   "execution_count": 7,
   "metadata": {},
   "outputs": [
    {
     "data": {
      "text/plain": [
       "{0: 'a',\n",
       " 1: 'n',\n",
       " 2: 'n',\n",
       " 3: 'n',\n",
       " 4: 'n',\n",
       " 5: 'n',\n",
       " 6: 'n',\n",
       " 7: 'n',\n",
       " 8: 'n',\n",
       " 9: 'n',\n",
       " 10: 'n'}"
      ]
     },
     "execution_count": 7,
     "metadata": {},
     "output_type": "execute_result"
    }
   ],
   "source": [
    "test_dict"
   ]
  },
  {
   "cell_type": "code",
   "execution_count": 11,
   "metadata": {
    "collapsed": true
   },
   "outputs": [],
   "source": [
    "import distribution_functions"
   ]
  },
  {
   "cell_type": "code",
   "execution_count": 14,
   "metadata": {},
   "outputs": [
    {
     "data": {
      "text/plain": [
       "(array([ 0.        ,  0.07625625,  0.1673127 ,  0.25660258,  0.3402285 ,\n",
       "         0.41685344,  0.48616327,  0.54832398,  0.60373617,  0.65290919,\n",
       "         0.69639239,  0.73473629,  0.76847079,  0.79809334,  0.82406315,\n",
       "         0.84679914,  0.86668013,  0.88404642,  0.89920204,  0.91241755,\n",
       "         0.92393282,  0.93395997,  0.94268607,  0.95027582,  0.95687391,\n",
       "         0.9626073 ,  0.96758723,  0.97191103,  0.97566383,  0.97891993,\n",
       "         0.98174421,  0.98419322,  0.98631626,  0.98815625,  0.98975054,\n",
       "         0.99113164,  0.9923278 ,  0.99336358,  0.99426031,  0.99503652]),\n",
       " array([ 0.        ,  0.04718939,  0.12417941,  0.20950683,  0.29507027,\n",
       "         0.37684467,  0.45280994,  0.52206555,  0.58436636,  0.63985375,\n",
       "         0.68889111,  0.7319606 ,  0.76959746,  0.80234859,  0.8307468 ,\n",
       "         0.85529555,  0.87646056,  0.89466607,  0.91029397,  0.92368489,\n",
       "         0.93514043,  0.94492602,  0.95327405,  0.96038717,  0.96644141,\n",
       "         0.97158924,  0.9759623 ,  0.97967405,  0.98282199,  0.98548981,\n",
       "         0.9877492 ,  0.98966147,  0.99127898,  0.9926464 ,  0.9938018 ,\n",
       "         0.99477756,  0.99560124,  0.99629622,  0.99688238,  0.99737656]),\n",
       " array([  0.00000000e+00,   4.24623907e-06,   1.94101644e-04,\n",
       "          1.57892588e-03,   6.34700008e-03,   1.73667545e-02,\n",
       "          3.73086077e-02,   6.79135420e-02,   1.09640123e-01,\n",
       "          1.61682362e-01,   2.22238188e-01,   2.88889705e-01,\n",
       "          3.58985398e-01,   4.29957136e-01,   4.99543322e-01,\n",
       "          5.65916770e-01,   6.27731614e-01,   6.84110112e-01,\n",
       "          7.34590612e-01,   7.79055044e-01,   8.17649957e-01,\n",
       "          8.50710698e-01,   8.78694477e-01,   9.02125058e-01,\n",
       "          9.21549694e-01,   9.37507555e-01,   9.50508185e-01,\n",
       "          9.61018154e-01,   9.69454108e-01,   9.76180534e-01,\n",
       "          9.81510826e-01,   9.85710474e-01,   9.89001502e-01,\n",
       "          9.91567485e-01,   9.93558675e-01,   9.95096933e-01,\n",
       "          9.96280289e-01,   9.97187006e-01,   9.97879144e-01,\n",
       "          9.98405602e-01]))"
      ]
     },
     "execution_count": 14,
     "metadata": {},
     "output_type": "execute_result"
    }
   ],
   "source": [
    "import scipy.stats as sp\n",
    "\n",
    "distribution_functions.define_distributions()"
   ]
  },
  {
   "cell_type": "code",
   "execution_count": 16,
   "metadata": {},
   "outputs": [],
   "source": [
    "a,b,c,d = ['a', 'b', 'c', 'd']"
   ]
  },
  {
   "cell_type": "code",
   "execution_count": 17,
   "metadata": {},
   "outputs": [
    {
     "data": {
      "text/plain": [
       "'a'"
      ]
     },
     "execution_count": 17,
     "metadata": {},
     "output_type": "execute_result"
    }
   ],
   "source": [
    "a"
   ]
  },
  {
   "cell_type": "code",
   "execution_count": 18,
   "metadata": {
    "collapsed": true
   },
   "outputs": [],
   "source": [
    "class test():\n",
    "    def __init__(self, test_id, u_id=None):\n",
    "        \n",
    "        self.test_id = test_id\n",
    "        \n",
    "        if u_id:\n",
    "            self.u_id = u_id\n",
    "        \n",
    "        \n",
    "        "
   ]
  },
  {
   "cell_type": "code",
   "execution_count": 20,
   "metadata": {},
   "outputs": [],
   "source": [
    "testy1 = test(3)\n",
    "testy2 = test(5,6)"
   ]
  },
  {
   "cell_type": "code",
   "execution_count": 24,
   "metadata": {},
   "outputs": [
    {
     "data": {
      "text/plain": [
       "6"
      ]
     },
     "execution_count": 24,
     "metadata": {},
     "output_type": "execute_result"
    }
   ],
   "source": [
    "testy2.u_id"
   ]
  },
  {
   "cell_type": "code",
   "execution_count": null,
   "metadata": {
    "collapsed": true
   },
   "outputs": [],
   "source": []
  }
 ],
 "metadata": {
  "kernelspec": {
   "display_name": "Python 3",
   "language": "python",
   "name": "python3"
  },
  "language_info": {
   "codemirror_mode": {
    "name": "ipython",
    "version": 3
   },
   "file_extension": ".py",
   "mimetype": "text/x-python",
   "name": "python",
   "nbconvert_exporter": "python",
   "pygments_lexer": "ipython3",
   "version": "3.6.8"
  }
 },
 "nbformat": 4,
 "nbformat_minor": 2
}
