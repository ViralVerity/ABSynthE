{
 "cells": [
  {
   "cell_type": "code",
   "execution_count": 1,
   "metadata": {},
   "outputs": [
    {
     "name": "stdout",
     "output_type": "stream",
     "text": [
      "1414058 ['NA', 0.0, 0.0]\n",
      "1414059 ['1414058', 0.8687252738232212, 5.292585078673184]\n",
      "1414064 ['1414058', 0.9482390148468377, 1.8480865303376328]\n",
      "1414065 ['1414058', 0.543274824749341, 13.09481605572958]\n",
      "1414062 ['1414058', 0.26017417123272824, 16.9542045533633]\n",
      "1414063 ['1414058', 0.3345676347470934, 12.832022004524408]\n",
      "1494579 ['1414058', 0.5644416233250432, 6.177349413337832]\n",
      "1494577 ['1414058', 0.5089285932407381, 11.745854741739924]\n",
      "1542800 ['1414058', 0.0445583198961268, 6.059189670449565]\n",
      "1542801 ['1414058', 0.11954679948957814, 18.156203804057295]\n",
      "1494581 ['1414058', 0.19434456113194076, 27.351194073719373]\n",
      "1542805 ['1414058', 0.5849385460206542, 14.258078745124733]\n",
      "1494580 ['1414058', 0.5126797879445165, 3.1724622080212046]\n",
      "1482406 ['1414058', 0.5176277656670394, 1.8088544379553033]\n",
      "1598063 ['1414058', 0.3918779784055093, 13.46440086949695]\n",
      "1494582 ['1494577', 14.368830097718236, 19.72885790255657]\n",
      "1494584 ['1494577', 15.840240641726828, 20.738841448817393]\n",
      "1542804 ['1542805', 16.708513256867267, 19.262414743430046]\n",
      "1542802 ['1414062', 20.632774356712524, 57.62441027163804]\n",
      "1494585 ['1494582', 21.923108854339915, 24.058631228796603]\n",
      "1414066 ['1494582', 25.802175953266133, 29.148007304485507]\n",
      "2453958 ['1542804', 25.322531092391934, 31.78551154338043]\n"
     ]
    }
   ],
   "source": [
    "#import Tree_simulator as ctx\n",
    "from collections import defaultdict\n",
    "import numpy as np\n",
    "from node_class import *\n",
    "from tree_class import *\n",
    "\n",
    "\n",
    "\n",
    "dropbox_path = \"/Users/s1743989/VirusEvolution Dropbox/Verity Hill/Agent_based_model/Looping models/Results/testing_tidying/\"\n",
    "\n",
    "current_run = \"4/log_files/\"\n",
    "\n",
    "input_file = dropbox_path + current_run + \"information_file_for_0.csv\"\n",
    "#input_file = dropbox_path + \"test_transtree.csv\"\n",
    "\n",
    "\n",
    "\n",
    "trans_dict = defaultdict(list)\n",
    "nodes = []\n",
    "\n",
    "\n",
    "with open(input_file) as f:\n",
    "        next(f)\n",
    "        for l in f:\n",
    "            toks = l.strip(\"\\n\").split(\",\")\n",
    "            focal = toks[0]\n",
    "            parent = toks[1]\n",
    "            #time_inf_file = toks[2]\n",
    "            #time_sampled_file = toks[3]\n",
    "            time_inf_file = toks[4]\n",
    "            time_sampled_file = toks[6]\n",
    "            \n",
    "            time_inf = float(time_inf_file) + np.random.uniform(0,1)\n",
    "            time_sampled = float(time_sampled_file) + np.random.uniform(0,1)\n",
    "\n",
    "            trans_dict[focal] = [parent, time_inf, time_sampled]\n",
    "\n",
    "            nodes.append(focal)\n",
    "            \n",
    "\n",
    "trans_dict['1414058'] = ['NA',0.0,0.0]\n",
    "            \n",
    "for k,v in trans_dict.items():            \n",
    "    print(k,v)\n",
    "    \n",
    "those_sampled = []\n",
    "for i in trans_dict.keys():\n",
    "    those_sampled.append(i)\n",
    "node_dict = {}\n",
    "\n",
    "for i in nodes:\n",
    "    node(i, \"Ind\", trans_dict, those_sampled, node_dict, 0, 0)\n",
    "\n",
    "\n",
    "# tree = ctx.simulate_tree(trans_dict, nodes, 1, 31)\n",
    "# print(tree)\n",
    "\n",
    "# for nde in tree.nodes:\n",
    "#     if not nde.remove_func_called:\n",
    "#         print(nde)\n",
    "        \n",
    "        \n",
    "# print(len(tree.nodes))\n",
    "        \n",
    "#for nde in tree.nodes:\n",
    "\n",
    "#print(tree.final_nodes)\n",
    "\n",
    "#print(tree.nodes)\n",
    "\n",
    "#print(tree.node_heights)\n",
    "\n",
    "#for nde in tree.nodes:\n",
    " #   print(nde.removed)\n",
    "    \n",
    "    \n",
    "#for nde in tree.final_nodes:\n",
    " #   print(nde.node_parent)"
   ]
  },
  {
   "cell_type": "code",
   "execution_count": 2,
   "metadata": {
    "scrolled": true
   },
   "outputs": [
    {
     "ename": "IndexError",
     "evalue": "list index out of range",
     "output_type": "error",
     "traceback": [
      "\u001b[0;31m---------------------------------------------------------------------------\u001b[0m",
      "\u001b[0;31mIndexError\u001b[0m                                Traceback (most recent call last)",
      "\u001b[0;32m<ipython-input-2-c8c2f0c62ab0>\u001b[0m in \u001b[0;36m<module>\u001b[0;34m()\u001b[0m\n\u001b[1;32m      6\u001b[0m \u001b[0mnode_dict\u001b[0m \u001b[0;34m=\u001b[0m \u001b[0;34m{\u001b[0m\u001b[0;34m}\u001b[0m\u001b[0;34m\u001b[0m\u001b[0;34m\u001b[0m\u001b[0m\n\u001b[1;32m      7\u001b[0m \u001b[0;34m\u001b[0m\u001b[0m\n\u001b[0;32m----> 8\u001b[0;31m \u001b[0mtest\u001b[0m \u001b[0;34m=\u001b[0m \u001b[0mnode_class\u001b[0m\u001b[0;34m.\u001b[0m\u001b[0mnode\u001b[0m\u001b[0;34m(\u001b[0m\u001b[0;34m'1414059'\u001b[0m\u001b[0;34m,\u001b[0m \u001b[0;34m\"Ind\"\u001b[0m\u001b[0;34m,\u001b[0m \u001b[0mtrans_dict\u001b[0m\u001b[0;34m,\u001b[0m \u001b[0mthose_sampled\u001b[0m\u001b[0;34m,\u001b[0m \u001b[0mnode_dict\u001b[0m\u001b[0;34m)\u001b[0m\u001b[0;34m\u001b[0m\u001b[0;34m\u001b[0m\u001b[0m\n\u001b[0m\u001b[1;32m      9\u001b[0m \u001b[0;34m\u001b[0m\u001b[0m\n\u001b[1;32m     10\u001b[0m \u001b[0mtest\u001b[0m\u001b[0;34m.\u001b[0m\u001b[0mget_parent\u001b[0m\u001b[0;34m(\u001b[0m\u001b[0mtrans_dict\u001b[0m\u001b[0;34m,\u001b[0m \u001b[0mthose_sampled\u001b[0m\u001b[0;34m,\u001b[0m \u001b[0mnode_dict\u001b[0m\u001b[0;34m)\u001b[0m\u001b[0;34m\u001b[0m\u001b[0;34m\u001b[0m\u001b[0m\n",
      "\u001b[0;32m~/Documents/GitHub/ABSynth/Simulation_scripts/node_class.py\u001b[0m in \u001b[0;36m__init__\u001b[0;34m(self, unique_id, node_type, trans_dict, those_sampled, node_dict, height, lucky_pair, subtree)\u001b[0m\n\u001b[1;32m     38\u001b[0m         \u001b[0mself\u001b[0m\u001b[0;34m.\u001b[0m\u001b[0mfor_loop_called\u001b[0m \u001b[0;34m=\u001b[0m \u001b[0;32mFalse\u001b[0m\u001b[0;34m\u001b[0m\u001b[0;34m\u001b[0m\u001b[0m\n\u001b[1;32m     39\u001b[0m \u001b[0;34m\u001b[0m\u001b[0m\n\u001b[0;32m---> 40\u001b[0;31m         \u001b[0mself\u001b[0m\u001b[0;34m.\u001b[0m\u001b[0mget_root_list\u001b[0m\u001b[0;34m(\u001b[0m\u001b[0mtrans_dict\u001b[0m\u001b[0;34m,\u001b[0m \u001b[0mthose_sampled\u001b[0m\u001b[0;34m,\u001b[0m \u001b[0mnode_dict\u001b[0m\u001b[0;34m)\u001b[0m\u001b[0;34m\u001b[0m\u001b[0;34m\u001b[0m\u001b[0m\n\u001b[0m\u001b[1;32m     41\u001b[0m \u001b[0;34m\u001b[0m\u001b[0m\n\u001b[1;32m     42\u001b[0m     \u001b[0;32mdef\u001b[0m \u001b[0mget_useful_info\u001b[0m\u001b[0;34m(\u001b[0m\u001b[0mself\u001b[0m\u001b[0;34m,\u001b[0m \u001b[0mtrans_dict\u001b[0m\u001b[0;34m,\u001b[0m \u001b[0mthose_sampled\u001b[0m\u001b[0;34m,\u001b[0m \u001b[0mnode_dict\u001b[0m\u001b[0;34m)\u001b[0m\u001b[0;34m:\u001b[0m\u001b[0;34m\u001b[0m\u001b[0;34m\u001b[0m\u001b[0m\n",
      "\u001b[0;32m~/Documents/GitHub/ABSynth/Simulation_scripts/node_class.py\u001b[0m in \u001b[0;36mget_root_list\u001b[0;34m(self, trans_dict, those_sampled, node_dict)\u001b[0m\n\u001b[1;32m     92\u001b[0m \u001b[0;34m\u001b[0m\u001b[0m\n\u001b[1;32m     93\u001b[0m             \u001b[0;31m#If the person is the root\u001b[0m\u001b[0;34m\u001b[0m\u001b[0;34m\u001b[0m\u001b[0;34m\u001b[0m\u001b[0m\n\u001b[0;32m---> 94\u001b[0;31m             \u001b[0;32mif\u001b[0m \u001b[0mtrans_dict\u001b[0m\u001b[0;34m[\u001b[0m\u001b[0mself\u001b[0m\u001b[0;34m]\u001b[0m\u001b[0;34m[\u001b[0m\u001b[0;36m0\u001b[0m\u001b[0;34m]\u001b[0m \u001b[0;34m==\u001b[0m \u001b[0;34m\"NA\"\u001b[0m\u001b[0;34m:\u001b[0m\u001b[0;34m\u001b[0m\u001b[0;34m\u001b[0m\u001b[0m\n\u001b[0m\u001b[1;32m     95\u001b[0m                 \u001b[0mpath\u001b[0m \u001b[0;34m=\u001b[0m \u001b[0;34m[\u001b[0m\u001b[0;34m]\u001b[0m\u001b[0;34m\u001b[0m\u001b[0;34m\u001b[0m\u001b[0m\n\u001b[1;32m     96\u001b[0m                 \u001b[0mself\u001b[0m\u001b[0;34m.\u001b[0m\u001b[0mtransm_root\u001b[0m \u001b[0;34m=\u001b[0m \u001b[0;32mTrue\u001b[0m\u001b[0;34m\u001b[0m\u001b[0;34m\u001b[0m\u001b[0m\n",
      "\u001b[0;31mIndexError\u001b[0m: list index out of range"
     ]
    }
   ],
   "source": [
    "import node_class\n",
    "\n",
    "those_sampled = []\n",
    "for i in trans_dict.keys():\n",
    "    those_sampled.append(i)\n",
    "node_dict = {}\n",
    "\n",
    "test = node_class.node('1414059', \"Ind\", trans_dict, those_sampled, node_dict)\n",
    "\n",
    "test.get_parent(trans_dict, those_sampled, node_dict)\n",
    "\n",
    "print(test.parent.id)"
   ]
  },
  {
   "cell_type": "code",
   "execution_count": 3,
   "metadata": {},
   "outputs": [
    {
     "name": "stdout",
     "output_type": "stream",
     "text": [
      "[<node_class.node object at 0x1085c6ef0>, <node_class.node object at 0x1085c6f98>, <node_class.node object at 0x1085c6f28>]\n",
      "1494585\n",
      "1414066\n",
      "2453958\n"
     ]
    }
   ],
   "source": [
    "import node_class\n",
    "\n",
    "gen_3_out = []\n",
    "gen_4_out = []\n",
    "\n",
    "for i in nodes:\n",
    "    node_class.node(i, \"Ind\", trans_dict, those_sampled, node_dict, gen_3_out, gen_4_out)\n",
    "    \n",
    "print(gen_3_out)\n",
    "    \n",
    "for i in gen_3_out:\n",
    "    print(i.id)\n",
    "    "
   ]
  },
  {
   "cell_type": "code",
   "execution_count": 3,
   "metadata": {},
   "outputs": [
    {
     "name": "stdout",
     "output_type": "stream",
     "text": [
      "1414058 []\n",
      "1414059 [<node_class.node object at 0x1085ab4a8>]\n",
      "1414064 [<node_class.node object at 0x1085ab4a8>]\n",
      "1414065 [<node_class.node object at 0x1085ab4a8>]\n",
      "1414062 [<node_class.node object at 0x1085ab4a8>]\n",
      "1414063 [<node_class.node object at 0x1085ab4a8>]\n",
      "1494579 [<node_class.node object at 0x1085ab4a8>]\n",
      "1494577 [<node_class.node object at 0x1085ab4a8>]\n",
      "1542800 [<node_class.node object at 0x1085ab4a8>]\n",
      "1542801 [<node_class.node object at 0x1085ab4a8>]\n",
      "1494581 [<node_class.node object at 0x1085ab4a8>]\n",
      "1542805 [<node_class.node object at 0x1085ab4a8>]\n",
      "1494580 [<node_class.node object at 0x1085ab4a8>]\n",
      "1482406 [<node_class.node object at 0x1085ab4a8>]\n",
      "1598063 [<node_class.node object at 0x1085ab4a8>]\n",
      "1494582 [<node_class.node object at 0x1085abb38>, <node_class.node object at 0x1085ab4a8>]\n",
      "1494584 [<node_class.node object at 0x1085abb38>, <node_class.node object at 0x1085ab4a8>]\n",
      "1542804 [<node_class.node object at 0x1085abcf8>, <node_class.node object at 0x1085ab4a8>]\n",
      "1542802 [<node_class.node object at 0x1085ab940>, <node_class.node object at 0x1085ab4a8>]\n",
      "1494585 [<node_class.node object at 0x1085abf60>, <node_class.node object at 0x1085abb38>, <node_class.node object at 0x1085ab4a8>]\n",
      "1414066 [<node_class.node object at 0x1085abf60>, <node_class.node object at 0x1085abb38>, <node_class.node object at 0x1085ab4a8>]\n",
      "2453958 [<node_class.node object at 0x1085ab828>, <node_class.node object at 0x1085abcf8>, <node_class.node object at 0x1085ab4a8>]\n"
     ]
    }
   ],
   "source": [
    "for k,v in node_dict.items():\n",
    "    print(k, v.to_root)"
   ]
  },
  {
   "cell_type": "code",
   "execution_count": 8,
   "metadata": {},
   "outputs": [
    {
     "name": "stdout",
     "output_type": "stream",
     "text": [
      "Trans 1.4959786698016568 15.107956893586055\n",
      "Trans 0.0 16.60393556338771\n",
      "Ind 4.858080821647787 11.745854741739924\n"
     ]
    }
   ],
   "source": [
    "subtree_dict = {}\n",
    "\n",
    "test_subtree = tree(node_dict['1494577'], subtree_dict)\n",
    "\n",
    "for i in test_subtree.tips:\n",
    "    print(i.type, i.relative_height, i.absolute_time)\n",
    "    "
   ]
  },
  {
   "cell_type": "code",
   "execution_count": 1,
   "metadata": {},
   "outputs": [
    {
     "name": "stdout",
     "output_type": "stream",
     "text": [
      "0\n",
      "1\n",
      "2\n",
      "3\n",
      "4\n",
      "5\n"
     ]
    }
   ],
   "source": [
    "thing = False\n",
    "thing2 = False\n",
    "\n",
    "for i in range(10):\n",
    "    if thing:\n",
    "        if thing2:\n",
    "            break\n",
    "    print(i)\n",
    "            \n",
    "    if i == 5:\n",
    "        thing = True\n",
    "        thing2 = True"
   ]
  },
  {
   "cell_type": "code",
   "execution_count": 6,
   "metadata": {
    "collapsed": true
   },
   "outputs": [],
   "source": [
    "test_dict = {}\n",
    "\n",
    "for i in range(10):\n",
    "    test_dict[i]= \"a\"\n",
    "    \n",
    "try:\n",
    "    for i, v in test_dict.items():\n",
    "        test_dict[i+1] = 'n'\n",
    "except RuntimeError:\n",
    "    pass"
   ]
  },
  {
   "cell_type": "code",
   "execution_count": 7,
   "metadata": {},
   "outputs": [
    {
     "data": {
      "text/plain": [
       "{0: 'a',\n",
       " 1: 'n',\n",
       " 2: 'n',\n",
       " 3: 'n',\n",
       " 4: 'n',\n",
       " 5: 'n',\n",
       " 6: 'n',\n",
       " 7: 'n',\n",
       " 8: 'n',\n",
       " 9: 'n',\n",
       " 10: 'n'}"
      ]
     },
     "execution_count": 7,
     "metadata": {},
     "output_type": "execute_result"
    }
   ],
   "source": [
    "test_dict"
   ]
  },
  {
   "cell_type": "code",
   "execution_count": 11,
   "metadata": {
    "collapsed": true
   },
   "outputs": [],
   "source": [
    "import distribution_functions"
   ]
  },
  {
   "cell_type": "code",
   "execution_count": 14,
   "metadata": {},
   "outputs": [
    {
     "data": {
      "text/plain": [
       "(array([ 0.        ,  0.07625625,  0.1673127 ,  0.25660258,  0.3402285 ,\n",
       "         0.41685344,  0.48616327,  0.54832398,  0.60373617,  0.65290919,\n",
       "         0.69639239,  0.73473629,  0.76847079,  0.79809334,  0.82406315,\n",
       "         0.84679914,  0.86668013,  0.88404642,  0.89920204,  0.91241755,\n",
       "         0.92393282,  0.93395997,  0.94268607,  0.95027582,  0.95687391,\n",
       "         0.9626073 ,  0.96758723,  0.97191103,  0.97566383,  0.97891993,\n",
       "         0.98174421,  0.98419322,  0.98631626,  0.98815625,  0.98975054,\n",
       "         0.99113164,  0.9923278 ,  0.99336358,  0.99426031,  0.99503652]),\n",
       " array([ 0.        ,  0.04718939,  0.12417941,  0.20950683,  0.29507027,\n",
       "         0.37684467,  0.45280994,  0.52206555,  0.58436636,  0.63985375,\n",
       "         0.68889111,  0.7319606 ,  0.76959746,  0.80234859,  0.8307468 ,\n",
       "         0.85529555,  0.87646056,  0.89466607,  0.91029397,  0.92368489,\n",
       "         0.93514043,  0.94492602,  0.95327405,  0.96038717,  0.96644141,\n",
       "         0.97158924,  0.9759623 ,  0.97967405,  0.98282199,  0.98548981,\n",
       "         0.9877492 ,  0.98966147,  0.99127898,  0.9926464 ,  0.9938018 ,\n",
       "         0.99477756,  0.99560124,  0.99629622,  0.99688238,  0.99737656]),\n",
       " array([  0.00000000e+00,   4.24623907e-06,   1.94101644e-04,\n",
       "          1.57892588e-03,   6.34700008e-03,   1.73667545e-02,\n",
       "          3.73086077e-02,   6.79135420e-02,   1.09640123e-01,\n",
       "          1.61682362e-01,   2.22238188e-01,   2.88889705e-01,\n",
       "          3.58985398e-01,   4.29957136e-01,   4.99543322e-01,\n",
       "          5.65916770e-01,   6.27731614e-01,   6.84110112e-01,\n",
       "          7.34590612e-01,   7.79055044e-01,   8.17649957e-01,\n",
       "          8.50710698e-01,   8.78694477e-01,   9.02125058e-01,\n",
       "          9.21549694e-01,   9.37507555e-01,   9.50508185e-01,\n",
       "          9.61018154e-01,   9.69454108e-01,   9.76180534e-01,\n",
       "          9.81510826e-01,   9.85710474e-01,   9.89001502e-01,\n",
       "          9.91567485e-01,   9.93558675e-01,   9.95096933e-01,\n",
       "          9.96280289e-01,   9.97187006e-01,   9.97879144e-01,\n",
       "          9.98405602e-01]))"
      ]
     },
     "execution_count": 14,
     "metadata": {},
     "output_type": "execute_result"
    }
   ],
   "source": [
    "import scipy.stats as sp\n",
    "\n",
    "distribution_functions.define_distributions()"
   ]
  },
  {
   "cell_type": "code",
   "execution_count": 16,
   "metadata": {},
   "outputs": [],
   "source": [
    "a,b,c,d = ['a', 'b', 'c', 'd']"
   ]
  },
  {
   "cell_type": "code",
   "execution_count": 17,
   "metadata": {},
   "outputs": [
    {
     "data": {
      "text/plain": [
       "'a'"
      ]
     },
     "execution_count": 17,
     "metadata": {},
     "output_type": "execute_result"
    }
   ],
   "source": [
    "a"
   ]
  },
  {
   "cell_type": "code",
   "execution_count": 18,
   "metadata": {
    "collapsed": true
   },
   "outputs": [],
   "source": [
    "class test():\n",
    "    def __init__(self, test_id, u_id=None):\n",
    "        \n",
    "        self.test_id = test_id\n",
    "        \n",
    "        if u_id:\n",
    "            self.u_id = u_id\n",
    "        \n",
    "        \n",
    "        "
   ]
  },
  {
   "cell_type": "code",
   "execution_count": 20,
   "metadata": {},
   "outputs": [],
   "source": [
    "testy1 = test(3)\n",
    "testy2 = test(5,6)"
   ]
  },
  {
   "cell_type": "code",
   "execution_count": 24,
   "metadata": {},
   "outputs": [
    {
     "data": {
      "text/plain": [
       "6"
      ]
     },
     "execution_count": 24,
     "metadata": {},
     "output_type": "execute_result"
    }
   ],
   "source": [
    "testy2.u_id"
   ]
  },
  {
   "cell_type": "code",
   "execution_count": null,
   "metadata": {
    "collapsed": true
   },
   "outputs": [],
   "source": []
  }
 ],
 "metadata": {
  "kernelspec": {
   "display_name": "Python 3",
   "language": "python",
   "name": "python3"
  },
  "language_info": {
   "codemirror_mode": {
    "name": "ipython",
    "version": 3
   },
   "file_extension": ".py",
   "mimetype": "text/x-python",
   "name": "python",
   "nbconvert_exporter": "python",
   "pygments_lexer": "ipython3",
   "version": "3.6.8"
  }
 },
 "nbformat": 4,
 "nbformat_minor": 2
}
