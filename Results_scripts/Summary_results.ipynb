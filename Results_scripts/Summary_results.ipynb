{
 "cells": [
  {
   "cell_type": "markdown",
   "metadata": {},
   "source": [
    "This notebook generates plots of summary data from many runs of the simulator.\n",
    "\n",
    "eg average R0, epidemic size, cluster sizes, and geographical spread in terms of districts.\n",
    "\n",
    "NB Could be optimised quite a lot - if the input files are large there's a lot of unnecessary loops going on if you want to run everything"
   ]
  },
  {
   "cell_type": "code",
   "execution_count": 14,
   "metadata": {
    "collapsed": true
   },
   "outputs": [],
   "source": [
    "from collections import Counter\n",
    "import matplotlib.pyplot as plt\n",
    "import matplotlib\n",
    "import numpy as np\n",
    "import os\n",
    "\n",
    "plt.rcParams.update({'font.size':20})\n",
    "\n",
    "dropbox_path = \"/Users/s1743989/VirusEvolution Dropbox/Verity Hill/Agent_based_model/Looping models/Results/\"\n",
    "results_path = \"Fitted_runs/no_caps/2/\""
   ]
  },
  {
   "cell_type": "code",
   "execution_count": 25,
   "metadata": {
    "collapsed": true
   },
   "outputs": [],
   "source": [
    "#Prints useful things\n",
    "\n",
    "def summary_sizes(infile):\n",
    "    \n",
    "    epi_size = []\n",
    "\n",
    "    with open(infile) as f:\n",
    "        next(f)\n",
    "        for l in f:\n",
    "            toks = l.strip(\"\\n\").split(\",\")\n",
    "            epi_size.append(int(toks[1]))\n",
    "\n",
    "            \n",
    "    size_freq = Counter(epi_size)\n",
    "    \n",
    "    sum_of_numbers = sum(number*count for number, count in size_freq.items())\n",
    "    count = sum(count for n, count in size_freq.items())\n",
    "    mean = sum_of_numbers / count\n",
    "    \n",
    "    print(\"Average epidemic size = \" + str(mean))\n",
    "    \n",
    "    print(\"Range = \" + str(min(epi_size)) + \" to \" + str(max(epi_size)))\n",
    "    \n",
    "    print(\"Percentage that didn't spread at all = \" + str((size_freq[1]/count)*100) + \" (\" + str(size_freq[1]) + \")\" )\n",
    "    \n",
    "\n"
   ]
  },
  {
   "cell_type": "code",
   "execution_count": 38,
   "metadata": {
    "collapsed": true
   },
   "outputs": [],
   "source": [
    "#Plots the frequency of different epidemic sizes\n",
    "\n",
    "def plt_size(infile):\n",
    "\n",
    "    size_list = []\n",
    "    size_freqs = Counter()\n",
    "    plt.rcParams.update({'font.size': 25})\n",
    "\n",
    "\n",
    "    with open(infile) as f:\n",
    "        next(f)\n",
    "        for l in f:\n",
    "            size = l.strip(\"\\n\").split(\",\")[1]\n",
    "            size_list.append(size)\n",
    "\n",
    "    for i in size_list:\n",
    "        size_freqs[int(i)] += 1\n",
    "\n",
    "    x2 = []\n",
    "    y2 = []\n",
    "\n",
    "    for key, value in sorted(size_freqs.items()):\n",
    "        x2.append(key)\n",
    "        y2.append(value)\n",
    "\n",
    "    #print(x2)\n",
    "    #print(x,y)\n",
    "\n",
    "    #plt.bar(x3,y3)\n",
    "\n",
    "\n",
    "    n, bins, patches = plt.hist(x = x2, bins = 'auto',\n",
    "                               color='#0504aa',\n",
    "                                alpha=0.7, rwidth=0.85)\n",
    "\n",
    "    #     plt.show()\n",
    "\n",
    "    plt.xticks(rotation=45)\n",
    "    plt.title(\"Epidemic sizes\")\n",
    "    plt.xlabel(\"Number of cases in epidemic\")\n",
    "    plt.ylabel(\"Frequency\")\n",
    "\n",
    "    \n",
    "    #plt.savefig(path+results+\"from_server/sizes.pdf\", bbox_inches=\"tight\")\n",
    "\n",
    "    plt.show()"
   ]
  },
  {
   "cell_type": "code",
   "execution_count": 37,
   "metadata": {},
   "outputs": [],
   "source": [
    "#Plots how long epidemics lasted for\n",
    "\n",
    "def plt_persistence(input_file):\n",
    "    \n",
    "    len_list = []\n",
    "    len_freqs = {}\n",
    "    \n",
    "    with open(input_file) as f:\n",
    "        next(f)\n",
    "        for l in f:\n",
    "            length = l.strip(\"\\n\").split(\",\")[1]\n",
    "            len_list.append(int(length))\n",
    "            \n",
    "    #print(len_list)\n",
    "    \n",
    "    for i in range(max(len_list) + 1):\n",
    "        len_freqs[i] = 0\n",
    "\n",
    "    for i in len_list:\n",
    "        len_freqs[i] += 1\n",
    "\n",
    "    \n",
    "    x = []\n",
    "    y = []\n",
    "\n",
    "    for key, value in len_freqs.items():\n",
    "        x.append(key)\n",
    "        y.append(value)\n",
    "        \n",
    "        \n",
    "    plt.bar(x,y)\n",
    "\n",
    "\n",
    "#     #n, bins, patches = plt.hist(x = x, bins = 'auto',\n",
    "#                                color='#0504aa',\n",
    "#                                 alpha=0.7, rwidth=0.85)\n",
    "    \n",
    "\n",
    "    plt.title(\"Epidemic persistence\")\n",
    "    plt.xlabel(\"Length of Epidemic (days)\")\n",
    "    plt.ylabel(\"Frequency\")\n",
    "    plt.show()"
   ]
  },
  {
   "cell_type": "code",
   "execution_count": 18,
   "metadata": {
    "collapsed": true
   },
   "outputs": [],
   "source": [
    "def plt_R0(infile):\n",
    "    \n",
    "    R0 = []\n",
    "\n",
    "    with open(infile) as f:\n",
    "        next(f)\n",
    "        for l in f:\n",
    "            toks = l.strip(\"\\n\").split(\",\")\n",
    "    #         print(type(toks[0]))\n",
    "            R0.append(round(float(toks[1]), 2))\n",
    "\n",
    "    print(\"Largest R0 = \" + str(max(R0)))\n",
    "\n",
    "    R0_freq = Counter(R0)\n",
    "\n",
    "    x = list(R0_freq.keys())\n",
    "\n",
    "    y = list(R0_freq.values())\n",
    "\n",
    "    n, bins, patches = plt.hist(x = x, bins = 'auto',\n",
    "                               color='#0504aa',\n",
    "                                alpha=0.7, rwidth=0.85)\n",
    "    \n",
    "    plt.title(\"Average R0\")\n",
    "    plt.xlabel(\"R0\")\n",
    "    plt.ylabel(\"Frequency\")\n",
    "    #plt.bar(x, y, width = 0.01)\n",
    "    #May need to go back to bar\n",
    "    \n",
    "    #plt.savefig(\"Results/More_test_runs/1/R0.pdf\", bbox_inches=\"tight\")\n",
    "    \n",
    "    plt.show()  "
   ]
  },
  {
   "cell_type": "code",
   "execution_count": 19,
   "metadata": {
    "collapsed": true
   },
   "outputs": [],
   "source": [
    "#Plots the frequency of different numbers of districts involved\n",
    "\n",
    "def plt_district_number(infile):\n",
    "    \n",
    "    district_number = []\n",
    "    epi_size = []\n",
    "\n",
    "    with open(infile) as f:\n",
    "        next(f)\n",
    "        for l in f:\n",
    "            toks = l.strip(\"\\n\").split(\",\")\n",
    "            #epi_size.append(int(toks[0]))\n",
    "            district_number.append(int(toks[2]))\n",
    "\n",
    "\n",
    "    #size_freq = Counter(epi_size)\n",
    "    dist_freq = Counter(district_number)\n",
    "    \n",
    "    print(\"range in number of districts = \" \n",
    "          + str(min(district_number)) + \" to \" + str(max(district_number)))\n",
    "    \n",
    "    x = list(dist_freq.keys())\n",
    "    y = list(dist_freq.values())\n",
    "\n",
    "\n",
    "    plt.title(\"Number of districts involved\")\n",
    "    plt.xlabel(\"Number of districts\")\n",
    "    plt.ylabel(\"Frequency\")\n",
    "    plt.bar(x, y)\n",
    "    \n",
    "\n",
    "    #plt.savefig(\"Results/More_test_runs/1/district_number.pdf\", bbox_inches=\"tight\")\n",
    "    \n",
    "    plt.show()   "
   ]
  },
  {
   "cell_type": "code",
   "execution_count": 27,
   "metadata": {
    "collapsed": true
   },
   "outputs": [],
   "source": [
    "#Plots how often each district appears in an epidemic\n",
    "#As its input, takes the directory where log files are stored. Can choose to only use large epidemics.\n",
    "\n",
    "def plt_spread(direc_big):\n",
    "\n",
    "    district_list = [\"bo\", 'bombali', 'bonthe', 'kailahun', 'kambia', 'kenema', 'koinadugu', 'kono', 'moyamba', 'portloko', 'pujehun', 'tonkolili', 'westernarearural', 'westernareaurban']\n",
    "\n",
    "    dist_count = {}\n",
    "\n",
    "    for dist in district_list:\n",
    "        dist_count[dist] = 0\n",
    "\n",
    "    file_count = 0\n",
    "\n",
    "#     for directory1 in os.listdir(direc_big):\n",
    "#         print(directory1)\n",
    "#         if directory1 != \".DS_Store\":\n",
    "    for log_file in os.listdir(direc_big): #+ directory1):\n",
    "        if log_file != \"large_epidemics.csv\" and log_file != \".DS_Store\":\n",
    "            #print(log_file)\n",
    "            dist_set = set()\n",
    "            file_count += 1\n",
    "            with open(direc_big + \"/\" + log_file) as f:\n",
    "                next(f)\n",
    "                for l in f:\n",
    "                    toks = l.strip(\"\\n\").split(\",\")\n",
    "                    #print(toks)\n",
    "                    district = toks[4]\n",
    "\n",
    "                    dist_set.add(district)\n",
    "\n",
    "            for dist in district_list:\n",
    "                if dist in dist_set:\n",
    "                    #print(dist)\n",
    "                    #print(dist_count[dist])\n",
    "                    dist_count[dist] += 1  \n",
    "                    #print(dist_count[dist])\n",
    "\n",
    "            #print(dist_count)\n",
    "\n",
    "    dist_percentage = {}\n",
    "\n",
    "    for key, count in dist_count.items():\n",
    "        dist_percentage[key] = (count/file_count)*100\n",
    "\n",
    "\n",
    "    x = [i for i in range(14)]\n",
    "    my_xticks = district_list\n",
    "    \n",
    "    plt.xticks(x,my_xticks, rotation=90)\n",
    "    \n",
    "    y = list(dist_percentage.values())\n",
    "\n",
    "    plt.title(\"Percentage of times district was involved in epidemic\")\n",
    "    \n",
    "    plt.bar(x,y)\n",
    "    \n",
    "    #plt.savefig(path + results + \"from_server/spread_across_districts.pdf\", bbox_inches=\"tight\")\n",
    "    \n",
    "    plt.show()"
   ]
  },
  {
   "cell_type": "code",
   "execution_count": 30,
   "metadata": {
    "collapsed": true
   },
   "outputs": [],
   "source": [
    "#Plots number of districts involved against the epidemic size\n",
    "\n",
    "def plt_dist_size(infile):\n",
    "    \n",
    "    district_number = []\n",
    "    epi_size = []\n",
    "\n",
    "    with open(infile) as f:\n",
    "        next(f)\n",
    "        for l in f:\n",
    "            toks = l.strip(\"\\n\").split(\",\")\n",
    "            epi_size.append(int(toks[1]))\n",
    "            district_number.append(int(toks[2]))\n",
    "            \n",
    "    x = district_number\n",
    "    y = epi_size\n",
    "    \n",
    "    \n",
    "    plt.title(\"Districts against epidemic size\")\n",
    "    plt.xlabel(\"Number of districts with cases\")\n",
    "    plt.ylabel(\"Epidemic size\")\n",
    "    plt.scatter(x,y)\n",
    "    \n",
    "    \n",
    "    #plt.savefig(\"Results/More_test_runs/1/district_against_size.pdf\",bbox_inches=\"tight\")\n",
    "    \n",
    "    plt.show()"
   ]
  },
  {
   "cell_type": "code",
   "execution_count": 28,
   "metadata": {
    "collapsed": true
   },
   "outputs": [],
   "source": [
    "#Plots the number of clusters  involved against epidemic size\n",
    "\n",
    "def plt_cluster_size(infile):\n",
    "    \n",
    "\n",
    "    small_epis = []\n",
    "    epi_size = []\n",
    "    cluster_number = []\n",
    "    \n",
    "    tup_list = []\n",
    "    small_epis = []\n",
    "\n",
    "    with open(infile) as f:\n",
    "        next(f)\n",
    "        for l in f:\n",
    "            toks = l.strip(\"\\n\").split(\",\")\n",
    "            epi_size.append(int(toks[1]))\n",
    "            cluster_number.append(int(toks[3]))\n",
    "            tup_list.append((int(toks[1]), int(toks[3])))\n",
    "            \n",
    "    x = cluster_number\n",
    "    y = epi_size\n",
    "    \n",
    "    \n",
    "#     for item in tup_list:\n",
    "#         if item[0] < 5000:\n",
    "#             small_epis.append((item[0], item[1]))\n",
    "            \n",
    "#     x = [item[0] for item in small_epis]\n",
    "#     y = [item[1] for item in small_epis]\n",
    "    \n",
    "    \n",
    "    plt.title(\"Household clusters against epidemic size\")\n",
    "    plt.xlabel(\"Number of household clusters with cases\")\n",
    "    plt.ylabel(\"Epidemic size\")\n",
    "    plt.scatter(x,y)\n",
    "    plt.scatter(x,y)\n",
    "    \n",
    "    #plt.savefig(\"Results/More_test_runs/1/cluster_against_size_smalls.pdf\", bbox_inches=\"tight\")\n",
    "    \n",
    "    plt.show()"
   ]
  },
  {
   "cell_type": "code",
   "execution_count": 23,
   "metadata": {
    "collapsed": true
   },
   "outputs": [],
   "source": [
    "#Plots all of the above functions\n",
    "\n",
    "def plot_summary(size_file, R0_file, persistence_file, directory):\n",
    "    \n",
    "    plt.rcParams.update({'font.size': 25})\n",
    "    \n",
    "    summary_sizes(size_file)\n",
    "    plt_size(size_file)\n",
    "    plt_persistence(persistence_file)\n",
    "    \n",
    "    plt_dist_size(size_file)\n",
    "    plt_district_number(size_file)\n",
    "    plt_spread(directory)\n",
    "    \n",
    "    plt_cluster_size(size_file)\n",
    "    \n",
    "    plt_R0(R0_file)"
   ]
  },
  {
   "cell_type": "code",
   "execution_count": 39,
   "metadata": {
    "scrolled": false
   },
   "outputs": [
    {
     "name": "stdout",
     "output_type": "stream",
     "text": [
      "Average epidemic size = 1426318.19\n",
      "Range = 19 to 1883028\n",
      "Percentage that didn't spread at all = 0.0 (0)\n"
     ]
    },
    {
     "data": {
      "image/png": "[encoded data removed]",
      "text/plain": [
       "<Figure size 432x288 with 1 Axes>"
      ]
     },
     "metadata": {},
     "output_type": "display_data"
    },
    {
     "data": {
      "image/png": "[encoded data removed]",
      "text/plain": [
       "<Figure size 432x288 with 1 Axes>"
      ]
     },
     "metadata": {},
     "output_type": "display_data"
    },
    {
     "data": {
      "image/png": "[encoded data removed]",
      "text/plain": [
       "<Figure size 432x288 with 1 Axes>"
      ]
     },
     "metadata": {},
     "output_type": "display_data"
    },
    {
     "name": "stdout",
     "output_type": "stream",
     "text": [
      "range in number of districts = 2 to 14\n"
     ]
    },
    {
     "data": {
      "image/png": "[encoded data removed]",
      "text/plain": [
       "<Figure size 432x288 with 1 Axes>"
      ]
     },
     "metadata": {},
     "output_type": "display_data"
    },
    {
     "ename": "KeyboardInterrupt",
     "evalue": "",
     "output_type": "error",
     "traceback": [
      "\u001b[0;31m---------------------------------------------------------------------------\u001b[0m",
      "\u001b[0;31mKeyboardInterrupt\u001b[0m                         Traceback (most recent call last)",
      "\u001b[0;32m<ipython-input-39-5cf9af43275c>\u001b[0m in \u001b[0;36m<module>\u001b[0;34m\u001b[0m\n\u001b[0;32m----> 1\u001b[0;31m \u001b[0mplot_summary\u001b[0m\u001b[0;34m(\u001b[0m\u001b[0mdropbox_path\u001b[0m \u001b[0;34m+\u001b[0m \u001b[0mresults_path\u001b[0m \u001b[0;34m+\u001b[0m \u001b[0;34m\"epidemic_size.csv\"\u001b[0m\u001b[0;34m,\u001b[0m\u001b[0mdropbox_path\u001b[0m \u001b[0;34m+\u001b[0m \u001b[0mresults_path\u001b[0m \u001b[0;34m+\u001b[0m \u001b[0;34m\"R0_run.csv\"\u001b[0m\u001b[0;34m,\u001b[0m \u001b[0mdropbox_path\u001b[0m \u001b[0;34m+\u001b[0m \u001b[0mresults_path\u001b[0m \u001b[0;34m+\u001b[0m \u001b[0;34m\"persistence.csv\"\u001b[0m\u001b[0;34m,\u001b[0m \u001b[0mdropbox_path\u001b[0m \u001b[0;34m+\u001b[0m \u001b[0mresults_path\u001b[0m \u001b[0;34m+\u001b[0m \u001b[0;34m\"log_files/\"\u001b[0m\u001b[0;34m)\u001b[0m\u001b[0;34m\u001b[0m\u001b[0;34m\u001b[0m\u001b[0m\n\u001b[0m\u001b[1;32m      2\u001b[0m \u001b[0;34m\u001b[0m\u001b[0m\n\u001b[1;32m      3\u001b[0m \u001b[0;34m\u001b[0m\u001b[0m\n",
      "\u001b[0;32m<ipython-input-23-17f9eb42c777>\u001b[0m in \u001b[0;36mplot_summary\u001b[0;34m(size_file, R0_file, persistence_file, directory)\u001b[0m\n\u001b[1;32m     11\u001b[0m     \u001b[0mplt_dist_size\u001b[0m\u001b[0;34m(\u001b[0m\u001b[0msize_file\u001b[0m\u001b[0;34m)\u001b[0m\u001b[0;34m\u001b[0m\u001b[0;34m\u001b[0m\u001b[0m\n\u001b[1;32m     12\u001b[0m     \u001b[0mplt_district_number\u001b[0m\u001b[0;34m(\u001b[0m\u001b[0msize_file\u001b[0m\u001b[0;34m)\u001b[0m\u001b[0;34m\u001b[0m\u001b[0;34m\u001b[0m\u001b[0m\n\u001b[0;32m---> 13\u001b[0;31m     \u001b[0mplt_spread\u001b[0m\u001b[0;34m(\u001b[0m\u001b[0mdirectory\u001b[0m\u001b[0;34m)\u001b[0m\u001b[0;34m\u001b[0m\u001b[0;34m\u001b[0m\u001b[0m\n\u001b[0m\u001b[1;32m     14\u001b[0m \u001b[0;34m\u001b[0m\u001b[0m\n\u001b[1;32m     15\u001b[0m     \u001b[0mplt_cluster_size\u001b[0m\u001b[0;34m(\u001b[0m\u001b[0msize_file\u001b[0m\u001b[0;34m)\u001b[0m\u001b[0;34m\u001b[0m\u001b[0;34m\u001b[0m\u001b[0m\n",
      "\u001b[0;32m<ipython-input-27-a7e78b31aae1>\u001b[0m in \u001b[0;36mplt_spread\u001b[0;34m(direc_big)\u001b[0m\n\u001b[1;32m     28\u001b[0m                     \u001b[0mdistrict\u001b[0m \u001b[0;34m=\u001b[0m \u001b[0mtoks\u001b[0m\u001b[0;34m[\u001b[0m\u001b[0;36m4\u001b[0m\u001b[0;34m]\u001b[0m\u001b[0;34m\u001b[0m\u001b[0;34m\u001b[0m\u001b[0m\n\u001b[1;32m     29\u001b[0m \u001b[0;34m\u001b[0m\u001b[0m\n\u001b[0;32m---> 30\u001b[0;31m                     \u001b[0mdist_set\u001b[0m\u001b[0;34m.\u001b[0m\u001b[0madd\u001b[0m\u001b[0;34m(\u001b[0m\u001b[0mdistrict\u001b[0m\u001b[0;34m)\u001b[0m\u001b[0;34m\u001b[0m\u001b[0;34m\u001b[0m\u001b[0m\n\u001b[0m\u001b[1;32m     31\u001b[0m \u001b[0;34m\u001b[0m\u001b[0m\n\u001b[1;32m     32\u001b[0m             \u001b[0;32mfor\u001b[0m \u001b[0mdist\u001b[0m \u001b[0;32min\u001b[0m \u001b[0mdistrict_list\u001b[0m\u001b[0;34m:\u001b[0m\u001b[0;34m\u001b[0m\u001b[0;34m\u001b[0m\u001b[0m\n",
      "\u001b[0;31mKeyboardInterrupt\u001b[0m: "
     ]
    }
   ],
   "source": [
    "plot_summary(dropbox_path + results_path + \"epidemic_size.csv\",dropbox_path + results_path + \"R0_run.csv\", dropbox_path + results_path + \"persistence.csv\", dropbox_path + results_path + \"log_files/\")\n",
    "\n",
    "            "
   ]
  },
  {
   "cell_type": "code",
   "execution_count": null,
   "metadata": {
    "collapsed": true
   },
   "outputs": [],
   "source": []
  }
 ],
 "metadata": {
  "kernelspec": {
   "display_name": "Python 3",
   "language": "python",
   "name": "python3"
  },
  "language_info": {
   "codemirror_mode": {
    "name": "ipython",
    "version": 3
   },
   "file_extension": ".py",
   "mimetype": "text/x-python",
   "name": "python",
   "nbconvert_exporter": "python",
   "pygments_lexer": "ipython3",
   "version": "3.6.8"
  }
 },
 "nbformat": 4,
 "nbformat_minor": 2
}
