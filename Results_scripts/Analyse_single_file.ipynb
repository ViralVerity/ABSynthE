{
 "cells": [
  {
   "cell_type": "markdown",
   "metadata": {},
   "source": [
    "Notebook to analyse how the epidemic has progressed in a single run. Includes geographic spread, network analysis and epi curve"
   ]
  },
  {
   "cell_type": "code",
   "execution_count": 1,
   "metadata": {
    "collapsed": true
   },
   "outputs": [],
   "source": [
    "get_ipython().magic('matplotlib inline')\n",
    "\n",
    "import matplotlib.pyplot as plt\n",
    "from collections import Counter\n",
    "from collections import OrderedDict\n",
    "import seaborn as sns\n",
    "from collections import defaultdict\n",
    "import networkx as nx\n",
    "import os\n",
    "import json\n",
    "import numpy as np\n",
    "\n"
   ]
  },
  {
   "cell_type": "code",
   "execution_count": 3,
   "metadata": {},
   "outputs": [],
   "source": [
    "dropbox_path = \"/Users/s1743989/VirusEvolution Dropbox/Verity Hill/Agent_based_model/\"\n",
    "\n",
    "with open(dropbox_path + \"Contact_structure/hh_clusters.txt\") as json_file:\n",
    "    hh_clusters = json.load(json_file)\n",
    "    \n",
    "    \n",
    "district_list = [\"bo\", 'bombali', 'bonthe', 'kailahun', 'kambia', 'kenema', 'koinadugu', 'kono', 'moyamba', 'portloko',\n",
    "                'pujehun', 'tonkolili', 'westernarearural', 'westernareaurban']"
   ]
  },
  {
   "cell_type": "code",
   "execution_count": 4,
   "metadata": {
    "collapsed": true
   },
   "outputs": [],
   "source": [
    "def prep_single(file_name):\n",
    "\n",
    "    transmission_dict = {}\n",
    "    hh_dict = {}\n",
    "    dist_dict = {}\n",
    "    dist_present = []\n",
    "    edge_list = []\n",
    "    case_list = []\n",
    "    parent_list = []\n",
    "    hh_set = set()\n",
    "\n",
    "    sec_cases = defaultdict(list)\n",
    "    district_mvmts = defaultdict(list)\n",
    "    transm_time = {}\n",
    "\n",
    "    with open(dropbox_path + \"Looping models/Results/\" + file_name, 'r') as f:\n",
    "        next(f)\n",
    "        for l in f: \n",
    "            cols = l.strip(\"\\n\").split(\",\")\n",
    "            case = cols[0]\n",
    "            parent = cols[1]\n",
    "            if parent != \"NA\":\n",
    "                transmission_dict[case] = parent\n",
    "                edge_list.append((parent,case))\n",
    "            elif parent == \"NA\":\n",
    "                index_case = case\n",
    "                index_district = cols[3]\n",
    "                \n",
    "            hh_dict[case] = cols[2]\n",
    "            dist_dict[case] = cols[3]\n",
    "            case_list.append(case)\n",
    "            parent_list.append(parent)\n",
    "            hh_set.add(cols[2])\n",
    "            sec_cases[parent].append(case)\n",
    "            \n",
    "            transm_time[case] = cols[4]\n",
    "            \n",
    "    for item1 in district_list:\n",
    "        for item2 in district_list:\n",
    "            if item1 != item2:\n",
    "                district_mvmts[item1,item2] = []\n",
    "\n",
    "    for district in dist_dict.values():\n",
    "        dist_present.append(district)\n",
    "\n",
    "    return [transmission_dict, hh_dict, dist_dict, dist_present, edge_list, case_list, parent_list, hh_set, index_case, index_district, district_mvmts, transm_time]"
   ]
  },
  {
   "cell_type": "code",
   "execution_count": 5,
   "metadata": {
    "collapsed": true
   },
   "outputs": [],
   "source": [
    "def epicurve(file):\n",
    "    \n",
    "    len_list = []\n",
    "    days = []\n",
    "    day_list = range(0,2000)\n",
    "    day_dict = defaultdict(list)\n",
    "    \n",
    "    count = 0\n",
    "    count2 = 0\n",
    "    week_number = 0\n",
    "    new_cases = 0\n",
    "    case_list = []\n",
    "    week_list = []\n",
    "\n",
    "    with open(dropbox_path + \"Looping models/Results/\" + file, 'r') as f:\n",
    "        next(f)\n",
    "        for l in f:\n",
    "            tokens = l.strip(\"\\n\").split(\",\")\n",
    "            person = tokens[0]\n",
    "            day = int(tokens[5]) #Date of onset\n",
    "            \n",
    "            day_dict[day].append(person)\n",
    "            \n",
    "    #print(day_dict.keys())\n",
    "\n",
    "    for item in day_list:\n",
    "        if item not in day_dict.keys():\n",
    "            day_dict[item] = []\n",
    "            \n",
    "    day_dict[0] = [1]\n",
    "    \n",
    "    new_daydict = OrderedDict(sorted(day_dict.items(), key = lambda t:t[0]))\n",
    "    \n",
    "    #print(new_daydict)\n",
    "    \n",
    "    for k,i in new_daydict.items():\n",
    "        len_list.append(len(i))\n",
    "        days.append(k)\n",
    "\n",
    "    for i in len_list:\n",
    "        count += 1\n",
    "        new_cases += i\n",
    "        if count % 7 == 0:\n",
    "            case_list.append(new_cases)\n",
    "            new_cases = 0\n",
    "\n",
    "    for j in days:\n",
    "        count2 += 1\n",
    "        if count2 % 7 == 0:\n",
    "            week_number += 1\n",
    "            week_list.append(week_number)\n",
    "\n",
    "    # print(len(case_list))\n",
    "    # print(len(week_list))       \n",
    "\n",
    "    x = week_list[:2500]\n",
    "    y = case_list[:2500]\n",
    "\n",
    "    # print(case_list)\n",
    "\n",
    "    #print(x)\n",
    "    # plt.plot(x,y)\n",
    "    \n",
    "    plt.title(\"Number of new cases per week\")\n",
    "    plt.xlabel(\"Week number\")\n",
    "    plt.ylabel(\"New cases\")\n",
    "    plt.plot(x, y)\n",
    "    plt.show()   "
   ]
  },
  {
   "cell_type": "code",
   "execution_count": 9,
   "metadata": {
    "collapsed": true
   },
   "outputs": [],
   "source": [
    "def dist_jumps(transmission_dict, dist_dict, district_mvmts, transm_time):\n",
    "\n",
    "    district_jumps = 0\n",
    "\n",
    "    for case, parent in transmission_dict.items():\n",
    "        if dist_dict[case] != dist_dict[parent]:\n",
    "            district_jumps += 1\n",
    "            district_mvmts[dist_dict[parent], dist_dict[case]].append(transm_time[case])\n",
    "\n",
    "    return district_jumps, district_mvmts"
   ]
  },
  {
   "cell_type": "code",
   "execution_count": 10,
   "metadata": {
    "collapsed": true
   },
   "outputs": [],
   "source": [
    "def hh_jumps(transmission_dict,hh_dict, hh_set):\n",
    "\n",
    "    hh_jumps = 0\n",
    "\n",
    "    for case, parent in transmission_dict.items():\n",
    "        if hh_dict[case] != hh_dict[parent]:\n",
    "            hh_jumps += 1\n",
    "\n",
    "    return hh_jumps, len(hh_set)"
   ]
  },
  {
   "cell_type": "code",
   "execution_count": 11,
   "metadata": {
    "collapsed": true
   },
   "outputs": [],
   "source": [
    "#cluster jumping\n",
    "def cluster_mvmt(transmission_dict, hh_dict, hh_clusters):\n",
    "\n",
    "    cluster_jump = 0\n",
    "    cluster_num = 1\n",
    "    within_cluster_jump = 0\n",
    "\n",
    "    for case, parent in transmission_dict.items():\n",
    "\n",
    "        if hh_dict[case] not in hh_clusters[hh_dict[parent]] and hh_dict[case] != hh_dict[parent]:\n",
    "            cluster_jump += 1\n",
    "            cluster_num += 1\n",
    "        \n",
    "        elif hh_dict[case] in hh_clusters[hh_dict[parent]] and hh_dict[case] != hh_dict[parent]:\n",
    "            within_cluster_jump += 1\n",
    "            \n",
    "            \n",
    "    return int(cluster_jump), int(cluster_num), int(within_cluster_jump)"
   ]
  },
  {
   "cell_type": "code",
   "execution_count": 7,
   "metadata": {},
   "outputs": [],
   "source": [
    "def district_dist(dist_present):\n",
    "\n",
    "    #This isn't working the way it should be in terms of the x axis\n",
    "    district_counter = Counter()\n",
    "\n",
    "    for item in district_list:\n",
    "        if item not in dist_present:\n",
    "            district_counter[item] = 0\n",
    "\n",
    "    for place in dist_present:\n",
    "        district_counter[place] += 1\n",
    "\n",
    "    #print(district_counter)\n",
    "\n",
    "    x = []\n",
    "    y = []\n",
    "    \n",
    "    districts = list(district_counter.keys())\n",
    "    freq = list(district_counter.values())\n",
    "    \n",
    "    index = np.arange(len(districts))\n",
    "    \n",
    "    plt.bar(index, freq)\n",
    "    plt.xticks(index, districts, fontsize = 10, rotation = 90)\n",
    "    \n",
    "    plt.show()"
   ]
  },
  {
   "cell_type": "code",
   "execution_count": 19,
   "metadata": {
    "collapsed": true
   },
   "outputs": [],
   "source": [
    "def deg_centr(G):\n",
    "\n",
    "    D = nx.degree_centrality(G)\n",
    "\n",
    "    degree_count = Counter()\n",
    "\n",
    "    for measure in D.values():\n",
    "        rounded = round(measure, 10)\n",
    "        degree_count[rounded] += 1\n",
    "\n",
    "    x = []\n",
    "    y = []\n",
    "\n",
    "    for key, value in degree_count.items():\n",
    "        x.append(key)\n",
    "        y.append(value)\n",
    "\n",
    "\n",
    "    plt.scatter(x,y)\n",
    "\n",
    "    plt.show()"
   ]
  },
  {
   "cell_type": "code",
   "execution_count": 20,
   "metadata": {
    "collapsed": true
   },
   "outputs": [],
   "source": [
    "def network(case_list, edge_list):\n",
    "    \n",
    "    G = nx.Graph()\n",
    "\n",
    "    G.add_nodes_from(case_list)\n",
    "    G.add_edges_from(edge_list)\n",
    "\n",
    "#     nx.draw(G)\n",
    "#     plt.savefig(\"first_network.png\")\n",
    "#     plt.show()\n",
    "    \n",
    "    return G"
   ]
  },
  {
   "cell_type": "code",
   "execution_count": 22,
   "metadata": {
    "collapsed": true
   },
   "outputs": [],
   "source": [
    "def single_file_analysis(file):\n",
    "\n",
    "    household_average_calc = []\n",
    "    index_case_check = []\n",
    "    index_dist_check = []\n",
    "    between_cluster_dist = []\n",
    "    cluster_average = []\n",
    "    sizes = []\n",
    "    within_cluster_dist = []\n",
    "\n",
    "    output = prep_single(file)\n",
    "    \n",
    "    if len(output[0]) > 1:\n",
    "    #print(output)\n",
    "        #print(\"New File\")\n",
    "        \n",
    "        \n",
    "\n",
    "        district_info = dist_jumps(output[0],output[2], output[10], output[11])\n",
    "        \n",
    "        household_jumps = hh_jumps(output[0], output[1], output[7])\n",
    "\n",
    "        cluster_jump = cluster_mvmt(output[0], output[1], hh_clusters)\n",
    "\n",
    "\n",
    "        print(\"Total cases = \" + str(len(output[0]) + 1))\n",
    "        print(\"Number of district jumps = \" + str(district_info[0]))\n",
    "        #print(\"Number of household jumps = \" + str(household_jumps[0]))\n",
    "        print(\"Number of households involved = \" + str(household_jumps[1]))\n",
    "        print(\"Number of cases per household = \" + str((len(output[0]) + 1) / household_jumps[1]))\n",
    "        print(\"Number of cases per three-hh cluster = \" + str((len(output[0]) + 1)/cluster_jump[1]))\n",
    "\n",
    "        household_average_calc.append((len(output[0]) + 1) / household_jumps[1])\n",
    "\n",
    "        between_cluster_dist.append(cluster_jump[0])\n",
    "        cluster_average.append((len(output[0]) + 1)/cluster_jump[1])\n",
    "\n",
    "        within_cluster_dist.append(cluster_jump[2])\n",
    "\n",
    "        sizes.append(len(output[0]) + 1)\n",
    "\n",
    "        distr_dist = district_dist(output[3])\n",
    "        #network_output = network(output[5], output[4])\n",
    "        #centrality  = deg_centr(network_output)\n",
    "\n",
    "        index_case_check.append(output[8])\n",
    "        index_dist_check.append(output[9])\n",
    "        \n",
    "        epicurve(file)"
   ]
  },
  {
   "cell_type": "code",
   "execution_count": 23,
   "metadata": {},
   "outputs": [
    {
     "name": "stdout",
     "output_type": "stream",
     "text": [
      "Total cases = 124\n",
      "Number of district jumps = 3\n",
      "Number of households involved = 48\n",
      "Number of cases per household = 2.5833333333333335\n",
      "Number of cases per three-hh cluster = 3.875\n"
     ]
    },
    {
     "data": {
      "image/png": "[encoded data removed]",
      "text/plain": [
       "<matplotlib.figure.Figure at 0x1a33ad4f98>"
      ]
     },
     "metadata": {},
     "output_type": "display_data"
    },
    {
     "data": {
      "image/png": "[encoded data removed]",
      "text/plain": [
       "<matplotlib.figure.Figure at 0x1a33aaa5c0>"
      ]
     },
     "metadata": {},
     "output_type": "display_data"
    }
   ],
   "source": [
    "prep_single(\"testing_tidying/6/log_files/information_file_for_0.csv\")\n",
    "single_file_analysis(\"testing_tidying/6/log_files/information_file_for_0.csv\")"
   ]
  },
  {
   "cell_type": "code",
   "execution_count": null,
   "metadata": {
    "collapsed": true
   },
   "outputs": [],
   "source": []
  }
 ],
 "metadata": {
  "kernelspec": {
   "display_name": "Python 3",
   "language": "python",
   "name": "python3"
  },
  "language_info": {
   "codemirror_mode": {
    "name": "ipython",
    "version": 3
   },
   "file_extension": ".py",
   "mimetype": "text/x-python",
   "name": "python",
   "nbconvert_exporter": "python",
   "pygments_lexer": "ipython3",
   "version": "3.6.8"
  }
 },
 "nbformat": 4,
 "nbformat_minor": 2
}
