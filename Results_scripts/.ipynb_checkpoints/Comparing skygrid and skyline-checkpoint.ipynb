{
 "cells": [
  {
   "cell_type": "markdown",
   "metadata": {},
   "source": [
    "A notebook to generate the skygrid from a BEAST log file, and grab the skyline from a single simulation. Pulling Skygrid from log file adapted from an R script created by Mandev Gill.\n",
    "\n",
    "Contains plots.\n",
    "\n",
    "At the end, also has comparison for fitting the skyline to the skygrid through KDEs and regression"
   ]
  },
  {
   "cell_type": "code",
   "execution_count": 1,
   "metadata": {
    "collapsed": true
   },
   "outputs": [],
   "source": [
    "get_ipython().magic('matplotlib inline')\n",
    "\n",
    "import pandas as pd\n",
    "from collections import defaultdict\n",
    "import numpy as np\n",
    "import matplotlib.pyplot as plt\n",
    "import math\n",
    "import os\n",
    "from collections import OrderedDict"
   ]
  },
  {
   "cell_type": "code",
   "execution_count": 2,
   "metadata": {
    "collapsed": true
   },
   "outputs": [],
   "source": [
    "path = \"/Users/s1743989/VirusEvolution Dropbox/Verity Hill/Agent_based_model/\"\n",
    "\n",
    "#Specified in BEAST XML\n",
    "logpop_length = 21 \n",
    "skygrid_cutoff = 0.4\n",
    "\n",
    "#Most recently sampled sequence\n",
    "most_recent_tip = 2014.74\n",
    "\n",
    "#This is always the same - when the logpops start to be recorded in the BEAST log file\n",
    "start = 7\n",
    "\n",
    "# log_file = path + '1284_subtree/1284_skygrid.log'\n",
    "# output_file = path + '1284_subtree/skygridplot.pdf'\n",
    "\n",
    "log_file = path + 'Observed_data/option_C/optionC.log'\n",
    "output_file = path + 'Observed_data/option_C/skygrid.pdf'\n",
    "\n",
    "skyline_file = path + \"Looping models/Results/Playing_with_parameters/Option_C/1/skylines/skyline_for_721.csv\"\n",
    "\n",
    "\n",
    "#This can be changed, but usually 10% is about right\n",
    "burn_in = 10 #in percent"
   ]
  },
  {
   "cell_type": "markdown",
   "metadata": {},
   "source": [
    "# Skygrid"
   ]
  },
  {
   "cell_type": "markdown",
   "metadata": {},
   "source": [
    "### Getting pop sizes"
   ]
  },
  {
   "cell_type": "code",
   "execution_count": 3,
   "metadata": {
    "collapsed": true
   },
   "outputs": [],
   "source": [
    "#Get the rows of the log file that contains the logpop measurements\n",
    "def skygrid_prep(log_file, burn_in):\n",
    "\n",
    "    count = 0\n",
    "\n",
    "    with open(log_file) as f:\n",
    "        next(f)\n",
    "        next(f)\n",
    "        next(f)\n",
    "        next(f)\n",
    "        next(f)\n",
    "        for l in f:\n",
    "            count += 1\n",
    "            cols = l.strip(\"\\n\").split(\"\\t\")\n",
    "            width = len(cols)\n",
    "\n",
    "    length = count\n",
    "\n",
    "    dimensions = (length, width)\n",
    "\n",
    "    end_iteration = dimensions[0]\n",
    "\n",
    "    begin_iteration = int(round(end_iteration/burn_in, 0))\n",
    "    \n",
    "    return end_iteration, begin_iteration\n"
   ]
  },
  {
   "cell_type": "code",
   "execution_count": 4,
   "metadata": {
    "collapsed": true,
    "scrolled": false
   },
   "outputs": [],
   "source": [
    "#Get the columns of the log file that contains logpops\n",
    "def get_cols(log_file, end_iteration, begin_iteration, logpop_length):\n",
    "\n",
    "    count2 = 0\n",
    "    count3 = 0\n",
    "    skygrid = defaultdict(list)\n",
    "\n",
    "    skygrid_cols = [i for i in range(1,logpop_length + 1)]\n",
    "    rows = []\n",
    "\n",
    "    with open(log_file) as f:\n",
    "        next(f)\n",
    "        next(f)\n",
    "        next(f)\n",
    "        next(f)\n",
    "        next(f)\n",
    "        for l in f:\n",
    "            count2 += 1\n",
    "            if count2 >= begin_iteration and count2 <= end_iteration:\n",
    "                count3 += 1\n",
    "                cols = l.strip(\"\\n\").split(\"\\t\")\n",
    "                cols_wanted = cols[start:start+logpop_length+1]\n",
    "                #print(len(cols_wanted))\n",
    "                #if count2 == begin_iteration + 2 or count2 == begin_iteration + 3:\n",
    "                for item in skygrid_cols:\n",
    "                    #print(item)\n",
    "                    skygrid[item].append(float(cols_wanted[item]))\n",
    "                #rows.append(cols_wanted)\n",
    "\n",
    "    #print(count3)\n",
    "     \n",
    "    return skygrid"
   ]
  },
  {
   "cell_type": "code",
   "execution_count": 5,
   "metadata": {
    "collapsed": true
   },
   "outputs": [],
   "source": [
    "#Pull out the logpop measurements from the logfile\n",
    "def log_pops(skygrid):\n",
    "\n",
    "    mean_dict = {}\n",
    "    lower_dict = {}\n",
    "    upper_dict = {}\n",
    "\n",
    "    for key, value in skygrid.items():\n",
    "        mean_dict[key] = (sum(value)/len(value))\n",
    "        lower_dict[key] = np.percentile(value, 2.5)\n",
    "        upper_dict[key] = np.percentile(value, 97.5)\n",
    "        \n",
    "    mean_list = []\n",
    "    lower_list = []\n",
    "    upper_list = []\n",
    "\n",
    "    for value in mean_dict.values():\n",
    "        mean_list.append(value)\n",
    "    for value in lower_dict.values():\n",
    "        lower_list.append(value)\n",
    "    for value in upper_dict.values():\n",
    "        upper_list.append(value)\n",
    "\n",
    "    revmean = list(reversed(mean_list))\n",
    "    revlower = list(reversed(lower_list))\n",
    "    revupper = list(reversed(upper_list))\n",
    "\n",
    "    return revmean, revlower, revupper, mean_list, lower_list, upper_list\n",
    "        "
   ]
  },
  {
   "cell_type": "code",
   "execution_count": 3,
   "metadata": {
    "collapsed": true
   },
   "outputs": [],
   "source": [
    "#In case you want non-logged population sizes\n",
    "def e_pops(skygrid):\n",
    "\n",
    "    meane_dict = {}\n",
    "    lowere_dict = {}\n",
    "    uppere_dict = {}\n",
    "\n",
    "    for key, value in skygrid.items():\n",
    "        meane_dict[key] = math.exp(sum(value)/len(value))\n",
    "        lowere_dict[key] = math.exp(np.percentile(value, 2.5))\n",
    "        uppere_dict[key] = math.exp(np.percentile(value, 97.5))\n",
    "\n",
    "    meane_list = []\n",
    "    lowere_list = []\n",
    "    uppere_list = []\n",
    "\n",
    "    for value in meane_dict.values():\n",
    "        meane_list.append(value)\n",
    "    for value in lowere_dict.values():\n",
    "        lowere_list.append(value)\n",
    "    for value in uppere_dict.values():\n",
    "        uppere_list.append(value)\n",
    "\n",
    "    revemean = list(reversed(meane_list))\n",
    "    revelower = list(reversed(lowere_list))\n",
    "    reveupper = list(reversed(uppere_list))\n",
    "    \n",
    "    return meane_list, lowere_list, uppere_list"
   ]
  },
  {
   "cell_type": "code",
   "execution_count": 4,
   "metadata": {
    "collapsed": true
   },
   "outputs": [],
   "source": [
    "#Combining all - will return the mean logpop at each timepoint (minus burn-in), with lower and upper bounds, forwards in time\n",
    "\n",
    "def get_pop_sizes(log_file, burn_in, logpop_length):\n",
    "    \n",
    "    step1 = skygrid_prep(log_file, burn_in)\n",
    "    \n",
    "    step2 = get_cols(log_file, step1[0], step1[1], logpop_length)\n",
    "    \n",
    "    step3 = log_pops(step2)\n",
    "    \n",
    "    return step3\n",
    "    "
   ]
  },
  {
   "cell_type": "code",
   "execution_count": 8,
   "metadata": {
    "collapsed": true
   },
   "outputs": [],
   "source": [
    "output = get_pop_sizes(log_file, burn_in, logpop_length)\n",
    "\n",
    "revmean = output[0]\n",
    "revlower = output[1]\n",
    "revupper = output[2]\n",
    "means = output[3]\n",
    "lowers = output[4]\n",
    "uppers = output[5]"
   ]
  },
  {
   "cell_type": "code",
   "execution_count": 16,
   "metadata": {},
   "outputs": [
    {
     "name": "stdout",
     "output_type": "stream",
     "text": [
      "[-0.0052984156901952437, 1.1541533876167103, 0.2014440645035874, 0.76624723956549201, 0.59374362107383316, -0.53409349947050955, -0.22408897701052016, -0.74129800668946344, -0.42229912402631054, -0.12441832626468434, 0.15682502116664443, -0.12119188575043421, -1.1633905897362733, -0.92185262726876693, -2.0486597261421182, -2.205905292268441, -3.4479458418361775, -3.2212251505114202, -4.6095680898983282, -5.5363289542056808, -6.9434644343372902]\n"
     ]
    }
   ],
   "source": [
    "print(lowers)"
   ]
  },
  {
   "cell_type": "markdown",
   "metadata": {},
   "source": [
    "### Getting gridpoints"
   ]
  },
  {
   "cell_type": "code",
   "execution_count": 5,
   "metadata": {
    "collapsed": true
   },
   "outputs": [],
   "source": [
    "#Define the gridpoints from the skygrid so skyline can be forced into the same time structure\n",
    "def get_gridpoints(end_time, skygrid_cutoff, logpop_length):\n",
    "    \n",
    "    begin_time = end_time - skygrid_cutoff\n",
    "\n",
    "    total_time = end_time - begin_time\n",
    "\n",
    "    gridpoint_intervals = total_time/logpop_length\n",
    "    \n",
    "    gridpoints = []\n",
    "    new = 0\n",
    "\n",
    "    for i in range(logpop_length):\n",
    "        new += gridpoint_intervals\n",
    "        gridpoints.append(new)\n",
    "\n",
    "    #print(gridpoints)\n",
    "    revtimes = list(reversed(gridpoints))\n",
    "\n",
    "    times_in_years = [end_time - i for i in revtimes]\n",
    "    times_in_years.append(end_time)\n",
    "    \n",
    "    return times_in_years, revtimes, begin_time, end_time\n",
    "\n"
   ]
  },
  {
   "cell_type": "code",
   "execution_count": 11,
   "metadata": {
    "collapsed": true
   },
   "outputs": [],
   "source": [
    "gridpoints = get_gridpoints(most_recent_tip, skygrid_cutoff, logpop_length)\n",
    "\n",
    "times_in_years = gridpoints[0]\n",
    "revtimes = gridpoints[1]\n"
   ]
  },
  {
   "cell_type": "code",
   "execution_count": 12,
   "metadata": {},
   "outputs": [
    {
     "name": "stdout",
     "output_type": "stream",
     "text": [
      "[2014.34, 2014.3590476190475, 2014.378095238095, 2014.3971428571429, 2014.4161904761904, 2014.435238095238, 2014.4542857142856, 2014.4733333333334, 2014.492380952381, 2014.5114285714285, 2014.530476190476, 2014.5495238095239, 2014.5685714285714, 2014.587619047619, 2014.6066666666666, 2014.6257142857144, 2014.644761904762, 2014.6638095238095, 2014.682857142857, 2014.7019047619049, 2014.7209523809524, 2014.74]\n",
      "[0.4000000000000908, 0.3809523809524674, 0.36190476190484405, 0.3428571428572207, 0.3238095238095973, 0.30476190476197396, 0.2857142857143506, 0.2666666666667272, 0.24761904761910386, 0.2285714285714805, 0.20952380952385713, 0.19047619047623376, 0.1714285714286104, 0.15238095238098703, 0.13333333333336367, 0.11428571428574028, 0.0952380952381169, 0.07619047619049352, 0.05714285714287014, 0.03809523809524676, 0.01904761904762338]\n"
     ]
    }
   ],
   "source": [
    "print(gridpoints[0])\n",
    "print(gridpoints[1])"
   ]
  },
  {
   "cell_type": "markdown",
   "metadata": {
    "collapsed": true
   },
   "source": [
    "# Skyline"
   ]
  },
  {
   "cell_type": "code",
   "execution_count": 52,
   "metadata": {},
   "outputs": [
    {
     "name": "stdout",
     "output_type": "stream",
     "text": [
      "[(2014.74, 2014.7209523809524), (2014.7209523809524, 2014.7019047619049), (2014.7019047619049, 2014.682857142857), (2014.682857142857, 2014.6638095238095), (2014.6638095238095, 2014.644761904762), (2014.644761904762, 2014.6257142857144), (2014.6257142857144, 2014.6066666666666), (2014.6066666666666, 2014.587619047619), (2014.587619047619, 2014.5685714285714), (2014.5685714285714, 2014.5495238095239), (2014.5495238095239, 2014.530476190476), (2014.530476190476, 2014.5114285714285), (2014.5114285714285, 2014.492380952381), (2014.492380952381, 2014.4733333333334), (2014.4733333333334, 2014.4542857142856), (2014.4542857142856, 2014.435238095238), (2014.435238095238, 2014.4161904761904), (2014.4161904761904, 2014.3971428571429), (2014.3971428571429, 2014.378095238095), (2014.378095238095, 2014.3590476190475), (2014.3590476190475, 2014.34)]\n"
     ]
    }
   ],
   "source": [
    "#Generates time bins from the gridpoints\n",
    "\n",
    "bins = []\n",
    "\n",
    "rev_times_in_years = times_in_years[::-1]\n",
    "\n",
    "for pos,gp in enumerate(rev_times_in_years):\n",
    "\n",
    "    if pos+1 < len(rev_times_in_years):\n",
    "\n",
    "        new_tup = (gp, rev_times_in_years[pos+1])\n",
    "\n",
    "        bins.append(new_tup)\n",
    "\n",
    "        \n",
    "print(bins)\n",
    "#return bins"
   ]
  },
  {
   "cell_type": "code",
   "execution_count": 78,
   "metadata": {
    "collapsed": true
   },
   "outputs": [],
   "source": [
    "#Find the most recent bin\n",
    "\n",
    "most_recent_dates = {}\n",
    "\n",
    "with open(path + \"Looping models/Results/Playing_with_parameters/new_lambda/2/most_recent_dates.csv\") as f:\n",
    "    next(f)\n",
    "    for l in f:\n",
    "        toks = l.strip(\"\\n\").split(\",\")\n",
    "        most_recent_dates[float(toks[0])] = float(toks[1])\n",
    "        "
   ]
  },
  {
   "cell_type": "code",
   "execution_count": 104,
   "metadata": {
    "collapsed": true
   },
   "outputs": [],
   "source": [
    "#Makes the intervals from the simulation real time ie changes \"day 10\" to 2014.x\n",
    "\n",
    "def make_intervals_realtime(intervals, most_recent_date, skygrid_cutoff, most_recent_tip):\n",
    "    \n",
    "    start_time = most_recent_tip - skygrid_cutoff\n",
    "    \n",
    "    real_time_mostrecent = start_time + (most_recent_date/365)\n",
    "    \n",
    "    new_intervals = []\n",
    "    \n",
    "    for tup in intervals:\n",
    "\n",
    "        in_years_0 = tup[0]/365\n",
    "        in_years_1 = tup[1]/365\n",
    "\n",
    "        new_number_0 = real_time_mostrecent - in_years_0\n",
    "        new_number_1 = real_time_mostrecent - in_years_1 \n",
    "\n",
    "        new_intervals.append((new_number_0, new_number_1))\n",
    "\n",
    "    \n",
    "    return new_intervals"
   ]
  },
  {
   "cell_type": "code",
   "execution_count": 179,
   "metadata": {
    "collapsed": true
   },
   "outputs": [],
   "source": [
    "#Combines above functions to force simulated effective population sizes into the same gridpoints as the skygrid\n",
    "def bin_skyline(input_file, most_recent_date, gridpoints, skygrid_cutoff, most_recent_tip, logpop_length):\n",
    "    \n",
    "    intervals = []\n",
    "    sizes = []\n",
    "    bin_dict = defaultdict(list)\n",
    "    skyline_bins = {}\n",
    "    skyline_final = OrderedDict()\n",
    "\n",
    "    with open(input_file) as f:\n",
    "        next(f)\n",
    "        for l in f:\n",
    "            toks = l.strip(\"\\n\").split(\",\")\n",
    "            start_interval = float(toks[1])\n",
    "            end_interval = float(toks[2])\n",
    "            pop_size = float(toks[3])\n",
    "\n",
    "            intervals.append((start_interval, end_interval))\n",
    "            sizes.append(pop_size)  \n",
    "            \n",
    "            \n",
    "    rt_intervals = make_intervals_realtime(intervals, most_recent_date, skygrid_cutoff, most_recent_tip)  \n",
    "    \n",
    "    #print(rt_intervals)\n",
    "    \n",
    "    for position, interval in enumerate(rt_intervals):\n",
    "\n",
    "        for bin_position,binn in enumerate(gridpoints):\n",
    "\n",
    "            if interval[0] == most_recent_tip and binn[0] == most_recent_tip:\n",
    "                bin_dict[bin_position].append(position)\n",
    "\n",
    "            #Is it beyond the skygrid\n",
    "            elif interval[0] < (most_recent_tip - skygrid_cutoff):\n",
    "                continue\n",
    "            \n",
    "            #Is start interval in range\n",
    "            #Is end interval in range\n",
    "            #Does the interval straddle a gridpoint\n",
    "            \n",
    "            if (interval[0] < binn[0] and interval[0] >= binn[1]) or (interval[1] < binn[0] and interval[1] >= binn[1]) or (interval[0] > binn[0] and interval[1] < binn[1]): \n",
    "\n",
    "                bin_dict[bin_position].append(position)\n",
    "\n",
    "\n",
    "    \n",
    "    for binn_pos, interval_pos_list in bin_dict.items():\n",
    "\n",
    "        #print(binn_pos, interval_pos_list)\n",
    "        \n",
    "        if len(interval_pos_list) == 1:\n",
    "\n",
    "            skyline_bins[gridpoints[binn_pos]] = sizes[interval_pos_list[0]]\n",
    "\n",
    "\n",
    "        elif len(interval_pos_list) == 2:\n",
    "\n",
    "            Ne_a = sizes[interval_pos_list[0]]\n",
    "            Ne_b  = sizes[interval_pos_list[1]]\n",
    "\n",
    "            interval_a = rt_intervals[interval_pos_list[0]][1]\n",
    "\n",
    "            bin_a = gridpoints[binn_pos][0]\n",
    "            bin_b = gridpoints[binn_pos][1]\n",
    "\n",
    "\n",
    "            weight_a = (interval_a - bin_a)/7\n",
    "            weight_b = 1 - weight_a\n",
    "\n",
    "            Ne = ((Ne_a*weight_a) + (Ne_b*weight_b))\n",
    "\n",
    "            skyline_bins[bins[binn_pos]] = Ne\n",
    "\n",
    "\n",
    "        elif len(interval_pos_list) > 2:\n",
    "\n",
    "            last_position = len(interval_pos_list) - 1\n",
    "\n",
    "            Ne_a = sizes[interval_pos_list[0]]\n",
    "            Ne_b = sizes[interval_pos_list[last_position]]\n",
    "\n",
    "            other_Nes = [sizes[interval_pos_list[i]] for i in range(1, len(interval_pos_list)-1)]\n",
    "\n",
    "            interval_a = rt_intervals[interval_pos_list[0]][1]\n",
    "            interval_b = rt_intervals[interval_pos_list[last_position]][0]        \n",
    "\n",
    "            bin_a = gridpoints[binn_pos][0]\n",
    "            bin_b = gridpoints[binn_pos][1]\n",
    "\n",
    "            weight_a = (bin_a - interval_a)*52\n",
    "         \n",
    "            weight_b = (interval_b - bin_b)*52\n",
    "\n",
    "            other_weights = (1 - weight_a - weight_b)/(len(interval_pos_list)-2)\n",
    "\n",
    "            final_other_Nes = 0\n",
    "\n",
    "            for i in other_Nes:\n",
    "                final_other_Nes += (other_weights*i)\n",
    "\n",
    "            Ne = ((Ne_a*weight_a) + (Ne_b*weight_b) + final_other_Nes)\n",
    "\n",
    "            skyline_bins[gridpoints[binn_pos]] = Ne \n",
    "            \n",
    "    for tup in gridpoints:\n",
    "        if tup not in skyline_bins.keys():\n",
    "            skyline_bins[tup] = 0\n",
    "    \n",
    "    sorted_skyline = sorted(skyline_bins.items())[::-1]\n",
    "    \n",
    "    #print(sorted_skyline)\n",
    "    \n",
    "    for item in sorted_skyline:\n",
    "        tup = item[0]\n",
    "        new_tup = (tup[1], tup[0])\n",
    "        \n",
    "        skyline_final[new_tup] = item[1]\n",
    "            \n",
    "            \n",
    "    return skyline_final\n"
   ]
  },
  {
   "cell_type": "code",
   "execution_count": 180,
   "metadata": {
    "scrolled": false
   },
   "outputs": [
    {
     "name": "stdout",
     "output_type": "stream",
     "text": [
      "OrderedDict([((2014.7209523809524, 2014.74), 0), ((2014.7019047619049, 2014.7209523809524), 0), ((2014.682857142857, 2014.7019047619049), 3.70058848749), ((2014.6638095238095, 2014.682857142857), 3.70058848749), ((2014.644761904762, 2014.6638095238095), 3.70058848749), ((2014.6257142857144, 2014.644761904762), 1.735206895220598), ((2014.6066666666666, 2014.6257142857144), 0.4531121615553575), ((2014.587619047619, 2014.6066666666666), 1.8743403787073671), ((2014.5685714285714, 2014.587619047619), 0.5188167400429309), ((2014.5495238095239, 2014.5685714285714), 0.6826082126622914), ((2014.530476190476, 2014.5495238095239), -0.3028762669917959), ((2014.5114285714285, 2014.530476190476), -0.10815596362160179), ((2014.492380952381, 2014.5114285714285), 0.14751794706388754), ((2014.4733333333334, 2014.492380952381), -0.11121988961007456), ((2014.4542857142856, 2014.4733333333334), -0.13630158906652742), ((2014.435238095238, 2014.4542857142856), -0.8284865751937027), ((2014.4161904761904, 2014.435238095238), -0.28795184184877015), ((2014.3971428571429, 2014.4161904761904), -0.20339162972848548), ((2014.378095238095, 2014.3971428571429), -1.162988267930864), ((2014.3590476190475, 2014.378095238095), -0.6115165080883542), ((2014.34, 2014.3590476190475), -2.525304338571594)])\n"
     ]
    }
   ],
   "source": [
    "skyline_dict = bin_skyline(path + \"Looping models/Results/Playing_with_parameters/new_lambda/2/skylines/skyline_for_1.csv\", most_recent_date, bins,  skygrid_cutoff, most_recent_tip, logpop_length)\n",
    "\n",
    "print(skyline_dict)"
   ]
  },
  {
   "cell_type": "code",
   "execution_count": 276,
   "metadata": {
    "collapsed": true
   },
   "outputs": [],
   "source": [
    "#Combines the simulated skyline and the observed skygrid\n",
    "\n",
    "def skyline_grid_comparison(log_file, burn_in, logpop_length, skyline_file, end_date):\n",
    "    \n",
    "    skygrid_dict = {}\n",
    "    \n",
    "    comparison_dict = defaultdict(tuple)\n",
    "    \n",
    "    #Skygrid\n",
    "    \n",
    "    output = get_pop_sizes(log_file, burn_in, logpop_length)\n",
    "\n",
    "\n",
    "    revmean = output[0]\n",
    "    revlower = output[1]\n",
    "    revupper = output[2]\n",
    "    means = output[3]\n",
    "    lowers = output[4]\n",
    "    uppers = output[5]\n",
    "    \n",
    "    \n",
    "    gridpoints = get_gridpoints(end_date, skygrid_cutoff, logpop_length)\n",
    "\n",
    "    times_in_years = gridpoints[0]\n",
    "        \n",
    "    times_in_years.remove(2014.74)\n",
    "    \n",
    "    for time, Ne in zip(times_in_years, revmean):\n",
    "        skygrid_dict[time] = Ne\n",
    "        \n",
    "        \n",
    "    \n",
    "    #Skyline\n",
    "    \n",
    "    bins = []\n",
    "\n",
    "    rev_times_in_years = times_in_years[::-1]\n",
    "\n",
    "    for pos,gp in enumerate(rev_times_in_years):\n",
    "\n",
    "        if pos+1 < len(rev_times_in_years):\n",
    "\n",
    "            new_tup = (gp, rev_times_in_years[pos+1])\n",
    "\n",
    "            bins.append(new_tup)\n",
    "    \n",
    "    skyline_values = bin_skyline(skyline_file, most_recent_tip, bins)\n",
    "    \n",
    "    for key, value in skygrid_dict.items():\n",
    "        for tup, Ne in skyline_values.items():\n",
    "            if tup[0] == key:\n",
    "                comparison_dict[key] = (value, Ne)\n",
    "                \n",
    "    return comparison_dict, skygrid_dict\n",
    "    \n",
    "    "
   ]
  },
  {
   "cell_type": "code",
   "execution_count": 277,
   "metadata": {
    "collapsed": true
   },
   "outputs": [],
   "source": [
    "comparison = skyline_grid_comparison(log_file, burn_in, logpop_length, path + \"Looping models/Results/Playing_with_parameters/new_lambda/2/skylines/skyline_for_1.csv\",  most_recent_tip)\n",
    "\n",
    "comparison_dict = comparison[0]\n",
    "\n",
    "skygrid_dict1 = comparison[1]"
   ]
  },
  {
   "cell_type": "markdown",
   "metadata": {},
   "source": [
    "## Plotting together"
   ]
  },
  {
   "cell_type": "code",
   "execution_count": 101,
   "metadata": {
    "collapsed": true
   },
   "outputs": [],
   "source": [
    "def plot_skyline(Ne_dict):\n",
    "\n",
    "    names = list(Ne_dict.keys())\n",
    "    values = list(Ne_dict.values())\n",
    "\n",
    "    plt.step(names,values)\n",
    "    plt.show()"
   ]
  },
  {
   "cell_type": "code",
   "execution_count": 96,
   "metadata": {
    "collapsed": true
   },
   "outputs": [],
   "source": [
    "def plot_skygrid(times_in_years, means, lowers, uppers):\n",
    "\n",
    "    x = times_in_years\n",
    "    y = means\n",
    "\n",
    "    plt.xlim(gridpoints[2], gridpoints[3])\n",
    "\n",
    "    plt.plot(x,y,'-k')\n",
    "    plt.fill_between(x, lowers, uppers)\n",
    "    plt.show()"
   ]
  },
  {
   "cell_type": "code",
   "execution_count": 278,
   "metadata": {
    "collapsed": true
   },
   "outputs": [],
   "source": [
    "def plot_together(times_in_years, means, revlower, revupper, skyline_dict):\n",
    "    \n",
    "        \n",
    "    x = times_in_years\n",
    "    y = means\n",
    "    \n",
    "    x2 = list(skyline_dict.keys())\n",
    "    y2 = list(skyline_dict.values())\n",
    "    \n",
    "    \n",
    "    fig, ax1 = plt.subplots()\n",
    "    ax2 = ax1.twinx()\n",
    "    \n",
    "\n",
    "    color = 'tab:blue'\n",
    "    ax1.set_xlabel(\"Time\")\n",
    "    ax1.set_ylabel(\"Real data (skygrid)\")\n",
    "    ax1.plot(x,y,'-k')\n",
    "    ax1.fill_between(x, lowers, uppers)\n",
    "    \n",
    "    color = 'tab:red'\n",
    "    ax2.set_ylabel(\"Simulated data (skyline)\")\n",
    "    ax2.step(x2, y2, color=color)\n",
    "    ax2.tick_params(axis='y')\n",
    "    \n",
    "\n",
    "\n",
    "\n",
    "    ax1.tick_params(axis = 'y')\n",
    "    #ax1.fill_between(x, revlower, revupper)\n",
    "\n",
    "    fig.set_size_inches(10,10)\n",
    "\n",
    "    fig.tight_layout()\n",
    "    plt.show()\n",
    "    "
   ]
  },
  {
   "cell_type": "code",
   "execution_count": 280,
   "metadata": {
    "collapsed": true
   },
   "outputs": [],
   "source": [
    "def plot_together(comparison_dict, revlower, revupper):\n",
    "    \n",
    "    fig = plt.gcf()\n",
    "    skygrid = []\n",
    "    skyline = []\n",
    "    new_lowers = []\n",
    "    new_uppers = []\n",
    "    \n",
    "    for value in comparison_dict.values():\n",
    "        skygrid.append(value[0])\n",
    "        skyline.append(value[1])\n",
    "        \n",
    "    x = list(comparison_dict.keys())\n",
    "    y = skygrid\n",
    "    \n",
    "    x2 = list(comparison_dict.keys())\n",
    "    y2 = skyline\n",
    "    \n",
    "    for i in revlower:\n",
    "        new_lowers.append(float(i))\n",
    "    for j in revupper:\n",
    "        new_uppers.append(float(j))\n",
    "    \n",
    "    for l,m,u in zip(new_lowers, skygrid, new_uppers):\n",
    "        print(l,m,u)\n",
    "    \n",
    "    plt.plot(x,y, '-k')\n",
    "    #plt.fill_between(x, new_lowers, new_uppers)\n",
    "    plt.step(x2,y2, color = 'red')\n",
    "    \n",
    "    fig.set_size_inches(10,10)\n",
    "    \n",
    "    \n",
    "    plt.show()"
   ]
  },
  {
   "cell_type": "code",
   "execution_count": 281,
   "metadata": {
    "scrolled": false
   },
   "outputs": [
    {
     "name": "stdout",
     "output_type": "stream",
     "text": [
      "-5.536328954205681 -3.124355834821509 -0.8955687893279418\n",
      "-4.609568089898328 -2.7695844951875697 -0.4335726348162064\n",
      "-3.22122515051142 -1.7512677279326283 0.8733707782658631\n",
      "-3.4479458418361775 -2.492921082631608 -1.3577745982899914\n",
      "-2.205905292268441 -0.8412108049119418 1.54471923261791\n",
      "-2.048659726142118 -1.347671661267795 -0.5692678029035754\n",
      "-0.9218526272687669 0.19442638749372584 2.3627869647677096\n",
      "-1.1633905897362733 -0.08209462602918038 1.2387066239344997\n",
      "-0.12119188575043421 1.1340366126959343 3.404047399612373\n",
      "0.15682502116664443 1.3147286111512144 3.6006515495936124\n",
      "-0.12441832626468434 1.1123421606754686 3.179163130186952\n",
      "-0.42229912402631054 0.665484188119581 2.3010620263634394\n",
      "-0.7412980066894634 0.08719608892534998 1.2043217156195904\n",
      "-0.22408897701052016 0.7811200644951011 2.7042616907581083\n",
      "-0.5340934994705095 0.08121177731969915 0.8729294550575053\n",
      "0.5937436210738332 1.752392516547019 3.8810813600691656\n",
      "0.766247239565492 1.9120579958210417 4.229492926575809\n",
      "0.2014440645035874 1.0527554897007056 2.148464514249977\n",
      "1.1541533876167103 2.388363552677752 4.735492776204452\n",
      "-0.005298415690195244 1.23480078165738 3.4740148897920764\n"
     ]
    },
    {
     "data": {
      "image/png": "[encoded data removed]",
      "text/plain": [
       "<matplotlib.figure.Figure at 0x112e16128>"
      ]
     },
     "metadata": {},
     "output_type": "display_data"
    }
   ],
   "source": [
    "plot_together(comparison_dict, revlower, revupper)"
   ]
  },
  {
   "cell_type": "markdown",
   "metadata": {
    "collapsed": true
   },
   "source": [
    "# KDE things - not currently being used, was one idea for fitting"
   ]
  },
  {
   "cell_type": "code",
   "execution_count": 116,
   "metadata": {
    "collapsed": true
   },
   "outputs": [],
   "source": [
    "#SO THIS IS NOW BACKWARDS\n",
    "\n",
    "def prepare_skyline_for_kde(skyline_dict):\n",
    "\n",
    "    skyline_for_kde = {}\n",
    "\n",
    "    count = 0\n",
    "\n",
    "    for v in skyline_dict.values():\n",
    "        count += 1\n",
    "        skyline_for_kde[count] = v\n",
    "        \n",
    "    return skyline_for_kde\n",
    "\n"
   ]
  },
  {
   "cell_type": "code",
   "execution_count": 254,
   "metadata": {
    "collapsed": true
   },
   "outputs": [
    {
     "name": "stdout",
     "output_type": "stream",
     "text": [
      "popsize1\n",
      "popsize_1\n",
      "popsize10\n",
      "popsize_10\n",
      "popsize11\n",
      "popsize_11\n",
      "popsize12\n",
      "popsize_12\n",
      "popsize13\n",
      "popsize_13\n",
      "popsize14\n",
      "popsize_14\n",
      "popsize15\n",
      "popsize_15\n",
      "popsize16\n",
      "popsize_16\n",
      "popsize17\n",
      "popsize_17\n",
      "popsize18\n",
      "popsize_18\n",
      "popsize19\n",
      "popsize_19\n",
      "popsize2\n",
      "popsize_2\n",
      "popsize20\n",
      "popsize_20\n",
      "popsize21\n",
      "popsize_21\n",
      "popsize3\n",
      "popsize_3\n",
      "popsize4\n",
      "popsize_4\n",
      "popsize5\n",
      "popsize_5\n",
      "popsize6\n",
      "popsize_6\n",
      "popsize7\n",
      "popsize_7\n",
      "popsize8\n",
      "popsize_8\n",
      "popsize9\n",
      "popsize_9\n"
     ]
    }
   ],
   "source": [
    "#DON'T RERUN, LEFT HERE SO THAT I CAN FIND IT AGAIN IF I WANT TO DO THE SAME THING LATER ON\n",
    "for file in os.listdir(directory):\n",
    "\n",
    "    new_file_name = file[:7] + \"_\" + file[7:]\n",
    "    src = directory + file\n",
    "    dst = directory + new_file_name\n",
    "    os.rename(src, dst)\n",
    "    "
   ]
  },
  {
   "cell_type": "code",
   "execution_count": 107,
   "metadata": {
    "collapsed": true
   },
   "outputs": [],
   "source": [
    "def get_skygrid_kdes(directory):\n",
    "\n",
    "    dict_of_dicts = defaultdict(dict)\n",
    "    \n",
    "    for file in os.listdir(directory):\n",
    "        file_popsize = {}\n",
    "        with open(directory+file) as f:\n",
    "            next(f)\n",
    "            for l in f:\n",
    "                toks = l.strip(\"\\n\").split(\"\\t\")\n",
    "                density = float(toks[1])\n",
    "                pop_size = float(toks[0])\n",
    "\n",
    "                file_popsize[pop_size] = density\n",
    "                \n",
    "        dict_of_dicts[file] = file_popsize\n",
    "        \n",
    "    return dict_of_dicts"
   ]
  },
  {
   "cell_type": "code",
   "execution_count": 26,
   "metadata": {
    "collapsed": true
   },
   "outputs": [],
   "source": [
    "directory = '/Users/s1743989/VirusEvolution Dropbox/Verity Hill/Agent_based_model/Observed_data/option_C/KDEs/'\n",
    "\n",
    "skyline_for_kde = prepare_skyline_for_kde(skyline_dict)\n",
    "dict_of_dicts = get_skygrid_kdes(directory)\n"
   ]
  },
  {
   "cell_type": "code",
   "execution_count": 94,
   "metadata": {
    "collapsed": true
   },
   "outputs": [],
   "source": [
    "#So I need to get the skyline_dict before this for the ABC thing - add in a get skyline function here (ie to force it into gridpoints)\n",
    "#Split out the get skygrid info so that we don't have to keep opening files in the ABC\n",
    "\n",
    "def get_kernel(skygrid_dicts, skyline_for_kde, skyline_dict):\n",
    "\n",
    "    skyline_dens = {}\n",
    "\n",
    "         \n",
    "    for key, file_popsize in skygrid_dicts.items():\n",
    "        \n",
    "        possibles = []\n",
    "        position_dict = {}\n",
    "        key_position = {}\n",
    "        \n",
    "        file_number = int(key.split(\"_\")[1])\n",
    "        #print(file_number)\n",
    "    \n",
    "        try:\n",
    "            value_of_interest = skyline_for_kde[file_number]\n",
    "        except KeyError:\n",
    "            continue\n",
    "        \n",
    "        print(file_number)\n",
    "        print(\"Pop size in skyline = \" + str(value_of_interest))\n",
    "        \n",
    "        for position, dicti, in enumerate(file_popsize.items()):\n",
    "            \n",
    "\n",
    "            position_dict[dicti[0]] = position\n",
    "            key_position[position] = dicti[0]\n",
    "\n",
    "            if value_of_interest >= dicti[0]:\n",
    "\n",
    "                possibles.append(dicti[0])\n",
    "\n",
    "    \n",
    "        if len(possibles) == 0:\n",
    "            final_density = 0.0\n",
    "        \n",
    "        else:\n",
    "                \n",
    "            lower_bound = max(possibles)\n",
    "            lower_bound_position = position_dict[lower_bound]\n",
    "\n",
    "            #print(\"lower Ne = \" + str(lower_bound))\n",
    "            #print(lower_bound_position)\n",
    "\n",
    "            if lower_bound_position == len(key_position)-1 and value_of_interest != lower_bound:\n",
    "                 final_density = 0.0\n",
    "\n",
    "            elif value_of_interest == lower_bound:\n",
    "                final_density = file_popsize[lower_bound]\n",
    "\n",
    "            else:\n",
    "                higher_bound = key_position[lower_bound_position+1]\n",
    "\n",
    "                #print(\"higher Ne = \" + str(higher_bound))\n",
    "\n",
    "                lower_dens = file_popsize[lower_bound]\n",
    "                higher_dens = file_popsize[higher_bound]\n",
    "\n",
    "                #print(\"lower dens = \" + str(lower_dens))\n",
    "                #print(\"higher dens = \" + str(higher_dens))\n",
    "\n",
    "                pop_diff = abs(higher_bound - lower_bound)\n",
    "                #print(\"population difference = \" + str(pop_diff))\n",
    "\n",
    "                prop = (value_of_interest - lower_bound)/pop_diff\n",
    "                #print(\"proportion = \" + str(prop))\n",
    "\n",
    "                dens_diff = higher_dens - lower_dens\n",
    "                #print(\"difference in density = \" + str(dens_diff))\n",
    "\n",
    "                prop_dens = dens_diff*prop\n",
    "                #print(\"proportion density = \" + str(prop_dens))\n",
    "\n",
    "                final_density = lower_dens + prop_dens\n",
    "\n",
    "                #print(\"final density for \" + str(file_number) + \" = \" + str(final_density))\n",
    "\n",
    "\n",
    "            \n",
    "        skyline_dens[list(skyline_dict.keys())[file_number-1]] = final_density\n",
    "\n",
    "        print(\"final density = \" + str(final_density))\n",
    "        \n",
    "        \n",
    "    return skyline_dens\n",
    "\n",
    "\n"
   ]
  },
  {
   "cell_type": "code",
   "execution_count": 30,
   "metadata": {
    "collapsed": true
   },
   "outputs": [],
   "source": [
    "def final_product(skyline_dens):\n",
    "    product = 1\n",
    "    for v in skyline_dens.values():\n",
    "        \n",
    "        product *= v\n",
    "        \n",
    "    return product"
   ]
  },
  {
   "cell_type": "code",
   "execution_count": 31,
   "metadata": {},
   "outputs": [
    {
     "data": {
      "text/plain": [
       "0.0"
      ]
     },
     "execution_count": 31,
     "metadata": {},
     "output_type": "execute_result"
    }
   ],
   "source": [
    "final_product(skyline_dens)"
   ]
  },
  {
   "cell_type": "code",
   "execution_count": 114,
   "metadata": {
    "collapsed": true
   },
   "outputs": [],
   "source": [
    "dict_of_dicts = get_skygrid_kdes(directory)\n",
    "\n",
    "skyline_file = path + \"Looping models/Results/Playing_with_parameters/new_lambda/2/skylines/skyline_for_1.csv\"\n"
   ]
  },
  {
   "cell_type": "code",
   "execution_count": 42,
   "metadata": {},
   "outputs": [
    {
     "name": "stdout",
     "output_type": "stream",
     "text": [
      "[(2014.74, 2014.7209523809524), (2014.7209523809524, 2014.7019047619049), (2014.7019047619049, 2014.682857142857), (2014.682857142857, 2014.6638095238095), (2014.6638095238095, 2014.644761904762), (2014.644761904762, 2014.6257142857144), (2014.6257142857144, 2014.6066666666666), (2014.6066666666666, 2014.587619047619), (2014.587619047619, 2014.5685714285714), (2014.5685714285714, 2014.5495238095239), (2014.5495238095239, 2014.530476190476), (2014.530476190476, 2014.5114285714285), (2014.5114285714285, 2014.492380952381), (2014.492380952381, 2014.4733333333334), (2014.4733333333334, 2014.4542857142856), (2014.4542857142856, 2014.435238095238), (2014.435238095238, 2014.4161904761904), (2014.4161904761904, 2014.3971428571429), (2014.3971428571429, 2014.378095238095), (2014.378095238095, 2014.3590476190475), (2014.3590476190475, 2014.34)]\n"
     ]
    }
   ],
   "source": [
    "print(bins)"
   ]
  },
  {
   "cell_type": "code",
   "execution_count": 117,
   "metadata": {
    "collapsed": true
   },
   "outputs": [],
   "source": [
    "def get_goodness_of_fit(skyline_file, most_recent_tip, bins, skygrid_dicts): \n",
    "    \n",
    "    #bins are going fully backwards\n",
    "    \n",
    "    most_recent_date = most_recent_dates[1]\n",
    "    \n",
    "    skyline_dict = bin_skyline(skyline_file, most_recent_date, bins, skygrid_cutoff, most_recent_tip)\n",
    "    \n",
    "    print(skyline_dict) \n",
    "    #So that is backwards overall but within tups going forwards\n",
    "\n",
    "    skyline_for_kde = prepare_skyline_for_kde(skyline_dict)\n",
    "    \n",
    "    print(skyline_for_kde)\n",
    "    #That's forwards with replacing the keys with numbers\n",
    "    \n",
    "    skyline_dens = get_kernel(skygrid_dicts, skyline_for_kde, skyline_dict)\n",
    "\n",
    "\n",
    "    goodness_of_fit = final_product(skyline_dens)\n",
    "    \n",
    "    \n",
    "    return goodness_of_fit"
   ]
  },
  {
   "cell_type": "code",
   "execution_count": 118,
   "metadata": {
    "scrolled": true
   },
   "outputs": [
    {
     "name": "stdout",
     "output_type": "stream",
     "text": [
      "OrderedDict([((2014.682857142857, 2014.7019047619049), 3.70058848749), ((2014.6638095238095, 2014.682857142857), 3.70058848749), ((2014.644761904762, 2014.6638095238095), 3.70058848749), ((2014.6257142857144, 2014.644761904762), 1.735206895220598), ((2014.6066666666666, 2014.6257142857144), 0.4531121615553575), ((2014.587619047619, 2014.6066666666666), 1.8743403787073671), ((2014.5685714285714, 2014.587619047619), 0.5188167400429309), ((2014.5495238095239, 2014.5685714285714), 0.6826082126622914), ((2014.530476190476, 2014.5495238095239), -0.3028762669917959), ((2014.5114285714285, 2014.530476190476), -0.10815596362160179), ((2014.492380952381, 2014.5114285714285), 0.14751794706388754), ((2014.4733333333334, 2014.492380952381), -0.11121988961007456), ((2014.4542857142856, 2014.4733333333334), -0.13630158906652742), ((2014.435238095238, 2014.4542857142856), -0.8284865751937027), ((2014.4161904761904, 2014.435238095238), -0.28795184184877015), ((2014.3971428571429, 2014.4161904761904), -0.20339162972848548), ((2014.378095238095, 2014.3971428571429), -1.162988267930864), ((2014.3590476190475, 2014.378095238095), -0.6115165080883542), ((2014.34, 2014.3590476190475), -2.525304338571594)])\n",
      "{1: 3.70058848749, 2: 3.70058848749, 3: 3.70058848749, 4: 1.735206895220598, 5: 0.4531121615553575, 6: 1.8743403787073671, 7: 0.5188167400429309, 8: 0.6826082126622914, 9: -0.3028762669917959, 10: -0.10815596362160179, 11: 0.14751794706388754, 12: -0.11121988961007456, 13: -0.13630158906652742, 14: -0.8284865751937027, 15: -0.28795184184877015, 16: -0.20339162972848548, 17: -1.162988267930864, 18: -0.6115165080883542, 19: -2.525304338571594}\n",
      "1\n",
      "Pop size in skyline = 3.70058848749\n",
      "final density = 0.01896211209565566\n",
      "10\n",
      "Pop size in skyline = -0.10815596362160179\n",
      "final density = 0.15521679432876453\n",
      "11\n",
      "Pop size in skyline = 0.14751794706388754\n",
      "final density = 0.1728743001691576\n",
      "12\n",
      "Pop size in skyline = -0.11121988961007456\n",
      "final density = 0.14419481033644294\n",
      "13\n",
      "Pop size in skyline = -0.13630158906652742\n",
      "final density = 0.7063193747879387\n",
      "14\n",
      "Pop size in skyline = -0.8284865751937027\n",
      "final density = 0.21871505137605982\n",
      "15\n",
      "Pop size in skyline = -0.28795184184877015\n",
      "final density = 0.03335238446755992\n",
      "16\n",
      "Pop size in skyline = -0.20339162972848548\n",
      "final density = 0.2643602498827386\n",
      "17\n",
      "Pop size in skyline = -1.162988267930864\n",
      "final density = 0.04836929232349743\n",
      "18\n",
      "Pop size in skyline = -0.6115165080883542\n",
      "final density = 0.10697397313090659\n",
      "19\n",
      "Pop size in skyline = -2.525304338571594\n",
      "final density = 0.3997124023632619\n",
      "2\n",
      "Pop size in skyline = 3.70058848749\n",
      "final density = 0.09924670829929062\n",
      "3\n",
      "Pop size in skyline = 3.70058848749\n",
      "final density = 0.00027303623695594943\n",
      "4\n",
      "Pop size in skyline = 1.735206895220598\n",
      "final density = 0.5693754682433254\n",
      "5\n",
      "Pop size in skyline = 0.4531121615553575\n",
      "final density = 0.1069691987498848\n",
      "6\n",
      "Pop size in skyline = 1.8743403787073671\n",
      "final density = 0.0\n",
      "7\n",
      "Pop size in skyline = 0.5188167400429309\n",
      "final density = 0.6799426240309144\n",
      "8\n",
      "Pop size in skyline = 0.6826082126622914\n",
      "final density = 0.30528897233802077\n",
      "9\n",
      "Pop size in skyline = -0.3028762669917959\n",
      "final density = 0.22915088298326844\n"
     ]
    },
    {
     "data": {
      "text/plain": [
       "0.0"
      ]
     },
     "execution_count": 118,
     "metadata": {},
     "output_type": "execute_result"
    }
   ],
   "source": [
    "get_goodness_of_fit(skyline_file, most_recent_tip, bins, dict_of_dicts)"
   ]
  },
  {
   "cell_type": "markdown",
   "metadata": {},
   "source": [
    "## Regressions"
   ]
  },
  {
   "cell_type": "code",
   "execution_count": 181,
   "metadata": {},
   "outputs": [
    {
     "name": "stdout",
     "output_type": "stream",
     "text": [
      "OrderedDict([((2014.7209523809524, 2014.74), 0), ((2014.7019047619049, 2014.7209523809524), 0), ((2014.682857142857, 2014.7019047619049), 3.70058848749), ((2014.6638095238095, 2014.682857142857), 3.70058848749), ((2014.644761904762, 2014.6638095238095), 3.70058848749), ((2014.6257142857144, 2014.644761904762), 1.735206895220598), ((2014.6066666666666, 2014.6257142857144), 0.4531121615553575), ((2014.587619047619, 2014.6066666666666), 1.8743403787073671), ((2014.5685714285714, 2014.587619047619), 0.5188167400429309), ((2014.5495238095239, 2014.5685714285714), 0.6826082126622914), ((2014.530476190476, 2014.5495238095239), -0.3028762669917959), ((2014.5114285714285, 2014.530476190476), -0.10815596362160179), ((2014.492380952381, 2014.5114285714285), 0.14751794706388754), ((2014.4733333333334, 2014.492380952381), -0.11121988961007456), ((2014.4542857142856, 2014.4733333333334), -0.13630158906652742), ((2014.435238095238, 2014.4542857142856), -0.8284865751937027), ((2014.4161904761904, 2014.435238095238), -0.28795184184877015), ((2014.3971428571429, 2014.4161904761904), -0.20339162972848548), ((2014.378095238095, 2014.3971428571429), -1.162988267930864), ((2014.3590476190475, 2014.378095238095), -0.6115165080883542), ((2014.34, 2014.3590476190475), -2.525304338571594)])\n"
     ]
    }
   ],
   "source": [
    "print(skyline_dict)"
   ]
  },
  {
   "cell_type": "code",
   "execution_count": 182,
   "metadata": {},
   "outputs": [
    {
     "name": "stdout",
     "output_type": "stream",
     "text": [
      "[1.23480078165738, 2.388363552677752, 1.0527554897007056, 1.9120579958210417, 1.752392516547019, 0.08121177731969915, 0.7811200644951011, 0.08719608892534998, 0.665484188119581, 1.1123421606754686, 1.3147286111512144, 1.1340366126959343, -0.08209462602918038, 0.19442638749372584, -1.347671661267795, -0.8412108049119418, -2.492921082631608, -1.7512677279326283, -2.7695844951875697, -3.124355834821509, -3.465106356644072]\n"
     ]
    }
   ],
   "source": [
    "print(means)"
   ]
  },
  {
   "cell_type": "code",
   "execution_count": 183,
   "metadata": {},
   "outputs": [
    {
     "name": "stdout",
     "output_type": "stream",
     "text": [
      "21\n",
      "21\n"
     ]
    }
   ],
   "source": [
    "print(len(skyline_dict))\n",
    "print(len(means))"
   ]
  },
  {
   "cell_type": "code",
   "execution_count": 187,
   "metadata": {},
   "outputs": [
    {
     "name": "stdout",
     "output_type": "stream",
     "text": [
      "0 1.23480078165738\n",
      "0 2.388363552677752\n",
      "3.70058848749 1.0527554897007056\n",
      "3.70058848749 1.9120579958210417\n",
      "3.70058848749 1.752392516547019\n",
      "1.735206895220598 0.08121177731969915\n",
      "0.4531121615553575 0.7811200644951011\n",
      "1.8743403787073671 0.08719608892534998\n",
      "0.5188167400429309 0.665484188119581\n",
      "0.6826082126622914 1.1123421606754686\n",
      "-0.3028762669917959 1.3147286111512144\n",
      "-0.10815596362160179 1.1340366126959343\n",
      "0.14751794706388754 -0.08209462602918038\n",
      "-0.11121988961007456 0.19442638749372584\n",
      "-0.13630158906652742 -1.347671661267795\n",
      "-0.8284865751937027 -0.8412108049119418\n",
      "-0.28795184184877015 -2.492921082631608\n",
      "-0.20339162972848548 -1.7512677279326283\n",
      "-1.162988267930864 -2.7695844951875697\n",
      "-0.6115165080883542 -3.124355834821509\n",
      "-2.525304338571594 -3.465106356644072\n",
      "[(3.70058848749, 1.0527554897007056), (3.70058848749, 1.9120579958210417), (3.70058848749, 1.752392516547019), (1.735206895220598, 0.08121177731969915), (0.4531121615553575, 0.7811200644951011), (1.8743403787073671, 0.08719608892534998), (0.5188167400429309, 0.665484188119581), (0.6826082126622914, 1.1123421606754686), (-0.3028762669917959, 1.3147286111512144), (-0.10815596362160179, 1.1340366126959343), (0.14751794706388754, -0.08209462602918038), (-0.11121988961007456, 0.19442638749372584), (-0.13630158906652742, -1.347671661267795), (-0.8284865751937027, -0.8412108049119418), (-0.28795184184877015, -2.492921082631608), (-0.20339162972848548, -1.7512677279326283), (-1.162988267930864, -2.7695844951875697), (-0.6115165080883542, -3.124355834821509), (-2.525304338571594, -3.465106356644072)]\n"
     ]
    }
   ],
   "source": [
    "pair_list = []\n",
    "\n",
    "for simulated, observed in zip(skyline_dict.values(), means):\n",
    "    print(simulated, observed)\n",
    "    if simulated != 0:\n",
    "        tup = (simulated, observed)\n",
    "        pair_list.append(tup)\n",
    "        \n",
    "print(pair_list)      "
   ]
  },
  {
   "cell_type": "code",
   "execution_count": 196,
   "metadata": {},
   "outputs": [
    {
     "data": {
      "text/plain": [
       "<matplotlib.collections.PathCollection at 0x11233e198>"
      ]
     },
     "execution_count": 196,
     "metadata": {},
     "output_type": "execute_result"
    },
    {
     "data": {
      "image/png": "[encoded data removed]",
      "text/plain": [
       "<matplotlib.figure.Figure at 0x112619630>"
      ]
     },
     "metadata": {},
     "output_type": "display_data"
    }
   ],
   "source": [
    "x_prep = []\n",
    "y_prep = []\n",
    "for pair in pair_list:\n",
    "    x_prep.append(pair[1])\n",
    "    y_prep.append(pair[0])\n",
    "    \n",
    "x = np.array(x_prep)\n",
    "y = np.array(y_prep)\n",
    "    \n",
    "plt.scatter(x,y)"
   ]
  },
  {
   "cell_type": "code",
   "execution_count": 242,
   "metadata": {
    "collapsed": true
   },
   "outputs": [],
   "source": [
    "def estimate_coef(x, y): \n",
    "    # number of observations/points \n",
    "    n = np.size(x) \n",
    "  \n",
    "    # mean of x and y vector \n",
    "    m_x, m_y = np.mean(x), np.mean(y) \n",
    "    # calculating cross-deviation and deviation about x \n",
    "    SS_xy = np.sum(y*x) - n*m_y*m_x \n",
    "    SS_xx = np.sum(x*x) - n*m_x*m_x \n",
    "  \n",
    "    # calculating regression coefficients \n",
    "    b_1 = SS_xy / SS_xx \n",
    "    b_0 = m_y - b_1*m_x \n",
    "  \n",
    "    return(b_0, b_1) \n",
    "  \n",
    "def plot_regression_line(x, y, b): \n",
    "    # plotting the actual points as scatter plot \n",
    "    plt.scatter(x, y, color = \"m\", \n",
    "               marker = \"o\", s = 30) \n",
    "  \n",
    "    # predicted response vector \n",
    "    y_pred = b[0] + b[1]*x \n",
    "  \n",
    "    # plotting the regression line \n",
    "    plt.plot(x, y_pred, color = \"g\") \n",
    "  \n",
    "    # putting labels \n",
    "    plt.xlabel('x') \n",
    "    plt.ylabel('y') \n",
    "  \n",
    "    # function to show plot \n",
    "    plt.show() \n",
    "    \n",
    "def main(x,y): \n",
    "    # observations  \n",
    "  \n",
    "    # estimating coefficients \n",
    "    b = estimate_coef(x, y) \n",
    "    \n",
    "    gradient = b[1]\n",
    "    intercept = b[0]\n",
    "    \n",
    "    print(b[0], b[1])\n",
    "\n",
    "    #So b[0] = c and b[1] = b then\n",
    "  \n",
    "    # plotting regression line \n",
    "    plot_regression_line(x, y, b) \n",
    "    \n",
    "    return gradient, intercept"
   ]
  },
  {
   "cell_type": "code",
   "execution_count": 247,
   "metadata": {},
   "outputs": [
    {
     "name": "stdout",
     "output_type": "stream",
     "text": [
      "0.75616692349 0.714080132221\n"
     ]
    },
    {
     "data": {
      "image/png": "[encoded data removed]",
      "text/plain": [
       "<matplotlib.figure.Figure at 0x1a1b3da4e0>"
      ]
     },
     "metadata": {},
     "output_type": "display_data"
    }
   ],
   "source": [
    "main(x,y)\n",
    "\n",
    "output = estimate_coef(x,y)\n",
    "gradient = output[0]\n",
    "intercept = output[1]"
   ]
  },
  {
   "cell_type": "code",
   "execution_count": 252,
   "metadata": {},
   "outputs": [
    {
     "name": "stdout",
     "output_type": "stream",
     "text": [
      "0.75616692349\n",
      "[1.5101390120544012, 2.1599151444543612, 2.0391813902042228, 0.77548979202754298, 1.3047372882658765, 0.78001493052359139, 1.2172972633819701, 1.5551964817263777, 1.7082344213386125, 1.5716011087674868, 0.65200289142106105, 0.86109893549691674, -0.30498460175447351, 0.077984345864065219, -1.1709843333354488, -0.61017059781694361, -1.3801880548500376, -1.6484544072833349, -1.9061186810473949]\n",
      "[4.7980689044360911, 2.3736743499406114, 2.7602735429115524, 0.92105691816126878, 0.72526535644470758, 1.1975481865426219, 0.48787504148397809, 0.76141028730825822, 4.0445662007168082, 2.8215838222411622, 0.25450505908306043, 0.94540389765743993, 0.028453958769481778, 0.82168953072331818, 0.77974638102117133, 0.16546912887911086, 0.047175747437734381, 1.0752402067869, 0.38339087848367487]\n",
      "25.392397399\n"
     ]
    }
   ],
   "source": [
    "#y_pred\n",
    "print(gradient)\n",
    "\n",
    "eqn = gradient*x + intercept\n",
    "\n",
    "y_pred = []\n",
    "\n",
    "for value in x:\n",
    "    y_pred.append(gradient*value + intercept)\n",
    "    \n",
    "print(y_pred)\n",
    "\n",
    "sum_sqs = []\n",
    "\n",
    "for obs,pred in zip(y, y_pred):\n",
    "    sq = (obs - pred)**2\n",
    "    \n",
    "    \n",
    "    sum_sqs.append(sq)\n",
    "\n",
    "print(sum_sqs)\n",
    "residuals = np.sum(sum_sqs)\n",
    "\n",
    "print(residuals)"
   ]
  },
  {
   "cell_type": "code",
   "execution_count": null,
   "metadata": {
    "collapsed": true
   },
   "outputs": [],
   "source": []
  }
 ],
 "metadata": {
  "kernelspec": {
   "display_name": "Python 3",
   "language": "python",
   "name": "python3"
  },
  "language_info": {
   "codemirror_mode": {
    "name": "ipython",
    "version": 3
   },
   "file_extension": ".py",
   "mimetype": "text/x-python",
   "name": "python",
   "nbconvert_exporter": "python",
   "pygments_lexer": "ipython3",
   "version": "3.6.8"
  }
 },
 "nbformat": 4,
 "nbformat_minor": 2
}
