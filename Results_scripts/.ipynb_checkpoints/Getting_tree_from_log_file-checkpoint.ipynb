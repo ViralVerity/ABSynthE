{
 "cells": [
  {
   "cell_type": "markdown",
   "metadata": {},
   "source": [
    "Notebook to skip the simulation bit and just pull out the necessary bits to make a tree from a previously run simulation"
   ]
  },
  {
   "cell_type": "code",
   "execution_count": 10,
   "metadata": {
    "collapsed": true
   },
   "outputs": [],
   "source": [
    "import Tree_simulator as cts\n",
    "from collections import defaultdict\n",
    "##(trans_dict, nodes, sampling_proportion, epidemic_len)\n",
    "\n",
    "dropbox_path = \"/Users/s1743989/VirusEvolution Dropbox/Verity Hill/Agent_based_model/Looping models/\"\n",
    "results = \"Results/no_caps/from_server/\""
   ]
  },
  {
   "cell_type": "code",
   "execution_count": 16,
   "metadata": {
    "collapsed": true
   },
   "outputs": [],
   "source": [
    "transm_dict = defaultdict(list)\n",
    "nodes = []\n",
    "times = []\n",
    "\n",
    "with open(dropbox_path + results + \"information_file_for_0.csv\") as f:\n",
    "    next(f)\n",
    "    for l in f:\n",
    "        toks = l.strip(\"\\n\").split(\",\")\n",
    "        transm_dict[toks[0]] = [toks[1], int(toks[4]), int(toks[5])]\n",
    "        \n",
    "        nodes.append(toks[0])\n",
    "        \n",
    "        times.append(int(toks[5]))\n",
    "        \n",
    "        #will need to generate child dict here "
   ]
  },
  {
   "cell_type": "code",
   "execution_count": 17,
   "metadata": {
    "collapsed": true
   },
   "outputs": [],
   "source": [
    "epidemic_len = max(times)"
   ]
  },
  {
   "cell_type": "code",
   "execution_count": 18,
   "metadata": {},
   "outputs": [
    {
     "name": "stdout",
     "output_type": "stream",
     "text": [
      "2394\n"
     ]
    }
   ],
   "source": [
    "print(epidemic_len)"
   ]
  },
  {
   "cell_type": "code",
   "execution_count": 19,
   "metadata": {
    "collapsed": true
   },
   "outputs": [],
   "source": [
    "newick_tree, Ne_dict, big_tree, R0, big_tree.most_recent_date, those_sampled, coal_intervals = cts.simulate_tree(transm_dict, nodes, 0.16, epidemic_len )\n",
    "\n",
    "\n",
    "#Will need to double check the arguments after cleaning the simulation script\n",
    "\n",
    "\n"
   ]
  },
  {
   "cell_type": "code",
   "execution_count": null,
   "metadata": {
    "collapsed": true
   },
   "outputs": [],
   "source": []
  }
 ],
 "metadata": {
  "kernelspec": {
   "display_name": "Python 3",
   "language": "python",
   "name": "python3"
  },
  "language_info": {
   "codemirror_mode": {
    "name": "ipython",
    "version": 3
   },
   "file_extension": ".py",
   "mimetype": "text/x-python",
   "name": "python",
   "nbconvert_exporter": "python",
   "pygments_lexer": "ipython3",
   "version": "3.6.8"
  }
 },
 "nbformat": 4,
 "nbformat_minor": 2
}
