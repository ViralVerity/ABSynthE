{
 "cells": [
  {
   "cell_type": "code",
   "execution_count": 1,
   "metadata": {},
   "outputs": [
    {
     "name": "stderr",
     "output_type": "stream",
     "text": [
      "/Users/s1743989/anaconda3/lib/python3.6/site-packages/h5py/__init__.py:34: FutureWarning: Conversion of the second argument of issubdtype from `float` to `np.floating` is deprecated. In future, it will be treated as `np.float64 == np.dtype(float).type`.\n",
      "  from ._conv import register_converters as _register_converters\n"
     ]
    }
   ],
   "source": [
    "import numpy as np\n",
    "import re\n",
    "import pymc3"
   ]
  },
  {
   "cell_type": "code",
   "execution_count": 2,
   "metadata": {
    "collapsed": true
   },
   "outputs": [],
   "source": [
    "path = \"/Users/s1743989/VirusEvolution Dropbox/Verity Hill/Agent_based_model/Observed_data/371_seqs_chdist/intermediate/\"\n",
    "\n",
    "\n",
    "log_file = \"Observed_tree.log\"\n",
    "\n",
    "burnin_percentage= 10\n"
   ]
  },
  {
   "cell_type": "code",
   "execution_count": 3,
   "metadata": {
    "collapsed": true
   },
   "outputs": [],
   "source": [
    "def prep(log_file, burn_in):\n",
    "\n",
    "    count = 0\n",
    "\n",
    "    with open(log_file) as f:\n",
    "        next(f)\n",
    "        next(f)\n",
    "        next(f)\n",
    "        next(f)\n",
    "        next(f)\n",
    "        for l in f:\n",
    "            count += 1\n",
    "            cols = l.strip(\"\\n\").split(\"\\t\")\n",
    "            width = len(cols)\n",
    "\n",
    "    length = count\n",
    "\n",
    "    dimensions = (length, width)\n",
    "\n",
    "    end_iteration = dimensions[0]\n",
    "\n",
    "    begin_iteration = int(round(end_iteration/burn_in, 0))\n",
    "    \n",
    "    return end_iteration, begin_iteration"
   ]
  },
  {
   "cell_type": "code",
   "execution_count": 4,
   "metadata": {},
   "outputs": [],
   "source": [
    "end_iteration, begin_iteration = prep(path + log_file, burnin_percentage)"
   ]
  },
  {
   "cell_type": "code",
   "execution_count": 15,
   "metadata": {},
   "outputs": [],
   "source": [
    "count = 0\n",
    "\n",
    "prep_between_district_counts = []\n",
    "prep_within_district_counts = []\n",
    "\n",
    "with open(path+log_file) as f:\n",
    "    next(f)\n",
    "    next(f)\n",
    "    next(f)\n",
    "    next(f)\n",
    "    next(f)\n",
    "    for l in f:\n",
    "        count += 1\n",
    "        if count < end_iteration and count > begin_iteration:\n",
    "    \n",
    "            toks = l.strip(\"\\n\").split(\"\\t\")\n",
    "\n",
    "            dist_count = float(toks[3656])\n",
    "\n",
    "            ch_count = float(toks[3658])\n",
    "\n",
    "            within_dist = ch_count - dist_count\n",
    "\n",
    "            prep_between_district_counts.append(dist_count)\n",
    "            prep_within_district_counts.append(within_dist)\n",
    "\n",
    "            \n",
    "\n",
    "between_district_counts = np.array(prep_between_district_counts)\n",
    "within_district_counts = np.array(prep_within_district_counts)"
   ]
  },
  {
   "cell_type": "code",
   "execution_count": 17,
   "metadata": {},
   "outputs": [
    {
     "data": {
      "text/plain": [
       "61.825214899713465"
      ]
     },
     "execution_count": 17,
     "metadata": {},
     "output_type": "execute_result"
    }
   ],
   "source": [
    "np.mean(between_district_counts)\n"
   ]
  },
  {
   "cell_type": "code",
   "execution_count": 18,
   "metadata": {},
   "outputs": [
    {
     "data": {
      "text/plain": [
       "44.902578796561606"
      ]
     },
     "execution_count": 18,
     "metadata": {},
     "output_type": "execute_result"
    }
   ],
   "source": [
    "np.mean(within_district_counts)"
   ]
  },
  {
   "cell_type": "code",
   "execution_count": 13,
   "metadata": {},
   "outputs": [
    {
     "data": {
      "text/plain": [
       "array([55., 68.])"
      ]
     },
     "execution_count": 13,
     "metadata": {},
     "output_type": "execute_result"
    }
   ],
   "source": [
    "pymc3.stats.hpd(between_district_counts)"
   ]
  },
  {
   "cell_type": "code",
   "execution_count": 16,
   "metadata": {},
   "outputs": [
    {
     "data": {
      "text/plain": [
       "array([32., 55.])"
      ]
     },
     "execution_count": 16,
     "metadata": {},
     "output_type": "execute_result"
    }
   ],
   "source": [
    "pymc3.stats.hpd(within_district_counts)"
   ]
  },
  {
   "cell_type": "code",
   "execution_count": null,
   "metadata": {
    "collapsed": true
   },
   "outputs": [],
   "source": []
  }
 ],
 "metadata": {
  "kernelspec": {
   "display_name": "Python 3",
   "language": "python",
   "name": "python3"
  },
  "language_info": {
   "codemirror_mode": {
    "name": "ipython",
    "version": 3
   },
   "file_extension": ".py",
   "mimetype": "text/x-python",
   "name": "python",
   "nbconvert_exporter": "python",
   "pygments_lexer": "ipython3",
   "version": "3.6.8"
  }
 },
 "nbformat": 4,
 "nbformat_minor": 2
}
